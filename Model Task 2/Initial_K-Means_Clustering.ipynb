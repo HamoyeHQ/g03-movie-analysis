{
  "nbformat": 4,
  "nbformat_minor": 0,
  "metadata": {
    "colab": {
      "name": "Clusters.ipynb",
      "provenance": [],
      "collapsed_sections": []
    },
    "kernelspec": {
      "name": "python3",
      "display_name": "Python 3"
    }
  },
  "cells": [
    {
      "cell_type": "code",
      "metadata": {
        "id": "gB6u-SgtlJsD"
      },
      "source": [
        "# Importing the necessary libraries\n",
        "import numpy as np\n",
        "import pandas as pd\n",
        "import json"
      ],
      "execution_count": 1,
      "outputs": []
    },
    {
      "cell_type": "code",
      "metadata": {
        "id": "B4OsywDSlbH6"
      },
      "source": [
        "# Function for loading in the credits card datasets\n",
        "def load_tmdb_credits(path):\n",
        "    df = pd.read_csv(path)\n",
        "    json_columns = ['cast', 'crew']\n",
        "    for column in json_columns:\n",
        "        df[column] = df[column].apply(json.loads)\n",
        "    return df\n",
        "    \n",
        "# Function for loading in movies datasets\n",
        "def load_tmdb_movies(path):\n",
        "    df = pd.read_csv(path)\n",
        "    df['release_date'] = pd.to_datetime(df['release_date']).apply(lambda x: x.date())\n",
        "    json_columns = ['genres', 'keywords', 'production_countries', 'production_companies', 'spoken_languages']\n",
        "    for column in json_columns:\n",
        "        df[column] = df[column].apply(json.loads)\n",
        "    return df"
      ],
      "execution_count": 2,
      "outputs": []
    },
    {
      "cell_type": "code",
      "metadata": {
        "id": "7MdSNtgqldq6"
      },
      "source": [
        "# Calling the functions\n",
        "movies = load_tmdb_movies('/content/drive/MyDrive/tmdb_5000_movies.csv')\n",
        "credits = load_tmdb_credits('/content/drive/MyDrive/tmdb_5000_credits.csv')"
      ],
      "execution_count": 3,
      "outputs": []
    },
    {
      "cell_type": "code",
      "metadata": {
        "id": "0tzAAStAlhBs"
      },
      "source": [
        "# Creating a copy of each data\n",
        "credits_copy = credits.copy()\n",
        "movies_copy = movies.copy()"
      ],
      "execution_count": 4,
      "outputs": []
    },
    {
      "cell_type": "code",
      "metadata": {
        "colab": {
          "base_uri": "https://localhost:8080/",
          "height": 678
        },
        "id": "rrnZe1Zsllai",
        "outputId": "756e558b-16ef-4298-db60-7f18933f3fa4"
      },
      "source": [
        "# First five rows of movies datasets\n",
        "movies_copy.head()"
      ],
      "execution_count": 5,
      "outputs": [
        {
          "output_type": "execute_result",
          "data": {
            "text/html": [
              "<div>\n",
              "<style scoped>\n",
              "    .dataframe tbody tr th:only-of-type {\n",
              "        vertical-align: middle;\n",
              "    }\n",
              "\n",
              "    .dataframe tbody tr th {\n",
              "        vertical-align: top;\n",
              "    }\n",
              "\n",
              "    .dataframe thead th {\n",
              "        text-align: right;\n",
              "    }\n",
              "</style>\n",
              "<table border=\"1\" class=\"dataframe\">\n",
              "  <thead>\n",
              "    <tr style=\"text-align: right;\">\n",
              "      <th></th>\n",
              "      <th>budget</th>\n",
              "      <th>genres</th>\n",
              "      <th>homepage</th>\n",
              "      <th>id</th>\n",
              "      <th>keywords</th>\n",
              "      <th>original_language</th>\n",
              "      <th>original_title</th>\n",
              "      <th>overview</th>\n",
              "      <th>popularity</th>\n",
              "      <th>production_companies</th>\n",
              "      <th>production_countries</th>\n",
              "      <th>release_date</th>\n",
              "      <th>revenue</th>\n",
              "      <th>runtime</th>\n",
              "      <th>spoken_languages</th>\n",
              "      <th>status</th>\n",
              "      <th>tagline</th>\n",
              "      <th>title</th>\n",
              "      <th>vote_average</th>\n",
              "      <th>vote_count</th>\n",
              "    </tr>\n",
              "  </thead>\n",
              "  <tbody>\n",
              "    <tr>\n",
              "      <th>0</th>\n",
              "      <td>237000000</td>\n",
              "      <td>[{'id': 28, 'name': 'Action'}, {'id': 12, 'nam...</td>\n",
              "      <td>http://www.avatarmovie.com/</td>\n",
              "      <td>19995</td>\n",
              "      <td>[{'id': 1463, 'name': 'culture clash'}, {'id':...</td>\n",
              "      <td>en</td>\n",
              "      <td>Avatar</td>\n",
              "      <td>In the 22nd century, a paraplegic Marine is di...</td>\n",
              "      <td>150.437577</td>\n",
              "      <td>[{'name': 'Ingenious Film Partners', 'id': 289...</td>\n",
              "      <td>[{'iso_3166_1': 'US', 'name': 'United States o...</td>\n",
              "      <td>2009-12-10</td>\n",
              "      <td>2787965087</td>\n",
              "      <td>162.0</td>\n",
              "      <td>[{'iso_639_1': 'en', 'name': 'English'}, {'iso...</td>\n",
              "      <td>Released</td>\n",
              "      <td>Enter the World of Pandora.</td>\n",
              "      <td>Avatar</td>\n",
              "      <td>7.2</td>\n",
              "      <td>11800</td>\n",
              "    </tr>\n",
              "    <tr>\n",
              "      <th>1</th>\n",
              "      <td>300000000</td>\n",
              "      <td>[{'id': 12, 'name': 'Adventure'}, {'id': 14, '...</td>\n",
              "      <td>http://disney.go.com/disneypictures/pirates/</td>\n",
              "      <td>285</td>\n",
              "      <td>[{'id': 270, 'name': 'ocean'}, {'id': 726, 'na...</td>\n",
              "      <td>en</td>\n",
              "      <td>Pirates of the Caribbean: At World's End</td>\n",
              "      <td>Captain Barbossa, long believed to be dead, ha...</td>\n",
              "      <td>139.082615</td>\n",
              "      <td>[{'name': 'Walt Disney Pictures', 'id': 2}, {'...</td>\n",
              "      <td>[{'iso_3166_1': 'US', 'name': 'United States o...</td>\n",
              "      <td>2007-05-19</td>\n",
              "      <td>961000000</td>\n",
              "      <td>169.0</td>\n",
              "      <td>[{'iso_639_1': 'en', 'name': 'English'}]</td>\n",
              "      <td>Released</td>\n",
              "      <td>At the end of the world, the adventure begins.</td>\n",
              "      <td>Pirates of the Caribbean: At World's End</td>\n",
              "      <td>6.9</td>\n",
              "      <td>4500</td>\n",
              "    </tr>\n",
              "    <tr>\n",
              "      <th>2</th>\n",
              "      <td>245000000</td>\n",
              "      <td>[{'id': 28, 'name': 'Action'}, {'id': 12, 'nam...</td>\n",
              "      <td>http://www.sonypictures.com/movies/spectre/</td>\n",
              "      <td>206647</td>\n",
              "      <td>[{'id': 470, 'name': 'spy'}, {'id': 818, 'name...</td>\n",
              "      <td>en</td>\n",
              "      <td>Spectre</td>\n",
              "      <td>A cryptic message from Bond’s past sends him o...</td>\n",
              "      <td>107.376788</td>\n",
              "      <td>[{'name': 'Columbia Pictures', 'id': 5}, {'nam...</td>\n",
              "      <td>[{'iso_3166_1': 'GB', 'name': 'United Kingdom'...</td>\n",
              "      <td>2015-10-26</td>\n",
              "      <td>880674609</td>\n",
              "      <td>148.0</td>\n",
              "      <td>[{'iso_639_1': 'fr', 'name': 'Français'}, {'is...</td>\n",
              "      <td>Released</td>\n",
              "      <td>A Plan No One Escapes</td>\n",
              "      <td>Spectre</td>\n",
              "      <td>6.3</td>\n",
              "      <td>4466</td>\n",
              "    </tr>\n",
              "    <tr>\n",
              "      <th>3</th>\n",
              "      <td>250000000</td>\n",
              "      <td>[{'id': 28, 'name': 'Action'}, {'id': 80, 'nam...</td>\n",
              "      <td>http://www.thedarkknightrises.com/</td>\n",
              "      <td>49026</td>\n",
              "      <td>[{'id': 849, 'name': 'dc comics'}, {'id': 853,...</td>\n",
              "      <td>en</td>\n",
              "      <td>The Dark Knight Rises</td>\n",
              "      <td>Following the death of District Attorney Harve...</td>\n",
              "      <td>112.312950</td>\n",
              "      <td>[{'name': 'Legendary Pictures', 'id': 923}, {'...</td>\n",
              "      <td>[{'iso_3166_1': 'US', 'name': 'United States o...</td>\n",
              "      <td>2012-07-16</td>\n",
              "      <td>1084939099</td>\n",
              "      <td>165.0</td>\n",
              "      <td>[{'iso_639_1': 'en', 'name': 'English'}]</td>\n",
              "      <td>Released</td>\n",
              "      <td>The Legend Ends</td>\n",
              "      <td>The Dark Knight Rises</td>\n",
              "      <td>7.6</td>\n",
              "      <td>9106</td>\n",
              "    </tr>\n",
              "    <tr>\n",
              "      <th>4</th>\n",
              "      <td>260000000</td>\n",
              "      <td>[{'id': 28, 'name': 'Action'}, {'id': 12, 'nam...</td>\n",
              "      <td>http://movies.disney.com/john-carter</td>\n",
              "      <td>49529</td>\n",
              "      <td>[{'id': 818, 'name': 'based on novel'}, {'id':...</td>\n",
              "      <td>en</td>\n",
              "      <td>John Carter</td>\n",
              "      <td>John Carter is a war-weary, former military ca...</td>\n",
              "      <td>43.926995</td>\n",
              "      <td>[{'name': 'Walt Disney Pictures', 'id': 2}]</td>\n",
              "      <td>[{'iso_3166_1': 'US', 'name': 'United States o...</td>\n",
              "      <td>2012-03-07</td>\n",
              "      <td>284139100</td>\n",
              "      <td>132.0</td>\n",
              "      <td>[{'iso_639_1': 'en', 'name': 'English'}]</td>\n",
              "      <td>Released</td>\n",
              "      <td>Lost in our world, found in another.</td>\n",
              "      <td>John Carter</td>\n",
              "      <td>6.1</td>\n",
              "      <td>2124</td>\n",
              "    </tr>\n",
              "  </tbody>\n",
              "</table>\n",
              "</div>"
            ],
            "text/plain": [
              "      budget  ... vote_count\n",
              "0  237000000  ...      11800\n",
              "1  300000000  ...       4500\n",
              "2  245000000  ...       4466\n",
              "3  250000000  ...       9106\n",
              "4  260000000  ...       2124\n",
              "\n",
              "[5 rows x 20 columns]"
            ]
          },
          "metadata": {
            "tags": []
          },
          "execution_count": 5
        }
      ]
    },
    {
      "cell_type": "code",
      "metadata": {
        "colab": {
          "base_uri": "https://localhost:8080/",
          "height": 206
        },
        "id": "bxqDegeFlmDM",
        "outputId": "35db5eb1-ac3e-48fb-fbac-721982109ee0"
      },
      "source": [
        "# First five rows of the credits card datasets\n",
        "credits_copy.head()"
      ],
      "execution_count": 6,
      "outputs": [
        {
          "output_type": "execute_result",
          "data": {
            "text/html": [
              "<div>\n",
              "<style scoped>\n",
              "    .dataframe tbody tr th:only-of-type {\n",
              "        vertical-align: middle;\n",
              "    }\n",
              "\n",
              "    .dataframe tbody tr th {\n",
              "        vertical-align: top;\n",
              "    }\n",
              "\n",
              "    .dataframe thead th {\n",
              "        text-align: right;\n",
              "    }\n",
              "</style>\n",
              "<table border=\"1\" class=\"dataframe\">\n",
              "  <thead>\n",
              "    <tr style=\"text-align: right;\">\n",
              "      <th></th>\n",
              "      <th>movie_id</th>\n",
              "      <th>title</th>\n",
              "      <th>cast</th>\n",
              "      <th>crew</th>\n",
              "    </tr>\n",
              "  </thead>\n",
              "  <tbody>\n",
              "    <tr>\n",
              "      <th>0</th>\n",
              "      <td>19995</td>\n",
              "      <td>Avatar</td>\n",
              "      <td>[{'cast_id': 242, 'character': 'Jake Sully', '...</td>\n",
              "      <td>[{'credit_id': '52fe48009251416c750aca23', 'de...</td>\n",
              "    </tr>\n",
              "    <tr>\n",
              "      <th>1</th>\n",
              "      <td>285</td>\n",
              "      <td>Pirates of the Caribbean: At World's End</td>\n",
              "      <td>[{'cast_id': 4, 'character': 'Captain Jack Spa...</td>\n",
              "      <td>[{'credit_id': '52fe4232c3a36847f800b579', 'de...</td>\n",
              "    </tr>\n",
              "    <tr>\n",
              "      <th>2</th>\n",
              "      <td>206647</td>\n",
              "      <td>Spectre</td>\n",
              "      <td>[{'cast_id': 1, 'character': 'James Bond', 'cr...</td>\n",
              "      <td>[{'credit_id': '54805967c3a36829b5002c41', 'de...</td>\n",
              "    </tr>\n",
              "    <tr>\n",
              "      <th>3</th>\n",
              "      <td>49026</td>\n",
              "      <td>The Dark Knight Rises</td>\n",
              "      <td>[{'cast_id': 2, 'character': 'Bruce Wayne / Ba...</td>\n",
              "      <td>[{'credit_id': '52fe4781c3a36847f81398c3', 'de...</td>\n",
              "    </tr>\n",
              "    <tr>\n",
              "      <th>4</th>\n",
              "      <td>49529</td>\n",
              "      <td>John Carter</td>\n",
              "      <td>[{'cast_id': 5, 'character': 'John Carter', 'c...</td>\n",
              "      <td>[{'credit_id': '52fe479ac3a36847f813eaa3', 'de...</td>\n",
              "    </tr>\n",
              "  </tbody>\n",
              "</table>\n",
              "</div>"
            ],
            "text/plain": [
              "   movie_id  ...                                               crew\n",
              "0     19995  ...  [{'credit_id': '52fe48009251416c750aca23', 'de...\n",
              "1       285  ...  [{'credit_id': '52fe4232c3a36847f800b579', 'de...\n",
              "2    206647  ...  [{'credit_id': '54805967c3a36829b5002c41', 'de...\n",
              "3     49026  ...  [{'credit_id': '52fe4781c3a36847f81398c3', 'de...\n",
              "4     49529  ...  [{'credit_id': '52fe479ac3a36847f813eaa3', 'de...\n",
              "\n",
              "[5 rows x 4 columns]"
            ]
          },
          "metadata": {
            "tags": []
          },
          "execution_count": 6
        }
      ]
    },
    {
      "cell_type": "code",
      "metadata": {
        "id": "F-aE_pUplojx"
      },
      "source": [
        "# Funtion to append each value of the same key ('name') together\n",
        "def pipe_flatten_names(keywords):\n",
        "    return ', '.join([x['name'] for x in keywords])"
      ],
      "execution_count": 7,
      "outputs": []
    },
    {
      "cell_type": "code",
      "metadata": {
        "id": "VHUZyg0flsCV"
      },
      "source": [
        "# Applying the function the respective json columns\n",
        "movies_copy['production_companies'] = movies_copy['production_companies'].apply(pipe_flatten_names)"
      ],
      "execution_count": 8,
      "outputs": []
    },
    {
      "cell_type": "code",
      "metadata": {
        "id": "DDIZwRBil5Ck"
      },
      "source": [
        "# Let's pick some numerical columns that may be significant\n",
        "movies_copy = movies_copy[['production_companies', 'budget', 'popularity', 'revenue', 'runtime', 'vote_average', 'vote_count']]"
      ],
      "execution_count": 9,
      "outputs": []
    },
    {
      "cell_type": "code",
      "metadata": {
        "colab": {
          "base_uri": "https://localhost:8080/",
          "height": 394
        },
        "id": "wtUt-wt2mBIs",
        "outputId": "ccf54c83-6f73-4d20-ca37-aef6859dbd77"
      },
      "source": [
        "movies_copy2 = movies_copy.copy().set_index('production_companies')\n",
        "movies_copy2.head(10)"
      ],
      "execution_count": 10,
      "outputs": [
        {
          "output_type": "execute_result",
          "data": {
            "text/html": [
              "<div>\n",
              "<style scoped>\n",
              "    .dataframe tbody tr th:only-of-type {\n",
              "        vertical-align: middle;\n",
              "    }\n",
              "\n",
              "    .dataframe tbody tr th {\n",
              "        vertical-align: top;\n",
              "    }\n",
              "\n",
              "    .dataframe thead th {\n",
              "        text-align: right;\n",
              "    }\n",
              "</style>\n",
              "<table border=\"1\" class=\"dataframe\">\n",
              "  <thead>\n",
              "    <tr style=\"text-align: right;\">\n",
              "      <th></th>\n",
              "      <th>budget</th>\n",
              "      <th>popularity</th>\n",
              "      <th>revenue</th>\n",
              "      <th>runtime</th>\n",
              "      <th>vote_average</th>\n",
              "      <th>vote_count</th>\n",
              "    </tr>\n",
              "    <tr>\n",
              "      <th>production_companies</th>\n",
              "      <th></th>\n",
              "      <th></th>\n",
              "      <th></th>\n",
              "      <th></th>\n",
              "      <th></th>\n",
              "      <th></th>\n",
              "    </tr>\n",
              "  </thead>\n",
              "  <tbody>\n",
              "    <tr>\n",
              "      <th>Ingenious Film Partners, Twentieth Century Fox Film Corporation, Dune Entertainment, Lightstorm Entertainment</th>\n",
              "      <td>237000000</td>\n",
              "      <td>150.437577</td>\n",
              "      <td>2787965087</td>\n",
              "      <td>162.0</td>\n",
              "      <td>7.2</td>\n",
              "      <td>11800</td>\n",
              "    </tr>\n",
              "    <tr>\n",
              "      <th>Walt Disney Pictures, Jerry Bruckheimer Films, Second Mate Productions</th>\n",
              "      <td>300000000</td>\n",
              "      <td>139.082615</td>\n",
              "      <td>961000000</td>\n",
              "      <td>169.0</td>\n",
              "      <td>6.9</td>\n",
              "      <td>4500</td>\n",
              "    </tr>\n",
              "    <tr>\n",
              "      <th>Columbia Pictures, Danjaq, B24</th>\n",
              "      <td>245000000</td>\n",
              "      <td>107.376788</td>\n",
              "      <td>880674609</td>\n",
              "      <td>148.0</td>\n",
              "      <td>6.3</td>\n",
              "      <td>4466</td>\n",
              "    </tr>\n",
              "    <tr>\n",
              "      <th>Legendary Pictures, Warner Bros., DC Entertainment, Syncopy</th>\n",
              "      <td>250000000</td>\n",
              "      <td>112.312950</td>\n",
              "      <td>1084939099</td>\n",
              "      <td>165.0</td>\n",
              "      <td>7.6</td>\n",
              "      <td>9106</td>\n",
              "    </tr>\n",
              "    <tr>\n",
              "      <th>Walt Disney Pictures</th>\n",
              "      <td>260000000</td>\n",
              "      <td>43.926995</td>\n",
              "      <td>284139100</td>\n",
              "      <td>132.0</td>\n",
              "      <td>6.1</td>\n",
              "      <td>2124</td>\n",
              "    </tr>\n",
              "    <tr>\n",
              "      <th>Columbia Pictures, Laura Ziskin Productions, Marvel Enterprises</th>\n",
              "      <td>258000000</td>\n",
              "      <td>115.699814</td>\n",
              "      <td>890871626</td>\n",
              "      <td>139.0</td>\n",
              "      <td>5.9</td>\n",
              "      <td>3576</td>\n",
              "    </tr>\n",
              "    <tr>\n",
              "      <th>Walt Disney Pictures, Walt Disney Animation Studios</th>\n",
              "      <td>260000000</td>\n",
              "      <td>48.681969</td>\n",
              "      <td>591794936</td>\n",
              "      <td>100.0</td>\n",
              "      <td>7.4</td>\n",
              "      <td>3330</td>\n",
              "    </tr>\n",
              "    <tr>\n",
              "      <th>Marvel Studios, Prime Focus, Revolution Sun Studios</th>\n",
              "      <td>280000000</td>\n",
              "      <td>134.279229</td>\n",
              "      <td>1405403694</td>\n",
              "      <td>141.0</td>\n",
              "      <td>7.3</td>\n",
              "      <td>6767</td>\n",
              "    </tr>\n",
              "    <tr>\n",
              "      <th>Warner Bros., Heyday Films</th>\n",
              "      <td>250000000</td>\n",
              "      <td>98.885637</td>\n",
              "      <td>933959197</td>\n",
              "      <td>153.0</td>\n",
              "      <td>7.4</td>\n",
              "      <td>5293</td>\n",
              "    </tr>\n",
              "    <tr>\n",
              "      <th>DC Comics, Atlas Entertainment, Warner Bros., DC Entertainment, Cruel &amp; Unusual Films, RatPac-Dune Entertainment</th>\n",
              "      <td>250000000</td>\n",
              "      <td>155.790452</td>\n",
              "      <td>873260194</td>\n",
              "      <td>151.0</td>\n",
              "      <td>5.7</td>\n",
              "      <td>7004</td>\n",
              "    </tr>\n",
              "  </tbody>\n",
              "</table>\n",
              "</div>"
            ],
            "text/plain": [
              "                                                       budget  ...  vote_count\n",
              "production_companies                                           ...            \n",
              "Ingenious Film Partners, Twentieth Century Fox ...  237000000  ...       11800\n",
              "Walt Disney Pictures, Jerry Bruckheimer Films, ...  300000000  ...        4500\n",
              "Columbia Pictures, Danjaq, B24                      245000000  ...        4466\n",
              "Legendary Pictures, Warner Bros., DC Entertainm...  250000000  ...        9106\n",
              "Walt Disney Pictures                                260000000  ...        2124\n",
              "Columbia Pictures, Laura Ziskin Productions, Ma...  258000000  ...        3576\n",
              "Walt Disney Pictures, Walt Disney Animation Stu...  260000000  ...        3330\n",
              "Marvel Studios, Prime Focus, Revolution Sun Stu...  280000000  ...        6767\n",
              "Warner Bros., Heyday Films                          250000000  ...        5293\n",
              "DC Comics, Atlas Entertainment, Warner Bros., D...  250000000  ...        7004\n",
              "\n",
              "[10 rows x 6 columns]"
            ]
          },
          "metadata": {
            "tags": []
          },
          "execution_count": 10
        }
      ]
    },
    {
      "cell_type": "markdown",
      "metadata": {
        "id": "odkEEQdPol55"
      },
      "source": [
        " IMDB's weighted rating (wr) which is given as :\n",
        "$$(\\dfrac{v}{v+m}.R)+(\\dfrac{m}{v+m}.C)$$\n",
        "\n",
        "where,\n",
        "\n",
        "    v is the number of votes for the movie = vote_count in the column\n",
        "    m is the minimum votes required to be listed in the chart\n",
        "    R is the average rating of the movie = vote_average in the column\n",
        "    C is the mean vote across the whole report\n"
      ]
    },
    {
      "cell_type": "markdown",
      "metadata": {
        "id": "zFtKktgLpokR"
      },
      "source": [
        "We 'll obtain m and C"
      ]
    },
    {
      "cell_type": "code",
      "metadata": {
        "id": "mBdY0ovhpbLN"
      },
      "source": [
        "C= movies_copy2['vote_average'].mean()\n",
        "m= movies_copy2['vote_count'].quantile(0.9)"
      ],
      "execution_count": 11,
      "outputs": []
    },
    {
      "cell_type": "code",
      "metadata": {
        "id": "HYJgIocgqIEK"
      },
      "source": [
        "def weighted_rating(x, m=m, C=C):\n",
        "    v = x['vote_count']\n",
        "    R = x['vote_average']\n",
        "    # Calculation based on the IMDB formula\n",
        "    return (v/(v+m) * R) + (m/(m+v) * C)"
      ],
      "execution_count": 12,
      "outputs": []
    },
    {
      "cell_type": "code",
      "metadata": {
        "id": "X47_WQMMqZo-"
      },
      "source": [
        "# Calling the function\n",
        "movies_copy2['weighted_rating'] = movies_copy2.apply(weighted_rating, axis=1)"
      ],
      "execution_count": 13,
      "outputs": []
    },
    {
      "cell_type": "code",
      "metadata": {
        "colab": {
          "base_uri": "https://localhost:8080/"
        },
        "id": "zTiRrZ-HqiZ_",
        "outputId": "b1b0abdb-42ff-43b9-d77d-ab4b430d304d"
      },
      "source": [
        "# Checking for the null rows\n",
        "movies_copy2.isnull().sum()"
      ],
      "execution_count": 14,
      "outputs": [
        {
          "output_type": "execute_result",
          "data": {
            "text/plain": [
              "budget             0\n",
              "popularity         0\n",
              "revenue            0\n",
              "runtime            2\n",
              "vote_average       0\n",
              "vote_count         0\n",
              "weighted_rating    0\n",
              "dtype: int64"
            ]
          },
          "metadata": {
            "tags": []
          },
          "execution_count": 14
        }
      ]
    },
    {
      "cell_type": "code",
      "metadata": {
        "colab": {
          "base_uri": "https://localhost:8080/",
          "height": 255
        },
        "id": "Sujd-ckOrdBo",
        "outputId": "42401736-cb72-4881-a15d-cc9bb8795635"
      },
      "source": [
        "# Dropping the two null rows\n",
        "movies_copy2 = movies_copy2.dropna()\n",
        "movies_copy2.head()"
      ],
      "execution_count": 15,
      "outputs": [
        {
          "output_type": "execute_result",
          "data": {
            "text/html": [
              "<div>\n",
              "<style scoped>\n",
              "    .dataframe tbody tr th:only-of-type {\n",
              "        vertical-align: middle;\n",
              "    }\n",
              "\n",
              "    .dataframe tbody tr th {\n",
              "        vertical-align: top;\n",
              "    }\n",
              "\n",
              "    .dataframe thead th {\n",
              "        text-align: right;\n",
              "    }\n",
              "</style>\n",
              "<table border=\"1\" class=\"dataframe\">\n",
              "  <thead>\n",
              "    <tr style=\"text-align: right;\">\n",
              "      <th></th>\n",
              "      <th>budget</th>\n",
              "      <th>popularity</th>\n",
              "      <th>revenue</th>\n",
              "      <th>runtime</th>\n",
              "      <th>vote_average</th>\n",
              "      <th>vote_count</th>\n",
              "      <th>weighted_rating</th>\n",
              "    </tr>\n",
              "    <tr>\n",
              "      <th>production_companies</th>\n",
              "      <th></th>\n",
              "      <th></th>\n",
              "      <th></th>\n",
              "      <th></th>\n",
              "      <th></th>\n",
              "      <th></th>\n",
              "      <th></th>\n",
              "    </tr>\n",
              "  </thead>\n",
              "  <tbody>\n",
              "    <tr>\n",
              "      <th>Ingenious Film Partners, Twentieth Century Fox Film Corporation, Dune Entertainment, Lightstorm Entertainment</th>\n",
              "      <td>237000000</td>\n",
              "      <td>150.437577</td>\n",
              "      <td>2787965087</td>\n",
              "      <td>162.0</td>\n",
              "      <td>7.2</td>\n",
              "      <td>11800</td>\n",
              "      <td>7.050669</td>\n",
              "    </tr>\n",
              "    <tr>\n",
              "      <th>Walt Disney Pictures, Jerry Bruckheimer Films, Second Mate Productions</th>\n",
              "      <td>300000000</td>\n",
              "      <td>139.082615</td>\n",
              "      <td>961000000</td>\n",
              "      <td>169.0</td>\n",
              "      <td>6.9</td>\n",
              "      <td>4500</td>\n",
              "      <td>6.665696</td>\n",
              "    </tr>\n",
              "    <tr>\n",
              "      <th>Columbia Pictures, Danjaq, B24</th>\n",
              "      <td>245000000</td>\n",
              "      <td>107.376788</td>\n",
              "      <td>880674609</td>\n",
              "      <td>148.0</td>\n",
              "      <td>6.3</td>\n",
              "      <td>4466</td>\n",
              "      <td>6.239396</td>\n",
              "    </tr>\n",
              "    <tr>\n",
              "      <th>Legendary Pictures, Warner Bros., DC Entertainment, Syncopy</th>\n",
              "      <td>250000000</td>\n",
              "      <td>112.312950</td>\n",
              "      <td>1084939099</td>\n",
              "      <td>165.0</td>\n",
              "      <td>7.6</td>\n",
              "      <td>9106</td>\n",
              "      <td>7.346721</td>\n",
              "    </tr>\n",
              "    <tr>\n",
              "      <th>Walt Disney Pictures</th>\n",
              "      <td>260000000</td>\n",
              "      <td>43.926995</td>\n",
              "      <td>284139100</td>\n",
              "      <td>132.0</td>\n",
              "      <td>6.1</td>\n",
              "      <td>2124</td>\n",
              "      <td>6.096368</td>\n",
              "    </tr>\n",
              "  </tbody>\n",
              "</table>\n",
              "</div>"
            ],
            "text/plain": [
              "                                                       budget  ...  weighted_rating\n",
              "production_companies                                           ...                 \n",
              "Ingenious Film Partners, Twentieth Century Fox ...  237000000  ...         7.050669\n",
              "Walt Disney Pictures, Jerry Bruckheimer Films, ...  300000000  ...         6.665696\n",
              "Columbia Pictures, Danjaq, B24                      245000000  ...         6.239396\n",
              "Legendary Pictures, Warner Bros., DC Entertainm...  250000000  ...         7.346721\n",
              "Walt Disney Pictures                                260000000  ...         6.096368\n",
              "\n",
              "[5 rows x 7 columns]"
            ]
          },
          "metadata": {
            "tags": []
          },
          "execution_count": 15
        }
      ]
    },
    {
      "cell_type": "markdown",
      "metadata": {
        "id": "9Vb71h0kodAv"
      },
      "source": [
        "## Clusters between the Major film studios and Independents showing the entire numerical data points"
      ]
    },
    {
      "cell_type": "code",
      "metadata": {
        "id": "JvKAjqPxrzoU"
      },
      "source": [
        "# Importing the necessary dependencies\n",
        "from sklearn.cluster import KMeans\n",
        "import matplotlib.pyplot as plt\n",
        "# Choosing hyper-parameters\n",
        "kmeans = KMeans(n_clusters = 2, max_iter=600, algorithm = 'auto')\n",
        "# Fitting the data\n",
        "kmeans.fit(movies_copy2)\n",
        "# Making clustering predictions\n",
        "pred = kmeans.predict(movies_copy2)"
      ],
      "execution_count": 41,
      "outputs": []
    },
    {
      "cell_type": "code",
      "metadata": {
        "colab": {
          "base_uri": "https://localhost:8080/",
          "height": 350
        },
        "id": "bq06-YBuqn-o",
        "outputId": "18561099-dda6-4a58-a254-32fc45ad999c"
      },
      "source": [
        "# To view the 2D clustering graph\n",
        "# We'll import PCA and seaborn\n",
        "from sklearn.decomposition import PCA\n",
        "import seaborn as sns\n",
        "# Fitting the data\n",
        "reduced_data = PCA(n_components=2).fit_transform(movies_copy2)\n",
        "# Making the results a dataframe\n",
        "results = pd.DataFrame(reduced_data,columns=['pca1','pca2'])\n",
        "# Let's see the graph\n",
        "fig = plt.gcf()\n",
        "fig.set_size_inches(7, 5)\n",
        "sns.scatterplot(x = 'pca1', y = 'pca2', hue = pred, data = results)\n",
        "label = ['major film studios', 'independents']\n",
        "plt.legend(loc=\"upper center\", ncol=2, labels = label)\n",
        "plt.title('K-means Clustering with 2 dimensions')\n",
        "plt.show()"
      ],
      "execution_count": 42,
      "outputs": [
        {
          "output_type": "display_data",
          "data": {
            "image/png": "[encoded data removed]",
            "text/plain": [
              "<Figure size 504x360 with 1 Axes>"
            ]
          },
          "metadata": {
            "tags": [],
            "needs_background": "light"
          }
        }
      ]
    },
    {
      "cell_type": "markdown",
      "metadata": {
        "id": "ExqVnlS7p9Om"
      },
      "source": [
        "## To see clusters between two specific numeric columns"
      ]
    },
    {
      "cell_type": "code",
      "metadata": {
        "id": "2PFwxaKvZjGX"
      },
      "source": [
        "# First function to obtain centroids between two respective columns\n",
        "def centre(first_column, second_column):\n",
        "  K = 2\n",
        "  Centroids = (movies_copy2.sample(n = K))\n",
        "\n",
        "  diff = 1\n",
        "  j = 0\n",
        "\n",
        "  while(diff != 0):\n",
        "      XD = movies_copy2\n",
        "      i = 1\n",
        "      for index1,row_c in Centroids.iterrows():\n",
        "          ED = []\n",
        "          for index2,row_d in XD.iterrows():\n",
        "              d1 = (row_c[first_column]-row_d[first_column])**2\n",
        "              d2 = (row_c[second_column]-row_d[second_column])**2\n",
        "              d = np.sqrt(d1+d2)\n",
        "              ED.append(d)\n",
        "          movies_copy2[i] = ED\n",
        "          i = i+1\n",
        "\n",
        "      C = []\n",
        "      for index,row in movies_copy2.iterrows():\n",
        "          min_dist = row[1]\n",
        "          pos = 1\n",
        "          for i in range(K):\n",
        "              if row[i+1] < min_dist:\n",
        "                  min_dist = row[i+1]\n",
        "                  pos = i+1\n",
        "          C.append(pos)\n",
        "      movies_copy2['Cluster'] = C\n",
        "      Centroids_new = movies_copy2.groupby(['Cluster']).mean()[[second_column, first_column]]\n",
        "      if j == 0:\n",
        "          diff = 1\n",
        "          j = j+1\n",
        "      else:\n",
        "          diff = (Centroids_new[second_column] - Centroids[second_column]).sum() + (Centroids_new[first_column] - Centroids[first_column]).sum()\n",
        "          print(diff.sum())\n",
        "      Centroids = movies_copy2.groupby(['Cluster']).mean()[[second_column, first_column]]"
      ],
      "execution_count": 18,
      "outputs": []
    },
    {
      "cell_type": "code",
      "metadata": {
        "id": "FzJ6t9TaZ3vl"
      },
      "source": [
        "# Funtion to plot the scatter graph\n",
        "def plot_graph(first_column, second_column):\n",
        "  K = 2\n",
        "  label = ['independents', 'major film studios']\n",
        "  Centroids = movies_copy2.groupby(['Cluster']).mean()[[second_column, first_column]]\n",
        "  color = ['blue', 'red']\n",
        "  for k in range(K):\n",
        "      data = movies_copy2[movies_copy2['Cluster'] == k+1]\n",
        "      plt.scatter(data[first_column], data[second_column], c = color[k])\n",
        "  fig = plt.gcf()\n",
        "  fig.set_size_inches(7, 5)\n",
        "  plt.scatter(Centroids[first_column], Centroids[second_column], c = 'black')\n",
        "  plt.legend(loc = 'upper center', bbox_to_anchor = (0.5, 1.15), ncol = 2, labels = label)\n",
        "  plt.xlabel(first_column)\n",
        "  plt.ylabel(second_column)\n",
        "  plt.show()"
      ],
      "execution_count": 44,
      "outputs": []
    },
    {
      "cell_type": "code",
      "metadata": {
        "id": "v-8YXsB-Cf_n"
      },
      "source": [
        "# Saving each as a string so we can pass it into our functions\n",
        "vote_average = 'vote_average'\n",
        "popularity = 'popularity'\n",
        "vote_count = 'vote_count'\n",
        "weighted_rating = 'weighted_rating'\n",
        "runtime = 'runtime'"
      ],
      "execution_count": 20,
      "outputs": []
    },
    {
      "cell_type": "markdown",
      "metadata": {
        "id": "gJBKbiNaDM91"
      },
      "source": [
        "## Clustering between Major film studios and Independents with respect to Vote counts and Movie popularity"
      ]
    },
    {
      "cell_type": "code",
      "metadata": {
        "colab": {
          "base_uri": "https://localhost:8080/"
        },
        "id": "zUAAae9sIB8B",
        "outputId": "d61af938-b95c-4ff2-bed6-fd0a783e81c8"
      },
      "source": [
        "# Calling the function to obtain the centroids\n",
        "centre(vote_count, popularity)"
      ],
      "execution_count": 21,
      "outputs": [
        {
          "output_type": "stream",
          "text": [
            "205.1815680991857\n",
            "93.37603597664629\n",
            "37.12645506647163\n",
            "26.93197235194456\n",
            "16.46648042043855\n",
            "0.0\n"
          ],
          "name": "stdout"
        }
      ]
    },
    {
      "cell_type": "code",
      "metadata": {
        "colab": {
          "base_uri": "https://localhost:8080/",
          "height": 370
        },
        "id": "oXkWW-jhFXyt",
        "outputId": "d680f47d-5e58-492e-b9de-eb30cdbad285"
      },
      "source": [
        "# Let's see the clusters\n",
        "plot_graph(vote_count, popularity)"
      ],
      "execution_count": 22,
      "outputs": [
        {
          "output_type": "display_data",
          "data": {
            "image/png": "[encoded data removed]",
            "text/plain": [
              "<Figure size 504x360 with 1 Axes>"
            ]
          },
          "metadata": {
            "tags": [],
            "needs_background": "light"
          }
        }
      ]
    },
    {
      "cell_type": "markdown",
      "metadata": {
        "id": "4eqyeNyrISzk"
      },
      "source": [
        "This implies that more movies produced by major film studios are more popular and had more vote counts unlike the movies produced by the independents."
      ]
    },
    {
      "cell_type": "markdown",
      "metadata": {
        "id": "tBAYonpaEW3l"
      },
      "source": [
        "## Clustering between Major film studios and Independents with respect to Vote average and Movie popularity"
      ]
    },
    {
      "cell_type": "code",
      "metadata": {
        "colab": {
          "base_uri": "https://localhost:8080/"
        },
        "id": "DyEkFz5qI6cn",
        "outputId": "72551c76-8192-408f-8547-fe6462213e8f"
      },
      "source": [
        "# Calling the function to obtain the centroids\n",
        "centre(vote_average, popularity)"
      ],
      "execution_count": 23,
      "outputs": [
        {
          "output_type": "stream",
          "text": [
            "10.818681499885637\n",
            "8.10948493887473\n",
            "5.4444956131138715\n",
            "4.267406932255652\n",
            "3.097562805357102\n",
            "2.3554151108478196\n",
            "1.711465888306778\n",
            "1.2339121615295578\n",
            "1.0409593406944246\n",
            "1.076974954334113\n",
            "0.9349891816655207\n",
            "1.2317705836313708\n",
            "1.5661990054208133\n",
            "1.0743017220947975\n",
            "0.740990035434244\n",
            "0.8267661765920584\n",
            "0.8624553338649621\n",
            "0.5579010935723137\n",
            "0.7325706074743863\n",
            "0.8286686935740226\n",
            "0.9366821689916813\n",
            "0.8871737168272649\n",
            "0.5450090932179155\n",
            "0.27368251892059536\n",
            "0.0\n"
          ],
          "name": "stdout"
        }
      ]
    },
    {
      "cell_type": "code",
      "metadata": {
        "colab": {
          "base_uri": "https://localhost:8080/",
          "height": 370
        },
        "id": "jDO0yCfyJsPT",
        "outputId": "956cc198-2bec-410c-8bee-b506885731aa"
      },
      "source": [
        "# Let's see the clusters\n",
        "plot_graph(vote_average, popularity)"
      ],
      "execution_count": 45,
      "outputs": [
        {
          "output_type": "display_data",
          "data": {
            "image/png": "[encoded data removed]",
            "text/plain": [
              "<Figure size 504x360 with 1 Axes>"
            ]
          },
          "metadata": {
            "tags": [],
            "needs_background": "light"
          }
        }
      ]
    },
    {
      "cell_type": "markdown",
      "metadata": {
        "id": "nG2Cjl4MEpR6"
      },
      "source": [
        "This implies that some of movies produced by the independents had a vote average greater than 9 unlike the popular movies produced by the major film studios. It also implies that popular movies produced by the major film studios had a vote average with a range of nothing less than 4 and greater than 9."
      ]
    },
    {
      "cell_type": "markdown",
      "metadata": {
        "id": "343m6SR8GJ9P"
      },
      "source": [
        "## Clustering between Major film studios and Independents with respect to the Weighted rating and Movie popularity"
      ]
    },
    {
      "cell_type": "code",
      "metadata": {
        "colab": {
          "base_uri": "https://localhost:8080/"
        },
        "id": "ftShklFhakT_",
        "outputId": "2e655f3a-7ca1-4a68-95c0-84b6b9071311"
      },
      "source": [
        "# Calling the function to obtain the centroids\n",
        "centre(weighted_rating, popularity)"
      ],
      "execution_count": 25,
      "outputs": [
        {
          "output_type": "stream",
          "text": [
            "-8.508078270811616\n",
            "-7.331421641237248\n",
            "-6.031495705786159\n",
            "-5.451997680205822\n",
            "-3.8131714544824007\n",
            "-1.7172735778122208\n",
            "-1.4536173883584835\n",
            "-0.7068900581929904\n",
            "-0.5908958086129772\n",
            "-0.485020935222118\n",
            "-0.2881906568459973\n",
            "-0.3820715080243504\n",
            "-0.1890089257935621\n",
            "-0.18779766989548197\n",
            "-0.1862929354196181\n",
            "-0.09188526521754703\n",
            "0.0\n"
          ],
          "name": "stdout"
        }
      ]
    },
    {
      "cell_type": "code",
      "metadata": {
        "colab": {
          "base_uri": "https://localhost:8080/",
          "height": 370
        },
        "id": "P44QTfq3niMM",
        "outputId": "945ba03a-954d-4978-cb0b-e0b711460686"
      },
      "source": [
        "# Let's see the clusters\n",
        "plot_graph(weighted_rating, popularity)"
      ],
      "execution_count": 26,
      "outputs": [
        {
          "output_type": "display_data",
          "data": {
            "image/png": "[encoded data removed]",
            "text/plain": [
              "<Figure size 504x360 with 1 Axes>"
            ]
          },
          "metadata": {
            "tags": [],
            "needs_background": "light"
          }
        }
      ]
    },
    {
      "cell_type": "markdown",
      "metadata": {
        "id": "Jn5LpyuGGhpb"
      },
      "source": [
        "This implies that the movies produced by major film studios and independents have a decent number of movies with similar weighted ratings. Also, none of the movies produced by the independents have a weighted rating of 8 and above."
      ]
    },
    {
      "cell_type": "markdown",
      "metadata": {
        "id": "oSAWzw1LHoWh"
      },
      "source": [
        "## Clustering between Major film studios and Independents, but this time I manually set the cluster labels instead of using centroids"
      ]
    },
    {
      "cell_type": "markdown",
      "metadata": {
        "id": "wAOjkuHgH-6V"
      },
      "source": [
        "Doing this to check if there is consistency between clusters obtained by centroids or if there is something more complicated going on."
      ]
    },
    {
      "cell_type": "code",
      "metadata": {
        "id": "a4PUWeeXs2WV"
      },
      "source": [
        "movies_copy3 = movies_copy2.copy()"
      ],
      "execution_count": 27,
      "outputs": []
    },
    {
      "cell_type": "code",
      "metadata": {
        "colab": {
          "base_uri": "https://localhost:8080/"
        },
        "id": "ScXQTGgNsV8b",
        "outputId": "a0bed2ea-3ad7-4fd5-d83d-95a8e459ddf7"
      },
      "source": [
        "# Let's have a look at the film studios\n",
        "movies_copy3['production_companies'].str.get_dummies(sep=', ').sum().sort_values(ascending = False)[:30]"
      ],
      "execution_count": 29,
      "outputs": [
        {
          "output_type": "execute_result",
          "data": {
            "text/plain": [
              "Warner Bros.                              319\n",
              "Universal Pictures                        311\n",
              "Paramount Pictures                        285\n",
              "Twentieth Century Fox Film Corporation    222\n",
              "Columbia Pictures                         201\n",
              "New Line Cinema                           165\n",
              "Metro-Goldwyn-Mayer (MGM)                 122\n",
              "Touchstone Pictures                       118\n",
              "Walt Disney Pictures                      114\n",
              "Relativity Media                          102\n",
              "Columbia Pictures Corporation              96\n",
              "Miramax Films                              94\n",
              "Village Roadshow Pictures                  81\n",
              "DreamWorks SKG                             79\n",
              "Canal+                                     75\n",
              "United Artists                             75\n",
              "Regency Enterprises                        69\n",
              "Fox Searchlight Pictures                   64\n",
              "Dune Entertainment                         59\n",
              "Lionsgate                                  56\n",
              "TriStar Pictures                           55\n",
              "The                                        55\n",
              "Fox 2000 Pictures                          55\n",
              "Dimension Films                            54\n",
              "Working Title Films                        53\n",
              "Summit Entertainment                       53\n",
              "Amblin Entertainment                       49\n",
              "The Weinstein Company                      42\n",
              "Screen Gems                                41\n",
              "StudioCanal                                41\n",
              "dtype: int64"
            ]
          },
          "metadata": {
            "tags": []
          },
          "execution_count": 29
        }
      ]
    },
    {
      "cell_type": "code",
      "metadata": {
        "id": "pNSXaMlsuCWV"
      },
      "source": [
        "# Let's pick the major film studios to manually obtain the clusters\n",
        "big_studios = ['Warner Bros.', 'Universal Pictures', 'Paramount Pictures', 'Twentieth Century Fox Film Corporation', 'Columbia Pictures', 'Walt Disney Pictures', 'Walt Disney', 'Columbia Pictures Corporation', 'Metro-Goldwyn-Mayer (MGM)']"
      ],
      "execution_count": 30,
      "outputs": []
    },
    {
      "cell_type": "code",
      "metadata": {
        "colab": {
          "base_uri": "https://localhost:8080/",
          "height": 54
        },
        "id": "d1lGeQpzwLob",
        "outputId": "7faaad9f-fe15-42c3-bb6b-81458e162162"
      },
      "source": [
        "# Getting a pattern\n",
        "pattern = '|'.join(big_studios)\n",
        "pattern"
      ],
      "execution_count": 31,
      "outputs": [
        {
          "output_type": "execute_result",
          "data": {
            "application/vnd.google.colaboratory.intrinsic+json": {
              "type": "string"
            },
            "text/plain": [
              "'Warner Bros.|Universal Pictures|Paramount Pictures|Twentieth Century Fox Film Corporation|Columbia Pictures|Walt Disney Pictures|Walt Disney|Columbia Pictures Corporation|Metro-Goldwyn-Mayer (MGM)'"
            ]
          },
          "metadata": {
            "tags": []
          },
          "execution_count": 31
        }
      ]
    },
    {
      "cell_type": "code",
      "metadata": {
        "colab": {
          "base_uri": "https://localhost:8080/"
        },
        "id": "F_4ocsfKyDc5",
        "outputId": "3975cbc8-f9b2-4060-946f-74fba9307bf6"
      },
      "source": [
        "# Obtaining a new column with True and False - if each row contains a major film studio or not\n",
        "movies_copy3['new_cluster'] = movies_copy3.production_companies.str.contains(pattern)"
      ],
      "execution_count": 32,
      "outputs": [
        {
          "output_type": "stream",
          "text": [
            "/usr/local/lib/python3.6/dist-packages/pandas/core/strings.py:2001: UserWarning: This pattern has match groups. To actually get the groups, use str.extract.\n",
            "  return func(self, *args, **kwargs)\n"
          ],
          "name": "stderr"
        }
      ]
    },
    {
      "cell_type": "code",
      "metadata": {
        "id": "rCFc0l11zz17"
      },
      "source": [
        "# Changing the clusters to 1s and 2s - 1s for independents and 2s for major film studios\n",
        "terms = [(movies_copy3['new_cluster'] == True), (movies_copy3['new_cluster'] == False)]\n",
        "values = [2, 1]\n",
        "\n",
        "movies_copy3['new_cluster'] = np.select(terms, values)"
      ],
      "execution_count": 33,
      "outputs": []
    },
    {
      "cell_type": "code",
      "metadata": {
        "colab": {
          "base_uri": "https://localhost:8080/"
        },
        "id": "tjYVrUhT1uQE",
        "outputId": "bbfa1b81-b769-48fe-b528-e5922fb1fb88"
      },
      "source": [
        "# Let's see the distribution\n",
        "movies_copy3['new_cluster'].value_counts()"
      ],
      "execution_count": 34,
      "outputs": [
        {
          "output_type": "execute_result",
          "data": {
            "text/plain": [
              "1    3246\n",
              "2    1555\n",
              "Name: new_cluster, dtype: int64"
            ]
          },
          "metadata": {
            "tags": []
          },
          "execution_count": 34
        }
      ]
    },
    {
      "cell_type": "code",
      "metadata": {
        "id": "Ri8WPSYu2qy7"
      },
      "source": [
        "# Funtion to plot the scatter graph\n",
        "def plot_graph(first_column, second_column):\n",
        "  K = 2\n",
        "  label = ['independents', 'major film studios']\n",
        "  Centroids = movies_copy3.groupby(['new_cluster']).mean()[[second_column, first_column]]\n",
        "  color = ['blue', 'red']\n",
        "  for k in range(K):\n",
        "      data = movies_copy3[movies_copy3['new_cluster'] == k+1]\n",
        "      plt.scatter(data[first_column], data[second_column], c = color[k])\n",
        "  fig = plt.gcf()\n",
        "  fig.set_size_inches(7, 5)\n",
        "  plt.scatter(Centroids[first_column], Centroids[second_column], c = 'black')\n",
        "  plt.legend(loc = 'upper center', bbox_to_anchor = (0.5, 1.15), ncol = 2, labels = label)\n",
        "  plt.xlabel(first_column)\n",
        "  plt.ylabel(second_column)\n",
        "  plt.show()"
      ],
      "execution_count": 35,
      "outputs": []
    },
    {
      "cell_type": "markdown",
      "metadata": {
        "id": "_EzmdtH8JyAg"
      },
      "source": [
        "## Clustering between Major film studios and Independents with respect to the Vote count and Movie popularity"
      ]
    },
    {
      "cell_type": "code",
      "metadata": {
        "colab": {
          "base_uri": "https://localhost:8080/",
          "height": 370
        },
        "id": "e82s1Baa4Na5",
        "outputId": "a52e1f4f-944b-408b-e0e7-2e91ba9a3a24"
      },
      "source": [
        "plot_graph(vote_count, popularity)"
      ],
      "execution_count": 36,
      "outputs": [
        {
          "output_type": "display_data",
          "data": {
            "image/png": "[encoded data removed]",
            "text/plain": [
              "<Figure size 504x360 with 1 Axes>"
            ]
          },
          "metadata": {
            "tags": [],
            "needs_background": "light"
          }
        }
      ]
    },
    {
      "cell_type": "markdown",
      "metadata": {
        "id": "iplXSDmsJ3oe"
      },
      "source": [
        "## Clustering between Major film studios and Independents with respect to the Vote average and Movie popularity"
      ]
    },
    {
      "cell_type": "code",
      "metadata": {
        "colab": {
          "base_uri": "https://localhost:8080/",
          "height": 370
        },
        "id": "J-RRuwEy6T7H",
        "outputId": "86e6461f-e232-41d1-cb38-d2da465d6de3"
      },
      "source": [
        "plot_graph(vote_average, popularity)"
      ],
      "execution_count": 37,
      "outputs": [
        {
          "output_type": "display_data",
          "data": {
            "image/png": "[encoded data removed]",
            "text/plain": [
              "<Figure size 504x360 with 1 Axes>"
            ]
          },
          "metadata": {
            "tags": [],
            "needs_background": "light"
          }
        }
      ]
    },
    {
      "cell_type": "markdown",
      "metadata": {
        "id": "WrWRUG3YJ7N_"
      },
      "source": [
        "## Clustering between Major film studios and Independents with respect to the Weighted rating and Movie popularity"
      ]
    },
    {
      "cell_type": "code",
      "metadata": {
        "colab": {
          "base_uri": "https://localhost:8080/",
          "height": 370
        },
        "id": "6syifexk6kes",
        "outputId": "16022a55-4098-4721-f753-2ca02506c4ac"
      },
      "source": [
        "plot_graph(weighted_rating, popularity)"
      ],
      "execution_count": 38,
      "outputs": [
        {
          "output_type": "display_data",
          "data": {
            "image/png": "[encoded data removed]",
            "text/plain": [
              "<Figure size 504x360 with 1 Axes>"
            ]
          },
          "metadata": {
            "tags": [],
            "needs_background": "light"
          }
        }
      ]
    },
    {
      "cell_type": "markdown",
      "metadata": {
        "id": "tpRcy4bzJ_m7"
      },
      "source": [
        "In conlusion, after manually differentiating the clusters for the major film studios and independents, we can see from the three graphs above that something much more complicated is going on unlike what we obtained after generating the clusters for the two columns from respective centroids."
      ]
    }
  ]
}
