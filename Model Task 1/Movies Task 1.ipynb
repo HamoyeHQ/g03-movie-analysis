{
 "cells": [
  {
   "cell_type": "markdown",
   "metadata": {
    "papermill": {
     "duration": 0.028895,
     "end_time": "2020-12-13T00:41:29.957307",
     "exception": false,
     "start_time": "2020-12-13T00:41:29.928412",
     "status": "completed"
    },
    "tags": []
   },
   "source": [
    "# Classification of Movies \n",
    "\n",
    "Classifying the movie as animated or not animated on the basis of crew job titles.\n",
    "This is the inspiration of this dataset (as described in the data description)\n",
    "\n",
    "Firstly, preprocessed data and prepared it. Then used NLP and classification models for accomplishing the task."
   ]
  },
  {
   "cell_type": "code",
   "execution_count": 1,
   "metadata": {
    "_cell_guid": "b1076dfc-b9ad-4769-8c92-a6c4dae69d19",
    "_uuid": "8f2839f25d086af736a60e9eeb907d3b93b6e0e5",
    "execution": {
     "iopub.execute_input": "2020-12-13T00:41:30.015035Z",
     "iopub.status.busy": "2020-12-13T00:41:30.014392Z",
     "iopub.status.idle": "2020-12-13T00:41:31.064436Z",
     "shell.execute_reply": "2020-12-13T00:41:31.065267Z"
    },
    "papermill": {
     "duration": 1.080974,
     "end_time": "2020-12-13T00:41:31.065478",
     "exception": false,
     "start_time": "2020-12-13T00:41:29.984504",
     "status": "completed"
    },
    "tags": []
   },
   "outputs": [
    {
     "name": "stdout",
     "output_type": "stream",
     "text": [
      "/kaggle/input/tmdb-movie-metadata/tmdb_5000_movies.csv\n",
      "/kaggle/input/tmdb-movie-metadata/tmdb_5000_credits.csv\n"
     ]
    }
   ],
   "source": [
    "import numpy as np # linear algebra\n",
    "import pandas as pd # data processing, CSV file I/O (e.g. pd.read_csv)\n",
    "import os\n",
    "from sklearn.model_selection import train_test_split\n",
    "\n",
    "for dirname, _, filenames in os.walk('/kaggle/input'):\n",
    "    for filename in filenames:\n",
    "        print(os.path.join(dirname, filename))"
   ]
  },
  {
   "cell_type": "markdown",
   "metadata": {
    "papermill": {
     "duration": 0.027994,
     "end_time": "2020-12-13T00:41:31.122302",
     "exception": false,
     "start_time": "2020-12-13T00:41:31.094308",
     "status": "completed"
    },
    "tags": []
   },
   "source": [
    "### Loading the Dataset as pandas.DataFrame"
   ]
  },
  {
   "cell_type": "code",
   "execution_count": 2,
   "metadata": {
    "_cell_guid": "79c7e3d0-c299-4dcb-8224-4455121ee9b0",
    "_uuid": "d629ff2d2480ee46fbb7e2d37f6b5fab8052498a",
    "execution": {
     "iopub.execute_input": "2020-12-13T00:41:31.188379Z",
     "iopub.status.busy": "2020-12-13T00:41:31.187661Z",
     "iopub.status.idle": "2020-12-13T00:41:32.397590Z",
     "shell.execute_reply": "2020-12-13T00:41:32.396604Z"
    },
    "papermill": {
     "duration": 1.243907,
     "end_time": "2020-12-13T00:41:32.397709",
     "exception": false,
     "start_time": "2020-12-13T00:41:31.153802",
     "status": "completed"
    },
    "tags": []
   },
   "outputs": [],
   "source": [
    "df_credits = pd.read_csv('../input/tmdb-movie-metadata/tmdb_5000_credits.csv')\n",
    "df_movies = pd.read_csv('../input/tmdb-movie-metadata/tmdb_5000_movies.csv')"
   ]
  },
  {
   "cell_type": "code",
   "execution_count": 3,
   "metadata": {
    "execution": {
     "iopub.execute_input": "2020-12-13T00:41:32.477756Z",
     "iopub.status.busy": "2020-12-13T00:41:32.476985Z",
     "iopub.status.idle": "2020-12-13T00:41:32.480526Z",
     "shell.execute_reply": "2020-12-13T00:41:32.481058Z"
    },
    "papermill": {
     "duration": 0.055342,
     "end_time": "2020-12-13T00:41:32.481222",
     "exception": false,
     "start_time": "2020-12-13T00:41:32.425880",
     "status": "completed"
    },
    "tags": []
   },
   "outputs": [
    {
     "name": "stdout",
     "output_type": "stream",
     "text": [
      "<class 'pandas.core.frame.DataFrame'>\n",
      "RangeIndex: 4803 entries, 0 to 4802\n",
      "Data columns (total 4 columns):\n",
      " #   Column    Non-Null Count  Dtype \n",
      "---  ------    --------------  ----- \n",
      " 0   movie_id  4803 non-null   int64 \n",
      " 1   title     4803 non-null   object\n",
      " 2   cast      4803 non-null   object\n",
      " 3   crew      4803 non-null   object\n",
      "dtypes: int64(1), object(3)\n",
      "memory usage: 150.2+ KB\n"
     ]
    }
   ],
   "source": [
    "df_credits.info()"
   ]
  },
  {
   "cell_type": "code",
   "execution_count": 4,
   "metadata": {
    "execution": {
     "iopub.execute_input": "2020-12-13T00:41:32.551652Z",
     "iopub.status.busy": "2020-12-13T00:41:32.550969Z",
     "iopub.status.idle": "2020-12-13T00:41:32.562673Z",
     "shell.execute_reply": "2020-12-13T00:41:32.562136Z"
    },
    "papermill": {
     "duration": 0.05295,
     "end_time": "2020-12-13T00:41:32.562789",
     "exception": false,
     "start_time": "2020-12-13T00:41:32.509839",
     "status": "completed"
    },
    "tags": []
   },
   "outputs": [
    {
     "name": "stdout",
     "output_type": "stream",
     "text": [
      "<class 'pandas.core.frame.DataFrame'>\n",
      "RangeIndex: 4803 entries, 0 to 4802\n",
      "Data columns (total 20 columns):\n",
      " #   Column                Non-Null Count  Dtype  \n",
      "---  ------                --------------  -----  \n",
      " 0   budget                4803 non-null   int64  \n",
      " 1   genres                4803 non-null   object \n",
      " 2   homepage              1712 non-null   object \n",
      " 3   id                    4803 non-null   int64  \n",
      " 4   keywords              4803 non-null   object \n",
      " 5   original_language     4803 non-null   object \n",
      " 6   original_title        4803 non-null   object \n",
      " 7   overview              4800 non-null   object \n",
      " 8   popularity            4803 non-null   float64\n",
      " 9   production_companies  4803 non-null   object \n",
      " 10  production_countries  4803 non-null   object \n",
      " 11  release_date          4802 non-null   object \n",
      " 12  revenue               4803 non-null   int64  \n",
      " 13  runtime               4801 non-null   float64\n",
      " 14  spoken_languages      4803 non-null   object \n",
      " 15  status                4803 non-null   object \n",
      " 16  tagline               3959 non-null   object \n",
      " 17  title                 4803 non-null   object \n",
      " 18  vote_average          4803 non-null   float64\n",
      " 19  vote_count            4803 non-null   int64  \n",
      "dtypes: float64(3), int64(4), object(13)\n",
      "memory usage: 750.6+ KB\n"
     ]
    }
   ],
   "source": [
    "df_movies.info()"
   ]
  },
  {
   "cell_type": "code",
   "execution_count": 5,
   "metadata": {
    "execution": {
     "iopub.execute_input": "2020-12-13T00:41:32.627126Z",
     "iopub.status.busy": "2020-12-13T00:41:32.626173Z",
     "iopub.status.idle": "2020-12-13T00:41:32.629774Z",
     "shell.execute_reply": "2020-12-13T00:41:32.629254Z"
    },
    "papermill": {
     "duration": 0.038241,
     "end_time": "2020-12-13T00:41:32.629894",
     "exception": false,
     "start_time": "2020-12-13T00:41:32.591653",
     "status": "completed"
    },
    "tags": []
   },
   "outputs": [],
   "source": [
    "df_credits.rename(columns = {'movie_id':'id'}, inplace = True)"
   ]
  },
  {
   "cell_type": "markdown",
   "metadata": {
    "papermill": {
     "duration": 0.028377,
     "end_time": "2020-12-13T00:41:32.687677",
     "exception": false,
     "start_time": "2020-12-13T00:41:32.659300",
     "status": "completed"
    },
    "tags": []
   },
   "source": [
    "The column 'title' and 'original_title' are equivalent\n",
    "So dropping the 'original_title' column"
   ]
  },
  {
   "cell_type": "code",
   "execution_count": null,
   "metadata": {
    "papermill": {
     "duration": 0.028553,
     "end_time": "2020-12-13T00:41:32.745200",
     "exception": false,
     "start_time": "2020-12-13T00:41:32.716647",
     "status": "completed"
    },
    "tags": []
   },
   "outputs": [],
   "source": []
  },
  {
   "cell_type": "code",
   "execution_count": 6,
   "metadata": {
    "execution": {
     "iopub.execute_input": "2020-12-13T00:41:32.812567Z",
     "iopub.status.busy": "2020-12-13T00:41:32.811921Z",
     "iopub.status.idle": "2020-12-13T00:41:32.815314Z",
     "shell.execute_reply": "2020-12-13T00:41:32.814755Z"
    },
    "papermill": {
     "duration": 0.041062,
     "end_time": "2020-12-13T00:41:32.815422",
     "exception": false,
     "start_time": "2020-12-13T00:41:32.774360",
     "status": "completed"
    },
    "tags": []
   },
   "outputs": [],
   "source": [
    "df_movies.drop('original_title', axis = 1, inplace = True)"
   ]
  },
  {
   "cell_type": "markdown",
   "metadata": {
    "papermill": {
     "duration": 0.02848,
     "end_time": "2020-12-13T00:41:32.873044",
     "exception": false,
     "start_time": "2020-12-13T00:41:32.844564",
     "status": "completed"
    },
    "tags": []
   },
   "source": [
    "### Merging the Datasets\n",
    "\n",
    "Merging the 2 datasets on the columns 'id' and 'title' as primary key "
   ]
  },
  {
   "cell_type": "code",
   "execution_count": 7,
   "metadata": {
    "execution": {
     "iopub.execute_input": "2020-12-13T00:41:32.938164Z",
     "iopub.status.busy": "2020-12-13T00:41:32.936541Z",
     "iopub.status.idle": "2020-12-13T00:41:32.962164Z",
     "shell.execute_reply": "2020-12-13T00:41:32.961582Z"
    },
    "papermill": {
     "duration": 0.059936,
     "end_time": "2020-12-13T00:41:32.962275",
     "exception": false,
     "start_time": "2020-12-13T00:41:32.902339",
     "status": "completed"
    },
    "tags": []
   },
   "outputs": [],
   "source": [
    "df_merged = pd.merge(df_credits, df_movies, on = ['id','title'])"
   ]
  },
  {
   "cell_type": "markdown",
   "metadata": {
    "papermill": {
     "duration": 0.02909,
     "end_time": "2020-12-13T00:41:33.021334",
     "exception": false,
     "start_time": "2020-12-13T00:41:32.992244",
     "status": "completed"
    },
    "tags": []
   },
   "source": [
    "### Handling the Json Columns\n",
    "\n",
    "Applying the literal_eval function of ast on all the json columns"
   ]
  },
  {
   "cell_type": "code",
   "execution_count": 8,
   "metadata": {
    "execution": {
     "iopub.execute_input": "2020-12-13T00:41:33.099556Z",
     "iopub.status.busy": "2020-12-13T00:41:33.085969Z",
     "iopub.status.idle": "2020-12-13T00:41:42.616583Z",
     "shell.execute_reply": "2020-12-13T00:41:42.615820Z"
    },
    "papermill": {
     "duration": 9.565797,
     "end_time": "2020-12-13T00:41:42.616704",
     "exception": false,
     "start_time": "2020-12-13T00:41:33.050907",
     "status": "completed"
    },
    "tags": []
   },
   "outputs": [],
   "source": [
    "from ast import literal_eval\n",
    "\n",
    "json_cols = ['cast', 'crew', 'genres', 'keywords','production_companies', 'production_countries','spoken_languages']\n",
    "\n",
    "for col in json_cols:\n",
    "    df_merged[col] = df_merged[col].apply(literal_eval)"
   ]
  },
  {
   "cell_type": "markdown",
   "metadata": {
    "papermill": {
     "duration": 0.030823,
     "end_time": "2020-12-13T00:41:42.679158",
     "exception": false,
     "start_time": "2020-12-13T00:41:42.648335",
     "status": "completed"
    },
    "tags": []
   },
   "source": [
    "### Extracting the features from Json Columns\n",
    "\n",
    "1. Genres list (from Genres column)\n",
    "2. Jobs (from Crew column)\n",
    "3. Percentage of voice artists among total cast (from cast column)"
   ]
  },
  {
   "cell_type": "markdown",
   "metadata": {
    "papermill": {
     "duration": 0.028942,
     "end_time": "2020-12-13T00:41:42.739376",
     "exception": false,
     "start_time": "2020-12-13T00:41:42.710434",
     "status": "completed"
    },
    "tags": []
   },
   "source": [
    "#### Helper Functions for the same"
   ]
  },
  {
   "cell_type": "code",
   "execution_count": 9,
   "metadata": {
    "execution": {
     "iopub.execute_input": "2020-12-13T00:41:42.812728Z",
     "iopub.status.busy": "2020-12-13T00:41:42.812050Z",
     "iopub.status.idle": "2020-12-13T00:41:42.814689Z",
     "shell.execute_reply": "2020-12-13T00:41:42.815215Z"
    },
    "papermill": {
     "duration": 0.046599,
     "end_time": "2020-12-13T00:41:42.815359",
     "exception": false,
     "start_time": "2020-12-13T00:41:42.768760",
     "status": "completed"
    },
    "tags": []
   },
   "outputs": [],
   "source": [
    "def get_genre(x):\n",
    "    if(isinstance(x, list)):\n",
    "        genre = [i['name'] for i in x]\n",
    "    \n",
    "    return genre\n",
    "\n",
    "def get_jobs(x):\n",
    "    if(isinstance(x, list)):\n",
    "        jobs = [i['job'] for i in x]\n",
    "    return jobs\n",
    "\n",
    "def get_characternames(x):\n",
    "    if(isinstance(x, list)):\n",
    "        chr_name = [i['character'] for i in x]\n",
    "        countc = 0\n",
    "        for j in chr_name:\n",
    "            if('(voice)' in j):\n",
    "                countc += 1\n",
    "        if(len(chr_name)!=0):\n",
    "            return (countc/len(chr_name))\n",
    "        else:\n",
    "            return 0\n",
    "        \n",
    "def get_labels(x):\n",
    "    if(len(x)==0):\n",
    "        return np.nan\n",
    "    elif('Animation' in x):\n",
    "        return 1\n",
    "    else:\n",
    "        return 0\n",
    "\n",
    "def get_costume_labels(x):\n",
    "    if 'Costume Design' in x:\n",
    "        return 1\n",
    "    else:\n",
    "        return 0\n",
    "    \n",
    "def get_genre_cd(x):\n",
    "    if(isinstance(x, list)):\n",
    "        dept = [i['department'] for i in x]\n",
    "    if 'Lighting' in dept:\n",
    "        return 0\n",
    "    else:\n",
    "        return 1"
   ]
  },
  {
   "cell_type": "code",
   "execution_count": 10,
   "metadata": {
    "execution": {
     "iopub.execute_input": "2020-12-13T00:41:42.995854Z",
     "iopub.status.busy": "2020-12-13T00:41:42.980987Z",
     "iopub.status.idle": "2020-12-13T00:41:43.097455Z",
     "shell.execute_reply": "2020-12-13T00:41:43.096880Z"
    },
    "papermill": {
     "duration": 0.251607,
     "end_time": "2020-12-13T00:41:43.097566",
     "exception": false,
     "start_time": "2020-12-13T00:41:42.845959",
     "status": "completed"
    },
    "tags": []
   },
   "outputs": [],
   "source": [
    "df_merged['genres'] = df_merged['genres'].apply(get_genre)\n",
    "df_merged['crew_jobs'] = df_merged['crew'].apply(get_jobs)\n",
    "df_merged['percent_of_voice_artists'] = df_merged['cast'].apply(get_characternames)\n",
    "df_merged['labels'] = df_merged['genres'].apply(get_labels)\n",
    "df_merged['costume'] = df_merged['crew_jobs'].apply(get_costume_labels)\n",
    "df_merged['lighting_dept'] = df_merged['crew'].apply(get_genre_cd)"
   ]
  },
  {
   "cell_type": "markdown",
   "metadata": {
    "papermill": {
     "duration": 0.0298,
     "end_time": "2020-12-13T00:41:43.157249",
     "exception": false,
     "start_time": "2020-12-13T00:41:43.127449",
     "status": "completed"
    },
    "tags": []
   },
   "source": [
    "Rounding off the percentage to 3 decimal places"
   ]
  },
  {
   "cell_type": "code",
   "execution_count": 11,
   "metadata": {
    "execution": {
     "iopub.execute_input": "2020-12-13T00:41:43.223375Z",
     "iopub.status.busy": "2020-12-13T00:41:43.222669Z",
     "iopub.status.idle": "2020-12-13T00:41:43.726340Z",
     "shell.execute_reply": "2020-12-13T00:41:43.725633Z"
    },
    "papermill": {
     "duration": 0.539077,
     "end_time": "2020-12-13T00:41:43.726454",
     "exception": false,
     "start_time": "2020-12-13T00:41:43.187377",
     "status": "completed"
    },
    "tags": []
   },
   "outputs": [
    {
     "name": "stderr",
     "output_type": "stream",
     "text": [
      "/opt/conda/lib/python3.7/site-packages/ipykernel_launcher.py:2: SettingWithCopyWarning: \n",
      "A value is trying to be set on a copy of a slice from a DataFrame\n",
      "\n",
      "See the caveats in the documentation: https://pandas.pydata.org/pandas-docs/stable/user_guide/indexing.html#returning-a-view-versus-a-copy\n",
      "  \n"
     ]
    }
   ],
   "source": [
    "for x in range(0,len(df_merged['percent_of_voice_artists'])):\n",
    "    df_merged['percent_of_voice_artists'][x] = np.round(df_merged['percent_of_voice_artists'][x],3)"
   ]
  },
  {
   "cell_type": "markdown",
   "metadata": {
    "papermill": {
     "duration": 0.030017,
     "end_time": "2020-12-13T00:41:43.786986",
     "exception": false,
     "start_time": "2020-12-13T00:41:43.756969",
     "status": "completed"
    },
    "tags": []
   },
   "source": [
    "Dropping the movies which are labelled as None\n",
    "\n",
    "There are 28 such movies"
   ]
  },
  {
   "cell_type": "code",
   "execution_count": 12,
   "metadata": {
    "execution": {
     "iopub.execute_input": "2020-12-13T00:41:43.855439Z",
     "iopub.status.busy": "2020-12-13T00:41:43.854403Z",
     "iopub.status.idle": "2020-12-13T00:41:43.858733Z",
     "shell.execute_reply": "2020-12-13T00:41:43.858108Z"
    },
    "papermill": {
     "duration": 0.041885,
     "end_time": "2020-12-13T00:41:43.858841",
     "exception": false,
     "start_time": "2020-12-13T00:41:43.816956",
     "status": "completed"
    },
    "tags": []
   },
   "outputs": [
    {
     "data": {
      "text/plain": [
       "28"
      ]
     },
     "execution_count": 12,
     "metadata": {},
     "output_type": "execute_result"
    }
   ],
   "source": [
    "df_merged.labels.isna().sum()"
   ]
  },
  {
   "cell_type": "code",
   "execution_count": 13,
   "metadata": {
    "execution": {
     "iopub.execute_input": "2020-12-13T00:41:43.925956Z",
     "iopub.status.busy": "2020-12-13T00:41:43.925281Z",
     "iopub.status.idle": "2020-12-13T00:41:43.967119Z",
     "shell.execute_reply": "2020-12-13T00:41:43.967741Z"
    },
    "papermill": {
     "duration": 0.078571,
     "end_time": "2020-12-13T00:41:43.967895",
     "exception": false,
     "start_time": "2020-12-13T00:41:43.889324",
     "status": "completed"
    },
    "tags": []
   },
   "outputs": [],
   "source": [
    "idxsc = df_merged[((df_merged.labels != 1) & (df_merged.labels != 0))].index\n",
    "df_merged.drop(idxsc, inplace = True)\n",
    "df_merged.reset_index(drop= True, inplace= True)"
   ]
  },
  {
   "cell_type": "code",
   "execution_count": 14,
   "metadata": {
    "execution": {
     "iopub.execute_input": "2020-12-13T00:41:44.038945Z",
     "iopub.status.busy": "2020-12-13T00:41:44.037935Z",
     "iopub.status.idle": "2020-12-13T00:41:44.057184Z",
     "shell.execute_reply": "2020-12-13T00:41:44.057709Z"
    },
    "papermill": {
     "duration": 0.057267,
     "end_time": "2020-12-13T00:41:44.057851",
     "exception": false,
     "start_time": "2020-12-13T00:41:44.000584",
     "status": "completed"
    },
    "tags": []
   },
   "outputs": [
    {
     "data": {
      "text/plain": [
       "id                             0\n",
       "title                          0\n",
       "cast                           0\n",
       "crew                           0\n",
       "budget                         0\n",
       "genres                         0\n",
       "homepage                    3068\n",
       "keywords                       0\n",
       "original_language              0\n",
       "overview                       3\n",
       "popularity                     0\n",
       "production_companies           0\n",
       "production_countries           0\n",
       "release_date                   0\n",
       "revenue                        0\n",
       "runtime                        2\n",
       "spoken_languages               0\n",
       "status                         0\n",
       "tagline                      819\n",
       "vote_average                   0\n",
       "vote_count                     0\n",
       "crew_jobs                      0\n",
       "percent_of_voice_artists       0\n",
       "labels                         0\n",
       "costume                        0\n",
       "lighting_dept                  0\n",
       "dtype: int64"
      ]
     },
     "execution_count": 14,
     "metadata": {},
     "output_type": "execute_result"
    }
   ],
   "source": [
    "df_merged.isna().sum()"
   ]
  },
  {
   "cell_type": "code",
   "execution_count": 15,
   "metadata": {
    "execution": {
     "iopub.execute_input": "2020-12-13T00:41:44.137429Z",
     "iopub.status.busy": "2020-12-13T00:41:44.136438Z",
     "iopub.status.idle": "2020-12-13T00:41:44.145653Z",
     "shell.execute_reply": "2020-12-13T00:41:44.146196Z"
    },
    "papermill": {
     "duration": 0.044958,
     "end_time": "2020-12-13T00:41:44.146337",
     "exception": false,
     "start_time": "2020-12-13T00:41:44.101379",
     "status": "completed"
    },
    "tags": []
   },
   "outputs": [
    {
     "name": "stdout",
     "output_type": "stream",
     "text": [
      "Number of Animated Movies are:  234\n",
      "Number of Not Animated Movies are:  4541\n"
     ]
    }
   ],
   "source": [
    "AnimatedMoviesCount = np.sum(df_merged['labels'] == 1)\n",
    "NotAnimatedMoviesCount = np.sum(df_merged['labels'] == 0)\n",
    "\n",
    "print(\"Number of Animated Movies are: \", AnimatedMoviesCount)\n",
    "print(\"Number of Not Animated Movies are: \", NotAnimatedMoviesCount)"
   ]
  },
  {
   "cell_type": "code",
   "execution_count": 16,
   "metadata": {
    "execution": {
     "iopub.execute_input": "2020-12-13T00:41:44.230017Z",
     "iopub.status.busy": "2020-12-13T00:41:44.228857Z",
     "iopub.status.idle": "2020-12-13T00:41:44.239809Z",
     "shell.execute_reply": "2020-12-13T00:41:44.238872Z"
    },
    "papermill": {
     "duration": 0.059125,
     "end_time": "2020-12-13T00:41:44.239951",
     "exception": false,
     "start_time": "2020-12-13T00:41:44.180826",
     "status": "completed"
    },
    "tags": []
   },
   "outputs": [
    {
     "data": {
      "text/plain": [
       "1    2472\n",
       "0    2303\n",
       "Name: costume, dtype: int64"
      ]
     },
     "execution_count": 16,
     "metadata": {},
     "output_type": "execute_result"
    }
   ],
   "source": [
    "df_merged.costume.value_counts()"
   ]
  },
  {
   "cell_type": "code",
   "execution_count": null,
   "metadata": {
    "papermill": {
     "duration": 0.03207,
     "end_time": "2020-12-13T00:41:44.313966",
     "exception": false,
     "start_time": "2020-12-13T00:41:44.281896",
     "status": "completed"
    },
    "tags": []
   },
   "outputs": [],
   "source": []
  },
  {
   "cell_type": "code",
   "execution_count": 17,
   "metadata": {
    "execution": {
     "iopub.execute_input": "2020-12-13T00:41:44.382979Z",
     "iopub.status.busy": "2020-12-13T00:41:44.382001Z",
     "iopub.status.idle": "2020-12-13T00:41:44.389443Z",
     "shell.execute_reply": "2020-12-13T00:41:44.390000Z"
    },
    "papermill": {
     "duration": 0.043369,
     "end_time": "2020-12-13T00:41:44.390152",
     "exception": false,
     "start_time": "2020-12-13T00:41:44.346783",
     "status": "completed"
    },
    "tags": []
   },
   "outputs": [
    {
     "data": {
      "text/plain": [
       "1    3881\n",
       "0     894\n",
       "Name: lighting_dept, dtype: int64"
      ]
     },
     "execution_count": 17,
     "metadata": {},
     "output_type": "execute_result"
    }
   ],
   "source": [
    "df_merged.lighting_dept.value_counts()"
   ]
  },
  {
   "cell_type": "code",
   "execution_count": 18,
   "metadata": {
    "execution": {
     "iopub.execute_input": "2020-12-13T00:41:44.469368Z",
     "iopub.status.busy": "2020-12-13T00:41:44.461580Z",
     "iopub.status.idle": "2020-12-13T00:41:44.475049Z",
     "shell.execute_reply": "2020-12-13T00:41:44.474019Z"
    },
    "papermill": {
     "duration": 0.052459,
     "end_time": "2020-12-13T00:41:44.475258",
     "exception": false,
     "start_time": "2020-12-13T00:41:44.422799",
     "status": "completed"
    },
    "tags": []
   },
   "outputs": [
    {
     "name": "stdout",
     "output_type": "stream",
     "text": [
      "Average Budget of Animated Movie:  66465901.94871795\n"
     ]
    }
   ],
   "source": [
    "c = np.where(df_merged.labels==1)[0]\n",
    "sum_budget = 0\n",
    "for x in c:\n",
    "    sum_budget += df_merged.budget[x]\n",
    "avg_budget = sum_budget/len(c)\n",
    "print(\"Average Budget of Animated Movie: \",str(avg_budget))"
   ]
  },
  {
   "cell_type": "markdown",
   "metadata": {
    "papermill": {
     "duration": 0.044483,
     "end_time": "2020-12-13T00:41:44.553899",
     "exception": false,
     "start_time": "2020-12-13T00:41:44.509416",
     "status": "completed"
    },
    "tags": []
   },
   "source": [
    "### Taking into account only those movies having atleast 7 crew members\n",
    "\n",
    "So as to handle the quality of training data\n",
    "Tested for multiple values, but 7 yielded best result"
   ]
  },
  {
   "cell_type": "code",
   "execution_count": 19,
   "metadata": {
    "execution": {
     "iopub.execute_input": "2020-12-13T00:41:44.663123Z",
     "iopub.status.busy": "2020-12-13T00:41:44.655639Z",
     "iopub.status.idle": "2020-12-13T00:41:44.740729Z",
     "shell.execute_reply": "2020-12-13T00:41:44.741583Z"
    },
    "papermill": {
     "duration": 0.139899,
     "end_time": "2020-12-13T00:41:44.741778",
     "exception": false,
     "start_time": "2020-12-13T00:41:44.601879",
     "status": "completed"
    },
    "tags": []
   },
   "outputs": [
    {
     "name": "stdout",
     "output_type": "stream",
     "text": [
      "Number of Movies with more than 7 crew members:  3653\n"
     ]
    }
   ],
   "source": [
    "idx=[]\n",
    "for x in range(0,df_merged.shape[0]):\n",
    "    if len(df_merged.crew_jobs[x])>7:\n",
    "        idx.append(x)\n",
    "print(\"Number of Movies with more than 7 crew members: \",str(len(idx)))\n",
    "\n",
    "df = df_merged.iloc[idx,:]"
   ]
  },
  {
   "cell_type": "code",
   "execution_count": 20,
   "metadata": {
    "execution": {
     "iopub.execute_input": "2020-12-13T00:41:44.833498Z",
     "iopub.status.busy": "2020-12-13T00:41:44.832862Z",
     "iopub.status.idle": "2020-12-13T00:41:44.841829Z",
     "shell.execute_reply": "2020-12-13T00:41:44.841270Z"
    },
    "papermill": {
     "duration": 0.045729,
     "end_time": "2020-12-13T00:41:44.841959",
     "exception": false,
     "start_time": "2020-12-13T00:41:44.796230",
     "status": "completed"
    },
    "tags": []
   },
   "outputs": [
    {
     "name": "stdout",
     "output_type": "stream",
     "text": [
      "Number of Animated Movies are:  193\n",
      "Number of Not Animated Movies are:  3460\n"
     ]
    }
   ],
   "source": [
    "AnimatedMoviesCount2 = np.sum(df['labels'] == 1)\n",
    "NotAnimatedMoviesCount2 = np.sum(df['labels'] == 0)\n",
    "\n",
    "print(\"Number of Animated Movies are: \", AnimatedMoviesCount2)\n",
    "print(\"Number of Not Animated Movies are: \", NotAnimatedMoviesCount2)"
   ]
  },
  {
   "cell_type": "markdown",
   "metadata": {
    "papermill": {
     "duration": 0.034022,
     "end_time": "2020-12-13T00:41:44.910503",
     "exception": false,
     "start_time": "2020-12-13T00:41:44.876481",
     "status": "completed"
    },
    "tags": []
   },
   "source": [
    "Converting 'crew_jobs' from list to string (in lower form) via join function"
   ]
  },
  {
   "cell_type": "code",
   "execution_count": 21,
   "metadata": {
    "execution": {
     "iopub.execute_input": "2020-12-13T00:41:45.002217Z",
     "iopub.status.busy": "2020-12-13T00:41:45.001427Z",
     "iopub.status.idle": "2020-12-13T00:41:45.005936Z",
     "shell.execute_reply": "2020-12-13T00:41:45.004772Z"
    },
    "papermill": {
     "duration": 0.061486,
     "end_time": "2020-12-13T00:41:45.006059",
     "exception": false,
     "start_time": "2020-12-13T00:41:44.944573",
     "status": "completed"
    },
    "tags": []
   },
   "outputs": [
    {
     "name": "stderr",
     "output_type": "stream",
     "text": [
      "/opt/conda/lib/python3.7/site-packages/ipykernel_launcher.py:7: SettingWithCopyWarning: \n",
      "A value is trying to be set on a copy of a slice from a DataFrame.\n",
      "Try using .loc[row_indexer,col_indexer] = value instead\n",
      "\n",
      "See the caveats in the documentation: https://pandas.pydata.org/pandas-docs/stable/user_guide/indexing.html#returning-a-view-versus-a-copy\n",
      "  import sys\n",
      "/opt/conda/lib/python3.7/site-packages/ipykernel_launcher.py:8: SettingWithCopyWarning: \n",
      "A value is trying to be set on a copy of a slice from a DataFrame.\n",
      "Try using .loc[row_indexer,col_indexer] = value instead\n",
      "\n",
      "See the caveats in the documentation: https://pandas.pydata.org/pandas-docs/stable/user_guide/indexing.html#returning-a-view-versus-a-copy\n",
      "  \n"
     ]
    }
   ],
   "source": [
    "def join_strings(x):\n",
    "    return \", \".join(x)\n",
    "\n",
    "def str_lower(x):\n",
    "    return x.lower()\n",
    "\n",
    "df['crew_jobs'] = df['crew_jobs'].apply(join_strings)\n",
    "df['crew_jobs'] = df['crew_jobs'].apply(str_lower)"
   ]
  },
  {
   "cell_type": "code",
   "execution_count": 22,
   "metadata": {
    "execution": {
     "iopub.execute_input": "2020-12-13T00:41:45.080180Z",
     "iopub.status.busy": "2020-12-13T00:41:45.079530Z",
     "iopub.status.idle": "2020-12-13T00:41:45.084961Z",
     "shell.execute_reply": "2020-12-13T00:41:45.085561Z"
    },
    "papermill": {
     "duration": 0.04483,
     "end_time": "2020-12-13T00:41:45.085690",
     "exception": false,
     "start_time": "2020-12-13T00:41:45.040860",
     "status": "completed"
    },
    "tags": []
   },
   "outputs": [
    {
     "data": {
      "text/plain": [
       "0.0    3460\n",
       "1.0     193\n",
       "Name: labels, dtype: int64"
      ]
     },
     "execution_count": 22,
     "metadata": {},
     "output_type": "execute_result"
    }
   ],
   "source": [
    "df['labels'].value_counts()"
   ]
  },
  {
   "cell_type": "markdown",
   "metadata": {
    "papermill": {
     "duration": 0.03497,
     "end_time": "2020-12-13T00:41:45.155571",
     "exception": false,
     "start_time": "2020-12-13T00:41:45.120601",
     "status": "completed"
    },
    "tags": []
   },
   "source": [
    "### Model to classify Movie \n",
    "\n",
    "Classifying a movie as animated or not based on the crew job titles (using the data prepared above)"
   ]
  },
  {
   "cell_type": "code",
   "execution_count": 23,
   "metadata": {
    "execution": {
     "iopub.execute_input": "2020-12-13T00:41:45.229880Z",
     "iopub.status.busy": "2020-12-13T00:41:45.229287Z",
     "iopub.status.idle": "2020-12-13T00:41:45.233147Z",
     "shell.execute_reply": "2020-12-13T00:41:45.233672Z"
    },
    "papermill": {
     "duration": 0.042919,
     "end_time": "2020-12-13T00:41:45.233801",
     "exception": false,
     "start_time": "2020-12-13T00:41:45.190882",
     "status": "completed"
    },
    "tags": []
   },
   "outputs": [],
   "source": [
    "X1 = df['crew_jobs']\n",
    "Y1 = df['labels']"
   ]
  },
  {
   "cell_type": "code",
   "execution_count": 24,
   "metadata": {
    "execution": {
     "iopub.execute_input": "2020-12-13T00:41:45.307500Z",
     "iopub.status.busy": "2020-12-13T00:41:45.306814Z",
     "iopub.status.idle": "2020-12-13T00:41:45.314182Z",
     "shell.execute_reply": "2020-12-13T00:41:45.313682Z"
    },
    "papermill": {
     "duration": 0.045222,
     "end_time": "2020-12-13T00:41:45.314303",
     "exception": false,
     "start_time": "2020-12-13T00:41:45.269081",
     "status": "completed"
    },
    "tags": []
   },
   "outputs": [],
   "source": [
    "from sklearn.model_selection import train_test_split\n",
    "X_train1, X_test1, y_train1, y_test1 = train_test_split(X1, Y1, test_size=0.20, random_state=53)"
   ]
  },
  {
   "cell_type": "code",
   "execution_count": 25,
   "metadata": {
    "execution": {
     "iopub.execute_input": "2020-12-13T00:41:45.395044Z",
     "iopub.status.busy": "2020-12-13T00:41:45.394401Z",
     "iopub.status.idle": "2020-12-13T00:41:45.517358Z",
     "shell.execute_reply": "2020-12-13T00:41:45.516600Z"
    },
    "papermill": {
     "duration": 0.167773,
     "end_time": "2020-12-13T00:41:45.517475",
     "exception": false,
     "start_time": "2020-12-13T00:41:45.349702",
     "status": "completed"
    },
    "tags": []
   },
   "outputs": [],
   "source": [
    "from sklearn import metrics\n",
    "from sklearn.metrics import accuracy_score, recall_score\n",
    "import seaborn as sns\n",
    "import matplotlib.pyplot as plt \n",
    "\n",
    "def score_output(y_test, y_pred):\n",
    "    \n",
    "    cm = metrics.confusion_matrix(y_test, y_pred)\n",
    "    clf_report = metrics.classification_report(y_test, y_pred)\n",
    "    print(cm)\n",
    "    print(clf_report)\n",
    "    accuracy = accuracy_score(y_test, y_pred)\n",
    "    print('The Accuracy on The Test Set is: %s' % accuracy)\n",
    "\n",
    "    ax= plt.subplot()\n",
    "    sns.heatmap(cm, annot=True, ax = ax, fmt='d', cmap = 'inferno'); #annot=True to annotate cells\n",
    "\n",
    "    # labels, title and ticks\n",
    "    ax.set_xlabel('Predicted labels');ax.set_ylabel('True labels'); \n",
    "    ax.set_title('Confusion Matrix'); \n",
    "    ax.xaxis.set_ticklabels(['Non-Animated', 'Animated']); ax.yaxis.set_ticklabels(['Non-Animated', 'Animated']);"
   ]
  },
  {
   "cell_type": "code",
   "execution_count": 26,
   "metadata": {
    "execution": {
     "iopub.execute_input": "2020-12-13T00:41:45.600293Z",
     "iopub.status.busy": "2020-12-13T00:41:45.599488Z",
     "iopub.status.idle": "2020-12-13T00:41:47.630865Z",
     "shell.execute_reply": "2020-12-13T00:41:47.630179Z"
    },
    "papermill": {
     "duration": 2.071593,
     "end_time": "2020-12-13T00:41:47.630975",
     "exception": false,
     "start_time": "2020-12-13T00:41:45.559382",
     "status": "completed"
    },
    "tags": []
   },
   "outputs": [],
   "source": [
    "import spacy\n",
    "nlp = spacy.load('en_core_web_sm')"
   ]
  },
  {
   "cell_type": "code",
   "execution_count": 27,
   "metadata": {
    "execution": {
     "iopub.execute_input": "2020-12-13T00:41:47.709205Z",
     "iopub.status.busy": "2020-12-13T00:41:47.708593Z",
     "iopub.status.idle": "2020-12-13T00:41:47.803670Z",
     "shell.execute_reply": "2020-12-13T00:41:47.804172Z"
    },
    "papermill": {
     "duration": 0.13697,
     "end_time": "2020-12-13T00:41:47.804326",
     "exception": false,
     "start_time": "2020-12-13T00:41:47.667356",
     "status": "completed"
    },
    "tags": []
   },
   "outputs": [],
   "source": [
    "from spacy.lang.en import STOP_WORDS\n",
    "stop_words_str = \" \".join(STOP_WORDS)\n",
    "stop_words_lemma = set(word.lemma_ for word in nlp(stop_words_str))\n",
    "\n",
    "additional_words = ['editor', 'director', 'producer', 'writer', 'assistant', 'sound']\n",
    "\n",
    "for word in additional_words:\n",
    "    stop_words_lemma = stop_words_lemma.union({word})"
   ]
  },
  {
   "cell_type": "code",
   "execution_count": 28,
   "metadata": {
    "execution": {
     "iopub.execute_input": "2020-12-13T00:41:47.882607Z",
     "iopub.status.busy": "2020-12-13T00:41:47.881909Z",
     "iopub.status.idle": "2020-12-13T00:41:47.884535Z",
     "shell.execute_reply": "2020-12-13T00:41:47.885293Z"
    },
    "papermill": {
     "duration": 0.044865,
     "end_time": "2020-12-13T00:41:47.885436",
     "exception": false,
     "start_time": "2020-12-13T00:41:47.840571",
     "status": "completed"
    },
    "tags": []
   },
   "outputs": [],
   "source": [
    "def lemmatizer(text):\n",
    "     return [word.lemma_ for word in nlp(text)]"
   ]
  },
  {
   "cell_type": "markdown",
   "metadata": {
    "papermill": {
     "duration": 0.036315,
     "end_time": "2020-12-13T00:41:47.958368",
     "exception": false,
     "start_time": "2020-12-13T00:41:47.922053",
     "status": "completed"
    },
    "tags": []
   },
   "source": [
    "**Without Stop Words**"
   ]
  },
  {
   "cell_type": "code",
   "execution_count": 29,
   "metadata": {
    "execution": {
     "iopub.execute_input": "2020-12-13T00:41:48.039036Z",
     "iopub.status.busy": "2020-12-13T00:41:48.038191Z",
     "iopub.status.idle": "2020-12-13T00:41:49.399691Z",
     "shell.execute_reply": "2020-12-13T00:41:49.399119Z"
    },
    "papermill": {
     "duration": 1.40529,
     "end_time": "2020-12-13T00:41:49.399808",
     "exception": false,
     "start_time": "2020-12-13T00:41:47.994518",
     "status": "completed"
    },
    "tags": []
   },
   "outputs": [
    {
     "name": "stdout",
     "output_type": "stream",
     "text": [
      "Without Stop Words\n",
      "Training accuracy: 0.9873374401095141\n",
      "[[699   1]\n",
      " [  8  23]]\n",
      "              precision    recall  f1-score   support\n",
      "\n",
      "         0.0       0.99      1.00      0.99       700\n",
      "         1.0       0.96      0.74      0.84        31\n",
      "\n",
      "    accuracy                           0.99       731\n",
      "   macro avg       0.97      0.87      0.91       731\n",
      "weighted avg       0.99      0.99      0.99       731\n",
      "\n",
      "The Accuracy on The Test Set is: 0.987688098495212\n"
     ]
    },
    {
     "data": {
      "image/png": "[encoded data removed]",
      "text/plain": [
       "<Figure size 432x288 with 2 Axes>"
      ]
     },
     "metadata": {
      "needs_background": "light"
     },
     "output_type": "display_data"
    }
   ],
   "source": [
    "from sklearn.feature_extraction.text import TfidfVectorizer,CountVectorizer,TfidfTransformer\n",
    "from sklearn.svm import SVC\n",
    "from sklearn.pipeline import Pipeline\n",
    "\n",
    "bow = TfidfVectorizer(ngram_range = (1,1))\n",
    "\n",
    "pipe = Pipeline([('bag_of_words', bow),('classifier', SVC())])\n",
    "pipe.fit(X_train1,y_train1)\n",
    "\n",
    "print(\"Without Stop Words\")\n",
    "print('Training accuracy: {}'.format(pipe.score(X_train1,y_train1)))\n",
    "y_pred = pipe.predict(X_test1)\n",
    "score_output(y_test1, y_pred)"
   ]
  },
  {
   "cell_type": "markdown",
   "metadata": {
    "papermill": {
     "duration": 0.037792,
     "end_time": "2020-12-13T00:41:49.475818",
     "exception": false,
     "start_time": "2020-12-13T00:41:49.438026",
     "status": "completed"
    },
    "tags": []
   },
   "source": [
    "**With Stop Words**"
   ]
  },
  {
   "cell_type": "code",
   "execution_count": 30,
   "metadata": {
    "execution": {
     "iopub.execute_input": "2020-12-13T00:41:49.559499Z",
     "iopub.status.busy": "2020-12-13T00:41:49.558683Z",
     "iopub.status.idle": "2020-12-13T00:41:50.657470Z",
     "shell.execute_reply": "2020-12-13T00:41:50.656797Z"
    },
    "papermill": {
     "duration": 1.144283,
     "end_time": "2020-12-13T00:41:50.657583",
     "exception": false,
     "start_time": "2020-12-13T00:41:49.513300",
     "status": "completed"
    },
    "tags": []
   },
   "outputs": [
    {
     "name": "stderr",
     "output_type": "stream",
     "text": [
      "/opt/conda/lib/python3.7/site-packages/sklearn/feature_extraction/text.py:386: UserWarning: Your stop_words may be inconsistent with your preprocessing. Tokenizing the stop words generated tokens ['pron'] not in stop_words.\n",
      "  'stop_words.' % sorted(inconsistent))\n"
     ]
    },
    {
     "name": "stdout",
     "output_type": "stream",
     "text": [
      "With Stop Words\n",
      "Training accuracy: 0.9876796714579056\n",
      "[[699   1]\n",
      " [  9  22]]\n",
      "              precision    recall  f1-score   support\n",
      "\n",
      "         0.0       0.99      1.00      0.99       700\n",
      "         1.0       0.96      0.71      0.81        31\n",
      "\n",
      "    accuracy                           0.99       731\n",
      "   macro avg       0.97      0.85      0.90       731\n",
      "weighted avg       0.99      0.99      0.99       731\n",
      "\n",
      "The Accuracy on The Test Set is: 0.9863201094391245\n"
     ]
    },
    {
     "data": {
      "image/png": "[encoded data removed]",
      "text/plain": [
       "<Figure size 432x288 with 2 Axes>"
      ]
     },
     "metadata": {
      "needs_background": "light"
     },
     "output_type": "display_data"
    }
   ],
   "source": [
    "bow = TfidfVectorizer(ngram_range = (1,1), stop_words = stop_words_lemma)\n",
    "\n",
    "pipe2 = Pipeline([('bag_of_words', bow),('classifier', SVC())])\n",
    "pipe2.fit(X_train1,y_train1)\n",
    "\n",
    "\n",
    "print(\"With Stop Words\")\n",
    "print('Training accuracy: {}'.format(pipe2.score(X_train1,y_train1)))\n",
    "y_pred2 = pipe2.predict(X_test1)\n",
    "score_output(y_test1, y_pred2)"
   ]
  },
  {
   "cell_type": "markdown",
   "metadata": {
    "papermill": {
     "duration": 0.040055,
     "end_time": "2020-12-13T00:41:50.737817",
     "exception": false,
     "start_time": "2020-12-13T00:41:50.697762",
     "status": "completed"
    },
    "tags": []
   },
   "source": [
    "It is evident from above results, SVM without stop words yields better resultd in terms of Recall, F1 score and Accuracy (Taking into count class imbalance and overfitting issues)\n",
    "\n",
    "Thus, we can continue with SVM without stop words"
   ]
  },
  {
   "cell_type": "code",
   "execution_count": null,
   "metadata": {
    "papermill": {
     "duration": 0.039624,
     "end_time": "2020-12-13T00:41:50.817289",
     "exception": false,
     "start_time": "2020-12-13T00:41:50.777665",
     "status": "completed"
    },
    "tags": []
   },
   "outputs": [],
   "source": []
  }
 ],
 "metadata": {
  "kernelspec": {
   "display_name": "Python 3",
   "language": "python",
   "name": "python3"
  },
  "language_info": {
   "codemirror_mode": {
    "name": "ipython",
    "version": 3
   },
   "file_extension": ".py",
   "mimetype": "text/x-python",
   "name": "python",
   "nbconvert_exporter": "python",
   "pygments_lexer": "ipython3",
   "version": "3.7.6"
  },
  "papermill": {
   "duration": 25.757921,
   "end_time": "2020-12-13T00:41:50.965652",
   "environment_variables": {},
   "exception": null,
   "input_path": "__notebook__.ipynb",
   "output_path": "__notebook__.ipynb",
   "parameters": {},
   "start_time": "2020-12-13T00:41:25.207731",
   "version": "2.1.0"
  }
 },
 "nbformat": 4,
 "nbformat_minor": 4
}
