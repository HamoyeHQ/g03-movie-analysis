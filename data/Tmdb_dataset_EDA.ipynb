{
  "nbformat": 4,
  "nbformat_minor": 0,
  "metadata": {
    "colab": {
      "name": "Tmdb_dataset_EDA.ipynb",
      "provenance": [],
      "authorship_tag": "ABX9TyPaxdjH9tSJyKNzYYHqI63Y"
    },
    "kernelspec": {
      "name": "python3",
      "display_name": "Python 3"
    }
  },
  "cells": [
    {
      "cell_type": "code",
      "metadata": {
        "colab": {
          "resources": {
            "http://localhost:8080/nbextensions/google.colab/files.js": {
              "data": "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",
              "ok": true,
              "headers": [
                [
                  "content-type",
                  "application/javascript"
                ]
              ],
              "status": 200,
              "status_text": ""
            }
          },
          "base_uri": "https://localhost:8080/",
          "height": 90
        },
        "id": "19OcqxkNY-xl",
        "outputId": "747f0474-1513-4433-9311-3371715d8a1c"
      },
      "source": [
        "#from google.colab import files\n",
        "#files.upload()"
      ],
      "execution_count": 1,
      "outputs": [
        {
          "output_type": "display_data",
          "data": {
            "text/html": [
              "\n",
              "     <input type=\"file\" id=\"files-8b09ec84-f6ef-4266-9bdd-b6544c480737\" name=\"files[]\" multiple disabled\n",
              "        style=\"border:none\" />\n",
              "     <output id=\"result-8b09ec84-f6ef-4266-9bdd-b6544c480737\">\n",
              "      Upload widget is only available when the cell has been executed in the\n",
              "      current browser session. Please rerun this cell to enable.\n",
              "      </output>\n",
              "      <script src=\"/nbextensions/google.colab/files.js\"></script> "
            ],
            "text/plain": [
              "<IPython.core.display.HTML object>"
            ]
          },
          "metadata": {
            "tags": []
          }
        },
        {
          "output_type": "stream",
          "text": [
            "Saving kaggle.json to kaggle.json\n"
          ],
          "name": "stdout"
        },
        {
          "output_type": "execute_result",
          "data": {
            "text/plain": [
              "{'kaggle.json': b'{\"username\":\"quadribello\",\"key\":\"107d36b09c8ce58052c74ffd53d29fd9\"}'}"
            ]
          },
          "metadata": {
            "tags": []
          },
          "execution_count": 1
        }
      ]
    },
    {
      "cell_type": "code",
      "metadata": {
        "id": "bXsczBWkZE83"
      },
      "source": [
        "!mkdir -p ~/.kaggle\n",
        "!cp kaggle.json ~/.kaggle/\n",
        "!chmod 600 ~/.kaggle/kaggle.json"
      ],
      "execution_count": 2,
      "outputs": []
    },
    {
      "cell_type": "code",
      "metadata": {
        "colab": {
          "base_uri": "https://localhost:8080/"
        },
        "id": "omtfTjqGZKYT",
        "outputId": "aa85f211-3300-4236-8e2d-22d896cce23e"
      },
      "source": [
        "!kaggle datasets download -d tmdb/tmdb-movie-metadata"
      ],
      "execution_count": 3,
      "outputs": [
        {
          "output_type": "stream",
          "text": [
            "Downloading tmdb-movie-metadata.zip to /content\n",
            " 56% 5.00M/8.89M [00:02<00:01, 2.31MB/s]\n",
            "100% 8.89M/8.89M [00:02<00:00, 4.02MB/s]\n"
          ],
          "name": "stdout"
        }
      ]
    },
    {
      "cell_type": "code",
      "metadata": {
        "id": "xrbySh1qZP8j"
      },
      "source": [
        "import zipfile\n",
        "zip_ref = zipfile.ZipFile('tmdb-movie-metadata.zip','r')\n",
        "zip_ref.extractall('files')\n",
        "zip_ref.close()"
      ],
      "execution_count": 4,
      "outputs": []
    },
    {
      "cell_type": "code",
      "metadata": {
        "id": "d1Bd_6L3mvhC"
      },
      "source": [
        "import json\n",
        "import pandas as pd \n",
        "import numpy as np \n",
        "import ast\n",
        "import seaborn as sns\n",
        "import matplotlib.pyplot as plt\n",
        "from wordcloud import WordCloud\n",
        "\n"
      ],
      "execution_count": 5,
      "outputs": []
    },
    {
      "cell_type": "markdown",
      "metadata": {
        "id": "YIdm8ejLC3ak"
      },
      "source": [
        "## Loading the data\n",
        "The TMDb data includes several nested json fields, so loading the data requires an extra step beyond reading the csv files."
      ]
    },
    {
      "cell_type": "code",
      "metadata": {
        "id": "HpG8qjs5C51X"
      },
      "source": [
        "def load_tmdb_movies(path):\n",
        "    df = pd.read_csv(path)\n",
        "    df['release_date'] = pd.to_datetime(df['release_date']).apply(lambda x: x.date())\n",
        "    json_columns = ['genres', 'keywords', 'production_countries', 'production_companies', 'spoken_languages']\n",
        "    for column in json_columns:\n",
        "        df[column] = df[column].apply(json.loads)\n",
        "    return df\n",
        "\n",
        "\n",
        "def load_tmdb_credits(path):\n",
        "    df = pd.read_csv(path)\n",
        "    json_columns = ['cast', 'crew']\n",
        "    for column in json_columns:\n",
        "        df[column] = df[column].apply(json.loads)\n",
        "    return df"
      ],
      "execution_count": 6,
      "outputs": []
    },
    {
      "cell_type": "code",
      "metadata": {
        "id": "E4pF_HXkDL0p"
      },
      "source": [
        "movies = load_tmdb_movies('/content/files/tmdb_5000_movies.csv')\n",
        "credits = load_tmdb_credits('/content/files/tmdb_5000_credits.csv')"
      ],
      "execution_count": 7,
      "outputs": []
    },
    {
      "cell_type": "code",
      "metadata": {
        "colab": {
          "base_uri": "https://localhost:8080/"
        },
        "id": "GQpYN7hcDTIz",
        "outputId": "43770f3a-9217-47bc-a635-32228d8810ad"
      },
      "source": [
        "print(movies.shape)\n",
        "print(credits.shape)"
      ],
      "execution_count": 8,
      "outputs": [
        {
          "output_type": "stream",
          "text": [
            "(4803, 20)\n",
            "(4803, 4)\n"
          ],
          "name": "stdout"
        }
      ]
    },
    {
      "cell_type": "code",
      "metadata": {
        "colab": {
          "base_uri": "https://localhost:8080/",
          "height": 305
        },
        "id": "zRtCJSI5Delv",
        "outputId": "566f2994-1711-482f-fa5b-9576ee786291"
      },
      "source": [
        "movies.head(2)"
      ],
      "execution_count": 9,
      "outputs": [
        {
          "output_type": "execute_result",
          "data": {
            "text/html": [
              "<div>\n",
              "<style scoped>\n",
              "    .dataframe tbody tr th:only-of-type {\n",
              "        vertical-align: middle;\n",
              "    }\n",
              "\n",
              "    .dataframe tbody tr th {\n",
              "        vertical-align: top;\n",
              "    }\n",
              "\n",
              "    .dataframe thead th {\n",
              "        text-align: right;\n",
              "    }\n",
              "</style>\n",
              "<table border=\"1\" class=\"dataframe\">\n",
              "  <thead>\n",
              "    <tr style=\"text-align: right;\">\n",
              "      <th></th>\n",
              "      <th>budget</th>\n",
              "      <th>genres</th>\n",
              "      <th>homepage</th>\n",
              "      <th>id</th>\n",
              "      <th>keywords</th>\n",
              "      <th>original_language</th>\n",
              "      <th>original_title</th>\n",
              "      <th>overview</th>\n",
              "      <th>popularity</th>\n",
              "      <th>production_companies</th>\n",
              "      <th>production_countries</th>\n",
              "      <th>release_date</th>\n",
              "      <th>revenue</th>\n",
              "      <th>runtime</th>\n",
              "      <th>spoken_languages</th>\n",
              "      <th>status</th>\n",
              "      <th>tagline</th>\n",
              "      <th>title</th>\n",
              "      <th>vote_average</th>\n",
              "      <th>vote_count</th>\n",
              "    </tr>\n",
              "  </thead>\n",
              "  <tbody>\n",
              "    <tr>\n",
              "      <th>0</th>\n",
              "      <td>237000000</td>\n",
              "      <td>[{'id': 28, 'name': 'Action'}, {'id': 12, 'nam...</td>\n",
              "      <td>http://www.avatarmovie.com/</td>\n",
              "      <td>19995</td>\n",
              "      <td>[{'id': 1463, 'name': 'culture clash'}, {'id':...</td>\n",
              "      <td>en</td>\n",
              "      <td>Avatar</td>\n",
              "      <td>In the 22nd century, a paraplegic Marine is di...</td>\n",
              "      <td>150.437577</td>\n",
              "      <td>[{'name': 'Ingenious Film Partners', 'id': 289...</td>\n",
              "      <td>[{'iso_3166_1': 'US', 'name': 'United States o...</td>\n",
              "      <td>2009-12-10</td>\n",
              "      <td>2787965087</td>\n",
              "      <td>162.0</td>\n",
              "      <td>[{'iso_639_1': 'en', 'name': 'English'}, {'iso...</td>\n",
              "      <td>Released</td>\n",
              "      <td>Enter the World of Pandora.</td>\n",
              "      <td>Avatar</td>\n",
              "      <td>7.2</td>\n",
              "      <td>11800</td>\n",
              "    </tr>\n",
              "    <tr>\n",
              "      <th>1</th>\n",
              "      <td>300000000</td>\n",
              "      <td>[{'id': 12, 'name': 'Adventure'}, {'id': 14, '...</td>\n",
              "      <td>http://disney.go.com/disneypictures/pirates/</td>\n",
              "      <td>285</td>\n",
              "      <td>[{'id': 270, 'name': 'ocean'}, {'id': 726, 'na...</td>\n",
              "      <td>en</td>\n",
              "      <td>Pirates of the Caribbean: At World's End</td>\n",
              "      <td>Captain Barbossa, long believed to be dead, ha...</td>\n",
              "      <td>139.082615</td>\n",
              "      <td>[{'name': 'Walt Disney Pictures', 'id': 2}, {'...</td>\n",
              "      <td>[{'iso_3166_1': 'US', 'name': 'United States o...</td>\n",
              "      <td>2007-05-19</td>\n",
              "      <td>961000000</td>\n",
              "      <td>169.0</td>\n",
              "      <td>[{'iso_639_1': 'en', 'name': 'English'}]</td>\n",
              "      <td>Released</td>\n",
              "      <td>At the end of the world, the adventure begins.</td>\n",
              "      <td>Pirates of the Caribbean: At World's End</td>\n",
              "      <td>6.9</td>\n",
              "      <td>4500</td>\n",
              "    </tr>\n",
              "  </tbody>\n",
              "</table>\n",
              "</div>"
            ],
            "text/plain": [
              "      budget  ... vote_count\n",
              "0  237000000  ...      11800\n",
              "1  300000000  ...       4500\n",
              "\n",
              "[2 rows x 20 columns]"
            ]
          },
          "metadata": {
            "tags": []
          },
          "execution_count": 9
        }
      ]
    },
    {
      "cell_type": "code",
      "metadata": {
        "colab": {
          "base_uri": "https://localhost:8080/",
          "height": 103
        },
        "id": "KowTZhdewXYF",
        "outputId": "971ddcc1-ff42-4d83-9197-2b6efa482cc1"
      },
      "source": [
        "credits.head(2)"
      ],
      "execution_count": 10,
      "outputs": [
        {
          "output_type": "execute_result",
          "data": {
            "text/html": [
              "<div>\n",
              "<style scoped>\n",
              "    .dataframe tbody tr th:only-of-type {\n",
              "        vertical-align: middle;\n",
              "    }\n",
              "\n",
              "    .dataframe tbody tr th {\n",
              "        vertical-align: top;\n",
              "    }\n",
              "\n",
              "    .dataframe thead th {\n",
              "        text-align: right;\n",
              "    }\n",
              "</style>\n",
              "<table border=\"1\" class=\"dataframe\">\n",
              "  <thead>\n",
              "    <tr style=\"text-align: right;\">\n",
              "      <th></th>\n",
              "      <th>movie_id</th>\n",
              "      <th>title</th>\n",
              "      <th>cast</th>\n",
              "      <th>crew</th>\n",
              "    </tr>\n",
              "  </thead>\n",
              "  <tbody>\n",
              "    <tr>\n",
              "      <th>0</th>\n",
              "      <td>19995</td>\n",
              "      <td>Avatar</td>\n",
              "      <td>[{'cast_id': 242, 'character': 'Jake Sully', '...</td>\n",
              "      <td>[{'credit_id': '52fe48009251416c750aca23', 'de...</td>\n",
              "    </tr>\n",
              "    <tr>\n",
              "      <th>1</th>\n",
              "      <td>285</td>\n",
              "      <td>Pirates of the Caribbean: At World's End</td>\n",
              "      <td>[{'cast_id': 4, 'character': 'Captain Jack Spa...</td>\n",
              "      <td>[{'credit_id': '52fe4232c3a36847f800b579', 'de...</td>\n",
              "    </tr>\n",
              "  </tbody>\n",
              "</table>\n",
              "</div>"
            ],
            "text/plain": [
              "   movie_id  ...                                               crew\n",
              "0     19995  ...  [{'credit_id': '52fe48009251416c750aca23', 'de...\n",
              "1       285  ...  [{'credit_id': '52fe4232c3a36847f800b579', 'de...\n",
              "\n",
              "[2 rows x 4 columns]"
            ]
          },
          "metadata": {
            "tags": []
          },
          "execution_count": 10
        }
      ]
    },
    {
      "cell_type": "markdown",
      "metadata": {
        "id": "YEGXB6r9_ase"
      },
      "source": [
        "##Working with the json fields\n",
        "\n",
        "As we've seen, almost all of the data in the credits file is actually nested json. Since we've loaded the json fields properly, theose fields can be accessed just like any other list or dictionary.\n",
        "\n",
        "The cast field contains the following keys:"
      ]
    },
    {
      "cell_type": "code",
      "metadata": {
        "colab": {
          "base_uri": "https://localhost:8080/"
        },
        "id": "EHA5gHKY_SPq",
        "outputId": "473b0349-73b0-4e58-961e-1b9bf293e4e5"
      },
      "source": [
        "print(sorted(credits.cast.iloc[0][0].keys()))"
      ],
      "execution_count": 11,
      "outputs": [
        {
          "output_type": "stream",
          "text": [
            "['cast_id', 'character', 'credit_id', 'gender', 'id', 'name', 'order']\n"
          ],
          "name": "stdout"
        }
      ]
    },
    {
      "cell_type": "markdown",
      "metadata": {
        "id": "dNnciJcLAAGD"
      },
      "source": [
        "The crew field contains the following keys:"
      ]
    },
    {
      "cell_type": "code",
      "metadata": {
        "colab": {
          "base_uri": "https://localhost:8080/"
        },
        "id": "7KZc3_jx_3mn",
        "outputId": "4d2f48cc-9a9f-4827-bc49-4f5f4a1dad4a"
      },
      "source": [
        "print(sorted(credits.crew.iloc[0][0].keys()))"
      ],
      "execution_count": 12,
      "outputs": [
        {
          "output_type": "stream",
          "text": [
            "['credit_id', 'department', 'gender', 'id', 'job', 'name']\n"
          ],
          "name": "stdout"
        }
      ]
    },
    {
      "cell_type": "markdown",
      "metadata": {
        "id": "kx3TFzkvAmax"
      },
      "source": [
        "The keywords field contains the following keys"
      ]
    },
    {
      "cell_type": "code",
      "metadata": {
        "colab": {
          "base_uri": "https://localhost:8080/"
        },
        "id": "N9MXULlwABoq",
        "outputId": "42d561ad-475c-4bc7-c4c8-5c639284b4c3"
      },
      "source": [
        "print(sorted(movies.keywords.iloc[0][0].keys()))"
      ],
      "execution_count": 13,
      "outputs": [
        {
          "output_type": "stream",
          "text": [
            "['id', 'name']\n"
          ],
          "name": "stdout"
        }
      ]
    },
    {
      "cell_type": "markdown",
      "metadata": {
        "id": "dtEaa6BoAuu_"
      },
      "source": [
        "The genres field contains the following keys"
      ]
    },
    {
      "cell_type": "code",
      "metadata": {
        "colab": {
          "base_uri": "https://localhost:8080/"
        },
        "id": "2Wl1ZDcDAwM-",
        "outputId": "71a26a58-c988-4ad1-d492-7a2fc8e75fe4"
      },
      "source": [
        "print(sorted(movies.genres.iloc[0][0].keys()))"
      ],
      "execution_count": 14,
      "outputs": [
        {
          "output_type": "stream",
          "text": [
            "['id', 'name']\n"
          ],
          "name": "stdout"
        }
      ]
    },
    {
      "cell_type": "markdown",
      "metadata": {
        "id": "eHSWpUATBdZR"
      },
      "source": [
        "The  production_companies contains the following keys"
      ]
    },
    {
      "cell_type": "code",
      "metadata": {
        "colab": {
          "base_uri": "https://localhost:8080/"
        },
        "id": "MSU5bZzIBcx_",
        "outputId": "aaf7edc6-eea5-4328-f24c-c7d5aba6cdb3"
      },
      "source": [
        "print(sorted(movies.production_companies.iloc[0][0].keys()))"
      ],
      "execution_count": 15,
      "outputs": [
        {
          "output_type": "stream",
          "text": [
            "['id', 'name']\n"
          ],
          "name": "stdout"
        }
      ]
    },
    {
      "cell_type": "markdown",
      "metadata": {
        "id": "AJ1zC97pBqHV"
      },
      "source": [
        "The production_countries contains the following keys"
      ]
    },
    {
      "cell_type": "code",
      "metadata": {
        "colab": {
          "base_uri": "https://localhost:8080/"
        },
        "id": "HHuIPJksBpoy",
        "outputId": "7243e4c7-9bf3-41d8-ec75-290ca0bfdbbc"
      },
      "source": [
        "print(sorted(movies.production_countries.iloc[0][0].keys()))"
      ],
      "execution_count": 16,
      "outputs": [
        {
          "output_type": "stream",
          "text": [
            "['iso_3166_1', 'name']\n"
          ],
          "name": "stdout"
        }
      ]
    },
    {
      "cell_type": "markdown",
      "metadata": {
        "id": "leGoSJ_lB1bt"
      },
      "source": [
        "The spoken_languages contains the following keys"
      ]
    },
    {
      "cell_type": "code",
      "metadata": {
        "colab": {
          "base_uri": "https://localhost:8080/"
        },
        "id": "LbbvI3leB-rJ",
        "outputId": "182b3b2a-bf35-4814-ac01-e987edd0863a"
      },
      "source": [
        "print(sorted(movies.spoken_languages.iloc[0][0].keys()))"
      ],
      "execution_count": 17,
      "outputs": [
        {
          "output_type": "stream",
          "text": [
            "['iso_639_1', 'name']\n"
          ],
          "name": "stdout"
        }
      ]
    },
    {
      "cell_type": "markdown",
      "metadata": {
        "id": "co9qhgyKCM1C"
      },
      "source": [
        "the cast and crew lists are already sorted by the order of appeareance in the film's credits. For example, we can get the names of the first five actors in Avatar with"
      ]
    },
    {
      "cell_type": "code",
      "metadata": {
        "colab": {
          "base_uri": "https://localhost:8080/"
        },
        "id": "dqHnwtuZCREK",
        "outputId": "d91f6a11-4c0a-4ece-8eb7-c1265664d866"
      },
      "source": [
        "[actor['name'] for actor in credits['cast'].iloc[0][:5]]"
      ],
      "execution_count": 18,
      "outputs": [
        {
          "output_type": "execute_result",
          "data": {
            "text/plain": [
              "['Sam Worthington',\n",
              " 'Zoe Saldana',\n",
              " 'Sigourney Weaver',\n",
              " 'Stephen Lang',\n",
              " 'Michelle Rodriguez']"
            ]
          },
          "metadata": {
            "tags": []
          },
          "execution_count": 18
        }
      ]
    },
    {
      "cell_type": "code",
      "metadata": {
        "id": "_clKXj9xCeK4"
      },
      "source": [
        "def safe_access(container, index_values):\n",
        "    # return a missing value rather than an error upon indexing/key failure\n",
        "    result = container\n",
        "    try:\n",
        "        for idx in index_values:\n",
        "            result = result[idx]\n",
        "        return result\n",
        "    except IndexError or KeyError:\n",
        "        return pd.np.nan"
      ],
      "execution_count": 19,
      "outputs": []
    },
    {
      "cell_type": "code",
      "metadata": {
        "colab": {
          "base_uri": "https://localhost:8080/",
          "height": 225
        },
        "id": "YRBzr_TkCxOX",
        "outputId": "fed96a20-5559-4a3c-c54c-b933527d87fb"
      },
      "source": [
        "credits['gender_of_lead'] = credits.cast.apply(lambda x: safe_access(x, [0, 'gender']))\n",
        "credits['lead'] = credits.cast.apply(lambda x: safe_access(x, [0, 'name']))\n",
        "credits.head()"
      ],
      "execution_count": 20,
      "outputs": [
        {
          "output_type": "stream",
          "text": [
            "/usr/local/lib/python3.6/dist-packages/ipykernel_launcher.py:9: FutureWarning: The pandas.np module is deprecated and will be removed from pandas in a future version. Import numpy directly instead\n",
            "  if __name__ == '__main__':\n"
          ],
          "name": "stderr"
        },
        {
          "output_type": "execute_result",
          "data": {
            "text/html": [
              "<div>\n",
              "<style scoped>\n",
              "    .dataframe tbody tr th:only-of-type {\n",
              "        vertical-align: middle;\n",
              "    }\n",
              "\n",
              "    .dataframe tbody tr th {\n",
              "        vertical-align: top;\n",
              "    }\n",
              "\n",
              "    .dataframe thead th {\n",
              "        text-align: right;\n",
              "    }\n",
              "</style>\n",
              "<table border=\"1\" class=\"dataframe\">\n",
              "  <thead>\n",
              "    <tr style=\"text-align: right;\">\n",
              "      <th></th>\n",
              "      <th>movie_id</th>\n",
              "      <th>title</th>\n",
              "      <th>cast</th>\n",
              "      <th>crew</th>\n",
              "      <th>gender_of_lead</th>\n",
              "      <th>lead</th>\n",
              "    </tr>\n",
              "  </thead>\n",
              "  <tbody>\n",
              "    <tr>\n",
              "      <th>0</th>\n",
              "      <td>19995</td>\n",
              "      <td>Avatar</td>\n",
              "      <td>[{'cast_id': 242, 'character': 'Jake Sully', '...</td>\n",
              "      <td>[{'credit_id': '52fe48009251416c750aca23', 'de...</td>\n",
              "      <td>2.0</td>\n",
              "      <td>Sam Worthington</td>\n",
              "    </tr>\n",
              "    <tr>\n",
              "      <th>1</th>\n",
              "      <td>285</td>\n",
              "      <td>Pirates of the Caribbean: At World's End</td>\n",
              "      <td>[{'cast_id': 4, 'character': 'Captain Jack Spa...</td>\n",
              "      <td>[{'credit_id': '52fe4232c3a36847f800b579', 'de...</td>\n",
              "      <td>2.0</td>\n",
              "      <td>Johnny Depp</td>\n",
              "    </tr>\n",
              "    <tr>\n",
              "      <th>2</th>\n",
              "      <td>206647</td>\n",
              "      <td>Spectre</td>\n",
              "      <td>[{'cast_id': 1, 'character': 'James Bond', 'cr...</td>\n",
              "      <td>[{'credit_id': '54805967c3a36829b5002c41', 'de...</td>\n",
              "      <td>2.0</td>\n",
              "      <td>Daniel Craig</td>\n",
              "    </tr>\n",
              "    <tr>\n",
              "      <th>3</th>\n",
              "      <td>49026</td>\n",
              "      <td>The Dark Knight Rises</td>\n",
              "      <td>[{'cast_id': 2, 'character': 'Bruce Wayne / Ba...</td>\n",
              "      <td>[{'credit_id': '52fe4781c3a36847f81398c3', 'de...</td>\n",
              "      <td>2.0</td>\n",
              "      <td>Christian Bale</td>\n",
              "    </tr>\n",
              "    <tr>\n",
              "      <th>4</th>\n",
              "      <td>49529</td>\n",
              "      <td>John Carter</td>\n",
              "      <td>[{'cast_id': 5, 'character': 'John Carter', 'c...</td>\n",
              "      <td>[{'credit_id': '52fe479ac3a36847f813eaa3', 'de...</td>\n",
              "      <td>2.0</td>\n",
              "      <td>Taylor Kitsch</td>\n",
              "    </tr>\n",
              "  </tbody>\n",
              "</table>\n",
              "</div>"
            ],
            "text/plain": [
              "   movie_id  ...             lead\n",
              "0     19995  ...  Sam Worthington\n",
              "1       285  ...      Johnny Depp\n",
              "2    206647  ...     Daniel Craig\n",
              "3     49026  ...   Christian Bale\n",
              "4     49529  ...    Taylor Kitsch\n",
              "\n",
              "[5 rows x 6 columns]"
            ]
          },
          "metadata": {
            "tags": []
          },
          "execution_count": 20
        }
      ]
    },
    {
      "cell_type": "markdown",
      "metadata": {
        "id": "6hYZKm_gx4kE"
      },
      "source": [
        "I will merge the two dataset "
      ]
    },
    {
      "cell_type": "code",
      "metadata": {
        "id": "-zw0HSHKIxiV"
      },
      "source": [
        "credits.columns = ['id','tittle','cast','crew', 'gender_of_lead','lead']\n",
        "df= movies.merge(credits,on='id')"
      ],
      "execution_count": 21,
      "outputs": []
    },
    {
      "cell_type": "markdown",
      "metadata": {
        "id": "0sYxOCeqOdJf"
      },
      "source": [
        "Now we can create a new column for the gender. It's trinary data ({other: 0, female: 1, male: 2}), but that's the best we can do with the data on hand"
      ]
    },
    {
      "cell_type": "code",
      "metadata": {
        "colab": {
          "base_uri": "https://localhost:8080/"
        },
        "id": "JwH_sjzFOSgW",
        "outputId": "43d9d7df-35b6-49b8-f4d6-edd674347b9d"
      },
      "source": [
        "credits.gender_of_lead.value_counts()"
      ],
      "execution_count": 22,
      "outputs": [
        {
          "output_type": "execute_result",
          "data": {
            "text/plain": [
              "2.0    3329\n",
              "1.0    1167\n",
              "0.0     264\n",
              "Name: gender_of_lead, dtype: int64"
            ]
          },
          "metadata": {
            "tags": []
          },
          "execution_count": 22
        }
      ]
    },
    {
      "cell_type": "code",
      "metadata": {
        "colab": {
          "base_uri": "https://localhost:8080/",
          "height": 283
        },
        "id": "RVul5PTTL_0P",
        "outputId": "0ea6d740-2017-4abc-ffae-c9df022cf858"
      },
      "source": [
        "credits['gender_of_lead'].value_counts().plot(kind='barh')"
      ],
      "execution_count": 23,
      "outputs": [
        {
          "output_type": "execute_result",
          "data": {
            "text/plain": [
              "<matplotlib.axes._subplots.AxesSubplot at 0x7f53fe33e9b0>"
            ]
          },
          "metadata": {
            "tags": []
          },
          "execution_count": 23
        },
        {
          "output_type": "display_data",
          "data": {
            "image/png": "[encoded data removed]",
            "text/plain": [
              "<Figure size 432x288 with 1 Axes>"
            ]
          },
          "metadata": {
            "tags": [],
            "needs_background": "light"
          }
        }
      ]
    },
    {
      "cell_type": "markdown",
      "metadata": {
        "id": "w4Pen7-_PSSW"
      },
      "source": [
        "gender disparity,  Men are the lead in most of the movies\n",
        "\n"
      ]
    },
    {
      "cell_type": "code",
      "metadata": {
        "id": "xO7S_644Xx8o"
      },
      "source": [
        "credits.rename(columns={'movie_id': 'id', 'crew': 'Director'}, inplace=True)"
      ],
      "execution_count": 24,
      "outputs": []
    },
    {
      "cell_type": "code",
      "metadata": {
        "id": "BJBZ6bVKeFyI"
      },
      "source": [
        "df = pd.merge(movies, credits,on=\"id\")"
      ],
      "execution_count": 25,
      "outputs": []
    },
    {
      "cell_type": "code",
      "metadata": {
        "colab": {
          "base_uri": "https://localhost:8080/",
          "height": 305
        },
        "id": "vNghWWTLeYHs",
        "outputId": "476f502d-6553-472b-e177-df76281b9e61"
      },
      "source": [
        "df.head(2)"
      ],
      "execution_count": 26,
      "outputs": [
        {
          "output_type": "execute_result",
          "data": {
            "text/html": [
              "<div>\n",
              "<style scoped>\n",
              "    .dataframe tbody tr th:only-of-type {\n",
              "        vertical-align: middle;\n",
              "    }\n",
              "\n",
              "    .dataframe tbody tr th {\n",
              "        vertical-align: top;\n",
              "    }\n",
              "\n",
              "    .dataframe thead th {\n",
              "        text-align: right;\n",
              "    }\n",
              "</style>\n",
              "<table border=\"1\" class=\"dataframe\">\n",
              "  <thead>\n",
              "    <tr style=\"text-align: right;\">\n",
              "      <th></th>\n",
              "      <th>budget</th>\n",
              "      <th>genres</th>\n",
              "      <th>homepage</th>\n",
              "      <th>id</th>\n",
              "      <th>keywords</th>\n",
              "      <th>original_language</th>\n",
              "      <th>original_title</th>\n",
              "      <th>overview</th>\n",
              "      <th>popularity</th>\n",
              "      <th>production_companies</th>\n",
              "      <th>production_countries</th>\n",
              "      <th>release_date</th>\n",
              "      <th>revenue</th>\n",
              "      <th>runtime</th>\n",
              "      <th>spoken_languages</th>\n",
              "      <th>status</th>\n",
              "      <th>tagline</th>\n",
              "      <th>title</th>\n",
              "      <th>vote_average</th>\n",
              "      <th>vote_count</th>\n",
              "      <th>tittle</th>\n",
              "      <th>cast</th>\n",
              "      <th>Director</th>\n",
              "      <th>gender_of_lead</th>\n",
              "      <th>lead</th>\n",
              "    </tr>\n",
              "  </thead>\n",
              "  <tbody>\n",
              "    <tr>\n",
              "      <th>0</th>\n",
              "      <td>237000000</td>\n",
              "      <td>[{'id': 28, 'name': 'Action'}, {'id': 12, 'nam...</td>\n",
              "      <td>http://www.avatarmovie.com/</td>\n",
              "      <td>19995</td>\n",
              "      <td>[{'id': 1463, 'name': 'culture clash'}, {'id':...</td>\n",
              "      <td>en</td>\n",
              "      <td>Avatar</td>\n",
              "      <td>In the 22nd century, a paraplegic Marine is di...</td>\n",
              "      <td>150.437577</td>\n",
              "      <td>[{'name': 'Ingenious Film Partners', 'id': 289...</td>\n",
              "      <td>[{'iso_3166_1': 'US', 'name': 'United States o...</td>\n",
              "      <td>2009-12-10</td>\n",
              "      <td>2787965087</td>\n",
              "      <td>162.0</td>\n",
              "      <td>[{'iso_639_1': 'en', 'name': 'English'}, {'iso...</td>\n",
              "      <td>Released</td>\n",
              "      <td>Enter the World of Pandora.</td>\n",
              "      <td>Avatar</td>\n",
              "      <td>7.2</td>\n",
              "      <td>11800</td>\n",
              "      <td>Avatar</td>\n",
              "      <td>[{'cast_id': 242, 'character': 'Jake Sully', '...</td>\n",
              "      <td>[{'credit_id': '52fe48009251416c750aca23', 'de...</td>\n",
              "      <td>2.0</td>\n",
              "      <td>Sam Worthington</td>\n",
              "    </tr>\n",
              "    <tr>\n",
              "      <th>1</th>\n",
              "      <td>300000000</td>\n",
              "      <td>[{'id': 12, 'name': 'Adventure'}, {'id': 14, '...</td>\n",
              "      <td>http://disney.go.com/disneypictures/pirates/</td>\n",
              "      <td>285</td>\n",
              "      <td>[{'id': 270, 'name': 'ocean'}, {'id': 726, 'na...</td>\n",
              "      <td>en</td>\n",
              "      <td>Pirates of the Caribbean: At World's End</td>\n",
              "      <td>Captain Barbossa, long believed to be dead, ha...</td>\n",
              "      <td>139.082615</td>\n",
              "      <td>[{'name': 'Walt Disney Pictures', 'id': 2}, {'...</td>\n",
              "      <td>[{'iso_3166_1': 'US', 'name': 'United States o...</td>\n",
              "      <td>2007-05-19</td>\n",
              "      <td>961000000</td>\n",
              "      <td>169.0</td>\n",
              "      <td>[{'iso_639_1': 'en', 'name': 'English'}]</td>\n",
              "      <td>Released</td>\n",
              "      <td>At the end of the world, the adventure begins.</td>\n",
              "      <td>Pirates of the Caribbean: At World's End</td>\n",
              "      <td>6.9</td>\n",
              "      <td>4500</td>\n",
              "      <td>Pirates of the Caribbean: At World's End</td>\n",
              "      <td>[{'cast_id': 4, 'character': 'Captain Jack Spa...</td>\n",
              "      <td>[{'credit_id': '52fe4232c3a36847f800b579', 'de...</td>\n",
              "      <td>2.0</td>\n",
              "      <td>Johnny Depp</td>\n",
              "    </tr>\n",
              "  </tbody>\n",
              "</table>\n",
              "</div>"
            ],
            "text/plain": [
              "      budget  ...             lead\n",
              "0  237000000  ...  Sam Worthington\n",
              "1  300000000  ...      Johnny Depp\n",
              "\n",
              "[2 rows x 25 columns]"
            ]
          },
          "metadata": {
            "tags": []
          },
          "execution_count": 26
        }
      ]
    },
    {
      "cell_type": "code",
      "metadata": {
        "colab": {
          "base_uri": "https://localhost:8080/",
          "height": 218
        },
        "id": "Vgmu77w5OfBw",
        "outputId": "5a7443ed-244b-46f4-bb40-fcf3904ba928"
      },
      "source": [
        "# info on variable types and filling factor\n",
        "tab_info=pd.DataFrame(df.dtypes).T.rename(index={0:'column type'})\n",
        "tab_info=tab_info.append(pd.DataFrame(df.isnull().sum()).T.rename(index={0:'null values'}))\n",
        "tab_info=tab_info.append(pd.DataFrame(df.isnull().sum()/df.shape[0]*100).T.rename(index={0:'null values (%)'}))\n",
        "tab_info"
      ],
      "execution_count": 27,
      "outputs": [
        {
          "output_type": "execute_result",
          "data": {
            "text/html": [
              "<div>\n",
              "<style scoped>\n",
              "    .dataframe tbody tr th:only-of-type {\n",
              "        vertical-align: middle;\n",
              "    }\n",
              "\n",
              "    .dataframe tbody tr th {\n",
              "        vertical-align: top;\n",
              "    }\n",
              "\n",
              "    .dataframe thead th {\n",
              "        text-align: right;\n",
              "    }\n",
              "</style>\n",
              "<table border=\"1\" class=\"dataframe\">\n",
              "  <thead>\n",
              "    <tr style=\"text-align: right;\">\n",
              "      <th></th>\n",
              "      <th>budget</th>\n",
              "      <th>genres</th>\n",
              "      <th>homepage</th>\n",
              "      <th>id</th>\n",
              "      <th>keywords</th>\n",
              "      <th>original_language</th>\n",
              "      <th>original_title</th>\n",
              "      <th>overview</th>\n",
              "      <th>popularity</th>\n",
              "      <th>production_companies</th>\n",
              "      <th>production_countries</th>\n",
              "      <th>release_date</th>\n",
              "      <th>revenue</th>\n",
              "      <th>runtime</th>\n",
              "      <th>spoken_languages</th>\n",
              "      <th>status</th>\n",
              "      <th>tagline</th>\n",
              "      <th>title</th>\n",
              "      <th>vote_average</th>\n",
              "      <th>vote_count</th>\n",
              "      <th>tittle</th>\n",
              "      <th>cast</th>\n",
              "      <th>Director</th>\n",
              "      <th>gender_of_lead</th>\n",
              "      <th>lead</th>\n",
              "    </tr>\n",
              "  </thead>\n",
              "  <tbody>\n",
              "    <tr>\n",
              "      <th>column type</th>\n",
              "      <td>int64</td>\n",
              "      <td>object</td>\n",
              "      <td>object</td>\n",
              "      <td>int64</td>\n",
              "      <td>object</td>\n",
              "      <td>object</td>\n",
              "      <td>object</td>\n",
              "      <td>object</td>\n",
              "      <td>float64</td>\n",
              "      <td>object</td>\n",
              "      <td>object</td>\n",
              "      <td>object</td>\n",
              "      <td>int64</td>\n",
              "      <td>float64</td>\n",
              "      <td>object</td>\n",
              "      <td>object</td>\n",
              "      <td>object</td>\n",
              "      <td>object</td>\n",
              "      <td>float64</td>\n",
              "      <td>int64</td>\n",
              "      <td>object</td>\n",
              "      <td>object</td>\n",
              "      <td>object</td>\n",
              "      <td>float64</td>\n",
              "      <td>object</td>\n",
              "    </tr>\n",
              "    <tr>\n",
              "      <th>null values</th>\n",
              "      <td>0</td>\n",
              "      <td>0</td>\n",
              "      <td>3091</td>\n",
              "      <td>0</td>\n",
              "      <td>0</td>\n",
              "      <td>0</td>\n",
              "      <td>0</td>\n",
              "      <td>3</td>\n",
              "      <td>0</td>\n",
              "      <td>0</td>\n",
              "      <td>0</td>\n",
              "      <td>1</td>\n",
              "      <td>0</td>\n",
              "      <td>2</td>\n",
              "      <td>0</td>\n",
              "      <td>0</td>\n",
              "      <td>844</td>\n",
              "      <td>0</td>\n",
              "      <td>0</td>\n",
              "      <td>0</td>\n",
              "      <td>0</td>\n",
              "      <td>0</td>\n",
              "      <td>0</td>\n",
              "      <td>43</td>\n",
              "      <td>43</td>\n",
              "    </tr>\n",
              "    <tr>\n",
              "      <th>null values (%)</th>\n",
              "      <td>0</td>\n",
              "      <td>0</td>\n",
              "      <td>64.3556</td>\n",
              "      <td>0</td>\n",
              "      <td>0</td>\n",
              "      <td>0</td>\n",
              "      <td>0</td>\n",
              "      <td>0.062461</td>\n",
              "      <td>0</td>\n",
              "      <td>0</td>\n",
              "      <td>0</td>\n",
              "      <td>0.0208203</td>\n",
              "      <td>0</td>\n",
              "      <td>0.0416406</td>\n",
              "      <td>0</td>\n",
              "      <td>0</td>\n",
              "      <td>17.5724</td>\n",
              "      <td>0</td>\n",
              "      <td>0</td>\n",
              "      <td>0</td>\n",
              "      <td>0</td>\n",
              "      <td>0</td>\n",
              "      <td>0</td>\n",
              "      <td>0.895274</td>\n",
              "      <td>0.895274</td>\n",
              "    </tr>\n",
              "  </tbody>\n",
              "</table>\n",
              "</div>"
            ],
            "text/plain": [
              "                budget  genres homepage  ... Director gender_of_lead      lead\n",
              "column type      int64  object   object  ...   object        float64    object\n",
              "null values          0       0     3091  ...        0             43        43\n",
              "null values (%)      0       0  64.3556  ...        0       0.895274  0.895274\n",
              "\n",
              "[3 rows x 25 columns]"
            ]
          },
          "metadata": {
            "tags": []
          },
          "execution_count": 27
        }
      ]
    },
    {
      "cell_type": "code",
      "metadata": {
        "colab": {
          "base_uri": "https://localhost:8080/"
        },
        "id": "jjg1CoTVvj2g",
        "outputId": "42d251e5-5663-40a7-8b0e-7e526d00dec6"
      },
      "source": [
        "df.shape"
      ],
      "execution_count": 28,
      "outputs": [
        {
          "output_type": "execute_result",
          "data": {
            "text/plain": [
              "(4803, 25)"
            ]
          },
          "metadata": {
            "tags": []
          },
          "execution_count": 28
        }
      ]
    },
    {
      "cell_type": "markdown",
      "metadata": {
        "id": "o22LEfc3eluv"
      },
      "source": [
        "I will drop homepage column because of the high percentage of null values, I will also drop tittle, tiltle column because it is the same with original_title column"
      ]
    },
    {
      "cell_type": "code",
      "metadata": {
        "id": "w8QShkoxvLsc"
      },
      "source": [
        "df.drop(['homepage','tittle','title'],axis=1,inplace=True)"
      ],
      "execution_count": 29,
      "outputs": []
    },
    {
      "cell_type": "code",
      "metadata": {
        "colab": {
          "base_uri": "https://localhost:8080/"
        },
        "id": "KD1BTL8Ovu69",
        "outputId": "ce5e144b-364e-4bf5-bc70-a745137307f8"
      },
      "source": [
        "df.shape"
      ],
      "execution_count": 30,
      "outputs": [
        {
          "output_type": "execute_result",
          "data": {
            "text/plain": [
              "(4803, 22)"
            ]
          },
          "metadata": {
            "tags": []
          },
          "execution_count": 30
        }
      ]
    },
    {
      "cell_type": "code",
      "metadata": {
        "colab": {
          "base_uri": "https://localhost:8080/",
          "height": 621
        },
        "id": "xY7fqezsv3e8",
        "outputId": "af7c94da-c025-4ce9-80ff-4a36747f2e8b"
      },
      "source": [
        "df.sample(5)"
      ],
      "execution_count": 89,
      "outputs": [
        {
          "output_type": "execute_result",
          "data": {
            "text/html": [
              "<div>\n",
              "<style scoped>\n",
              "    .dataframe tbody tr th:only-of-type {\n",
              "        vertical-align: middle;\n",
              "    }\n",
              "\n",
              "    .dataframe tbody tr th {\n",
              "        vertical-align: top;\n",
              "    }\n",
              "\n",
              "    .dataframe thead th {\n",
              "        text-align: right;\n",
              "    }\n",
              "</style>\n",
              "<table border=\"1\" class=\"dataframe\">\n",
              "  <thead>\n",
              "    <tr style=\"text-align: right;\">\n",
              "      <th></th>\n",
              "      <th>budget</th>\n",
              "      <th>genres</th>\n",
              "      <th>id</th>\n",
              "      <th>keywords</th>\n",
              "      <th>original_language</th>\n",
              "      <th>original_title</th>\n",
              "      <th>overview</th>\n",
              "      <th>popularity</th>\n",
              "      <th>production_companies</th>\n",
              "      <th>production_countries</th>\n",
              "      <th>release_date</th>\n",
              "      <th>revenue</th>\n",
              "      <th>runtime</th>\n",
              "      <th>spoken_languages</th>\n",
              "      <th>status</th>\n",
              "      <th>tagline</th>\n",
              "      <th>vote_average</th>\n",
              "      <th>vote_count</th>\n",
              "      <th>cast</th>\n",
              "      <th>Director</th>\n",
              "      <th>gender_of_lead</th>\n",
              "      <th>lead</th>\n",
              "      <th>Year</th>\n",
              "      <th>month</th>\n",
              "      <th>weekday</th>\n",
              "      <th>profit</th>\n",
              "      <th>profit_rate</th>\n",
              "    </tr>\n",
              "  </thead>\n",
              "  <tbody>\n",
              "    <tr>\n",
              "      <th>3700</th>\n",
              "      <td>4500000</td>\n",
              "      <td>[{'id': 80, 'name': 'Crime'}, {'id': 18, 'name...</td>\n",
              "      <td>9303</td>\n",
              "      <td>[{'id': 378, 'name': 'prison'}, {'id': 5424, '...</td>\n",
              "      <td>en</td>\n",
              "      <td>Bound</td>\n",
              "      <td>Corky, a tough female ex con and her lover Vio...</td>\n",
              "      <td>15.359952</td>\n",
              "      <td>[{'name': 'Dino De Laurentiis Company', 'id': ...</td>\n",
              "      <td>[{'iso_3166_1': 'US', 'name': 'United States o...</td>\n",
              "      <td>1996-09-13</td>\n",
              "      <td>7011317</td>\n",
              "      <td>108.0</td>\n",
              "      <td>[{'iso_639_1': 'en', 'name': 'English'}]</td>\n",
              "      <td>Released</td>\n",
              "      <td>In their world, you can't buy freedom, but you...</td>\n",
              "      <td>6.9</td>\n",
              "      <td>198</td>\n",
              "      <td>[{'cast_id': 1, 'character': 'Violet', 'credit...</td>\n",
              "      <td>[{'credit_id': '54f052b8c3a3686d580079ef', 'de...</td>\n",
              "      <td>1.0</td>\n",
              "      <td>Jennifer Tilly</td>\n",
              "      <td>1996</td>\n",
              "      <td>9</td>\n",
              "      <td>4</td>\n",
              "      <td>2511317</td>\n",
              "      <td>0.558070</td>\n",
              "    </tr>\n",
              "    <tr>\n",
              "      <th>3608</th>\n",
              "      <td>5000000</td>\n",
              "      <td>[{'id': 18, 'name': 'Drama'}, {'id': 36, 'name...</td>\n",
              "      <td>29996</td>\n",
              "      <td>[{'id': 536, 'name': 'israel'}, {'id': 1160, '...</td>\n",
              "      <td>en</td>\n",
              "      <td>Solomon and Sheba</td>\n",
              "      <td>Under the rule of King David, Israel is united...</td>\n",
              "      <td>0.835617</td>\n",
              "      <td>[{'name': 'Edward Small Productions', 'id': 13...</td>\n",
              "      <td>[{'iso_3166_1': 'US', 'name': 'United States o...</td>\n",
              "      <td>1959-12-25</td>\n",
              "      <td>12200000</td>\n",
              "      <td>139.0</td>\n",
              "      <td>[{'iso_639_1': 'en', 'name': 'English'}]</td>\n",
              "      <td>Released</td>\n",
              "      <td>Only once in 3000 years...anything like...</td>\n",
              "      <td>5.4</td>\n",
              "      <td>8</td>\n",
              "      <td>[{'cast_id': 4, 'character': 'Solomon', 'credi...</td>\n",
              "      <td>[{'credit_id': '52fe4609c3a368484e07d509', 'de...</td>\n",
              "      <td>2.0</td>\n",
              "      <td>Yul Brynner</td>\n",
              "      <td>1959</td>\n",
              "      <td>12</td>\n",
              "      <td>4</td>\n",
              "      <td>7200000</td>\n",
              "      <td>1.440000</td>\n",
              "    </tr>\n",
              "    <tr>\n",
              "      <th>1019</th>\n",
              "      <td>55000000</td>\n",
              "      <td>[{'id': 37, 'name': 'Western'}]</td>\n",
              "      <td>5176</td>\n",
              "      <td>[{'id': 1582, 'name': 'saloon'}, {'id': 1701, ...</td>\n",
              "      <td>en</td>\n",
              "      <td>3:10 to Yuma</td>\n",
              "      <td>In Arizona in the late 1800's, infamous outlaw...</td>\n",
              "      <td>48.801089</td>\n",
              "      <td>[{'name': 'Tree Line Films', 'id': 84}, {'name...</td>\n",
              "      <td>[{'iso_3166_1': 'US', 'name': 'United States o...</td>\n",
              "      <td>2007-09-06</td>\n",
              "      <td>70016220</td>\n",
              "      <td>122.0</td>\n",
              "      <td>[{'iso_639_1': 'en', 'name': 'English'}]</td>\n",
              "      <td>Released</td>\n",
              "      <td>Time waits for one man.</td>\n",
              "      <td>6.9</td>\n",
              "      <td>1188</td>\n",
              "      <td>[{'cast_id': 1, 'character': 'Ben Wade', 'cred...</td>\n",
              "      <td>[{'credit_id': '52fe43fac3a36847f807b735', 'de...</td>\n",
              "      <td>2.0</td>\n",
              "      <td>Russell Crowe</td>\n",
              "      <td>2007</td>\n",
              "      <td>9</td>\n",
              "      <td>3</td>\n",
              "      <td>15016220</td>\n",
              "      <td>0.273022</td>\n",
              "    </tr>\n",
              "    <tr>\n",
              "      <th>3586</th>\n",
              "      <td>5000000</td>\n",
              "      <td>[{'id': 27, 'name': 'Horror'}, {'id': 53, 'nam...</td>\n",
              "      <td>256274</td>\n",
              "      <td>[{'id': 90, 'name': 'paris'}, {'id': 1454, 'na...</td>\n",
              "      <td>en</td>\n",
              "      <td>As Above, So Below</td>\n",
              "      <td>When a team of explorers ventures into the cat...</td>\n",
              "      <td>26.510558</td>\n",
              "      <td>[{'name': 'Universal Pictures', 'id': 33}, {'n...</td>\n",
              "      <td>[{'iso_3166_1': 'US', 'name': 'United States o...</td>\n",
              "      <td>2014-08-14</td>\n",
              "      <td>40100000</td>\n",
              "      <td>93.0</td>\n",
              "      <td>[{'iso_639_1': 'en', 'name': 'English'}]</td>\n",
              "      <td>Released</td>\n",
              "      <td>The only way out is down.</td>\n",
              "      <td>6.1</td>\n",
              "      <td>766</td>\n",
              "      <td>[{'cast_id': 3, 'character': 'Scarlett', 'cred...</td>\n",
              "      <td>[{'credit_id': '54ab11d9c3a36822b7002686', 'de...</td>\n",
              "      <td>1.0</td>\n",
              "      <td>Perdita Weeks</td>\n",
              "      <td>2014</td>\n",
              "      <td>8</td>\n",
              "      <td>3</td>\n",
              "      <td>35100000</td>\n",
              "      <td>7.020000</td>\n",
              "    </tr>\n",
              "    <tr>\n",
              "      <th>2037</th>\n",
              "      <td>22000000</td>\n",
              "      <td>[{'id': 35, 'name': 'Comedy'}, {'id': 10751, '...</td>\n",
              "      <td>82650</td>\n",
              "      <td>[{'id': 12392, 'name': 'best friend'}, {'id': ...</td>\n",
              "      <td>en</td>\n",
              "      <td>Diary of a Wimpy Kid: Dog Days</td>\n",
              "      <td>School is out and Greg is ready for the days o...</td>\n",
              "      <td>13.410919</td>\n",
              "      <td>[{'name': 'Fox 2000 Pictures', 'id': 711}]</td>\n",
              "      <td>[{'iso_3166_1': 'US', 'name': 'United States o...</td>\n",
              "      <td>2012-08-02</td>\n",
              "      <td>77112176</td>\n",
              "      <td>94.0</td>\n",
              "      <td>[{'iso_639_1': 'en', 'name': 'English'}]</td>\n",
              "      <td>Released</td>\n",
              "      <td>School's Out for the summer</td>\n",
              "      <td>6.0</td>\n",
              "      <td>223</td>\n",
              "      <td>[{'cast_id': 15, 'character': 'Greg Heffley', ...</td>\n",
              "      <td>[{'credit_id': '52fe48649251416c9108ab97', 'de...</td>\n",
              "      <td>2.0</td>\n",
              "      <td>Zachary Gordon</td>\n",
              "      <td>2012</td>\n",
              "      <td>8</td>\n",
              "      <td>3</td>\n",
              "      <td>55112176</td>\n",
              "      <td>2.505099</td>\n",
              "    </tr>\n",
              "  </tbody>\n",
              "</table>\n",
              "</div>"
            ],
            "text/plain": [
              "        budget  ... profit_rate\n",
              "3700   4500000  ...    0.558070\n",
              "3608   5000000  ...    1.440000\n",
              "1019  55000000  ...    0.273022\n",
              "3586   5000000  ...    7.020000\n",
              "2037  22000000  ...    2.505099\n",
              "\n",
              "[5 rows x 27 columns]"
            ]
          },
          "metadata": {
            "tags": []
          },
          "execution_count": 89
        }
      ]
    },
    {
      "cell_type": "markdown",
      "metadata": {
        "id": "FpXAuje3yaTf"
      },
      "source": [
        "drop revenues that are smaller and equal to zero"
      ]
    },
    {
      "cell_type": "code",
      "metadata": {
        "id": "LDStWEx9xL3Y"
      },
      "source": [
        "df=df[df.revenue>0]"
      ],
      "execution_count": 32,
      "outputs": []
    },
    {
      "cell_type": "code",
      "metadata": {
        "colab": {
          "base_uri": "https://localhost:8080/"
        },
        "id": "dbiM8Vs_ypMJ",
        "outputId": "929af128-9fd9-4c8f-fa1c-9e576ab40306"
      },
      "source": [
        "df.shape"
      ],
      "execution_count": 33,
      "outputs": [
        {
          "output_type": "execute_result",
          "data": {
            "text/plain": [
              "(3376, 22)"
            ]
          },
          "metadata": {
            "tags": []
          },
          "execution_count": 33
        }
      ]
    },
    {
      "cell_type": "markdown",
      "metadata": {
        "id": "-fUmJxTfnMNi"
      },
      "source": [
        "getting date information"
      ]
    },
    {
      "cell_type": "code",
      "metadata": {
        "id": "E3G-gCHskq-k"
      },
      "source": [
        "df.release_date = pd.to_datetime(df.release_date,  errors='coerce')\n",
        "df['Year'] = df.release_date.dt.year\n",
        "df['month'] = df.release_date.dt.month\n",
        "df['weekday'] = df.release_date.dt.weekday"
      ],
      "execution_count": 34,
      "outputs": []
    },
    {
      "cell_type": "markdown",
      "metadata": {
        "id": "OgA3-Iv7H4ZX"
      },
      "source": [
        "DATA BUDGET, REVENUE AND PROFIT IN YEARS"
      ]
    },
    {
      "cell_type": "code",
      "metadata": {
        "id": "SCzm795-aFHk"
      },
      "source": [
        "df['profit'] = df['revenue'] - df['budget']\n",
        "df['profit_rate'] = df['profit'] / df['budget']"
      ],
      "execution_count": 35,
      "outputs": []
    },
    {
      "cell_type": "code",
      "metadata": {
        "id": "7q03p6cISpRd"
      },
      "source": [
        "revenues = df.groupby('Year')['revenue'].sum()\n",
        "budgets = df.groupby('Year')['budget'].sum()\n",
        "profits = df.groupby('Year')['profit'].sum()"
      ],
      "execution_count": 36,
      "outputs": []
    },
    {
      "cell_type": "code",
      "metadata": {
        "colab": {
          "base_uri": "https://localhost:8080/",
          "height": 295
        },
        "id": "oYCmDuOgOqpg",
        "outputId": "d91f50c1-89f5-46b7-879d-08286b18ee17"
      },
      "source": [
        "x1 = df['Year']\n",
        "y1 = revenues\n",
        "# plotting the revenue points \n",
        "plt.plot(revenues, label = \"Revenues\")\n",
        "# line 2 points\n",
        "x2 = df['Year']\n",
        "y2 = budgets\n",
        "# plotting the budgets points \n",
        "plt.plot(budgets, label = \"Budgets\")\n",
        "x3 = df['Year']\n",
        "y3 = profits\n",
        "# plotting the profits points \n",
        "plt.plot(profits, label = \"Profits\")\n",
        "plt.xlabel('Year')\n",
        "# Set the y axis label of the current axis.\n",
        "plt.ylabel('Amount')\n",
        "# Set a title of the current axes.\n",
        "plt.title('Money Statistics ')\n",
        "# show a legend on the plot\n",
        "plt.legend()\n",
        "# Display a figure.\n",
        "plt.show()"
      ],
      "execution_count": 37,
      "outputs": [
        {
          "output_type": "display_data",
          "data": {
            "image/png": "[encoded data removed]",
            "text/plain": [
              "<Figure size 432x288 with 1 Axes>"
            ]
          },
          "metadata": {
            "tags": [],
            "needs_background": "light"
          }
        }
      ]
    },
    {
      "cell_type": "markdown",
      "metadata": {
        "id": "eQHXPRAZdk5M"
      },
      "source": [
        "#The revenue peak is in 2012, let check out the movies"
      ]
    },
    {
      "cell_type": "code",
      "metadata": {
        "id": "9SBx_SCgeyIO"
      },
      "source": [
        "def pipe_flatten_names(keywords):\n",
        "    return '|'.join([x['name'] for x in keywords])"
      ],
      "execution_count": 38,
      "outputs": []
    },
    {
      "cell_type": "code",
      "metadata": {
        "id": "1WrtYZUfe0VZ"
      },
      "source": [
        "df0 = df.copy()"
      ],
      "execution_count": 39,
      "outputs": []
    },
    {
      "cell_type": "code",
      "metadata": {
        "id": "QbVjKCVEfHX9"
      },
      "source": [
        "df0['genres'] = df0['genres'].apply(pipe_flatten_names)"
      ],
      "execution_count": 40,
      "outputs": []
    },
    {
      "cell_type": "code",
      "metadata": {
        "colab": {
          "base_uri": "https://localhost:8080/",
          "height": 331
        },
        "id": "Z0DeSnx9dkV2",
        "outputId": "e06be63d-5449-4e94-e962-caf94cbaec61"
      },
      "source": [
        "top_10 = df0[df0['Year'] == 2012]\n",
        "top_10.sort_values(by=\"revenue\", ascending=False)[['original_title', 'budget', 'revenue', 'profit', 'genres']].head(10)"
      ],
      "execution_count": 41,
      "outputs": [
        {
          "output_type": "execute_result",
          "data": {
            "text/html": [
              "<div>\n",
              "<style scoped>\n",
              "    .dataframe tbody tr th:only-of-type {\n",
              "        vertical-align: middle;\n",
              "    }\n",
              "\n",
              "    .dataframe tbody tr th {\n",
              "        vertical-align: top;\n",
              "    }\n",
              "\n",
              "    .dataframe thead th {\n",
              "        text-align: right;\n",
              "    }\n",
              "</style>\n",
              "<table border=\"1\" class=\"dataframe\">\n",
              "  <thead>\n",
              "    <tr style=\"text-align: right;\">\n",
              "      <th></th>\n",
              "      <th>original_title</th>\n",
              "      <th>budget</th>\n",
              "      <th>revenue</th>\n",
              "      <th>profit</th>\n",
              "      <th>genres</th>\n",
              "    </tr>\n",
              "  </thead>\n",
              "  <tbody>\n",
              "    <tr>\n",
              "      <th>16</th>\n",
              "      <td>The Avengers</td>\n",
              "      <td>220000000</td>\n",
              "      <td>1519557910</td>\n",
              "      <td>1299557910</td>\n",
              "      <td>Science Fiction|Action|Adventure</td>\n",
              "    </tr>\n",
              "    <tr>\n",
              "      <th>29</th>\n",
              "      <td>Skyfall</td>\n",
              "      <td>200000000</td>\n",
              "      <td>1108561013</td>\n",
              "      <td>908561013</td>\n",
              "      <td>Action|Adventure|Thriller</td>\n",
              "    </tr>\n",
              "    <tr>\n",
              "      <th>3</th>\n",
              "      <td>The Dark Knight Rises</td>\n",
              "      <td>250000000</td>\n",
              "      <td>1084939099</td>\n",
              "      <td>834939099</td>\n",
              "      <td>Action|Crime|Drama|Thriller</td>\n",
              "    </tr>\n",
              "    <tr>\n",
              "      <th>98</th>\n",
              "      <td>The Hobbit: An Unexpected Journey</td>\n",
              "      <td>250000000</td>\n",
              "      <td>1021103568</td>\n",
              "      <td>771103568</td>\n",
              "      <td>Adventure|Fantasy|Action</td>\n",
              "    </tr>\n",
              "    <tr>\n",
              "      <th>325</th>\n",
              "      <td>Ice Age: Continental Drift</td>\n",
              "      <td>95000000</td>\n",
              "      <td>877244782</td>\n",
              "      <td>782244782</td>\n",
              "      <td>Animation|Comedy|Adventure|Family</td>\n",
              "    </tr>\n",
              "    <tr>\n",
              "      <th>172</th>\n",
              "      <td>The Twilight Saga: Breaking Dawn - Part 2</td>\n",
              "      <td>120000000</td>\n",
              "      <td>829000000</td>\n",
              "      <td>709000000</td>\n",
              "      <td>Adventure|Fantasy|Drama|Romance</td>\n",
              "    </tr>\n",
              "    <tr>\n",
              "      <th>20</th>\n",
              "      <td>The Amazing Spider-Man</td>\n",
              "      <td>215000000</td>\n",
              "      <td>752215857</td>\n",
              "      <td>537215857</td>\n",
              "      <td>Action|Adventure|Fantasy</td>\n",
              "    </tr>\n",
              "    <tr>\n",
              "      <th>146</th>\n",
              "      <td>Madagascar 3: Europe's Most Wanted</td>\n",
              "      <td>145000000</td>\n",
              "      <td>746921274</td>\n",
              "      <td>601921274</td>\n",
              "      <td>Animation|Family</td>\n",
              "    </tr>\n",
              "    <tr>\n",
              "      <th>426</th>\n",
              "      <td>The Hunger Games</td>\n",
              "      <td>75000000</td>\n",
              "      <td>691210692</td>\n",
              "      <td>616210692</td>\n",
              "      <td>Science Fiction|Adventure|Fantasy</td>\n",
              "    </tr>\n",
              "    <tr>\n",
              "      <th>18</th>\n",
              "      <td>Men in Black 3</td>\n",
              "      <td>225000000</td>\n",
              "      <td>624026776</td>\n",
              "      <td>399026776</td>\n",
              "      <td>Action|Comedy|Science Fiction</td>\n",
              "    </tr>\n",
              "  </tbody>\n",
              "</table>\n",
              "</div>"
            ],
            "text/plain": [
              "                                original_title  ...                             genres\n",
              "16                                The Avengers  ...   Science Fiction|Action|Adventure\n",
              "29                                     Skyfall  ...          Action|Adventure|Thriller\n",
              "3                        The Dark Knight Rises  ...        Action|Crime|Drama|Thriller\n",
              "98           The Hobbit: An Unexpected Journey  ...           Adventure|Fantasy|Action\n",
              "325                 Ice Age: Continental Drift  ...  Animation|Comedy|Adventure|Family\n",
              "172  The Twilight Saga: Breaking Dawn - Part 2  ...    Adventure|Fantasy|Drama|Romance\n",
              "20                      The Amazing Spider-Man  ...           Action|Adventure|Fantasy\n",
              "146         Madagascar 3: Europe's Most Wanted  ...                   Animation|Family\n",
              "426                           The Hunger Games  ...  Science Fiction|Adventure|Fantasy\n",
              "18                              Men in Black 3  ...      Action|Comedy|Science Fiction\n",
              "\n",
              "[10 rows x 5 columns]"
            ]
          },
          "metadata": {
            "tags": []
          },
          "execution_count": 41
        }
      ]
    },
    {
      "cell_type": "markdown",
      "metadata": {
        "id": "pae3WCm8gWBi"
      },
      "source": [
        "##The profit peak is in 2012 & 2014, let check out the top proftitable movies in 2014"
      ]
    },
    {
      "cell_type": "code",
      "metadata": {
        "colab": {
          "base_uri": "https://localhost:8080/",
          "height": 331
        },
        "id": "s4SLflp-gW2N",
        "outputId": "e2569251-ebf3-4d2e-9153-c5a7812fb0a7"
      },
      "source": [
        "top_10 = df0[df0['Year'] == 2014]\n",
        "top_10.sort_values(by=\"profit\", ascending=False)[['original_title', 'budget', 'revenue', 'profit', 'genres']].head(10)"
      ],
      "execution_count": 42,
      "outputs": [
        {
          "output_type": "execute_result",
          "data": {
            "text/html": [
              "<div>\n",
              "<style scoped>\n",
              "    .dataframe tbody tr th:only-of-type {\n",
              "        vertical-align: middle;\n",
              "    }\n",
              "\n",
              "    .dataframe tbody tr th {\n",
              "        vertical-align: top;\n",
              "    }\n",
              "\n",
              "    .dataframe thead th {\n",
              "        text-align: right;\n",
              "    }\n",
              "</style>\n",
              "<table border=\"1\" class=\"dataframe\">\n",
              "  <thead>\n",
              "    <tr style=\"text-align: right;\">\n",
              "      <th></th>\n",
              "      <th>original_title</th>\n",
              "      <th>budget</th>\n",
              "      <th>revenue</th>\n",
              "      <th>profit</th>\n",
              "      <th>genres</th>\n",
              "    </tr>\n",
              "  </thead>\n",
              "  <tbody>\n",
              "    <tr>\n",
              "      <th>36</th>\n",
              "      <td>Transformers: Age of Extinction</td>\n",
              "      <td>210000000</td>\n",
              "      <td>1091405097</td>\n",
              "      <td>881405097</td>\n",
              "      <td>Science Fiction|Action|Adventure</td>\n",
              "    </tr>\n",
              "    <tr>\n",
              "      <th>19</th>\n",
              "      <td>The Hobbit: The Battle of the Five Armies</td>\n",
              "      <td>250000000</td>\n",
              "      <td>956019788</td>\n",
              "      <td>706019788</td>\n",
              "      <td>Action|Adventure|Fantasy</td>\n",
              "    </tr>\n",
              "    <tr>\n",
              "      <th>200</th>\n",
              "      <td>The Hunger Games: Mockingjay - Part 1</td>\n",
              "      <td>125000000</td>\n",
              "      <td>752100229</td>\n",
              "      <td>627100229</td>\n",
              "      <td>Science Fiction|Adventure|Thriller</td>\n",
              "    </tr>\n",
              "    <tr>\n",
              "      <th>94</th>\n",
              "      <td>Guardians of the Galaxy</td>\n",
              "      <td>170000000</td>\n",
              "      <td>773328629</td>\n",
              "      <td>603328629</td>\n",
              "      <td>Action|Science Fiction|Adventure</td>\n",
              "    </tr>\n",
              "    <tr>\n",
              "      <th>81</th>\n",
              "      <td>Maleficent</td>\n",
              "      <td>180000000</td>\n",
              "      <td>758539785</td>\n",
              "      <td>578539785</td>\n",
              "      <td>Fantasy|Adventure|Action|Family|Romance</td>\n",
              "    </tr>\n",
              "    <tr>\n",
              "      <th>85</th>\n",
              "      <td>Captain America: The Winter Soldier</td>\n",
              "      <td>170000000</td>\n",
              "      <td>714766572</td>\n",
              "      <td>544766572</td>\n",
              "      <td>Action|Adventure|Science Fiction</td>\n",
              "    </tr>\n",
              "    <tr>\n",
              "      <th>82</th>\n",
              "      <td>Dawn of the Planet of the Apes</td>\n",
              "      <td>170000000</td>\n",
              "      <td>710644566</td>\n",
              "      <td>540644566</td>\n",
              "      <td>Science Fiction|Action|Drama|Thriller</td>\n",
              "    </tr>\n",
              "    <tr>\n",
              "      <th>95</th>\n",
              "      <td>Interstellar</td>\n",
              "      <td>165000000</td>\n",
              "      <td>675120017</td>\n",
              "      <td>510120017</td>\n",
              "      <td>Adventure|Drama|Science Fiction</td>\n",
              "    </tr>\n",
              "    <tr>\n",
              "      <th>38</th>\n",
              "      <td>The Amazing Spider-Man 2</td>\n",
              "      <td>200000000</td>\n",
              "      <td>705717432</td>\n",
              "      <td>505717432</td>\n",
              "      <td>Action|Adventure|Fantasy</td>\n",
              "    </tr>\n",
              "    <tr>\n",
              "      <th>46</th>\n",
              "      <td>X-Men: Days of Future Past</td>\n",
              "      <td>250000000</td>\n",
              "      <td>747862775</td>\n",
              "      <td>497862775</td>\n",
              "      <td>Action|Adventure|Fantasy|Science Fiction</td>\n",
              "    </tr>\n",
              "  </tbody>\n",
              "</table>\n",
              "</div>"
            ],
            "text/plain": [
              "                                original_title  ...                                    genres\n",
              "36             Transformers: Age of Extinction  ...          Science Fiction|Action|Adventure\n",
              "19   The Hobbit: The Battle of the Five Armies  ...                  Action|Adventure|Fantasy\n",
              "200      The Hunger Games: Mockingjay - Part 1  ...        Science Fiction|Adventure|Thriller\n",
              "94                     Guardians of the Galaxy  ...          Action|Science Fiction|Adventure\n",
              "81                                  Maleficent  ...   Fantasy|Adventure|Action|Family|Romance\n",
              "85         Captain America: The Winter Soldier  ...          Action|Adventure|Science Fiction\n",
              "82              Dawn of the Planet of the Apes  ...     Science Fiction|Action|Drama|Thriller\n",
              "95                                Interstellar  ...           Adventure|Drama|Science Fiction\n",
              "38                    The Amazing Spider-Man 2  ...                  Action|Adventure|Fantasy\n",
              "46                  X-Men: Days of Future Past  ...  Action|Adventure|Fantasy|Science Fiction\n",
              "\n",
              "[10 rows x 5 columns]"
            ]
          },
          "metadata": {
            "tags": []
          },
          "execution_count": 42
        }
      ]
    },
    {
      "cell_type": "markdown",
      "metadata": {
        "id": "dXom3ndOm8Jk"
      },
      "source": [
        "##The movies with most profit rate"
      ]
    },
    {
      "cell_type": "code",
      "metadata": {
        "colab": {
          "base_uri": "https://localhost:8080/",
          "height": 331
        },
        "id": "gEhJ2hkFm-Cv",
        "outputId": "1efcd498-84f7-470e-a14d-a9048eae7241"
      },
      "source": [
        "sub_data = df0[(df0['budget'] != 0) & (df0['revenue'] != 0) & (df0['budget'] > 10000000)]\n",
        "sub_data.sort_values(by='profit_rate', ascending=False)[['original_title', 'budget', 'profit', 'genres', 'profit_rate', 'Year']].head(10)"
      ],
      "execution_count": 43,
      "outputs": [
        {
          "output_type": "execute_result",
          "data": {
            "text/html": [
              "<div>\n",
              "<style scoped>\n",
              "    .dataframe tbody tr th:only-of-type {\n",
              "        vertical-align: middle;\n",
              "    }\n",
              "\n",
              "    .dataframe tbody tr th {\n",
              "        vertical-align: top;\n",
              "    }\n",
              "\n",
              "    .dataframe thead th {\n",
              "        text-align: right;\n",
              "    }\n",
              "</style>\n",
              "<table border=\"1\" class=\"dataframe\">\n",
              "  <thead>\n",
              "    <tr style=\"text-align: right;\">\n",
              "      <th></th>\n",
              "      <th>original_title</th>\n",
              "      <th>budget</th>\n",
              "      <th>profit</th>\n",
              "      <th>genres</th>\n",
              "      <th>profit_rate</th>\n",
              "      <th>Year</th>\n",
              "    </tr>\n",
              "  </thead>\n",
              "  <tbody>\n",
              "    <tr>\n",
              "      <th>2967</th>\n",
              "      <td>E.T. the Extra-Terrestrial</td>\n",
              "      <td>10500000</td>\n",
              "      <td>782410554</td>\n",
              "      <td>Science Fiction|Adventure|Family|Fantasy</td>\n",
              "      <td>74.515291</td>\n",
              "      <td>1982</td>\n",
              "    </tr>\n",
              "    <tr>\n",
              "      <th>2912</th>\n",
              "      <td>Star Wars</td>\n",
              "      <td>11000000</td>\n",
              "      <td>764398007</td>\n",
              "      <td>Adventure|Action|Science Fiction</td>\n",
              "      <td>69.490728</td>\n",
              "      <td>1977</td>\n",
              "    </tr>\n",
              "    <tr>\n",
              "      <th>2668</th>\n",
              "      <td>Pretty Woman</td>\n",
              "      <td>14000000</td>\n",
              "      <td>449000000</td>\n",
              "      <td>Romance|Comedy</td>\n",
              "      <td>32.071429</td>\n",
              "      <td>1990</td>\n",
              "    </tr>\n",
              "    <tr>\n",
              "      <th>1990</th>\n",
              "      <td>The Empire Strikes Back</td>\n",
              "      <td>18000000</td>\n",
              "      <td>520400000</td>\n",
              "      <td>Adventure|Action|Science Fiction</td>\n",
              "      <td>28.911111</td>\n",
              "      <td>1980</td>\n",
              "    </tr>\n",
              "    <tr>\n",
              "      <th>2517</th>\n",
              "      <td>The King's Speech</td>\n",
              "      <td>15000000</td>\n",
              "      <td>399211549</td>\n",
              "      <td>Drama|History</td>\n",
              "      <td>26.614103</td>\n",
              "      <td>2010</td>\n",
              "    </tr>\n",
              "    <tr>\n",
              "      <th>2511</th>\n",
              "      <td>Home Alone</td>\n",
              "      <td>18000000</td>\n",
              "      <td>458684675</td>\n",
              "      <td>Comedy|Family</td>\n",
              "      <td>25.482482</td>\n",
              "      <td>1990</td>\n",
              "    </tr>\n",
              "    <tr>\n",
              "      <th>2838</th>\n",
              "      <td>The Fault in Our Stars</td>\n",
              "      <td>12000000</td>\n",
              "      <td>295166834</td>\n",
              "      <td>Romance|Drama</td>\n",
              "      <td>24.597236</td>\n",
              "      <td>2014</td>\n",
              "    </tr>\n",
              "    <tr>\n",
              "      <th>2730</th>\n",
              "      <td>Black Swan</td>\n",
              "      <td>13000000</td>\n",
              "      <td>314803731</td>\n",
              "      <td>Drama|Thriller</td>\n",
              "      <td>24.215672</td>\n",
              "      <td>2010</td>\n",
              "    </tr>\n",
              "    <tr>\n",
              "      <th>2666</th>\n",
              "      <td>Slumdog Millionaire</td>\n",
              "      <td>15000000</td>\n",
              "      <td>362910544</td>\n",
              "      <td>Drama|Romance</td>\n",
              "      <td>24.194036</td>\n",
              "      <td>2008</td>\n",
              "    </tr>\n",
              "    <tr>\n",
              "      <th>2096</th>\n",
              "      <td>The Conjuring</td>\n",
              "      <td>13000000</td>\n",
              "      <td>305000141</td>\n",
              "      <td>Horror|Thriller</td>\n",
              "      <td>23.461549</td>\n",
              "      <td>2013</td>\n",
              "    </tr>\n",
              "  </tbody>\n",
              "</table>\n",
              "</div>"
            ],
            "text/plain": [
              "                  original_title    budget  ...  profit_rate  Year\n",
              "2967  E.T. the Extra-Terrestrial  10500000  ...    74.515291  1982\n",
              "2912                   Star Wars  11000000  ...    69.490728  1977\n",
              "2668                Pretty Woman  14000000  ...    32.071429  1990\n",
              "1990     The Empire Strikes Back  18000000  ...    28.911111  1980\n",
              "2517           The King's Speech  15000000  ...    26.614103  2010\n",
              "2511                  Home Alone  18000000  ...    25.482482  1990\n",
              "2838      The Fault in Our Stars  12000000  ...    24.597236  2014\n",
              "2730                  Black Swan  13000000  ...    24.215672  2010\n",
              "2666         Slumdog Millionaire  15000000  ...    24.194036  2008\n",
              "2096               The Conjuring  13000000  ...    23.461549  2013\n",
              "\n",
              "[10 rows x 6 columns]"
            ]
          },
          "metadata": {
            "tags": []
          },
          "execution_count": 43
        }
      ]
    },
    {
      "cell_type": "markdown",
      "metadata": {
        "id": "7CDvxMHruulu"
      },
      "source": [
        "we will need a metric score to rate our movie\n",
        "\n",
        "We can use the average ratings of the movie as the score but using this won't be fair enough since a movie with 8.9 average rating and only 3 votes cannot be considered better than the movie with 7.8 as as average rating but 40 votes. So, I'll be using IMDB's weighted rating (wr) which is given as :\n",
        "\n",
        "$$(\\dfrac{v}{v+m}.R)+(\\dfrac{m}{v+m}.C)$$\n",
        "\n",
        "where,\n",
        "\n",
        "* v is the number of votes for the movie;\n",
        "* m is the minimum votes required to be listed in the chart;\n",
        "* R is the average rating of the movie; And\n",
        "* C is the mean vote across the whole report\n",
        "\n",
        "We already have v(vote_count) and R (vote_average) and C can be calculated as"
      ]
    },
    {
      "cell_type": "code",
      "metadata": {
        "colab": {
          "base_uri": "https://localhost:8080/"
        },
        "id": "eZuuQyKTu8Af",
        "outputId": "5fb02ce2-417d-4376-81b7-26235622c853"
      },
      "source": [
        "C= df['vote_average'].mean()\n",
        "C"
      ],
      "execution_count": 44,
      "outputs": [
        {
          "output_type": "execute_result",
          "data": {
            "text/plain": [
              "6.3087381516587575"
            ]
          },
          "metadata": {
            "tags": []
          },
          "execution_count": 44
        }
      ]
    },
    {
      "cell_type": "markdown",
      "metadata": {
        "id": "bxF4piP60tRF"
      },
      "source": [
        "So, the mean rating for all the movies is approx 6 on a scale of 10.The next step is to determine an appropriate value for m, the minimum votes required to be listed in the chart. We will use 90th percentile as our cutoff. In other words, for a movie to feature in the charts, it must have more votes than at least 90% of the movies in the list."
      ]
    },
    {
      "cell_type": "code",
      "metadata": {
        "colab": {
          "base_uri": "https://localhost:8080/"
        },
        "id": "KD7RwPqV0Lwn",
        "outputId": "93ab17c2-ca1e-450e-9dc8-ede48e86ae82"
      },
      "source": [
        "m= df['vote_count'].quantile(0.9)\n",
        "m"
      ],
      "execution_count": 45,
      "outputs": [
        {
          "output_type": "execute_result",
          "data": {
            "text/plain": [
              "2429.0"
            ]
          },
          "metadata": {
            "tags": []
          },
          "execution_count": 45
        }
      ]
    },
    {
      "cell_type": "code",
      "metadata": {
        "colab": {
          "base_uri": "https://localhost:8080/"
        },
        "id": "Vopl0sZx0SBq",
        "outputId": "2172b2b6-80e6-4f61-fd6a-51f302a9ca3d"
      },
      "source": [
        "q_movies = df.copy().loc[df['vote_count'] >= m]\n",
        "q_movies.shape"
      ],
      "execution_count": 46,
      "outputs": [
        {
          "output_type": "execute_result",
          "data": {
            "text/plain": [
              "(338, 27)"
            ]
          },
          "metadata": {
            "tags": []
          },
          "execution_count": 46
        }
      ]
    },
    {
      "cell_type": "code",
      "metadata": {
        "id": "_41K0d2i1tZa"
      },
      "source": [
        "def weighted_rating(x, m=m, C=C):\n",
        "    v = x['vote_count']\n",
        "    R = x['vote_average']\n",
        "    # Calculation based on the IMDB formula\n",
        "    return (v/(v+m) * R) + (m/(m+v) * C)"
      ],
      "execution_count": 47,
      "outputs": []
    },
    {
      "cell_type": "code",
      "metadata": {
        "id": "j0cNS3Z014KJ"
      },
      "source": [
        "# Define a new feature 'score' and calculate its value with `weighted_rating()`\n",
        "q_movies['score'] = q_movies.apply(weighted_rating, axis=1)"
      ],
      "execution_count": 48,
      "outputs": []
    },
    {
      "cell_type": "markdown",
      "metadata": {
        "id": "glDZ6mPv3qCN"
      },
      "source": [
        "##Top 15 movies"
      ]
    },
    {
      "cell_type": "code",
      "metadata": {
        "colab": {
          "base_uri": "https://localhost:8080/",
          "height": 331
        },
        "id": "ObR3Uo0s19sP",
        "outputId": "72934938-d882-4e07-f47a-5a3b3819eaae"
      },
      "source": [
        "#Sort movies based on score calculated above\n",
        "q_movies = q_movies.sort_values('score', ascending=False)\n",
        "\n",
        "#Print the top 15 movies\n",
        "q_movies[['original_title', 'vote_count', 'vote_average', 'score']].head(10)"
      ],
      "execution_count": 49,
      "outputs": [
        {
          "output_type": "execute_result",
          "data": {
            "text/html": [
              "<div>\n",
              "<style scoped>\n",
              "    .dataframe tbody tr th:only-of-type {\n",
              "        vertical-align: middle;\n",
              "    }\n",
              "\n",
              "    .dataframe tbody tr th {\n",
              "        vertical-align: top;\n",
              "    }\n",
              "\n",
              "    .dataframe thead th {\n",
              "        text-align: right;\n",
              "    }\n",
              "</style>\n",
              "<table border=\"1\" class=\"dataframe\">\n",
              "  <thead>\n",
              "    <tr style=\"text-align: right;\">\n",
              "      <th></th>\n",
              "      <th>original_title</th>\n",
              "      <th>vote_count</th>\n",
              "      <th>vote_average</th>\n",
              "      <th>score</th>\n",
              "    </tr>\n",
              "  </thead>\n",
              "  <tbody>\n",
              "    <tr>\n",
              "      <th>1881</th>\n",
              "      <td>The Shawshank Redemption</td>\n",
              "      <td>8205</td>\n",
              "      <td>8.5</td>\n",
              "      <td>7.999476</td>\n",
              "    </tr>\n",
              "    <tr>\n",
              "      <th>662</th>\n",
              "      <td>Fight Club</td>\n",
              "      <td>9413</td>\n",
              "      <td>8.3</td>\n",
              "      <td>7.891558</td>\n",
              "    </tr>\n",
              "    <tr>\n",
              "      <th>65</th>\n",
              "      <td>The Dark Knight</td>\n",
              "      <td>12002</td>\n",
              "      <td>8.2</td>\n",
              "      <td>7.881666</td>\n",
              "    </tr>\n",
              "    <tr>\n",
              "      <th>3232</th>\n",
              "      <td>Pulp Fiction</td>\n",
              "      <td>8428</td>\n",
              "      <td>8.3</td>\n",
              "      <td>7.854502</td>\n",
              "    </tr>\n",
              "    <tr>\n",
              "      <th>96</th>\n",
              "      <td>Inception</td>\n",
              "      <td>13752</td>\n",
              "      <td>8.1</td>\n",
              "      <td>7.831106</td>\n",
              "    </tr>\n",
              "    <tr>\n",
              "      <th>3337</th>\n",
              "      <td>The Godfather</td>\n",
              "      <td>5893</td>\n",
              "      <td>8.4</td>\n",
              "      <td>7.789609</td>\n",
              "    </tr>\n",
              "    <tr>\n",
              "      <th>95</th>\n",
              "      <td>Interstellar</td>\n",
              "      <td>10867</td>\n",
              "      <td>8.1</td>\n",
              "      <td>7.772761</td>\n",
              "    </tr>\n",
              "    <tr>\n",
              "      <th>809</th>\n",
              "      <td>Forrest Gump</td>\n",
              "      <td>7927</td>\n",
              "      <td>8.2</td>\n",
              "      <td>7.756404</td>\n",
              "    </tr>\n",
              "    <tr>\n",
              "      <th>329</th>\n",
              "      <td>The Lord of the Rings: The Return of the King</td>\n",
              "      <td>8064</td>\n",
              "      <td>8.1</td>\n",
              "      <td>7.685345</td>\n",
              "    </tr>\n",
              "    <tr>\n",
              "      <th>1990</th>\n",
              "      <td>The Empire Strikes Back</td>\n",
              "      <td>5879</td>\n",
              "      <td>8.2</td>\n",
              "      <td>7.647054</td>\n",
              "    </tr>\n",
              "  </tbody>\n",
              "</table>\n",
              "</div>"
            ],
            "text/plain": [
              "                                     original_title  ...     score\n",
              "1881                       The Shawshank Redemption  ...  7.999476\n",
              "662                                      Fight Club  ...  7.891558\n",
              "65                                  The Dark Knight  ...  7.881666\n",
              "3232                                   Pulp Fiction  ...  7.854502\n",
              "96                                        Inception  ...  7.831106\n",
              "3337                                  The Godfather  ...  7.789609\n",
              "95                                     Interstellar  ...  7.772761\n",
              "809                                    Forrest Gump  ...  7.756404\n",
              "329   The Lord of the Rings: The Return of the King  ...  7.685345\n",
              "1990                        The Empire Strikes Back  ...  7.647054\n",
              "\n",
              "[10 rows x 4 columns]"
            ]
          },
          "metadata": {
            "tags": []
          },
          "execution_count": 49
        }
      ]
    },
    {
      "cell_type": "markdown",
      "metadata": {
        "id": "XojSoUJX3tFb"
      },
      "source": [
        "I will visualize the most popular movies "
      ]
    },
    {
      "cell_type": "code",
      "metadata": {
        "colab": {
          "base_uri": "https://localhost:8080/",
          "height": 313
        },
        "id": "90X6IqR62TfY",
        "outputId": "87063db7-b89c-47fe-deb0-5aff192dbfcd"
      },
      "source": [
        "pop= df.sort_values('popularity', ascending=False)\n",
        "\n",
        "plt.figure(figsize=(12,4))\n",
        "\n",
        "plt.barh(pop['original_title'].head(6),pop['popularity'].head(6), align='center',color='blue')\n",
        "plt.gca().invert_yaxis()\n",
        "plt.xlabel(\"Popularity\")\n",
        "plt.title(\"Popular Movies\")"
      ],
      "execution_count": 50,
      "outputs": [
        {
          "output_type": "execute_result",
          "data": {
            "text/plain": [
              "Text(0.5, 1.0, 'Popular Movies')"
            ]
          },
          "metadata": {
            "tags": []
          },
          "execution_count": 50
        },
        {
          "output_type": "display_data",
          "data": {
            "image/png": "[encoded data removed]",
            "text/plain": [
              "<Figure size 864x288 with 1 Axes>"
            ]
          },
          "metadata": {
            "tags": [],
            "needs_background": "light"
          }
        }
      ]
    },
    {
      "cell_type": "markdown",
      "metadata": {
        "id": "Rxsz60Z95oun"
      },
      "source": [
        "##Keywords\n",
        "The keywords describes the films. Indeed, a basic assumption is that films described by similar keywords should have similar contents"
      ]
    },
    {
      "cell_type": "code",
      "metadata": {
        "id": "NBUP7NXD9a1i"
      },
      "source": [
        "def pipe_flatten_names(keywords):\n",
        "    return '|'.join([x['name'] for x in keywords])"
      ],
      "execution_count": 51,
      "outputs": []
    },
    {
      "cell_type": "code",
      "metadata": {
        "id": "4BCm9B_s9rnM"
      },
      "source": [
        "keywords = df.copy()"
      ],
      "execution_count": 52,
      "outputs": []
    },
    {
      "cell_type": "code",
      "metadata": {
        "id": "wttEHuTN9cgI"
      },
      "source": [
        "keywords['keywords'] = keywords['keywords'].apply(pipe_flatten_names)"
      ],
      "execution_count": 53,
      "outputs": []
    },
    {
      "cell_type": "code",
      "metadata": {
        "colab": {
          "base_uri": "https://localhost:8080/"
        },
        "id": "y9pHr6Jg_LLd",
        "outputId": "854c171f-6f93-416a-f996-1e31045c945a"
      },
      "source": [
        "keywords['keywords']"
      ],
      "execution_count": 54,
      "outputs": [
        {
          "output_type": "execute_result",
          "data": {
            "text/plain": [
              "0       culture clash|future|space war|space colony|so...\n",
              "1       ocean|drug abuse|exotic island|east india trad...\n",
              "2       spy|based on novel|secret agent|sequel|mi6|bri...\n",
              "3       dc comics|crime fighter|terrorist|secret ident...\n",
              "4       based on novel|mars|medallion|space travel|pri...\n",
              "                              ...                        \n",
              "4775                                           mumblecore\n",
              "4788    gay|trailer park|pop culture|drug dealer|heroi...\n",
              "4792    japan|prostitute|hotel|based on novel|hallucin...\n",
              "4796    distrust|garage|identity crisis|time travel|ti...\n",
              "4798    united states–mexico barrier|legs|arms|paper k...\n",
              "Name: keywords, Length: 3376, dtype: object"
            ]
          },
          "metadata": {
            "tags": []
          },
          "execution_count": 54
        }
      ]
    },
    {
      "cell_type": "code",
      "metadata": {
        "id": "IFU-SpDF54om"
      },
      "source": [
        "set_keywords = set()\n",
        "for liste_keywords in keywords['keywords'].str.split('|').values:\n",
        "    if isinstance(liste_keywords, float): continue  # only happen if liste_keywords = NaN\n",
        "    set_keywords = set_keywords.union(liste_keywords)"
      ],
      "execution_count": 55,
      "outputs": []
    },
    {
      "cell_type": "code",
      "metadata": {
        "id": "jzgVCssn8RVX"
      },
      "source": [
        "def count_word(df, ref_col, liste):\n",
        "    keyword_count = dict()\n",
        "    for s in liste: keyword_count[s] = 0\n",
        "    for liste_keywords in df[ref_col].str.split('|'):        \n",
        "        if type(liste_keywords) == float and pd.isnull(liste_keywords): continue        \n",
        "        for s in [s for s in liste_keywords if s in liste]: \n",
        "            if pd.notnull(s): keyword_count[s] += 1\n",
        "    #______________________________________________________________________\n",
        "    # convert the dictionary in a list to sort the keywords by frequency\n",
        "    keyword_occurences = []\n",
        "    for k,v in keyword_count.items():\n",
        "        keyword_occurences.append([k,v])\n",
        "    keyword_occurences.sort(key = lambda x:x[1], reverse = True)\n",
        "    return keyword_occurences, keyword_count"
      ],
      "execution_count": 56,
      "outputs": []
    },
    {
      "cell_type": "code",
      "metadata": {
        "colab": {
          "base_uri": "https://localhost:8080/"
        },
        "id": "ihtbywXG8Vh9",
        "outputId": "542710a8-d9f3-492b-942e-3da743873737"
      },
      "source": [
        "keyword_occurences, dum = count_word(keywords,'keywords',set_keywords)\n",
        "keyword_occurences[:5]"
      ],
      "execution_count": 57,
      "outputs": [
        {
          "output_type": "execute_result",
          "data": {
            "text/plain": [
              "[['duringcreditsstinger', 278],\n",
              " ['woman director', 185],\n",
              " ['based on novel', 179],\n",
              " ['aftercreditsstinger', 152],\n",
              " ['murder', 143]]"
            ]
          },
          "metadata": {
            "tags": []
          },
          "execution_count": 57
        }
      ]
    },
    {
      "cell_type": "code",
      "metadata": {
        "colab": {
          "base_uri": "https://localhost:8080/",
          "height": 906
        },
        "id": "7TEIGW49E_qs",
        "outputId": "4418ae3d-2e76-4cb7-ab64-cdc394fb22aa"
      },
      "source": [
        "def random_color_func(word=None, font_size=None, position=None,\n",
        "                      orientation=None, font_path=None, random_state=None):\n",
        "    h = int(360.0 * tone / 255.0)\n",
        "    s = int(100.0 * 255.0 / 255.0)\n",
        "    l = int(100.0 * float(random_state.randint(70, 120)) / 255.0)\n",
        "    return \"hsl({}, {}%, {}%)\".format(h, s, l)\n",
        "#_____________________________________________\n",
        "# UPPER PANEL: WORDCLOUD\n",
        "fig = plt.figure(1, figsize=(18,13))\n",
        "ax1 = fig.add_subplot(2,1,1)\n",
        "#_______________________________________________________\n",
        "# I define the dictionary used to produce the wordcloud\n",
        "words = dict()\n",
        "trunc_occurences = keyword_occurences[0:50]\n",
        "for s in trunc_occurences:\n",
        "    words[s[0]] = s[1]\n",
        "tone = 55.0 # define the color of the words\n",
        "#________________________________________________________\n",
        "wordcloud = WordCloud(width=1000,height=300, background_color='black', max_words=1628,relative_scaling=1,color_func = random_color_func,normalize_plurals=False)\n",
        "wordcloud.generate_from_frequencies(words)\n",
        "ax1.imshow(wordcloud, interpolation=\"bilinear\")\n",
        "ax1.axis('off')\n",
        "#_____________________________________________\n",
        "# LOWER PANEL: HISTOGRAMS\n",
        "ax2 = fig.add_subplot(2,1,2)\n",
        "y_axis = [i[1] for i in trunc_occurences]\n",
        "x_axis = [k for k,i in enumerate(trunc_occurences)]\n",
        "x_label = [i[0] for i in trunc_occurences]\n",
        "plt.xticks(rotation=85, fontsize = 15)\n",
        "plt.yticks(fontsize = 15)\n",
        "plt.xticks(x_axis, x_label)\n",
        "plt.ylabel(\"Nb. of occurences\", fontsize = 18, labelpad = 10)\n",
        "ax2.bar(x_axis, y_axis, align = 'center', color='g')\n",
        "#_______________________\n",
        "plt.title(\"Keywords popularity\",bbox={'facecolor':'k', 'pad':5},color='w',fontsize = 25)\n",
        "plt.show()"
      ],
      "execution_count": 58,
      "outputs": [
        {
          "output_type": "display_data",
          "data": {
            "image/png": "[encoded data removed]",
            "text/plain": [
              "<Figure size 1296x936 with 2 Axes>"
            ]
          },
          "metadata": {
            "tags": [],
            "needs_background": "light"
          }
        }
      ]
    },
    {
      "cell_type": "markdown",
      "metadata": {
        "id": "rW_ez6aPuOBr"
      },
      "source": [
        "##Let's see now the correlation between all these variables among themselves"
      ]
    },
    {
      "cell_type": "code",
      "metadata": {
        "colab": {
          "base_uri": "https://localhost:8080/",
          "height": 717
        },
        "id": "h2vpjwwSr5i0",
        "outputId": "741475eb-939b-4fe7-e1cc-2b54d7502aaa"
      },
      "source": [
        "fig, ax = plt.subplots(figsize=(14,12));\n",
        "new = df[['revenue','budget', 'runtime', 'vote_average', 'popularity','profit','vote_count']].copy()\n",
        "new = new.corr()\n",
        "sns.heatmap(new, ax=ax);\n",
        "ax.set_title('Correlation matrix heatmap');"
      ],
      "execution_count": 59,
      "outputs": [
        {
          "output_type": "display_data",
          "data": {
            "image/png": "[encoded data removed]",
            "text/plain": [
              "<Figure size 1008x864 with 2 Axes>"
            ]
          },
          "metadata": {
            "tags": [],
            "needs_background": "light"
          }
        }
      ]
    },
    {
      "cell_type": "markdown",
      "metadata": {
        "id": "oZY1GWLPGvZv"
      },
      "source": [
        "References :\n",
        "\n",
        "* https://www.kaggle.com/sohier/film-recommendation-engine-converted-to-use-tmdb/comments\n",
        "\n",
        "* https://www.kaggle.com/ibtesama/getting-started-with-a-movie-recommendation-system"
      ]
    }
  ]
}