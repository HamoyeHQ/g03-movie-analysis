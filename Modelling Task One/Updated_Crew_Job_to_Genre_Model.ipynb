{
 "cells": [
  {
   "cell_type": "code",
   "execution_count": 234,
   "metadata": {},
   "outputs": [],
   "source": [
    "import pandas as pd \n",
    "import numpy as np \n",
    "df1=pd.read_csv('tmdb_5000_credits.csv')\n",
    "df2=pd.read_csv('tmdb_5000_movies.csv')"
   ]
  },
  {
   "cell_type": "markdown",
   "metadata": {},
   "source": [
    "### before i start the modelling i, am going to merge df1 and df2 on movie_id  and title, this is because these are the common columns in both DataFrames"
   ]
  },
  {
   "cell_type": "code",
   "execution_count": 235,
   "metadata": {},
   "outputs": [
    {
     "name": "stdout",
     "output_type": "stream",
     "text": [
      "(4803, 4)\n",
      "<class 'pandas.core.frame.DataFrame'>\n",
      "RangeIndex: 4803 entries, 0 to 4802\n",
      "Data columns (total 4 columns):\n",
      " #   Column    Non-Null Count  Dtype \n",
      "---  ------    --------------  ----- \n",
      " 0   movie_id  4803 non-null   int64 \n",
      " 1   title     4803 non-null   object\n",
      " 2   cast      4803 non-null   object\n",
      " 3   crew      4803 non-null   object\n",
      "dtypes: int64(1), object(3)\n",
      "memory usage: 150.2+ KB\n",
      "None\n"
     ]
    },
    {
     "data": {
      "text/html": [
       "<div>\n",
       "<style scoped>\n",
       "    .dataframe tbody tr th:only-of-type {\n",
       "        vertical-align: middle;\n",
       "    }\n",
       "\n",
       "    .dataframe tbody tr th {\n",
       "        vertical-align: top;\n",
       "    }\n",
       "\n",
       "    .dataframe thead th {\n",
       "        text-align: right;\n",
       "    }\n",
       "</style>\n",
       "<table border=\"1\" class=\"dataframe\">\n",
       "  <thead>\n",
       "    <tr style=\"text-align: right;\">\n",
       "      <th></th>\n",
       "      <th>movie_id</th>\n",
       "      <th>title</th>\n",
       "      <th>cast</th>\n",
       "      <th>crew</th>\n",
       "    </tr>\n",
       "  </thead>\n",
       "  <tbody>\n",
       "    <tr>\n",
       "      <th>0</th>\n",
       "      <td>19995</td>\n",
       "      <td>Avatar</td>\n",
       "      <td>[{\"cast_id\": 242, \"character\": \"Jake Sully\", \"...</td>\n",
       "      <td>[{\"credit_id\": \"52fe48009251416c750aca23\", \"de...</td>\n",
       "    </tr>\n",
       "    <tr>\n",
       "      <th>1</th>\n",
       "      <td>285</td>\n",
       "      <td>Pirates of the Caribbean: At World's End</td>\n",
       "      <td>[{\"cast_id\": 4, \"character\": \"Captain Jack Spa...</td>\n",
       "      <td>[{\"credit_id\": \"52fe4232c3a36847f800b579\", \"de...</td>\n",
       "    </tr>\n",
       "  </tbody>\n",
       "</table>\n",
       "</div>"
      ],
      "text/plain": [
       "   movie_id                                     title  \\\n",
       "0     19995                                    Avatar   \n",
       "1       285  Pirates of the Caribbean: At World's End   \n",
       "\n",
       "                                                cast  \\\n",
       "0  [{\"cast_id\": 242, \"character\": \"Jake Sully\", \"...   \n",
       "1  [{\"cast_id\": 4, \"character\": \"Captain Jack Spa...   \n",
       "\n",
       "                                                crew  \n",
       "0  [{\"credit_id\": \"52fe48009251416c750aca23\", \"de...  \n",
       "1  [{\"credit_id\": \"52fe4232c3a36847f800b579\", \"de...  "
      ]
     },
     "execution_count": 235,
     "metadata": {},
     "output_type": "execute_result"
    }
   ],
   "source": [
    "print(df1.shape)\n",
    "print(df1.info())\n",
    "df1.head(2)"
   ]
  },
  {
   "cell_type": "code",
   "execution_count": 236,
   "metadata": {},
   "outputs": [
    {
     "name": "stdout",
     "output_type": "stream",
     "text": [
      "(4803, 20)\n",
      "<class 'pandas.core.frame.DataFrame'>\n",
      "RangeIndex: 4803 entries, 0 to 4802\n",
      "Data columns (total 20 columns):\n",
      " #   Column                Non-Null Count  Dtype  \n",
      "---  ------                --------------  -----  \n",
      " 0   budget                4803 non-null   int64  \n",
      " 1   genres                4803 non-null   object \n",
      " 2   homepage              1712 non-null   object \n",
      " 3   id                    4803 non-null   int64  \n",
      " 4   keywords              4803 non-null   object \n",
      " 5   original_language     4803 non-null   object \n",
      " 6   original_title        4803 non-null   object \n",
      " 7   overview              4800 non-null   object \n",
      " 8   popularity            4803 non-null   float64\n",
      " 9   production_companies  4803 non-null   object \n",
      " 10  production_countries  4803 non-null   object \n",
      " 11  release_date          4802 non-null   object \n",
      " 12  revenue               4803 non-null   int64  \n",
      " 13  runtime               4801 non-null   float64\n",
      " 14  spoken_languages      4803 non-null   object \n",
      " 15  status                4803 non-null   object \n",
      " 16  tagline               3959 non-null   object \n",
      " 17  title                 4803 non-null   object \n",
      " 18  vote_average          4803 non-null   float64\n",
      " 19  vote_count            4803 non-null   int64  \n",
      "dtypes: float64(3), int64(4), object(13)\n",
      "memory usage: 750.6+ KB\n",
      "None\n"
     ]
    },
    {
     "data": {
      "text/html": [
       "<div>\n",
       "<style scoped>\n",
       "    .dataframe tbody tr th:only-of-type {\n",
       "        vertical-align: middle;\n",
       "    }\n",
       "\n",
       "    .dataframe tbody tr th {\n",
       "        vertical-align: top;\n",
       "    }\n",
       "\n",
       "    .dataframe thead th {\n",
       "        text-align: right;\n",
       "    }\n",
       "</style>\n",
       "<table border=\"1\" class=\"dataframe\">\n",
       "  <thead>\n",
       "    <tr style=\"text-align: right;\">\n",
       "      <th></th>\n",
       "      <th>budget</th>\n",
       "      <th>genres</th>\n",
       "      <th>homepage</th>\n",
       "      <th>id</th>\n",
       "      <th>keywords</th>\n",
       "      <th>original_language</th>\n",
       "      <th>original_title</th>\n",
       "      <th>overview</th>\n",
       "      <th>popularity</th>\n",
       "      <th>production_companies</th>\n",
       "      <th>production_countries</th>\n",
       "      <th>release_date</th>\n",
       "      <th>revenue</th>\n",
       "      <th>runtime</th>\n",
       "      <th>spoken_languages</th>\n",
       "      <th>status</th>\n",
       "      <th>tagline</th>\n",
       "      <th>title</th>\n",
       "      <th>vote_average</th>\n",
       "      <th>vote_count</th>\n",
       "    </tr>\n",
       "  </thead>\n",
       "  <tbody>\n",
       "    <tr>\n",
       "      <th>0</th>\n",
       "      <td>237000000</td>\n",
       "      <td>[{\"id\": 28, \"name\": \"Action\"}, {\"id\": 12, \"nam...</td>\n",
       "      <td>http://www.avatarmovie.com/</td>\n",
       "      <td>19995</td>\n",
       "      <td>[{\"id\": 1463, \"name\": \"culture clash\"}, {\"id\":...</td>\n",
       "      <td>en</td>\n",
       "      <td>Avatar</td>\n",
       "      <td>In the 22nd century, a paraplegic Marine is di...</td>\n",
       "      <td>150.437577</td>\n",
       "      <td>[{\"name\": \"Ingenious Film Partners\", \"id\": 289...</td>\n",
       "      <td>[{\"iso_3166_1\": \"US\", \"name\": \"United States o...</td>\n",
       "      <td>2009-12-10</td>\n",
       "      <td>2787965087</td>\n",
       "      <td>162.0</td>\n",
       "      <td>[{\"iso_639_1\": \"en\", \"name\": \"English\"}, {\"iso...</td>\n",
       "      <td>Released</td>\n",
       "      <td>Enter the World of Pandora.</td>\n",
       "      <td>Avatar</td>\n",
       "      <td>7.2</td>\n",
       "      <td>11800</td>\n",
       "    </tr>\n",
       "    <tr>\n",
       "      <th>1</th>\n",
       "      <td>300000000</td>\n",
       "      <td>[{\"id\": 12, \"name\": \"Adventure\"}, {\"id\": 14, \"...</td>\n",
       "      <td>http://disney.go.com/disneypictures/pirates/</td>\n",
       "      <td>285</td>\n",
       "      <td>[{\"id\": 270, \"name\": \"ocean\"}, {\"id\": 726, \"na...</td>\n",
       "      <td>en</td>\n",
       "      <td>Pirates of the Caribbean: At World's End</td>\n",
       "      <td>Captain Barbossa, long believed to be dead, ha...</td>\n",
       "      <td>139.082615</td>\n",
       "      <td>[{\"name\": \"Walt Disney Pictures\", \"id\": 2}, {\"...</td>\n",
       "      <td>[{\"iso_3166_1\": \"US\", \"name\": \"United States o...</td>\n",
       "      <td>2007-05-19</td>\n",
       "      <td>961000000</td>\n",
       "      <td>169.0</td>\n",
       "      <td>[{\"iso_639_1\": \"en\", \"name\": \"English\"}]</td>\n",
       "      <td>Released</td>\n",
       "      <td>At the end of the world, the adventure begins.</td>\n",
       "      <td>Pirates of the Caribbean: At World's End</td>\n",
       "      <td>6.9</td>\n",
       "      <td>4500</td>\n",
       "    </tr>\n",
       "  </tbody>\n",
       "</table>\n",
       "</div>"
      ],
      "text/plain": [
       "      budget                                             genres  \\\n",
       "0  237000000  [{\"id\": 28, \"name\": \"Action\"}, {\"id\": 12, \"nam...   \n",
       "1  300000000  [{\"id\": 12, \"name\": \"Adventure\"}, {\"id\": 14, \"...   \n",
       "\n",
       "                                       homepage     id  \\\n",
       "0                   http://www.avatarmovie.com/  19995   \n",
       "1  http://disney.go.com/disneypictures/pirates/    285   \n",
       "\n",
       "                                            keywords original_language  \\\n",
       "0  [{\"id\": 1463, \"name\": \"culture clash\"}, {\"id\":...                en   \n",
       "1  [{\"id\": 270, \"name\": \"ocean\"}, {\"id\": 726, \"na...                en   \n",
       "\n",
       "                             original_title  \\\n",
       "0                                    Avatar   \n",
       "1  Pirates of the Caribbean: At World's End   \n",
       "\n",
       "                                            overview  popularity  \\\n",
       "0  In the 22nd century, a paraplegic Marine is di...  150.437577   \n",
       "1  Captain Barbossa, long believed to be dead, ha...  139.082615   \n",
       "\n",
       "                                production_companies  \\\n",
       "0  [{\"name\": \"Ingenious Film Partners\", \"id\": 289...   \n",
       "1  [{\"name\": \"Walt Disney Pictures\", \"id\": 2}, {\"...   \n",
       "\n",
       "                                production_countries release_date     revenue  \\\n",
       "0  [{\"iso_3166_1\": \"US\", \"name\": \"United States o...   2009-12-10  2787965087   \n",
       "1  [{\"iso_3166_1\": \"US\", \"name\": \"United States o...   2007-05-19   961000000   \n",
       "\n",
       "   runtime                                   spoken_languages    status  \\\n",
       "0    162.0  [{\"iso_639_1\": \"en\", \"name\": \"English\"}, {\"iso...  Released   \n",
       "1    169.0           [{\"iso_639_1\": \"en\", \"name\": \"English\"}]  Released   \n",
       "\n",
       "                                          tagline  \\\n",
       "0                     Enter the World of Pandora.   \n",
       "1  At the end of the world, the adventure begins.   \n",
       "\n",
       "                                      title  vote_average  vote_count  \n",
       "0                                    Avatar           7.2       11800  \n",
       "1  Pirates of the Caribbean: At World's End           6.9        4500  "
      ]
     },
     "execution_count": 236,
     "metadata": {},
     "output_type": "execute_result"
    }
   ],
   "source": [
    "print(df2.shape)\n",
    "print(df2.info())\n",
    "df2.head(2)"
   ]
  },
  {
   "cell_type": "markdown",
   "metadata": {},
   "source": [
    "### to merge succesfully i simply had to rename 'movie_id' in df1 to 'id' so it can have same column name as df2"
   ]
  },
  {
   "cell_type": "code",
   "execution_count": 237,
   "metadata": {},
   "outputs": [
    {
     "name": "stdout",
     "output_type": "stream",
     "text": [
      "(4803, 22)\n",
      "<class 'pandas.core.frame.DataFrame'>\n",
      "Int64Index: 4803 entries, 0 to 4802\n",
      "Data columns (total 22 columns):\n",
      " #   Column                Non-Null Count  Dtype  \n",
      "---  ------                --------------  -----  \n",
      " 0   budget                4803 non-null   int64  \n",
      " 1   genres                4803 non-null   object \n",
      " 2   homepage              1712 non-null   object \n",
      " 3   id                    4803 non-null   int64  \n",
      " 4   keywords              4803 non-null   object \n",
      " 5   original_language     4803 non-null   object \n",
      " 6   original_title        4803 non-null   object \n",
      " 7   overview              4800 non-null   object \n",
      " 8   popularity            4803 non-null   float64\n",
      " 9   production_companies  4803 non-null   object \n",
      " 10  production_countries  4803 non-null   object \n",
      " 11  release_date          4802 non-null   object \n",
      " 12  revenue               4803 non-null   int64  \n",
      " 13  runtime               4801 non-null   float64\n",
      " 14  spoken_languages      4803 non-null   object \n",
      " 15  status                4803 non-null   object \n",
      " 16  tagline               3959 non-null   object \n",
      " 17  title                 4803 non-null   object \n",
      " 18  vote_average          4803 non-null   float64\n",
      " 19  vote_count            4803 non-null   int64  \n",
      " 20  cast                  4803 non-null   object \n",
      " 21  crew                  4803 non-null   object \n",
      "dtypes: float64(3), int64(4), object(15)\n",
      "memory usage: 863.0+ KB\n",
      "None\n"
     ]
    },
    {
     "data": {
      "text/html": [
       "<div>\n",
       "<style scoped>\n",
       "    .dataframe tbody tr th:only-of-type {\n",
       "        vertical-align: middle;\n",
       "    }\n",
       "\n",
       "    .dataframe tbody tr th {\n",
       "        vertical-align: top;\n",
       "    }\n",
       "\n",
       "    .dataframe thead th {\n",
       "        text-align: right;\n",
       "    }\n",
       "</style>\n",
       "<table border=\"1\" class=\"dataframe\">\n",
       "  <thead>\n",
       "    <tr style=\"text-align: right;\">\n",
       "      <th></th>\n",
       "      <th>budget</th>\n",
       "      <th>genres</th>\n",
       "      <th>homepage</th>\n",
       "      <th>id</th>\n",
       "      <th>keywords</th>\n",
       "      <th>original_language</th>\n",
       "      <th>original_title</th>\n",
       "      <th>overview</th>\n",
       "      <th>popularity</th>\n",
       "      <th>production_companies</th>\n",
       "      <th>...</th>\n",
       "      <th>revenue</th>\n",
       "      <th>runtime</th>\n",
       "      <th>spoken_languages</th>\n",
       "      <th>status</th>\n",
       "      <th>tagline</th>\n",
       "      <th>title</th>\n",
       "      <th>vote_average</th>\n",
       "      <th>vote_count</th>\n",
       "      <th>cast</th>\n",
       "      <th>crew</th>\n",
       "    </tr>\n",
       "  </thead>\n",
       "  <tbody>\n",
       "    <tr>\n",
       "      <th>0</th>\n",
       "      <td>237000000</td>\n",
       "      <td>[{\"id\": 28, \"name\": \"Action\"}, {\"id\": 12, \"nam...</td>\n",
       "      <td>http://www.avatarmovie.com/</td>\n",
       "      <td>19995</td>\n",
       "      <td>[{\"id\": 1463, \"name\": \"culture clash\"}, {\"id\":...</td>\n",
       "      <td>en</td>\n",
       "      <td>Avatar</td>\n",
       "      <td>In the 22nd century, a paraplegic Marine is di...</td>\n",
       "      <td>150.437577</td>\n",
       "      <td>[{\"name\": \"Ingenious Film Partners\", \"id\": 289...</td>\n",
       "      <td>...</td>\n",
       "      <td>2787965087</td>\n",
       "      <td>162.0</td>\n",
       "      <td>[{\"iso_639_1\": \"en\", \"name\": \"English\"}, {\"iso...</td>\n",
       "      <td>Released</td>\n",
       "      <td>Enter the World of Pandora.</td>\n",
       "      <td>Avatar</td>\n",
       "      <td>7.2</td>\n",
       "      <td>11800</td>\n",
       "      <td>[{\"cast_id\": 242, \"character\": \"Jake Sully\", \"...</td>\n",
       "      <td>[{\"credit_id\": \"52fe48009251416c750aca23\", \"de...</td>\n",
       "    </tr>\n",
       "    <tr>\n",
       "      <th>1</th>\n",
       "      <td>300000000</td>\n",
       "      <td>[{\"id\": 12, \"name\": \"Adventure\"}, {\"id\": 14, \"...</td>\n",
       "      <td>http://disney.go.com/disneypictures/pirates/</td>\n",
       "      <td>285</td>\n",
       "      <td>[{\"id\": 270, \"name\": \"ocean\"}, {\"id\": 726, \"na...</td>\n",
       "      <td>en</td>\n",
       "      <td>Pirates of the Caribbean: At World's End</td>\n",
       "      <td>Captain Barbossa, long believed to be dead, ha...</td>\n",
       "      <td>139.082615</td>\n",
       "      <td>[{\"name\": \"Walt Disney Pictures\", \"id\": 2}, {\"...</td>\n",
       "      <td>...</td>\n",
       "      <td>961000000</td>\n",
       "      <td>169.0</td>\n",
       "      <td>[{\"iso_639_1\": \"en\", \"name\": \"English\"}]</td>\n",
       "      <td>Released</td>\n",
       "      <td>At the end of the world, the adventure begins.</td>\n",
       "      <td>Pirates of the Caribbean: At World's End</td>\n",
       "      <td>6.9</td>\n",
       "      <td>4500</td>\n",
       "      <td>[{\"cast_id\": 4, \"character\": \"Captain Jack Spa...</td>\n",
       "      <td>[{\"credit_id\": \"52fe4232c3a36847f800b579\", \"de...</td>\n",
       "    </tr>\n",
       "    <tr>\n",
       "      <th>2</th>\n",
       "      <td>245000000</td>\n",
       "      <td>[{\"id\": 28, \"name\": \"Action\"}, {\"id\": 12, \"nam...</td>\n",
       "      <td>http://www.sonypictures.com/movies/spectre/</td>\n",
       "      <td>206647</td>\n",
       "      <td>[{\"id\": 470, \"name\": \"spy\"}, {\"id\": 818, \"name...</td>\n",
       "      <td>en</td>\n",
       "      <td>Spectre</td>\n",
       "      <td>A cryptic message from Bond’s past sends him o...</td>\n",
       "      <td>107.376788</td>\n",
       "      <td>[{\"name\": \"Columbia Pictures\", \"id\": 5}, {\"nam...</td>\n",
       "      <td>...</td>\n",
       "      <td>880674609</td>\n",
       "      <td>148.0</td>\n",
       "      <td>[{\"iso_639_1\": \"fr\", \"name\": \"Fran\\u00e7ais\"},...</td>\n",
       "      <td>Released</td>\n",
       "      <td>A Plan No One Escapes</td>\n",
       "      <td>Spectre</td>\n",
       "      <td>6.3</td>\n",
       "      <td>4466</td>\n",
       "      <td>[{\"cast_id\": 1, \"character\": \"James Bond\", \"cr...</td>\n",
       "      <td>[{\"credit_id\": \"54805967c3a36829b5002c41\", \"de...</td>\n",
       "    </tr>\n",
       "  </tbody>\n",
       "</table>\n",
       "<p>3 rows × 22 columns</p>\n",
       "</div>"
      ],
      "text/plain": [
       "      budget                                             genres  \\\n",
       "0  237000000  [{\"id\": 28, \"name\": \"Action\"}, {\"id\": 12, \"nam...   \n",
       "1  300000000  [{\"id\": 12, \"name\": \"Adventure\"}, {\"id\": 14, \"...   \n",
       "2  245000000  [{\"id\": 28, \"name\": \"Action\"}, {\"id\": 12, \"nam...   \n",
       "\n",
       "                                       homepage      id  \\\n",
       "0                   http://www.avatarmovie.com/   19995   \n",
       "1  http://disney.go.com/disneypictures/pirates/     285   \n",
       "2   http://www.sonypictures.com/movies/spectre/  206647   \n",
       "\n",
       "                                            keywords original_language  \\\n",
       "0  [{\"id\": 1463, \"name\": \"culture clash\"}, {\"id\":...                en   \n",
       "1  [{\"id\": 270, \"name\": \"ocean\"}, {\"id\": 726, \"na...                en   \n",
       "2  [{\"id\": 470, \"name\": \"spy\"}, {\"id\": 818, \"name...                en   \n",
       "\n",
       "                             original_title  \\\n",
       "0                                    Avatar   \n",
       "1  Pirates of the Caribbean: At World's End   \n",
       "2                                   Spectre   \n",
       "\n",
       "                                            overview  popularity  \\\n",
       "0  In the 22nd century, a paraplegic Marine is di...  150.437577   \n",
       "1  Captain Barbossa, long believed to be dead, ha...  139.082615   \n",
       "2  A cryptic message from Bond’s past sends him o...  107.376788   \n",
       "\n",
       "                                production_companies  ...     revenue runtime  \\\n",
       "0  [{\"name\": \"Ingenious Film Partners\", \"id\": 289...  ...  2787965087   162.0   \n",
       "1  [{\"name\": \"Walt Disney Pictures\", \"id\": 2}, {\"...  ...   961000000   169.0   \n",
       "2  [{\"name\": \"Columbia Pictures\", \"id\": 5}, {\"nam...  ...   880674609   148.0   \n",
       "\n",
       "                                    spoken_languages    status  \\\n",
       "0  [{\"iso_639_1\": \"en\", \"name\": \"English\"}, {\"iso...  Released   \n",
       "1           [{\"iso_639_1\": \"en\", \"name\": \"English\"}]  Released   \n",
       "2  [{\"iso_639_1\": \"fr\", \"name\": \"Fran\\u00e7ais\"},...  Released   \n",
       "\n",
       "                                          tagline  \\\n",
       "0                     Enter the World of Pandora.   \n",
       "1  At the end of the world, the adventure begins.   \n",
       "2                           A Plan No One Escapes   \n",
       "\n",
       "                                      title vote_average vote_count  \\\n",
       "0                                    Avatar          7.2      11800   \n",
       "1  Pirates of the Caribbean: At World's End          6.9       4500   \n",
       "2                                   Spectre          6.3       4466   \n",
       "\n",
       "                                                cast  \\\n",
       "0  [{\"cast_id\": 242, \"character\": \"Jake Sully\", \"...   \n",
       "1  [{\"cast_id\": 4, \"character\": \"Captain Jack Spa...   \n",
       "2  [{\"cast_id\": 1, \"character\": \"James Bond\", \"cr...   \n",
       "\n",
       "                                                crew  \n",
       "0  [{\"credit_id\": \"52fe48009251416c750aca23\", \"de...  \n",
       "1  [{\"credit_id\": \"52fe4232c3a36847f800b579\", \"de...  \n",
       "2  [{\"credit_id\": \"54805967c3a36829b5002c41\", \"de...  \n",
       "\n",
       "[3 rows x 22 columns]"
      ]
     },
     "execution_count": 237,
     "metadata": {},
     "output_type": "execute_result"
    }
   ],
   "source": [
    "df1.columns = ['id','title','cast','crew']\n",
    "df3= df2.merge(df1,on=['id','title'])\n",
    "print(df3.shape)\n",
    "print(df3.info())\n",
    "df3.head(3)"
   ]
  },
  {
   "cell_type": "markdown",
   "metadata": {},
   "source": [
    "### The modelling task 1. wants us to create a classifier that takes the crews job from a movie and tells u if the movie is an 'Animation' movie or 'Not_Animation\" movie"
   ]
  },
  {
   "cell_type": "markdown",
   "metadata": {},
   "source": [
    "To complete this task we can either train a Supervised or an Unsupervised machine learning Classifier. I would be trying the supervised machine learning approach here.\n",
    " \n",
    "1. for the supervised machine learning approach, we need labels for the movies stating if they are Animation or Not_Animation. But from the Dataset such explicit labels are not given for a movies.\n",
    "\n",
    "2. On a more closer Analysis of the dataset, you would notice that such labels can be extracted from the 'genres' column as there is a list containing all the genres of a given movie.\n",
    "\n",
    "3. So for this i would define a function that iterates through that list and gives labels for each movie for if it is 'Animation' or 'Not_Animation'\n",
    "\n",
    "4. For this task we would not be using all the features of the Dataset, we would be using only ('genres','original_title','crew') column, as these are were the attributes needed to ttrain the classifier are found\n"
   ]
  },
  {
   "cell_type": "code",
   "execution_count": 238,
   "metadata": {},
   "outputs": [
    {
     "name": "stdout",
     "output_type": "stream",
     "text": [
      "<class 'pandas.core.frame.DataFrame'>\n",
      "Int64Index: 4803 entries, 0 to 4802\n",
      "Data columns (total 3 columns):\n",
      " #   Column          Non-Null Count  Dtype \n",
      "---  ------          --------------  ----- \n",
      " 0   genres          4803 non-null   object\n",
      " 1   original_title  4803 non-null   object\n",
      " 2   crew            4803 non-null   object\n",
      "dtypes: object(3)\n",
      "memory usage: 150.1+ KB\n",
      "None\n"
     ]
    },
    {
     "data": {
      "text/html": [
       "<div>\n",
       "<style scoped>\n",
       "    .dataframe tbody tr th:only-of-type {\n",
       "        vertical-align: middle;\n",
       "    }\n",
       "\n",
       "    .dataframe tbody tr th {\n",
       "        vertical-align: top;\n",
       "    }\n",
       "\n",
       "    .dataframe thead th {\n",
       "        text-align: right;\n",
       "    }\n",
       "</style>\n",
       "<table border=\"1\" class=\"dataframe\">\n",
       "  <thead>\n",
       "    <tr style=\"text-align: right;\">\n",
       "      <th></th>\n",
       "      <th>genres</th>\n",
       "      <th>original_title</th>\n",
       "      <th>crew</th>\n",
       "    </tr>\n",
       "  </thead>\n",
       "  <tbody>\n",
       "    <tr>\n",
       "      <th>0</th>\n",
       "      <td>[{\"id\": 28, \"name\": \"Action\"}, {\"id\": 12, \"nam...</td>\n",
       "      <td>Avatar</td>\n",
       "      <td>[{\"credit_id\": \"52fe48009251416c750aca23\", \"de...</td>\n",
       "    </tr>\n",
       "    <tr>\n",
       "      <th>1</th>\n",
       "      <td>[{\"id\": 12, \"name\": \"Adventure\"}, {\"id\": 14, \"...</td>\n",
       "      <td>Pirates of the Caribbean: At World's End</td>\n",
       "      <td>[{\"credit_id\": \"52fe4232c3a36847f800b579\", \"de...</td>\n",
       "    </tr>\n",
       "  </tbody>\n",
       "</table>\n",
       "</div>"
      ],
      "text/plain": [
       "                                              genres  \\\n",
       "0  [{\"id\": 28, \"name\": \"Action\"}, {\"id\": 12, \"nam...   \n",
       "1  [{\"id\": 12, \"name\": \"Adventure\"}, {\"id\": 14, \"...   \n",
       "\n",
       "                             original_title  \\\n",
       "0                                    Avatar   \n",
       "1  Pirates of the Caribbean: At World's End   \n",
       "\n",
       "                                                crew  \n",
       "0  [{\"credit_id\": \"52fe48009251416c750aca23\", \"de...  \n",
       "1  [{\"credit_id\": \"52fe4232c3a36847f800b579\", \"de...  "
      ]
     },
     "execution_count": 238,
     "metadata": {},
     "output_type": "execute_result"
    }
   ],
   "source": [
    "# selecting the features needed for the modeling and assigning to variable df\n",
    "df = df3.loc[:,['genres','original_title','crew']]\n",
    "print(df.info())\n",
    "df.head(2)\n",
    "# we can see there are no null values in the selected features"
   ]
  },
  {
   "cell_type": "markdown",
   "metadata": {},
   "source": [
    "#### Here i applied the literal_eval function to help with the iteration and extraction of data inside of the json columns 'genres' and 'crew'"
   ]
  },
  {
   "cell_type": "code",
   "execution_count": 239,
   "metadata": {},
   "outputs": [],
   "source": [
    "from ast import literal_eval\n",
    "col_names = ['genres','crew']\n",
    "for cols in col_names:\n",
    "    df[cols] = df[cols].apply(literal_eval)"
   ]
  },
  {
   "cell_type": "markdown",
   "metadata": {},
   "source": [
    "#### This function here simply extracts all the genres from a movie and appends them to a list. stuffs like id and name are not needed here, we just need the genres."
   ]
  },
  {
   "cell_type": "code",
   "execution_count": 240,
   "metadata": {},
   "outputs": [],
   "source": [
    "def get_genres(x):\n",
    "    if isinstance(x, list):\n",
    "        names = [i['name'] for i in x]\n",
    "        \n",
    "        return names\n",
    "df['genres'] = df['genres'].apply(get_genres)"
   ]
  },
  {
   "cell_type": "markdown",
   "metadata": {},
   "source": [
    "#### For the crew members, we dont need their names or their sex, all we require is their job, and so the function below helps extract the jobs of all the crew members and appends them in a list. "
   ]
  },
  {
   "cell_type": "code",
   "execution_count": 241,
   "metadata": {},
   "outputs": [],
   "source": [
    "#function for crew memebers\n",
    "def get_jobs(x):\n",
    "    if isinstance(x, list):\n",
    "        jobs = [i['job'] for i in x]\n",
    "        \n",
    "        return jobs\n",
    "\n",
    "    #Return empty list in case of missing Data\n",
    "df['crew'] = df['crew'].apply(get_jobs)"
   ]
  },
  {
   "cell_type": "code",
   "execution_count": 242,
   "metadata": {},
   "outputs": [
    {
     "data": {
      "text/html": [
       "<div>\n",
       "<style scoped>\n",
       "    .dataframe tbody tr th:only-of-type {\n",
       "        vertical-align: middle;\n",
       "    }\n",
       "\n",
       "    .dataframe tbody tr th {\n",
       "        vertical-align: top;\n",
       "    }\n",
       "\n",
       "    .dataframe thead th {\n",
       "        text-align: right;\n",
       "    }\n",
       "</style>\n",
       "<table border=\"1\" class=\"dataframe\">\n",
       "  <thead>\n",
       "    <tr style=\"text-align: right;\">\n",
       "      <th></th>\n",
       "      <th>genres</th>\n",
       "      <th>original_title</th>\n",
       "      <th>crew</th>\n",
       "    </tr>\n",
       "  </thead>\n",
       "  <tbody>\n",
       "    <tr>\n",
       "      <th>0</th>\n",
       "      <td>[Action, Adventure, Fantasy, Science Fiction]</td>\n",
       "      <td>Avatar</td>\n",
       "      <td>[Editor, Production Design, Sound Designer, Su...</td>\n",
       "    </tr>\n",
       "    <tr>\n",
       "      <th>1</th>\n",
       "      <td>[Adventure, Fantasy, Action]</td>\n",
       "      <td>Pirates of the Caribbean: At World's End</td>\n",
       "      <td>[Director of Photography, Director, Producer, ...</td>\n",
       "    </tr>\n",
       "    <tr>\n",
       "      <th>2</th>\n",
       "      <td>[Action, Adventure, Crime]</td>\n",
       "      <td>Spectre</td>\n",
       "      <td>[Original Music Composer, Director, Set Decora...</td>\n",
       "    </tr>\n",
       "  </tbody>\n",
       "</table>\n",
       "</div>"
      ],
      "text/plain": [
       "                                          genres  \\\n",
       "0  [Action, Adventure, Fantasy, Science Fiction]   \n",
       "1                   [Adventure, Fantasy, Action]   \n",
       "2                     [Action, Adventure, Crime]   \n",
       "\n",
       "                             original_title  \\\n",
       "0                                    Avatar   \n",
       "1  Pirates of the Caribbean: At World's End   \n",
       "2                                   Spectre   \n",
       "\n",
       "                                                crew  \n",
       "0  [Editor, Production Design, Sound Designer, Su...  \n",
       "1  [Director of Photography, Director, Producer, ...  \n",
       "2  [Original Music Composer, Director, Set Decora...  "
      ]
     },
     "execution_count": 242,
     "metadata": {},
     "output_type": "execute_result"
    }
   ],
   "source": [
    "df.head(3)"
   ]
  },
  {
   "cell_type": "markdown",
   "metadata": {},
   "source": [
    "#### we could clearly see that the features have been extracted succesfully, but i must point out a few things.\n",
    "\n",
    "#### 1. I would be using a Bag_of_Words model to count every individual job title in a row and record how many times they occur in that row \n",
    "\n",
    "#### 2. To Use the Bag of words model, The data has to be transformed to be in sentence form, where each row is a string containing\n",
    "\n",
    "####        all the job titles as a single string seperated by commas or a white space, and not individual strings in a list.\n",
    "\n",
    "#### 3. To achieve This i would define a function that takes text-strings in a list and combines them to a single string."
   ]
  },
  {
   "cell_type": "code",
   "execution_count": 243,
   "metadata": {},
   "outputs": [
    {
     "data": {
      "text/plain": [
       "0       [Editor, Production Design, Sound Designer, Su...\n",
       "1       [Director of Photography, Director, Producer, ...\n",
       "2       [Original Music Composer, Director, Set Decora...\n",
       "3       [Original Music Composer, Producer, Screenplay...\n",
       "4       [Screenplay, Director, Thanks, Producer, Casti...\n",
       "                              ...                        \n",
       "4798    [Director, Director of Photography, Editor, Pr...\n",
       "4799    [Director, Producer, Writer, Producer, Cinemat...\n",
       "4800    [Costume Design, Producer, Director of Photogr...\n",
       "4801                                   [Director, Writer]\n",
       "4802    [Executive Producer, Executive Producer, Direc...\n",
       "Name: crew, Length: 4803, dtype: object"
      ]
     },
     "execution_count": 243,
     "metadata": {},
     "output_type": "execute_result"
    }
   ],
   "source": [
    "# column before the transformation\n",
    "df['crew']"
   ]
  },
  {
   "cell_type": "code",
   "execution_count": 244,
   "metadata": {},
   "outputs": [],
   "source": [
    "def join_strings(x):\n",
    "    return \",\".join(x)\n",
    "df['crew'] = df['crew'].apply(join_strings)"
   ]
  },
  {
   "cell_type": "markdown",
   "metadata": {},
   "source": [
    "#### Notice the difference before and after the application of the function. The list have been removed."
   ]
  },
  {
   "cell_type": "code",
   "execution_count": 245,
   "metadata": {},
   "outputs": [
    {
     "data": {
      "text/plain": [
       "0       Editor,Production Design,Sound Designer,Superv...\n",
       "1       Director of Photography,Director,Producer,Scre...\n",
       "2       Original Music Composer,Director,Set Decoratio...\n",
       "3       Original Music Composer,Producer,Screenplay,Di...\n",
       "4       Screenplay,Director,Thanks,Producer,Casting,So...\n",
       "                              ...                        \n",
       "4798    Director,Director of Photography,Editor,Produc...\n",
       "4799    Director,Producer,Writer,Producer,Cinematograp...\n",
       "4800    Costume Design,Producer,Director of Photograph...\n",
       "4801                                      Director,Writer\n",
       "4802    Executive Producer,Executive Producer,Director...\n",
       "Name: crew, Length: 4803, dtype: object"
      ]
     },
     "execution_count": 245,
     "metadata": {},
     "output_type": "execute_result"
    }
   ],
   "source": [
    "df['crew']"
   ]
  },
  {
   "cell_type": "markdown",
   "metadata": {},
   "source": [
    "#### Finally, this function helps to iterate through the genres column to check if a movie is animated or not.  \n",
    "\n",
    "#### Note:\n",
    "\n",
    "#### some of the movies genres might be written in lower case, so the function would first convert all the strings to lower case and \n",
    "\n",
    "#### then iterate through all the element to check for animation.\n"
   ]
  },
  {
   "cell_type": "code",
   "execution_count": 246,
   "metadata": {},
   "outputs": [],
   "source": [
    "def find_animation(x):\n",
    "    lst = []\n",
    "    for i in x:\n",
    "        i = i.lower()\n",
    "        lst.append(i)\n",
    "        \n",
    "    for i in lst:\n",
    "        if i == 'animation':\n",
    "            return 'Animation'\n",
    "    return 'Not_Animation'\n",
    "df['labels'] = df['genres'].apply(find_animation)"
   ]
  },
  {
   "cell_type": "code",
   "execution_count": 247,
   "metadata": {},
   "outputs": [
    {
     "data": {
      "text/html": [
       "<div>\n",
       "<style scoped>\n",
       "    .dataframe tbody tr th:only-of-type {\n",
       "        vertical-align: middle;\n",
       "    }\n",
       "\n",
       "    .dataframe tbody tr th {\n",
       "        vertical-align: top;\n",
       "    }\n",
       "\n",
       "    .dataframe thead th {\n",
       "        text-align: right;\n",
       "    }\n",
       "</style>\n",
       "<table border=\"1\" class=\"dataframe\">\n",
       "  <thead>\n",
       "    <tr style=\"text-align: right;\">\n",
       "      <th></th>\n",
       "      <th>genres</th>\n",
       "      <th>original_title</th>\n",
       "      <th>crew</th>\n",
       "      <th>labels</th>\n",
       "    </tr>\n",
       "  </thead>\n",
       "  <tbody>\n",
       "    <tr>\n",
       "      <th>0</th>\n",
       "      <td>[Action, Adventure, Fantasy, Science Fiction]</td>\n",
       "      <td>Avatar</td>\n",
       "      <td>Editor,Production Design,Sound Designer,Superv...</td>\n",
       "      <td>Not_Animation</td>\n",
       "    </tr>\n",
       "    <tr>\n",
       "      <th>1</th>\n",
       "      <td>[Adventure, Fantasy, Action]</td>\n",
       "      <td>Pirates of the Caribbean: At World's End</td>\n",
       "      <td>Director of Photography,Director,Producer,Scre...</td>\n",
       "      <td>Not_Animation</td>\n",
       "    </tr>\n",
       "    <tr>\n",
       "      <th>2</th>\n",
       "      <td>[Action, Adventure, Crime]</td>\n",
       "      <td>Spectre</td>\n",
       "      <td>Original Music Composer,Director,Set Decoratio...</td>\n",
       "      <td>Not_Animation</td>\n",
       "    </tr>\n",
       "    <tr>\n",
       "      <th>3</th>\n",
       "      <td>[Action, Crime, Drama, Thriller]</td>\n",
       "      <td>The Dark Knight Rises</td>\n",
       "      <td>Original Music Composer,Producer,Screenplay,Di...</td>\n",
       "      <td>Not_Animation</td>\n",
       "    </tr>\n",
       "    <tr>\n",
       "      <th>4</th>\n",
       "      <td>[Action, Adventure, Science Fiction]</td>\n",
       "      <td>John Carter</td>\n",
       "      <td>Screenplay,Director,Thanks,Producer,Casting,So...</td>\n",
       "      <td>Not_Animation</td>\n",
       "    </tr>\n",
       "  </tbody>\n",
       "</table>\n",
       "</div>"
      ],
      "text/plain": [
       "                                          genres  \\\n",
       "0  [Action, Adventure, Fantasy, Science Fiction]   \n",
       "1                   [Adventure, Fantasy, Action]   \n",
       "2                     [Action, Adventure, Crime]   \n",
       "3               [Action, Crime, Drama, Thriller]   \n",
       "4           [Action, Adventure, Science Fiction]   \n",
       "\n",
       "                             original_title  \\\n",
       "0                                    Avatar   \n",
       "1  Pirates of the Caribbean: At World's End   \n",
       "2                                   Spectre   \n",
       "3                     The Dark Knight Rises   \n",
       "4                               John Carter   \n",
       "\n",
       "                                                crew         labels  \n",
       "0  Editor,Production Design,Sound Designer,Superv...  Not_Animation  \n",
       "1  Director of Photography,Director,Producer,Scre...  Not_Animation  \n",
       "2  Original Music Composer,Director,Set Decoratio...  Not_Animation  \n",
       "3  Original Music Composer,Producer,Screenplay,Di...  Not_Animation  \n",
       "4  Screenplay,Director,Thanks,Producer,Casting,So...  Not_Animation  "
      ]
     },
     "execution_count": 247,
     "metadata": {},
     "output_type": "execute_result"
    }
   ],
   "source": [
    "# Transformed Dataset with the newly created labels feature\n",
    "df.head(5)"
   ]
  },
  {
   "cell_type": "markdown",
   "metadata": {},
   "source": [
    "####  I would be using the following tranformers \n",
    "1. CountVectorizer also known as Bag_of_Words and would be including : ( stop_words, lemmatization and ngram_range) as hyperparameters.\n",
    "2. I would include somme customized stopwords, and hence wont have need for tfidfTransformer for weight reduction\n",
    "3. i will be using the MultinomialNaiveBayes model as the classifier ( its input features would be the output from the CountVectorizer).\n",
    "4. Finally the whole process would be encapsulated into a scikit_learn pipeline\n",
    "5. I would also split the Data and use some for training and the others for testing\n",
    "\n"
   ]
  },
  {
   "cell_type": "code",
   "execution_count": 248,
   "metadata": {},
   "outputs": [
    {
     "name": "stdout",
     "output_type": "stream",
     "text": [
      "The empty labels rows are: 0\n"
     ]
    },
    {
     "data": {
      "text/plain": [
       "Not_Animation    4569\n",
       "Animation         234\n",
       "Name: labels, dtype: int64"
      ]
     },
     "execution_count": 248,
     "metadata": {},
     "output_type": "execute_result"
    }
   ],
   "source": [
    "print('The empty labels rows are: {}'.format(df.labels.isnull().sum()))\n",
    "df.labels.value_counts()"
   ]
  },
  {
   "cell_type": "markdown",
   "metadata": {},
   "source": [
    "### I am going to try two approach\n",
    "\n",
    "#### 1. Training the model on a slice of the observations because of tthe imbalance on the Animation and Not_Animation movies. This is solely for the usage of accuracy for evaluation of the performance of the classifier.\n",
    "\n",
    "#### 2. The second approach i would fit the model to all the observations."
   ]
  },
  {
   "cell_type": "markdown",
   "metadata": {},
   "source": [
    "### Approach 1"
   ]
  },
  {
   "cell_type": "markdown",
   "metadata": {},
   "source": [
    "#### So there are 234 movies with labels Animatin and 4569 with labels Not_animation, so i would take 134 of the observations for  Animation movies and 166 Not_animated movies to train the model. this way the classifier has an almost equal amount of documents to learn from. and we can also test the model later on the remmaining 100 observations of animated movie."
   ]
  },
  {
   "cell_type": "code",
   "execution_count": 249,
   "metadata": {},
   "outputs": [],
   "source": [
    "df1 = df[df.labels == 'Animation'].iloc[:134,:]\n",
    "df2 = df[df.labels == 'Not_Animation'].iloc[:166,:]"
   ]
  },
  {
   "cell_type": "code",
   "execution_count": 250,
   "metadata": {},
   "outputs": [
    {
     "name": "stdout",
     "output_type": "stream",
     "text": [
      "The shape of df1 is: (134, 4)\n",
      "\n",
      "\n",
      "The shape of df2 is:(166, 4)\n"
     ]
    }
   ],
   "source": [
    "print('The shape of df1 is: {}'.format(df1.shape))\n",
    "print('\\n')\n",
    "print(f'The shape of df2 is:{df2.shape}')"
   ]
  },
  {
   "cell_type": "markdown",
   "metadata": {},
   "source": [
    "#### So here i simply join the two dataframes and shuffle the dataset"
   ]
  },
  {
   "cell_type": "code",
   "execution_count": 251,
   "metadata": {},
   "outputs": [
    {
     "name": "stdout",
     "output_type": "stream",
     "text": [
      "The shape of the Appended Slice is: (300, 4)\n"
     ]
    }
   ],
   "source": [
    "from sklearn.utils import shuffle\n",
    "df_slice = df1.append(df2)\n",
    "df_slice = shuffle(df_slice)\n",
    "df_slice = df_slice.reset_index(drop = True)\n",
    "print(f'The shape of the Appended Slice is: {df_slice.shape}')"
   ]
  },
  {
   "cell_type": "code",
   "execution_count": 252,
   "metadata": {},
   "outputs": [
    {
     "data": {
      "text/html": [
       "<div>\n",
       "<style scoped>\n",
       "    .dataframe tbody tr th:only-of-type {\n",
       "        vertical-align: middle;\n",
       "    }\n",
       "\n",
       "    .dataframe tbody tr th {\n",
       "        vertical-align: top;\n",
       "    }\n",
       "\n",
       "    .dataframe thead th {\n",
       "        text-align: right;\n",
       "    }\n",
       "</style>\n",
       "<table border=\"1\" class=\"dataframe\">\n",
       "  <thead>\n",
       "    <tr style=\"text-align: right;\">\n",
       "      <th></th>\n",
       "      <th>genres</th>\n",
       "      <th>original_title</th>\n",
       "      <th>crew</th>\n",
       "      <th>labels</th>\n",
       "    </tr>\n",
       "  </thead>\n",
       "  <tbody>\n",
       "    <tr>\n",
       "      <th>0</th>\n",
       "      <td>[Family, Animation, Drama]</td>\n",
       "      <td>The Lion King</td>\n",
       "      <td>Supervising Sound Editor,Original Music Compos...</td>\n",
       "      <td>Animation</td>\n",
       "    </tr>\n",
       "    <tr>\n",
       "      <th>1</th>\n",
       "      <td>[Animation, Comedy, Family, Fantasy]</td>\n",
       "      <td>Hotel Transylvania</td>\n",
       "      <td>Original Music Composer,Casting,Producer,Direc...</td>\n",
       "      <td>Animation</td>\n",
       "    </tr>\n",
       "  </tbody>\n",
       "</table>\n",
       "</div>"
      ],
      "text/plain": [
       "                                 genres      original_title  \\\n",
       "0            [Family, Animation, Drama]       The Lion King   \n",
       "1  [Animation, Comedy, Family, Fantasy]  Hotel Transylvania   \n",
       "\n",
       "                                                crew     labels  \n",
       "0  Supervising Sound Editor,Original Music Compos...  Animation  \n",
       "1  Original Music Composer,Casting,Producer,Direc...  Animation  "
      ]
     },
     "execution_count": 252,
     "metadata": {},
     "output_type": "execute_result"
    }
   ],
   "source": [
    "df_slice.head(2)"
   ]
  },
  {
   "cell_type": "markdown",
   "metadata": {},
   "source": [
    "#### lets take the remaining 100 observations of the 234 animated movies and the other non_animated observations and create a test df for testing after training."
   ]
  },
  {
   "cell_type": "code",
   "execution_count": 253,
   "metadata": {},
   "outputs": [
    {
     "name": "stdout",
     "output_type": "stream",
     "text": [
      "The shape of test1 is:(100, 4)\n",
      "The shape of test2 is: (4403, 4)\n"
     ]
    }
   ],
   "source": [
    "test1 = df[df.labels ==  'Animation'].iloc[134:,:]\n",
    "test2 = df[df.labels == 'Not_Animation'].iloc[166:,:]\n",
    "print(f'The shape of test1 is:{test1.shape}')\n",
    "print('The shape of test2 is: {}'.format(test2.shape))"
   ]
  },
  {
   "cell_type": "code",
   "execution_count": 254,
   "metadata": {},
   "outputs": [
    {
     "data": {
      "text/html": [
       "<div>\n",
       "<style scoped>\n",
       "    .dataframe tbody tr th:only-of-type {\n",
       "        vertical-align: middle;\n",
       "    }\n",
       "\n",
       "    .dataframe tbody tr th {\n",
       "        vertical-align: top;\n",
       "    }\n",
       "\n",
       "    .dataframe thead th {\n",
       "        text-align: right;\n",
       "    }\n",
       "</style>\n",
       "<table border=\"1\" class=\"dataframe\">\n",
       "  <thead>\n",
       "    <tr style=\"text-align: right;\">\n",
       "      <th></th>\n",
       "      <th>genres</th>\n",
       "      <th>original_title</th>\n",
       "      <th>crew</th>\n",
       "      <th>labels</th>\n",
       "    </tr>\n",
       "  </thead>\n",
       "  <tbody>\n",
       "    <tr>\n",
       "      <th>98</th>\n",
       "      <td>[Drama, Comedy, Animation]</td>\n",
       "      <td>I Married a Strange Person!</td>\n",
       "      <td>Director,Creator</td>\n",
       "      <td>Animation</td>\n",
       "    </tr>\n",
       "    <tr>\n",
       "      <th>99</th>\n",
       "      <td>[Animation, Family, Comedy, TV Movie]</td>\n",
       "      <td>A Charlie Brown Christmas</td>\n",
       "      <td>Director,Writer</td>\n",
       "      <td>Animation</td>\n",
       "    </tr>\n",
       "    <tr>\n",
       "      <th>100</th>\n",
       "      <td>[Action, Thriller]</td>\n",
       "      <td>The Bourne Legacy</td>\n",
       "      <td>Producer,Original Music Composer,Casting,Execu...</td>\n",
       "      <td>Not_Animation</td>\n",
       "    </tr>\n",
       "    <tr>\n",
       "      <th>101</th>\n",
       "      <td>[Action, Crime, Fantasy]</td>\n",
       "      <td>Batman &amp; Robin</td>\n",
       "      <td>Sound Designer,Casting,Author,Visual Effects S...</td>\n",
       "      <td>Not_Animation</td>\n",
       "    </tr>\n",
       "  </tbody>\n",
       "</table>\n",
       "</div>"
      ],
      "text/plain": [
       "                                    genres               original_title  \\\n",
       "98              [Drama, Comedy, Animation]  I Married a Strange Person!   \n",
       "99   [Animation, Family, Comedy, TV Movie]    A Charlie Brown Christmas   \n",
       "100                     [Action, Thriller]            The Bourne Legacy   \n",
       "101               [Action, Crime, Fantasy]               Batman & Robin   \n",
       "\n",
       "                                                  crew         labels  \n",
       "98                                    Director,Creator      Animation  \n",
       "99                                     Director,Writer      Animation  \n",
       "100  Producer,Original Music Composer,Casting,Execu...  Not_Animation  \n",
       "101  Sound Designer,Casting,Author,Visual Effects S...  Not_Animation  "
      ]
     },
     "execution_count": 254,
     "metadata": {},
     "output_type": "execute_result"
    }
   ],
   "source": [
    "## Here i just join the two test_df( remember the model would not have seen this data)\n",
    "test_df = pd.concat([test1,test2], axis= 0).reset_index(drop=True)\n",
    "test_df.iloc[98:102,:]"
   ]
  },
  {
   "cell_type": "code",
   "execution_count": 255,
   "metadata": {},
   "outputs": [
    {
     "data": {
      "text/plain": [
       "'Casting,Writer,Director of Photography,Original Music Composer,Editor,Costume Design,Producer,Producer,Director,Production Design,Executive Producer,Set Decoration,Associate Producer,Executive Producer,Associate Producer,Assistant Director'"
      ]
     },
     "execution_count": 255,
     "metadata": {},
     "output_type": "execute_result"
    }
   ],
   "source": [
    "test_df['crew'][41]"
   ]
  },
  {
   "cell_type": "markdown",
   "metadata": {},
   "source": [
    "#### Before i proceed i must define my documents and my labels. The document here means what we consider as a unit of analysis, i.e an observation, and i already pointed out that the job title of each row would be our document and the labels would be its accompanying label.That is we would have a total of 300 documents and labels. Now all that is left is to transform them into a form the BOW model would recognize which is an array."
   ]
  },
  {
   "cell_type": "code",
   "execution_count": 256,
   "metadata": {},
   "outputs": [],
   "source": [
    "doc = df_slice['crew'].values\n",
    "label = df_slice['labels'].values"
   ]
  },
  {
   "cell_type": "code",
   "execution_count": 257,
   "metadata": {},
   "outputs": [],
   "source": [
    "import spacy\n",
    "nlp = spacy.load('en_core_web_sm')"
   ]
  },
  {
   "cell_type": "code",
   "execution_count": 258,
   "metadata": {},
   "outputs": [
    {
     "data": {
      "text/plain": [
       "array(['Supervising Sound Editor,Original Music Composer,Supervising Sound Editor,Supervising Film Editor,Screenplay,Director,Director,Screenplay,Supervising Film Editor,Screenplay,Editor,Animation Supervisor,Production Design,Sound Re-Recording Mixer,Sound Re-Recording Mixer,Sound Re-Recording Mixer,Supervising Music Editor,Production Manager,Story,Animation,Animation Supervisor,Layout,Layout,Animation Supervisor,Animation,Production Office Assistant,Supervising Animator,Animation,Supervising Animator,Supervising Animator,Casting,Sound Effects Editor,Art Direction',\n",
       "       'Original Music Composer,Casting,Producer,Director,Writer,Story,Production Manager,Animation,Animation,Lighting Artist,Lighting Artist,Animation,Layout',\n",
       "       'Editor,Editor,Producer,Casting,Producer,Producer,Director,Production Design,Foley,Sound Effects Editor,Sound Re-Recording Mixer,Music,Screenplay,Choreographer,Screenplay,Supervising Sound Editor,Set Designer,Sound Designer,Music Editor,Dialogue Editor,Art Direction,Sound Recordist,CG Supervisor,Animation Director,Sequence Supervisor,Script Supervisor,Storyboard,Layout,Visual Development',\n",
       "       'Director,Original Story,Production Design,Script Supervisor,Art Direction,Sculptor,Director of Photography,Supervising Animator,Animation Director,Supervising Animator,Associate Producer,Post Production Supervisor,Thanks,Director of Photography,Original Story,Sound Designer,Original Music Composer,Music Editor,Director,Original Story,Casting,Editor,Screenplay,Executive Music Producer,Casting,Producer,Art Direction,Music Supervisor,Storyboard,Art Direction,Supervising Technical Director,Production Manager,Characters,Characters,Script Supervisor,Editorial Manager,Additional Editing,Animation Manager,Animation Director,Animation Fix Coordinator',\n",
       "       'Producer,Director of Photography,Original Music Composer,Screenplay,Director,Producer,Sound Designer,Casting,Production Design,Executive Producer,Editor,Post Production Supervisor,Line Producer,Executive Producer,Set Decoration,Costume Design,Executive Producer,Executive Producer,Producer,Art Direction,Hairstylist,Thanks,Executive Producer,Foley,Foley,First Assistant Sound Editor,ADR & Dubbing,Producer,Visual Effects Editor,Thanks,Post Production Supervisor,Stunt Coordinator,ADR & Dubbing,Executive Producer,Writer,Foley,Foley,Costume Supervisor,Makeup Designer,Dialogue Editor,Supervising Art Director,Visual Effects,Visual Effects Producer,Scoring Mixer,Still Photographer,Visual Effects,VFX Artist,Production Sound Mixer,Visual Effects,Sound Re-Recording Mixer,Visual Effects Producer,Music Editor,Script Supervisor,ADR & Dubbing,Stunts,Sound Recordist,Digital Intermediate,Makeup Artist,Wigmaker,Location Manager,Gaffer,Assistant Costume Designer,Transportation Coordinator,Dialogue Editor,Special Effects Supervisor,Art Direction,Hair Designer,Makeup Artist,Sound mixer,Best Boy Electrician,Casting Associate,Foley,Sound,VFX Artist,Grip,Assistant Director,Hairstylist',\n",
       "       \"Director of Photography,Music,Director,Producer,Costume Design,Production Design,Screenplay,Supervising Art Director,Producer,Screenplay,Stunt Coordinator,Foley,Casting,Sound Designer,Set Decoration,Producer,Hairstylist,Makeup Artist,Producer,Sound Re-Recording Mixer,Screenplay,Screenplay,Second Unit Cinematographer,Art Direction,Hairstylist,Visual Effects Supervisor,Digital Intermediate,Producer,Art Direction,Set Decoration,Gaffer,Editor,Underwater Camera,Art Direction,Art Direction,Costume Supervisor,Art Direction,Supervising Art Director,Art Direction,Property Master,Greensman,Greensman,Sound Designer,Foley,Music Editor,Music Editor,Art Direction,Art Direction,Script Supervisor,Hairstylist,Visual Effects Supervisor,Camera Operator,Still Photographer,Camera Operator,Script Supervisor,Visual Effects Producer,Sound Effects Editor,Foley,Foley,Visual Effects Producer,Wigmaker,Visual Effects Editor,Visual Effects Supervisor,Helicopter Camera,Helicopter Camera,Visual Effects Editor,Sound Designer,Visual Effects Editor,Unit Publicist,Wigmaker,Location Manager,Location Manager,Wigmaker,Animatronic and Prosthetic Effects,Makeup Department Head,Visual Effects Editor,Visual Effects Editor,Animatronic and Prosthetic Effects,Art Direction,Makeup Artist,Camera Operator,Makeup Artist,Special Effects Coordinator,Location Manager,Visual Effects Editor,Sequence Supervisor,Compositors,Dialect Coach,Visual Effects Editor,Producer,Art Direction,Hairstylist,Hairstylist,Hairstylist,Hairstylist,Hairstylist,Makeup Artist,Makeup Artist,Makeup Artist,Makeup Artist,Animatronic and Prosthetic Effects,Animatronic and Prosthetic Effects,Art Department Coordinator,Assistant Art Director,Assistant Art Director,Property Master,Assistant Art Director,Construction Coordinator,Lead Painter,Sculptor,Set Decoration Buyer,Dialogue Editor,ADR & Dubbing,Animation Director,Animation Supervisor,Animation Supervisor,Visual Effects Editor,Visual Effects Editor,Visual Effects Producer,Visual Effects Producer,Visual Effects Editor,Visual Effects Producer,Visual Effects Producer,Visual Effects Producer,Visual Effects Producer,Visual Effects Producer,Visual Effects Editor,Visual Effects Editor,Visual Effects Supervisor,Visual Effects Supervisor,Visual Effects Art Director,Visual Effects Art Director,Sequence Supervisor,Sequence Supervisor,CG Supervisor,CG Supervisor,CGI Supervisor,CG Supervisor,Camera Operator,Camera Operator,Camera Operator,Camera Operator,Camera Operator,Still Photographer,Costume Supervisor,Set Costumer,First Assistant Editor,Transportation Coordinator,Transportation Coordinator,Transportation Coordinator,Transportation Coordinator,Transportation Coordinator,Location Manager,Actor's Assistant,Casting\",\n",
       "       'Screenplay,Original Music Composer,Production Design,Director,Editor,Cinematography,Story,Screenplay,Writer,Screenplay,Animation,Visual Effects Editor',\n",
       "       'Costume Design,Casting,Special Effects Supervisor,Director,Writer,Foley,Makeup Department Head,ADR & Dubbing,Supervising Sound Editor,Production Design,Supervising Art Director,Editor,Producer,Producer,Supervising Art Director,Director of Photography,Set Decoration,Art Direction,Producer,Still Photographer,Casting,Producer,Casting,Story,Producer,Executive Producer,Casting,Producer,Costume Design,Art Direction,Casting,Costume Supervisor,Visual Effects Supervisor,Visual Effects Producer,Sound Re-Recording Mixer,Art Department Coordinator,Dolby Consultant,Assistant Art Director,Second Unit Cinematographer,Makeup Artist,ADR & Dubbing,Foley,Camera Operator,Gaffer,Assistant Art Director,Music Editor,Digital Intermediate,Music Editor,First Assistant Editor,Sound Re-Recording Mixer,Special Effects Supervisor,Set Costumer,Music Supervisor,Digital Effects Supervisor,Assistant Art Director,Assistant Art Director,Construction Coordinator,Assistant Costume Designer,Costume Supervisor,Set Costumer,Set Costumer,Armorer,Armorer,Script Supervisor,Choreographer,First Assistant Camera,First Assistant Camera,Still Photographer,Visual Effects Coordinator,Visual Effects Producer,Digital Effects Supervisor,Key Hair Stylist,Marine Coordinator,Dolly Grip,Rigging Gaffer,Electrician,Electrician,Key Grip,Marine Coordinator',\n",
       "       'Producer,Editor,Original Music Composer,Casting,Characters,Executive Producer,Costume Design,Producer,Editor,Production Design,Director,Script Supervisor,Screenplay,Characters,Art Direction,Stunts,Stunts,Still Photographer,Technical Supervisor,Animation,Lighting Technician,Lighting Technician,Visual Effects,Animation',\n",
       "       'Production Design,Casting,Set Decoration,Executive Producer,Producer,Characters,Executive Producer,Sound Designer,Director,Executive Producer,Writer,Editor,Original Music Composer,Co-Producer,Director of Photography,Costume Design,Producer,Writer,Writer,Characters,Second Unit Cinematographer,Makeup Department Head,Digital Intermediate,Sound Designer,Sound Re-Recording Mixer,Sound Designer,Special Effects Supervisor,Writer,Makeup Artist,Makeup Artist,Construction Coordinator,Foley,Art Direction,Sound Designer,Foley,Music Editor,Dialogue Editor,First Assistant Editor,Music Editor,Script Supervisor,Costume Supervisor,Camera Operator,Gaffer,Special Effects Supervisor,Supervising Sound Editor,Dialogue Editor,Script Supervisor,Steadicam Operator,Makeup Artist,Digital Intermediate,Still Photographer,Art Direction,Wigmaker,Casting Associate,CG Supervisor,Digital Intermediate,Camera Operator,CG Supervisor,VFX Editor,CG Supervisor,Helicopter Camera,Camera Operator,Special Effects Supervisor,Assistant Costume Designer,Foley,CG Supervisor,Stunts,Foley,Dialogue Editor,Set Costumer,Hair Department Head,CG Supervisor,Digital Effects Supervisor,Set Costumer,Underwater Camera,Rigging Grip,Art Direction,Set Decoration,Animation Director,Casting Associate,Assistant Costume Designer,Still Photographer,Rigging Grip,Animation Supervisor,CG Supervisor,CG Supervisor,Digital Effects Supervisor,VFX Editor,VFX Editor,VFX Editor,Hairstylist,Key Hair Stylist,Makeup Artist,Digital Intermediate,First Assistant Editor,Makeup Artist',\n",
       "       'Screenplay,Director,Original Story,Supervising Film Editor,Co-Director,Producer,Screenplay,Screenplay,Executive Producer,Editor,Original Music Composer,Sound Designer,Supervising Sound Editor,Sound Re-Recording Mixer,Music Editor,Production Design,Visual Development,In Memory Of,Casting,Production Supervisor,Story,Visual Development,Art Direction,Animation,CG Painter,CG Painter,CG Painter,CG Painter,Art Direction,Art Direction,Sculptor,Visual Development,Visual Development,CG Painter,Director of Photography,CG Supervisor,Animation Director,Animation,Animation,Fix Animator,Animation Manager,Editorial Production Assistant,Second Film Editor,First Assistant Editor,Sound Effects Editor,CG Supervisor,CG Supervisor,CG Supervisor,Camera Supervisor,Post Production Supervisor,Projection,Supervising Sound Editor,Sound Effects Editor,Sound Design Assistant,Director of Photography,Sound Effects Editor,Story,Story,Second Film Editor,Casting,Casting,Story,Production Manager,Associate Producer,Storyboard,Supervising Animator,Animation Director,Temp Music Editor,Animation,Sculptor,Storyboard,Visual Development,Art Direction,Visual Development,Foley Editor,Sound Re-Recording Mixer,Visual Development,Story,Second Film Editor,CG Painter,Orchestrator,Color Timer,Camera Technician,Production Office Assistant,Editorial Production Assistant,Production Accountant,ADR Editor,Sound Editor,Photoscience Manager,Editorial Coordinator,Character Designer,CG Supervisor,Fix Animator,Camera Technician,Supervising Technical Director,Visual Development,CG Supervisor,CG Supervisor,CG Supervisor,CG Supervisor,Visual Development,Visual Development,Editorial Production Assistant,Production Office Assistant',\n",
       "       'Casting,Art Direction,Screenplay,Screenplay,Art Direction,Executive Producer,Producer,Set Decoration,Supervising Art Director,Costume Design,Editor,Production Design,Director,Director,Art Direction,Executive Producer,Executive Producer,Executive Producer,Executive Producer,Sculptor,Makeup Department Head,Characters,Original Music Composer,Cinematography,Co-Producer,Associate Producer,Stunts,Art Direction,Associate Producer,Editor,Leadman,Propmaker,Propmaker,Art Department Coordinator,Sculptor,Visual Effects Editor,Hair Department Head,Lighting Technician,Compositors,Software Engineer,Compositors',\n",
       "       'Casting,Producer,Casting,Art Direction,Unit Production Manager,Director of Photography,Original Music Composer,Screenplay,Director,Producer,Producer,Casting,Producer,Casting,Set Decoration,Location Scout,Production Sound Mixer,Sound Re-Recording Mixer,Prosthetic Makeup Artist,Makeup Designer,Co-Executive Producer,Executive Producer,Co-Producer,Casting,Costume Design,Screenplay,Supervising Art Director,Executive Producer,Production Design,Screenplay,Producer,Editor,Editor,Editor,Editor,Associate Producer,Art Direction,Supervising Sound Editor,Art Direction,Additional Camera,Art Direction,Casting,Assistant Art Director,Special Effects Supervisor,Executive Producer,Co-Executive Producer,Visual Effects Art Director,Music Supervisor,Producer,Line Producer,Costume Supervisor,Sculptor,Sound Recordist,Sound Re-Recording Mixer,Foley,Orchestrator,Executive Producer,Additional Photography,Assistant Costume Designer,Executive Producer,Art Direction,Camera Operator,Steadicam Operator,Art Direction,Producer,Associate Producer,Creative Producer,Assistant Costume Designer,Visual Effects Supervisor,CG Supervisor,Art Direction,Casting,Assistant Art Director,Art Department Coordinator,Sculptor,Transportation Coordinator,Supervising Sound Editor,Assistant Art Director,Color Timer,Script Supervisor,Music Editor,Assistant Art Director,Still Photographer,Set Designer,Construction Coordinator,Assistant Art Director,Assistant Art Director,Property Master,Scenic Artist,Scenic Artist,Construction Coordinator,Greensman,Leadman,Sound Recordist,Sound Recordist,Dialogue Editor,ADR & Dubbing,Dialogue Editor,Sound Re-Recording Mixer,Visual Effects Producer,Visual Effects Producer,Visual Effects Producer,Visual Effects Editor,Visual Effects Supervisor,Visual Effects Supervisor,Visual Effects Supervisor,Visual Effects Supervisor,Stunt Coordinator,Camera Operator,Gaffer,Transportation Coordinator,Choreographer,Casting Associate,Publicist,Helicopter Camera,Best Boy Electric,Rigging Gaffer,Makeup Artist,Script Supervisor,Unit Manager,Second Unit Cinematographer,Wigmaker,Hairstylist,Stunts,Storyboard,Production Manager,Hair Designer,Key Hair Stylist,Makeup Artist,Makeup Artist,Animation Supervisor,Armorer,Driver,Painter,Conceptual Illustrator,Transportation Captain,Associate Producer,Art Department Assistant,First Assistant Camera,Grip,Set Dressing Artist,Carpenter,Loader,Post Production Supervisor,Propmaker,Set Production Assistant,Software Engineer,Sound Recordist,Stand In,Utility Stunts,Assistant Director,Digital Intermediate,Electrician,Lighting Technician,Executive In Charge Of Production,Location Manager,Production Accountant,Production Coordinator,Production Supervisor,Boom Operator,Assistant Sound Editor,Sound Editor,Digital Compositors,Visual Effects,Visual Effects Coordinator,Motion Capture Artist,Sound',\n",
       "       'Original Music Composer,Screenplay,Sound Designer,Screenplay,Director,Director,Screenplay,Screenplay,Screenplay,Producer,Sound Re-Recording Mixer,Sound Re-Recording Mixer,Sound Re-Recording Mixer,Animation,Associate Producer,Editor,Animation,Animation,Visual Effects Supervisor,Production Design,Animation Supervisor,Animation,Lead Animator,Art Direction,Lead Animator,Visual Effects Supervisor,Associate Producer',\n",
       "       'Casting,Producer,Production Design,Original Music Composer,Art Direction,Producer,Director,Producer,Story,Screenplay,Editor,Supervising Sound Editor,Set Decoration,Director of Photography,First Assistant Editor,Characters,Executive Producer,Producer,Executive Producer,Sound Design Assistant,Set Designer,Stunt Coordinator,Screenplay,Costume Design,Post Production Assistant,Makeup Artist,Casting Associate,Art Direction,Music Editor,Conceptual Illustrator,Characters,Production Illustrator,Orchestrator,Sound Effects Editor,Associate Producer,Production Manager,First Assistant Camera,Additional Music,Visual Effects Editor,First Assistant Director,Foley,Dialect Coach,Animation Supervisor,Pilot,Special Effects Supervisor,Screenplay,ADR Voice Casting,Standby Painter,Visual Effects Supervisor,Sequence Supervisor,Digital Compositors,Casting,Foley Editor,Musician,Makeup Department Head,Costume Supervisor,Key Set Costumer,Art Department Coordinator,Production Sound Mixer,Script Supervisor,Supervising ADR Editor,Construction Coordinator,Dialogue Editor,Transportation Captain,Associate Producer,Sound Re-Recording Mixer,Visual Effects Coordinator,Unit Publicist,Aerial Director of Photography,Property Master,Visual Effects Art Director,Hairstylist,Transportation Coordinator,Visual Effects Producer,Chief Lighting Technician,Still Photographer,Assistant Art Director,Leadman,Rigging Gaffer,Key Hair Stylist,Steadicam Operator,Lead Animator,CG Animator,Sculptor,Best Boy Electric,Video Assist Operator,Post Production Supervisor,Apprentice Sound Editor,Makeup Effects,Conductor,Color Timer,Craft Service,Set Medic,Scoring Mixer,Production Supervisor,Motion Capture Artist,Sound,Technical Supervisor,Driver,3D Artist,Storyboard,Set Production Assistant,Location Manager,Software Engineer,Art Department Assistant,Construction Foreman,Greensman,Painter,Additional Camera,Camera Operator,Assistant Costume Designer,Set Dresser,Armorer,Carpenter,Loader,Picture Car Coordinator,Propmaker,Scenic Artist,Stand In,Stunts,Utility Stunts,Layout,Electrician,Lighting Technician,Rigging Grip,Production Accountant,Production Coordinator,Researcher,Boom Operator,ADR & Dubbing,3D Supervisor,Visual Effects,Negative Cutter,Dolly Grip,Ager/Dyer,Assistant Property Master,Title Designer,Key Grip,Grip,Key Costumer,Second Assistant Director,Assistant Production Coordinator,Casting Assistant,Music Programmer,Creature Technical Director',\n",
       "       'Author,Casting,Casting,Casting,Original Music Composer,Screenstory,Executive Producer,Makeup Department Head,Screenplay,Screenplay,Producer,Director of Photography,Director,Editor,Production Design,Set Decoration,Costume Design,Art Direction,Producer,Editor,Art Direction,Executive Producer,Costume Supervisor,Screenplay',\n",
       "       'Supervising Sound Editor,Sound Effects Editor,Producer,Characters,Editor,Editor,Original Music Composer,Casting,Associate Producer,Executive Producer,Editor,Director,Producer,Production Design,Original Music Composer,Music Editor,Stunts,Unit Production Manager,Stunt Coordinator,Second Unit Cinematographer,Foley Editor,Original Music Composer,Screenplay,Director of Photography,Editor,Set Decoration,Art Direction,Art Direction,Costume Design,Story,Story,Story,Orchestrator,Executive Producer,Co-Producer,Additional Camera,Production Illustrator,Set Medic,Dialect Coach,Assistant Art Director,Martial Arts Choreographer,Co-Producer,Co-Producer,Transportation Coordinator,Set Designer,Post Production Supervisor,Associate Producer,Assistant Sound Editor,Dolby Consultant,Set Costumer,Costume Supervisor,Associate Producer,Dialogue Editor,Still Photographer,Studio Teachers,Underwater Camera,Aerial Director of Photography,Camera Technician,Unit Publicist,Key Hair Stylist,Property Master,Camera Operator,Visual Effects Supervisor,Color Timer,Location Manager,Video Assist Operator,Construction Coordinator,Sound Designer,Digital Compositors,Visual Effects Producer,Makeup Artist,Armorer,Hairstylist,Standby Painter,First Assistant Camera,Rigging Gaffer,Production Sound Mixer,Projection,Transportation Captain,Lighting Technician,Steadicam Operator,Greensman,Set Dressing Artist,Casting Associate,Boom Operator,Key Grip,Carpenter,Grip,Utility Stunts,Construction Foreman,Additional Music,Craft Service,Driver,Loader,Special Effects Coordinator,First Assistant Director,Best Boy Electric,Electrician,Rigging Grip,Production Accountant,Visual Effects Coordinator',\n",
       "       'Screenplay,Screenplay,Screenplay,Screenplay,Screenplay,Director,Production Manager,Visual Effects,Lighting Artist,Technical Supervisor,Layout,Lighting Artist,Compositors,Layout,Stunts',\n",
       "       'Director,Screenplay,Novel,Original Story,Other,Animation,Screenplay',\n",
       "       'Screenplay,Producer,Novel,Director,Producer,Animation,Art Department Manager,Layout,Visual Development,Art Department Manager',\n",
       "       'Director of Photography,Director,Producer,Screenplay,Screenplay,Editor,Editor,Original Music Composer,Executive Producer,Producer,Producer,Producer,Producer,Casting,Production Design,Art Direction,Casting,Set Decoration,Costume Design,Costume Design,Music Supervisor,Conceptual Design,Makeup Department Head,Stunts,CGI Supervisor,Script Supervisor,Special Effects Coordinator,Music Editor,Script Supervisor,Music Editor,Script Supervisor,Music Editor',\n",
       "       'Original Music Composer,Screenplay,Casting,Costume Design,Production Design,Art Direction,Art Direction,Producer,Director,Producer,Art Direction,Supervising Art Director,Producer,Director of Photography,Art Direction,Casting,Art Direction,Set Decoration,Screenplay,Screenplay,Visual Effects Supervisor,Assistant Director,Animation',\n",
       "       'Casting,Production Design,Executive Producer,Executive Producer,Editor,Producer,Executive Producer,Writer,Editor,Producer,Executive Producer,Executive Producer,Director,Director of Photography,Executive Producer,Executive Producer,Art Direction,Art Direction,Art Direction,Writer,Stunts,Original Music Composer,Art Direction,Art Direction,Executive Producer,Visual Effects Editor,Compositors,Compositors',\n",
       "       'Producer,Casting,Editor,Screenplay,Screenplay,Original Music Composer,Production Design,Animation,Director,Director,Production Manager,Songs,Art Direction,Set Designer,Color Designer,Set Designer,Color Designer,Color Designer,Set Designer,Storyboard,Set Designer,Prop Maker,ADR & Dubbing,Sound Recordist,Technical Supervisor,Animation,Animation,Storyboard,Post Production Supervisor,Animation,Editor',\n",
       "       'Executive Producer,Executive Producer,Production Design,Animation,Original Story,Director,Shading,Animation,Production Artist,Sculptor,Art Department Manager,Animation,Sequence Leads,Layout,Animation,Animation,Animation,Modeling,Lighting Supervisor,Master Lighting Artist,Post Production Supervisor,Foley,Thanks,Original Music Composer,Music Editor,Director,Original Story,Screenplay,Editor,Producer,Production Manager,Original Story,Casting,Animation,Production Manager,Layout,Scoring Mixer,Animation,Casting,Animation,Additional Soundtrack,ADR & Dubbing,Shading,Animation,Animation,Assistant Editor,Visual Effects,Editorial Manager,Animation,Additional Dialogue,Production Artist,Supervising Sound Editor,Production Manager,Orchestrator,Color Timer,Special Effects',\n",
       "       'Screenplay,Director,Director of Photography,Costume Design,Casting,Original Music Composer,Executive Producer,Characters,Producer,Executive Producer,Editor,Characters,Executive Producer,Production Design,Executive Producer,Editor,Executive Producer,Executive Producer,Set Decoration,Executive Producer,Executive Producer,Executive Producer,Executive Producer,Thanks,Screenplay,Visual Effects Supervisor,Visual Effects,Digital Effects Supervisor,Lighting Technician',\n",
       "       'Original Music Composer,Sound Re-Recording Mixer,Casting,Casting,ADR Editor,Sound Designer,Mix Technician,Producer,Story,In Memory Of,Supervising Music Editor,Production Design,Sound Effects Designer,Casting Associate,Screenplay,Story,Director,Story,Director,Story,Editor,Post-Production Manager,Supervising Sound Editor,Associate Editor,Dialect Coach,Production Design,Story,Story,Title Designer,Orchestrator,Post Production Supervisor,Production Design,Music Editor,CGI Supervisor,Visual Effects Supervisor,Associate Producer,Still Photographer,Sound Effects Editor,Visual Development,Supervising Animator,Visual Effects,Color Designer,Visual Effects,Visual Effects,Visual Effects,Layout,Production Design,Conductor,Art Direction,Painter,Sculptor,Camera Operator,Additional Music,Compositors,Color Timer,First Assistant Editor,Production Accountant,Production Coordinator,Assistant Sound Editor,Foley Editor,Special Effects Supervisor,Projection,Lighting Artist,Book,Negative Cutter,Assistant Production Manager,Musician,Character Designer',\n",
       "       'Producer,Screenplay,Director,Screenplay,Music,Screenplay,Cinematography,Special Effects,Story,Storyboard,Layout',\n",
       "       'Sound Effects Editor,Original Music Composer,Supervising Sound Editor,Screenplay,Director,Executive Producer,Producer,Production Manager,Associate Producer,Sound Engineer,Additional Music,Additional Dialogue,Editor,Editor,Director,Screenplay,Director,Producer,Producer,Production Design,Music Supervisor,CGI Supervisor,Supervising Animator,Additional Dialogue,CG Supervisor,Orchestrator,Musician,Additional Dialogue,Dialogue Editor,Lead Animator,Post Production Supervisor,ADR Editor,Music Editor,Casting Associate,Additional Dialogue,Sound Re-Recording Mixer,Digital Compositors,Sound Recordist,Art Direction,Animation,Animation,Visual Development,Layout,First Assistant Editor,Animation,Production Coordinator,Character Designer,Color Timer,Production Accountant,Sound Designer,Foley,Sculptor,Choreographer,Post Production Assistant,Software Engineer,Technical Supervisor,Systems Administrators & Support,Lighting Artist,Lighting Technician,Production Supervisor,Researcher,First Assistant Sound Editor,Visual Effects,Storyboard,Sequence Leads,Software Team Lead,Score Engineer,Sound,Modeling,Negative Cutter,Title Designer,Casting Assistant,Script Researcher,Assistant Sound Editor,Music Programmer,Visual Effects Supervisor',\n",
       "       'Executive Producer,Characters,Characters,Supervising Art Director,Music,Director of Photography,Costume Design,Set Decoration,Producer,Sound Designer,Hair Department Head,Hairstylist,Makeup Department Head,Editor,Casting,Production Design,Executive Producer,Executive Producer,Executive Producer,Animation Supervisor,Visual Effects Editor,Screenplay,Director,Executive Producer,Sound Re-Recording Mixer,Art Direction,Supervising Sound Editor,Screenplay,Executive Producer,Art Direction,Costume Supervisor,Construction Coordinator,Foley,Visual Effects Producer,Foley,Foley,Art Direction,Set Costumer,Casting Associate,Foley,Dialogue Editor,Makeup Artist,Associate Producer,Visual Effects Producer,Sound Re-Recording Mixer,Visual Effects Editor,Camera Operator,Script Supervisor,Helicopter Camera,Supervising Sound Editor,Dialogue Editor,Sound Effects Editor,Hairstylist,Still Photographer,Sound Effects Editor,Gaffer,Makeup Artist,Visual Effects Editor,First Assistant Sound Editor,Visual Effects Producer,CG Supervisor,Rigging Gaffer,Producer,Visual Effects Producer,Makeup Artist,Animation Supervisor,Makeup Artist,Visual Effects Producer,Art Direction,VFX Production Coordinator,Script Supervisor,Helicopter Camera,Executive Producer,Editor,Special Effects Supervisor,Key Hair Stylist,Assistant Costume Designer,Music Editor,Gaffer,First Assistant Editor,Additional Photography,Visual Effects Editor,Digital Intermediate,Set Costumer,Art Department Coordinator,Conceptual Design,Casting Associate,Casting Associate,Set Costumer,Set Costumer,CG Supervisor,CG Supervisor,Visual Effects Editor,Visual Effects Editor,Visual Effects Producer,Makeup Department Head,Makeup Artist,Associate Producer,Associate Producer,Set Decoration',\n",
       "       'Producer,Costume Design,Casting,Producer,Makeup Artist,Art Direction,Original Story,Supervising Sound Editor,Director,Writer,Writer,Writer,Original Music Composer,Director of Photography,Editor,Editor,Production Design,Set Decoration,Hairstylist,Music Editor,Special Effects Coordinator,Special Effects,Visual Effects,Stunt Coordinator,Stunts,Camera Department Manager',\n",
       "       'Original Music Composer,Original Music Composer,Editor,Editor,Screenplay,Co-Producer,Screenplay,Co-Producer,Director,Producer,Co-Producer,Sound Re-Recording Mixer,Music Editor,Supervising Sound Editor,Supervising Sound Editor,Sound Re-Recording Mixer,Animation,Layout,Compositors,Animation,Layout,Production Design,Visual Effects Supervisor',\n",
       "       'Executive Producer,Casting,Executive Producer,Director of Photography,Thanks,Supervising Art Director,Costume Design,Director,Writer,Producer,Producer,Casting,Casting,Animation,Prosthetic Supervisor,Music,Second Unit Cinematographer,Editor,Executive Producer,Visual Effects Producer,Set Decoration,Supervising Art Director,Executive Producer,Supervising Producer,Production Design,Dialogue Editor,Stunts,Writer,Supervising Producer,Thanks,Set Decoration,Camera Operator,Foley,Property Master,Dialogue Editor,Production Office Assistant,Art Direction,Still Photographer,Script Supervisor,Stunt Coordinator,Gaffer,Gaffer,Compositors,Casting,Art Department Coordinator,Camera Operator,Camera Operator,Post Production Supervisor,Executive Producer,Visual Effects,Makeup Artist,Hairstylist,Animation,Costume Supervisor,Compositors,Camera Operator,Writer,Set Designer,Set Costumer,Helicopter Camera,Steadicam Operator,Thanks,Producer,Assistant Director,Art Direction,Set Decoration,Set Costumer,Art Department Coordinator,Assistant Art Director,Additional Photography,Dialogue Editor,Dialogue Editor,Construction Coordinator,Conceptual Design,Digital Intermediate,Stunts',\n",
       "       'Executive Producer,Original Music Composer,Producer,Production Design,Executive Producer,Director,Director,Screenplay,Screenplay,Screenplay,Editor,Producer,Animation,VFX Artist,Editor',\n",
       "       'Original Music Composer,Production Design,Supervising Art Director,Casting,Set Costumer,Casting,Director,Executive Producer,Director of Photography,Editor,ADR & Dubbing,Screenplay,Screenplay,Costume Design,Executive Producer,Producer,Sound Designer,Executive Producer,Production Manager,Foley,Supervising Art Director,Editor,Dialect Coach,Art Direction,Casting,Supervising Art Director,Executive Producer,Executive Producer,Executive Producer,Producer,Set Decoration,Sound Effects Editor,Sound Designer,Art Direction,Art Direction,Producer,Producer,Producer,First Assistant Editor,Steadicam Operator,Visual Effects Editor,Costume Supervisor,Visual Effects Supervisor,Visual Effects Supervisor,Art Direction,Construction Coordinator,Property Master,Sculptor,Art Department Coordinator,Sculptor,Visual Effects Supervisor,Assistant Art Director,Sound Re-Recording Mixer,Location Manager,Set Designer,ADR & Dubbing,Set Designer,VFX Supervisor,Still Photographer,Stunt Coordinator,Assistant Art Director,Dialogue Editor,Still Photographer,Visual Effects Producer,Visual Effects Supervisor,Sound Effects Editor,Visual Effects Supervisor,Greensman,Lighting Technician,Visual Effects Editor,Music Editor,Camera Operator,Sound Designer,Visual Effects Supervisor,Production Manager,Visual Effects Producer,Visual Effects Editor,Publicist,Helicopter Camera,Visual Effects Supervisor,Foley,Transportation Coordinator,Supervising Sound Editor,Visual Effects Producer,Sound Re-Recording Mixer,Hairstylist,Hairstylist,Art Department Coordinator,Sculptor,Set Designer,Greensman,Greensman,Sound Designer,Sound Effects Editor,Dialogue Editor,ADR & Dubbing,Special Effects Coordinator,Visual Effects Supervisor,Visual Effects Editor,Visual Effects Editor,Visual Effects Supervisor,Visual Effects Editor,Visual Effects Supervisor,Visual Effects Producer,Visual Effects Producer,CG Supervisor,Visual Effects Producer,CG Supervisor,CG Supervisor,CG Supervisor,VFX Supervisor,CG Supervisor,CG Supervisor,Stunt Coordinator,Camera Operator,Steadicam Operator,Camera Operator,Camera Operator,Steadicam Operator,Camera Operator,Additional Camera,Gaffer,Best Boy Electric,Rigging Gaffer,First Assistant Editor,First Assistant Editor,Location Manager,Unit Publicist,Location Manager,Location Manager,Visual Effects Editor,Storyboard,Visual Effects,Compositors,Stunts',\n",
       "       'Songs,Casting,Music,Director,Adaptation,Sculptor,Screenplay,Animation Supervisor,Production Design,Additional Editing,Producer,Animation,Director,Novel,Animation,Editor,Sculptor,Screenplay,Animation,Visual Effects Producer,Animation,Adaptation,Animation,Animation,Animation,Animation,Producer,Animation,Animation,Animation,Animation,Animation,Animation,Animation,Animation,Animation,Animation,Animation,Animation,Animation,Animation,Animation,Animation,Animation,Animation,Animation,Animation,Animation,Animation,Additional Writing,Music Supervisor,Additional Editing,Director of Photography,Visual Effects Supervisor,Visual Effects Supervisor,Costume Design,Art Direction,Editorial Coordinator,Line Producer,Production Manager,Production Coordinator,Sculptor,Art Department Coordinator,Set Designer,Set Designer,Set Designer,Post Production Supervisor,Editorial Manager,CG Supervisor,Visual Effects Editor,Visual Effects Coordinator,Visual Effects Coordinator,Choreographer,Music Editor',\n",
       "       'Set Decoration,Executive Producer,Executive Producer,Production Design,Original Music Composer,Screenplay,Director,Executive Producer,Executive Producer,Editor,Art Direction,Art Direction,Casting,Costume Design,Executive Producer,Novel,Producer,Producer,Director of Photography,Casting,Art Direction,Makeup Artist,Makeup Artist,Executive Producer,Executive Producer,Stunt Coordinator,Still Photographer,Animation,Animation,Lighting Technician,Lighting Artist,Script Supervisor',\n",
       "       'Executive Producer,Story,Characters,Original Music Composer,Director,Executive Producer,Director of Photography,Editor,Screenplay,Characters,Producer,Story,Makeup Artist,Stunts',\n",
       "       'First Assistant Editor,Casting,Original Music Composer,Visual Development,Assistant Editor,Storyboard,Director,Screenplay,Animation,Editor,Producer,Producer,Storyboard,Thanks,Associate Producer,Assistant Editor,Production Manager,Novel,Director of Photography,Screenplay,Storyboard,Producer,Supervising Animator,Storyboard,Supervising Animator,Storyboard,Production Office Assistant,Post Production Supervisor,Technical Supervisor,Animation,Animation,Production Manager,Camera Supervisor,Animation,Music Editor,Storyboard,Storyboard,Production Manager,Assistant Editor,Animation,Animation,Production Office Assistant,Animation,Color Timer,Animation',\n",
       "       'Original Music Composer,Producer,Casting,Writer,Director,Writer,Animation,Lighting Artist,Score Engineer,Animation,Animation,Animation,Character Designer,Producer,Editor,Production Design',\n",
       "       'Director of Photography,Writer,Writer,Director,Animation,Visual Effects,Animation,Animation,Animation,Animation,Animation,Storyboard,Animation Supervisor',\n",
       "       'Director,Screenplay,Screenplay,Screenplay,Screenplay,Director,Screenplay,Thanks,Animation,Animation,Art Direction',\n",
       "       'Original Music Composer,Casting,Director,Producer,Producer,Editor,Producer,Casting,Producer,Screenplay,Casting,Executive Producer,Novel,Writer,Screenplay,Motion Capture Artist,Executive Producer,Executive Producer,Producer,Associate Producer,Supervising Art Director,Script Supervisor,Construction Coordinator,Art Direction,CG Supervisor,Set Designer,Animation Director,Animation Director,CG Supervisor,CG Supervisor,Animation Supervisor,Stunts,Conceptual Design,Animation,CG Supervisor,Art Department Coordinator,Property Master,Art Department Coordinator,Conceptual Design,Set Designer,Set Designer,Animation Supervisor,CG Supervisor,CG Supervisor,CG Supervisor,CG Supervisor,CG Supervisor',\n",
       "       'Producer,Screenplay,Screenplay,Director of Photography,Original Music Composer,Director,Executive Producer,Novel,Executive Producer,Editor,Compositors',\n",
       "       'Original Music Composer,Director,Producer,Writer,Writer,Producer,Casting,Producer,Editor,Costume Design,Set Designer,Art Direction,Production Design,Production Manager,Art Direction,Set Designer,Executive Producer,ADR & Dubbing,Dialogue Editor,Executive Producer,Set Decoration,Orchestrator,Director of Photography,Executive Producer,Set Designer,Sculptor,Sound Re-Recording Mixer,Orchestrator,Supervising Art Director,Art Direction,Set Designer,Casting Associate,Art Direction,Dialogue Editor,Stunt Coordinator,Foley,Executive Producer,Makeup Department Head,Still Photographer,Art Direction,Costume Supervisor,Art Direction,Supervising Sound Editor,Sound Re-Recording Mixer,Location Manager,Sculptor,Special Effects Coordinator,Camera Operator,Transportation Coordinator,Set Designer,Sound Effects Editor,Sound Effects Editor,Special Effects Coordinator,Set Designer,Art Department Coordinator,Foley,Helicopter Camera,Set Designer,Set Designer,Production Supervisor,Sculptor,Set Costumer,Music Editor,Makeup Artist,Visual Effects Producer,Greensman,Hairstylist,Sound Effects Editor,Visual Effects Editor,Visual Effects Supervisor,Camera Technician,Animation,First Assistant Editor,Music Editor,Hairstylist,Costume Supervisor,Construction Coordinator,Assistant Art Director,Construction Coordinator,Set Decoration,Set Costumer,Color Timer,Rigging Gaffer,Assistant Editor,Dialect Coach,Art Department Coordinator,Assistant Art Director,Greensman,Greensman,Greensman,Leadman,Property Master,First Assistant Sound Editor,First Assistant Sound Editor,CG Supervisor,CG Supervisor,Sequence Supervisor,Sequence Supervisor,Animation,Animation,Visual Effects Editor,Animation,Animation,Animation,Visual Effects Editor,Visual Effects Producer,Visual Effects Producer,Visual Effects Producer,Gaffer,Gaffer,Set Costumer,Set Costumer,Set Costumer,Location Manager,Music,Casting,Executive In Charge Of Production,Post Production Supervisor,Production Office Assistant,Orchestrator',\n",
       "       'Producer,Producer,Editor,Music,Writer,Director of Photography,Characters,Director,Animation',\n",
       "       'Casting,Original Music Composer,Production Design,Producer,Co-Producer,Director,Sound Re-Recording Mixer,Costume Supervisor,Co-Producer,Co-Producer,Art Department Coordinator,Rigging Gaffer,Makeup Department Head,Line Producer,Supervising Art Director,Music Editor,Set Decoration,Executive Producer,Director of Photography,Screenplay,Art Direction,Art Direction,Greensman,Assistant Costume Designer,Associate Producer,Editor,Editor,Executive Producer,Makeup Department Head,Executive Producer,Novel,Adaptation,Screenplay,Makeup Department Head,Makeup Designer,Hair Department Head,Producer,Art Direction,Supervising Art Director,Set Decoration,Executive Producer,Art Direction,Co-Producer,Art Direction,Costume Supervisor,Foley,Special Effects Coordinator,Makeup Effects,Property Master,Costume Supervisor,Set Costumer,Construction Coordinator,Script Supervisor,Dialogue Editor,Set Costumer,Property Master,Makeup Effects,Gaffer,Sound Designer,Supervising Sound Editor,Still Photographer,Helicopter Camera,Set Costumer,Helicopter Camera,Leadman,Makeup Artist,Gaffer,Makeup Effects,Set Costumer,Art Direction,Key Hair Stylist,Animation Director,Animation Supervisor,Assistant Art Director,Steadicam Operator,Hair Department Head,Property Master,Art Department Coordinator,Assistant Art Director,Assistant Art Director,Assistant Art Director,Construction Coordinator,Greensman,Camera Operator,Associate Producer,Gaffer,Animation Director,Animation Director,Makeup Effects,Co-Producer,Camera Operator,Special Effects Supervisor,Animation Supervisor,Seamstress,Assistant Costume Designer,Executive Producer,Co-Producer,Makeup Department Head,Visual Effects Coordinator,Armorer,Visual Effects Coordinator,Costume Design,Assistant Art Director,Casting Associate,Choreographer,Researcher,Seamstress,Hair Designer,Makeup Effects,First Assistant Camera,VFX Editor,VFX Editor,Visual Effects Coordinator,First Assistant Editor',\n",
       "       'Director,Producer,Story,Music,Casting,Writer,Story,Producer,Producer,Orchestrator,Story,Animation,Animation,Technical Supervisor',\n",
       "       'Original Music Composer,Director,Producer,Screenplay,Screenplay,Screenplay,Editor,Screenplay,Production Design,Animation Supervisor,Screenplay,Cinematography,Production Design,Art Direction,Storyboard,Layout,Lighting Technician,Animation,Animation,Camera Department Manager,Producer,Color Designer,Set Designer',\n",
       "       'Casting,Costume Design,Producer,Producer,Music,Co-Producer,Supervising Art Director,Set Decoration,Director of Photography,Executive Producer,Director,Editor,Makeup Artist,Production Design,Music Supervisor,Screenplay,Story,Screenplay,Story,Unit Production Manager,Executive Producer,Executive Producer,Associate Producer,Art Direction,Casting Associate,Story,Costume Supervisor,Construction Coordinator,Makeup Department Head,Script Supervisor,Music Editor,Hair Department Head,Special Effects Coordinator,Art Department Coordinator,Hairstylist,Key Hair Stylist,Associate Producer,Makeup Artist',\n",
       "       'Executive Producer,Editor,Executive Producer,Casting,Screenplay,Story,Director of Photography,Producer,Director,Screenplay,Screenplay,Producer,Executive Producer,Executive Producer,Production Design,Songs,Original Music Composer,Music Supervisor,Costume Design,Animation,Animation,Lighting Technician,Lighting Technician,Animation',\n",
       "       'Director of Photography,Director of Photography,Producer,Director,Producer,Original Music Composer,Editor,Screenplay,Screenplay,Screenplay,Screenplay,Stunts',\n",
       "       'Screenplay,Director,Novel,Makeup Artist,Animation,Technical Supervisor,Animation,Lighting Artist,Animation',\n",
       "       'Casting,Producer,Production Manager,Producer,Director,Producer,Story,Editor,Original Music Composer,Director of Photography,Screenplay,Story,Characters,Characters,Executive Producer,Executive Producer,Executive Producer,Editor,Executive Producer,Casting,Screenplay,Story,Co-Producer,Production Design',\n",
       "       'Casting,Executive Producer,Editor,Editor,Director,Executive Producer,Producer,Co-Producer,Producer,Producer,Screenplay,Production Design,Art Direction,Editor,Co-Producer,Set Designer,Set Decoration,Supervising Art Director,Original Music Composer,Producer,Executive Producer,Executive Producer,Foley,Foley,Co-Producer,Casting,Casting,Costume Design,Co-Producer,Set Designer,Set Designer,Art Direction,Director of Photography,Foley,Art Direction,Art Direction,Art Direction,Costume Supervisor,Art Direction,Art Direction,Set Dressing Artist,Sound Designer,Sound Designer,Set Costumer,Set Designer,Sound Designer,Supervising Sound Editor,Sound Designer,Supervising Sound Editor,Special Effects Coordinator,Set Designer,Set Designer,Set Dressing Artist,Construction Coordinator,Art Department Coordinator,Set Designer,Visual Effects Supervisor,Visual Effects Supervisor,Visual Effects Supervisor,Visual Effects Producer,Visual Effects Producer,Visual Effects Producer,Visual Effects Producer,Visual Effects Producer,Visual Effects Producer,Still Photographer,Set Costumer,Script Supervisor,Co-Producer,Lighting Technician,Compositors,Animation,Compositors,Animation,Animation,Animation,Software Engineer,Layout,Visual Effects Editor,Compositors,Compositors,Compositors,VFX Artist,Compositors,Animation,Co-Producer',\n",
       "       'Executive Producer,Casting,Production Design,Visual Development,Co-Executive Producer,Director,Executive Producer,Story,Characters,Editor,Original Music Composer,Music,Screenplay,Story,Producer,Producer,Story,Art Direction,Executive Producer,Associate Producer,Editor',\n",
       "       'Sound Designer,Sound Re-Recording Mixer,Screenplay,Original Music Composer,Costume Design,Director,Producer,Screenplay,Producer,Editor,Music Supervisor,Original Music Composer,Director,Producer,Editor,Story,Editor,Production Design,Supervising Sound Editor,Music Editor,Story,Screenplay,Casting,Art Direction,Sound Effects Editor,Sound Re-Recording Mixer,Animation,Visual Effects Editor,Animation,Visual Development,Layout,Animation,Animation,Layout,Animation,Visual Effects Editor,Animation,Compositors,Compositors,Compositors,Layout,Visual Development',\n",
       "       'Author,Co-Producer,Author,Co-Producer,Thanks,Executive Producer,Thanks,Sound Effects Editor,Director,Editor,Costume Design,Original Music Composer,Original Music Composer,Director,Novel,Author,Producer,Producer,Executive Producer,Executive Producer,Associate Producer,Casting,Production Design,Art Direction,Art Direction,Producer,Additional Dialogue,Author,Co-Executive Producer,Additional Dialogue,Additional Dialogue,Supervising Animator,Supervising Sound Editor,Thanks,Thanks,Other,Production Illustrator,Thanks,Post-Production Manager,Layout,Systems Administrators & Support,Projection,Visual Effects,Casting Associate,Music Editor,ADR & Dubbing,Sound Recordist,Visual Effects Supervisor,Other,Production Accountant,First Assistant Sound Editor,Visual Effects,Second Film Editor,Color Timer,Additional Music,Orchestrator,Production Supervisor,Sculptor,Set Designer,Post Production Supervisor,Production Controller,Sequence Supervisor,Editorial Coordinator,First Assistant Editor,Lighting Artist,Production Coordinator,Production Manager,Foley,Music Supervisor,Sound Mixer,I/O Supervisor,Visual Development,Storyboard,Modeling,Animation Director,Supervising Technical Director',\n",
       "       'Music,Casting,Editor,Director of Photography,Costume Design,Book,Director,Producer,Executive Producer,Orchestrator,Screenplay,Art Direction,Supervising Art Director,Executive Producer,Art Direction,Set Decoration,Executive Producer,Co-Producer,Visual Effects Supervisor,Conceptual Design,Visual Effects Editor,Storyboard,Production Design,Producer,Co-Producer',\n",
       "       'Editor,Production Design,Sound Designer,Supervising Sound Editor,Casting,Original Music Composer,Director,Writer,Editor,Producer,Screenplay,Art Direction,Visual Effects Producer,Casting,Supervising Art Director,Music Editor,Sound Effects Editor,Foley,Foley,Costume Design,Producer,Art Direction,Set Decoration,Supervising Art Director,Set Designer,Executive Producer,Costume Design,Director of Photography,Set Designer,Stunts,Makeup Artist,Hairstylist,Camera Operator,Art Direction,Visual Effects Supervisor,Visual Effects Editor,Editor,Set Designer,Director of Photography,Stunts,Visual Effects Supervisor,Dialect Coach,Art Direction,Art Direction,Art Direction,Motion Capture Artist,Stunt Coordinator,Visual Effects Supervisor,Supervising Art Director,Supervising Art Director,Casting,Production Design,Costume Design,Steadicam Operator,Makeup Department Head,Visual Effects Producer,Visual Effects Supervisor,Post Production Supervisor,Visual Effects Supervisor,Makeup Artist,Costume Supervisor,Visual Effects Supervisor,Art Direction,Costume Supervisor,Costume Supervisor,Costume Supervisor,Set Designer,Set Designer,Dialogue Editor,Set Designer,Transportation Coordinator,Transportation Coordinator,Supervising Sound Editor,Set Designer,Set Designer,Set Designer,Set Designer,Set Designer,Art Department Coordinator,Set Designer,Assistant Art Director,Construction Coordinator,Assistant Art Director,Dialogue Editor,Dialogue Editor,Supervising Sound Editor,Sound Re-Recording Mixer,Choreographer,Visual Effects Producer,Visual Effects Supervisor,Visual Effects Supervisor,Sound Effects Editor,CG Supervisor,Visual Effects Editor,Visual Effects Supervisor,Digital Intermediate,Visual Effects Supervisor,Steadicam Operator,Sound Effects Editor,Production Supervisor,Production Manager,Sound Effects Editor,Special Effects Coordinator,Special Effects Coordinator,Visual Effects Producer,Visual Effects Producer,Visual Effects Editor,Visual Effects Editor,Visual Effects Producer,Visual Effects Editor,Visual Effects Supervisor,Visual Effects Supervisor,Visual Effects Supervisor,Visual Effects Supervisor,Visual Effects Supervisor,Visual Effects Supervisor,Stunt Coordinator,Best Boy Electric,Still Photographer,Lighting Technician,Animation Director,Animation Director,Animation Director,Set Costumer,Set Costumer,Digital Intermediate,Publicist,CG Supervisor,CG Supervisor,Conceptual Design,Visual Effects Art Director,Modeling,Art Department Manager,Hairstylist,Lighting Artist,Makeup Artist,CG Supervisor,CG Supervisor,CG Supervisor,CG Supervisor,CG Supervisor,CG Supervisor,CG Supervisor,CG Supervisor,CG Supervisor,CG Supervisor,CG Supervisor,CG Supervisor,CG Supervisor,CG Supervisor,CG Supervisor,CG Supervisor,Stunts',\n",
       "       'Editor,Editor,Sound Re-Recording Mixer,Sound Designer,Casting,Costume Design,Sound Re-Recording Mixer,Stunt Coordinator,Set Decoration,Foley,Original Music Composer,Production Design,Executive Producer,Screenplay,Director,Producer,Story,Art Direction,Art Direction,Producer,Director of Photography,Supervising Art Director,Screenplay,Producer,Story,Art Direction,Rigging Gaffer,Casting,Art Direction,Supervising Art Director,Casting,Assistant Art Director,Conceptual Design,Casting,Steadicam Operator,Art Direction,Assistant Art Director,Assistant Art Director,Art Direction,Assistant Art Director,Art Direction,Art Direction,Set Costumer,Construction Coordinator,Second Unit Cinematographer,Dialogue Editor,Supervising Sound Editor,Camera Operator,Still Photographer,Set Costumer,Sound Effects Editor,Script Supervisor,Art Department Coordinator,Steadicam Operator,Foley,Helicopter Camera,Visual Effects Art Director,Gaffer,Camera Operator,Helicopter Camera,Art Department Coordinator,Conceptual Design,Camera Operator,Gaffer,Foley,Sound Effects Editor,Makeup Artist,Camera Technician,Rigging Gaffer,Set Costumer,Construction Coordinator,Construction Coordinator,Makeup Department Head,Steadicam Operator,Stunt Coordinator,Animation,Costume Supervisor,Visual Effects,Animation,Story,Hairstylist,Associate Producer,Gaffer,Gaffer,Rigging Gaffer,Art Department Coordinator,Art Department Coordinator,Assistant Art Director,Music Editor,Music Editor,Set Costumer,Set Costumer,Set Costumer',\n",
       "       'Original Music Composer,Producer,Director,Producer,Executive Producer,Director of Photography,Editor,Production Design,Producer,Story,Screenplay,Executive Producer,Executive Producer,Art Direction,Supervising Art Director,Co-Producer,Art Direction',\n",
       "       'Casting,Costume Design,Art Direction,Supervising Sound Editor,Editor,Camera Operator,Original Music Composer,Art Direction,Stunt Coordinator,Producer,Supervising Art Director,Producer,Set Decoration,ADR & Dubbing,Producer,Production Design,Second Unit Cinematographer,Screenplay,Executive Producer,Second Unit Cinematographer,Director,Executive Producer,Director of Photography,Editor,Makeup Artist,Visual Effects Supervisor,Stunt Coordinator,Dialogue Editor,Executive Producer,Special Effects Coordinator,Steadicam Operator,Visual Effects Supervisor,Sound Effects Editor,Second Unit Cinematographer,Foley,Camera Operator,Scenic Artist,Set Designer,Makeup Artist,Set Designer,Costume Supervisor,Set Designer,Makeup Artist,Makeup Department Head,Greensman,Transportation Coordinator,Construction Coordinator,Sound Effects Editor,Music Editor,Visual Effects Supervisor,Assistant Art Director,Script Supervisor,Camera Operator,Animation,Camera Operator,Visual Effects Producer,Stunt Coordinator,Visual Effects Supervisor,Visual Effects Producer,Visual Effects Supervisor,Visual Effects Producer,Camera Operator,Sound Designer,Visual Effects Supervisor,Sound Re-Recording Mixer,Sound Re-Recording Mixer,Visual Effects Supervisor,Visual Effects Supervisor,Leadman,Helicopter Camera,Still Photographer,Music Editor,Camera Operator,Script Supervisor,Digital Intermediate,Foley,Visual Effects Producer,Visual Effects Editor,Gaffer,Hairstylist,Sound Effects Editor,Set Costumer,Visual Effects Editor,Helicopter Camera,Sound Recordist,Dialogue Editor,Helicopter Camera,Set Designer,Second Unit Cinematographer,ADR & Dubbing,Makeup Artist,Camera Operator,Visual Effects Producer,Dolby Consultant,Scenic Artist,Additional Camera,Art Department Coordinator,Sound Designer,Property Master,Visual Effects Producer,Visual Effects Supervisor,Visual Effects Editor,Hairstylist,Hairstylist,Camera Operator,Set Costumer,Visual Effects Supervisor,Set Costumer,Sound Designer,Picture Car Coordinator,Script Supervisor,Unit Publicist,Hairstylist,Hairstylist,Makeup Artist,Assistant Art Director,Art Department Coordinator,Art Department Assistant,Construction Coordinator,Greensman,Set Decoration Buyer,Animation,CG Supervisor,CG Supervisor,CG Supervisor,Visual Effects Producer,Visual Effects Editor,Visual Effects Producer,Visual Effects Editor,Visual Effects Supervisor,Visual Effects Supervisor,Visual Effects Supervisor,Stunt Coordinator,Gaffer,Camera Operator,Camera Operator,Gaffer,Rigging Gaffer,Costume Supervisor,Set Costumer,Set Costumer,Transportation Coordinator,Script Supervisor,Location Manager,Location Manager,Visual Effects Editor',\n",
       "       'Executive Producer,Additional Dialogue,Executive Producer,Sound Re-Recording Mixer,Sound Designer,Production Design,Thanks,Animation,Producer,Director of Photography,Layout,Layout,Modeling,Lighting Camera,Associate Producer,Projection,Additional Writing,Director,Story,Screenplay,Original Music Composer,Thanks,Additional Dialogue,Thanks,Additional Dialogue,Casting,Visual Effects,Thanks,Other,Casting,Screenplay,Thanks,Additional Soundtrack,Thanks,Casting,Original Story,Additional Writing,Visual Effects Supervisor,Sound Re-Recording Mixer,Conceptual Design,Sound Effects Editor,Editorial Services,Color Timer,Animation,Screenplay,Additional Dialogue,Animation,Foley,Editor,Art Direction',\n",
       "       'Casting,Casting,Associate Producer,Associate Producer,Producer,Screenplay,Director,Producer,Novel,Producer,Editor,Co-Producer,Executive Producer,Co-Producer,Production Design,Set Decoration,Costume Design,Screenplay,Screenplay,Original Music Composer,Director of Photography,Art Direction,Still Photographer,Second Unit Cinematographer,Casting,Casting,Art Direction,Art Direction,Supervising Art Director,Art Direction,Art Direction,Art Direction,Art Direction,Set Costumer,Associate Producer,Art Direction,Second Unit Cinematographer,Casting Associate,Camera Operator,Line Producer,Line Producer,Editor,Costume Supervisor,Armorer,Art Direction,Music Editor,Gaffer,Music Editor,Still Photographer,Still Photographer,Art Department Coordinator,Steadicam Operator,Camera Operator,Art Department Coordinator,Gaffer,Visual Effects Supervisor,Helicopter Camera,Music Editor,Helicopter Camera,Rigging Gaffer,Camera Operator,Set Costumer,Camera Operator,Gaffer,Still Photographer,Modeling,Stunts,Conceptual Design,Animation,Assistant Director,Orchestrator,Special Effects,Associate Producer,Script Supervisor,Orchestrator,Art Department Coordinator,Armorer,Costume Supervisor,Set Costumer,Set Costumer,Orchestrator,Gaffer,Underwater Camera',\n",
       "       'Original Music Composer,Producer,Casting,Casting,Supervising Sound Editor,Screenplay,Director,Producer,Executive Producer,Producer,Unit Production Manager,Producer,Editor,Editor,Production Design,Art Direction,Art Direction,Executive Producer,Novel,Producer,Director of Photography,Camera Operator,Set Decoration,Costume Design,Makeup Artist,Creature Design,Unit Production Manager,Unit Production Manager,Production Supervisor,Makeup Artist,Stunt Coordinator,Visual Effects Supervisor,Makeup Artist,Camera Operator,Hairstylist,Second Unit Cinematographer,Camera Operator,Stunt Coordinator,Dialogue Editor,Foley,Makeup Artist,Location Manager,Costume Supervisor,Assistant Art Director,Visual Effects Art Director,Sound Effects Editor,Music Editor,Visual Effects Supervisor,Foley,Dialogue Editor,Visual Effects Supervisor,Transportation Coordinator,Script Supervisor,Script Supervisor,Visual Effects Producer,Visual Effects Producer,Property Master,Assistant Art Director,Sound Designer,Visual Effects Editor,Production Manager,Location Manager,Helicopter Camera,Sound Effects Editor,Visual Effects Supervisor,Scenic Artist,Location Manager,Location Manager,Visual Effects Producer,Set Costumer,Steadicam Operator,Camera Operator,Location Manager,Hairstylist,Hairstylist,Hairstylist,Art Department Coordinator,Property Master,Sculptor,ADR & Dubbing,Dialogue Editor,Foley,Visual Effects Producer,Visual Effects Producer,Visual Effects Producer,Visual Effects Producer,Visual Effects Producer,Visual Effects Editor,Visual Effects Supervisor,Stunt Coordinator,Camera Operator,Second Unit Cinematographer,Still Photographer,Gaffer,Gaffer,Rigging Gaffer,Video Assist Operator,Costume Supervisor,Costume Supervisor,Costume Supervisor,Transportation Coordinator,Location Manager,Location Manager,Dialect Coach,Location Manager,Unit Publicist,Location Manager,Production Accountant',\n",
       "       'Greensman,Casting,Sound Effects Editor,Editor,Construction Coordinator,Stunt Coordinator,Director of Photography,Production Design,Novel,Original Music Composer,Executive Producer,Writer,Supervising Art Director,Foley,Makeup Department Head,Makeup Department Head,Makeup Department Head,Director,Digital Intermediate,Stunt Coordinator,Art Direction,Sound Effects Editor,ADR & Dubbing,Second Unit Cinematographer,Executive Producer,Producer,Writer,Producer,Writer,Visual Effects Editor,Helicopter Camera,Editor,Stunt Coordinator,Set Designer,Costume Design,Stunt Coordinator,Motion Capture Artist,Producer,Visual Effects Producer,Producer,Art Direction,Art Direction,Hairstylist,Set Costumer,Set Costumer,Art Direction,Art Direction,Set Designer,Costume Supervisor,Foley,Dialogue Editor,ADR & Dubbing,Visual Effects Producer,Script Supervisor,Foley,Set Designer,Property Master,Set Decoration,Set Designer,Assistant Art Director,Art Department Coordinator,Art Department Coordinator,Construction Coordinator,Sound Designer,Supervising Sound Editor,Sound Re-Recording Mixer,Sound Designer,Supervising Sound Editor,Sound Re-Recording Mixer,Costume Supervisor,Music Editor,Transportation Coordinator,Script Supervisor,Still Photographer,Visual Effects Supervisor,Camera Operator,Steadicam Operator,Scenic Artist,Visual Effects Producer,Visual Effects Editor,Animation Director,Digital Intermediate,Script Supervisor,Greensman,Set Costumer,Greensman,Sound Effects Editor,Sound Effects Editor,Hairstylist,Hairstylist,Camera Operator,Gaffer,Leadman,Set Costumer,Makeup Artist,Makeup Artist,Makeup Artist,Makeup Artist,Hairstylist,Makeup Effects,Makeup Effects,Makeup Effects,Property Master,Greensman,Greensman,Scenic Artist,Scenic Artist,Scenic Artist,Sound Effects Editor,Animation Director,Animation Director,Animation Director,Animation Director,CG Supervisor,CG Supervisor,Animation Director,CG Supervisor,CG Supervisor,Animation Director,Animation Supervisor,Visual Effects Producer,Visual Effects Producer,Visual Effects Producer,Visual Effects Supervisor,Visual Effects Supervisor,Visual Effects Supervisor,Camera Operator,Steadicam Operator,Camera Operator,Underwater Camera,Camera Intern,Gaffer,Rigging Gaffer,Rigging Gaffer,Set Costumer,Set Costumer,Set Costumer,Set Costumer,Digital Intermediate,First Assistant Editor,First Assistant Editor,First Assistant Editor,Unit Publicist,Location Manager,Visual Effects,Electrician,Foley,Unit Production Manager',\n",
       "       'Screenplay,Screenplay,Screenplay,Director',\n",
       "       'Production Manager,Producer,Makeup Artist,Assistant Art Director,Editor,Costume Design,Casting,Director,Producer,Producer,Screenplay,Screenplay,Director of Photography,Original Music Composer,Production Design,Editor,Editor,Sound Designer,Art Direction,Art Direction,Set Decoration,Costume Design,Sound Effects Editor,Screenplay,Set Designer,Sound Effects Editor,Stunt Coordinator,Leadman,Makeup Artist,Sound Effects Editor,Screenplay,Sound Re-Recording Mixer,Screenplay,Camera Operator,Helicopter Camera,Set Designer,Supervising Art Director,Set Designer,Dialogue Editor,Casting Associate,Visual Effects Supervisor,Production Manager,Gaffer,Set Designer,Visual Effects Producer,Additional Soundtrack,Makeup Department Head,Costume Supervisor,Foley,Dialogue Editor,Gaffer,Visual Effects Supervisor,Dialogue Editor,Supervising Sound Editor,Sound Re-Recording Mixer,Still Photographer,Set Designer,Music Editor,Set Designer,Script Coordinator,Sculptor,Visual Effects Supervisor,Steadicam Operator,Camera Operator,Underwater Camera,Visual Effects Editor,Production Supervisor,Production Supervisor,Art Department Coordinator,Construction Coordinator,Construction Coordinator,Assistant Art Director,Sculptor,Sculptor,Leadman,Set Designer,Set Designer,Set Designer,Sound Effects Editor,Sound Effects Editor,Sound Effects Editor,Visual Effects Editor,Visual Effects Supervisor,Visual Effects Supervisor,Visual Effects Editor,Visual Effects Producer,Visual Effects Producer,Visual Effects Producer,Visual Effects Producer,Helicopter Camera,Set Costumer,Set Costumer,Transportation Coordinator,Transportation Coordinator,Script Supervisor,Publicist,Location Manager,Hair Department Head,Technical Supervisor,Hairstylist,Animation,Makeup Artist,Visual Effects Supervisor,Casting Associate,Key Hair Stylist,Script Coordinator,Rigging Gaffer,Rigging Grip',\n",
       "       'Casting,Producer,Casting,Screenplay,Casting,Line Producer,Makeup Artist,Camera Operator,Production Manager,Production Manager,Stunt Coordinator,Art Direction,Supervising Art Director,Set Decoration,Original Music Composer,Director of Photography,Executive Producer,ADR & Dubbing,Sound Effects Editor,Special Effects Coordinator,Sound Effects Editor,Supervising Sound Editor,Set Decoration,Costume Design,Production Design,Art Direction,Screenplay,Screenplay,Screenstory,Music Editor,Stunts,Author,Director,Producer,Producer,Executive Producer,Executive Producer,Executive Producer,Producer,Editor,Assistant Art Director,Music Editor,Standby Painter,Line Producer,Hairstylist,Stunts,Visual Effects Supervisor,Other,Stunts,Stunts,Dialogue Editor,Art Direction,Transportation Coordinator,Stunts,Electrician,Sound Recordist,Costume Supervisor,Makeup Artist,Visual Effects,Camera Operator,Property Master,Construction Coordinator,Art Department Coordinator,Foley,Camera Operator,Assistant Art Director,Location Manager,Sound Effects Editor,Dialogue Editor,Production Manager,Foley,Visual Effects Editor,Script Supervisor,Sound Re-Recording Mixer,Sound Effects Editor,Still Photographer,Scenic Artist,Construction Coordinator,Special Effects,Visual Effects Editor,Location Manager,Helicopter Camera,Scenic Artist,Steadicam Operator,Underwater Camera,Supervising Sound Editor,Sound Effects Editor,Set Costumer,Additional Photography,Transportation Coordinator,Dialogue Editor,Sound Effects Editor,Gaffer,Music Editor,Unit Publicist,Key Hair Stylist,Art Department Coordinator,Property Master,Scenic Artist,Construction Coordinator,Scenic Artist,Greensman,Sound Recordist,Sound Effects Editor,Sound Recordist,Visual Effects Editor,Visual Effects Producer,Stunt Coordinator,Stunt Coordinator,Camera Operator,Gaffer,Still Photographer,Gaffer,Gaffer,Additional Camera,Additional Camera,Set Costumer,Digital Intermediate,Transportation Coordinator,Picture Car Coordinator,Location Manager,Location Manager,Script Supervisor,Location Manager,Location Manager,Location Manager,Location Manager,Location Manager,Sound mixer,Special Effects Supervisor,Assistant Director,Production Coordinator,Production Coordinator,Grip,Driver',\n",
       "       'Original Music Composer,Casting,Editor,Screenplay,Editor,Director of Photography,Director,Director,Production Supervisor,Producer,Producer,Director of Photography,Visual Development,Layout,Animation Supervisor,Animation Supervisor,Animation,Animation Supervisor',\n",
       "       'Line Producer,Set Designer,Set Decoration,Producer,Original Music Composer,Producer,Production Design,Producer,Director of Photography,Special Effects Coordinator,Casting,Producer,Costume Design,Leadman,Editor,Stunt Coordinator,Art Direction,Music Editor,Camera Operator,Special Effects Coordinator,Music Editor,Visual Effects Supervisor,Executive Producer,Author,Sculptor,Director,Executive Producer,Author,Executive Producer,Set Designer,Set Designer,Stunt Coordinator,Set Designer,Set Designer,Special Effects Coordinator,Set Designer,Still Photographer,Costume Supervisor,Foley,Sound Effects Editor,Sound Re-Recording Mixer,Construction Coordinator,Music Editor,Supervising Sound Editor,Art Department Coordinator,Set Designer,Greensman,Visual Effects Producer,Visual Effects Producer,Stunt Coordinator,Steadicam Operator,Camera Operator,Gaffer,Set Costumer,Set Costumer,Set Costumer,Associate Producer',\n",
       "       'Original Music Composer,Sound Re-Recording Mixer,Screenplay,Director,Producer,Novel,Screenplay,Producer,Screenplay,Director of Photography,Costume Design,Casting,Casting,Casting,Set Decoration,Editor,Supervising Sound Editor,Producer,Screenplay,Conceptual Illustrator,Executive Producer,Makeup Department Head,Producer,Executive Producer,Art Direction,Stunts,Executive Producer,Casting,Casting,Costume Design,Storyboard,Executive Producer,Costume Supervisor,Sound Re-Recording Mixer,Still Photographer,Sound Re-Recording Mixer,Sound Effects Editor,Supervising Sound Editor,Sound Effects Editor,Sound Effects Editor,Stunts,Conceptual Design,VFX Artist,Still Photographer,Script Supervisor,Music Supervisor,Still Photographer,Still Photographer,Production Coordinator,Key Hair Stylist',\n",
       "       'Original Music Composer,Producer,Executive Producer,Producer,Story,Producer,Production Design,Screenplay,Story,Casting,Executive Producer,Costume Design,Set Decoration,Editor,Costume Design,Art Direction,Director,Casting,Characters,Characters,Art Direction,Executive Producer,Stunts,Art Direction,Art Direction,Orchestrator,Co-Producer,Producer,Art Direction,Storyboard,Director of Photography,Art Direction,Art Direction,Hairstylist,Hair Setup,Hair Setup,Stunts,Visual Effects,Special Effects Supervisor,Stunt Coordinator,Visual Effects Supervisor,Associate Producer,Special Effects,Compositors,Casting,Stunts,Assistant Editor,Assistant Editor',\n",
       "       'Director of Photography,Screenplay,Original Music Composer,Casting,Editor,Sound Effects Editor,Sound Editor,Special Effects Supervisor,Director,Producer,Author,Executive Consultant,Author,Editor,Producer,Producer,Executive Producer,Production Design,Set Decoration,Art Direction,Art Direction,Costume Design,Executive In Charge Of Production,Co-Producer,Casting Associate,Music Editor,Stunt Coordinator,Supervising Art Director,Color Timer,Casting,Property Master,Makeup Department Head,Visual Effects Producer,Assistant Art Director,Orchestrator,Unit Production Manager,Assistant Costume Designer,Stunt Coordinator,Second Unit Cinematographer,Stunts,Helicopter Camera,Storyboard,Art Direction,Special Effects,Makeup Designer,Choreographer,Set Dressing Artist,Production Manager,Associate Producer,Characters,Makeup Artist,Visual Effects Producer,Digital Compositors,Sound Designer,Transportation Captain,First Assistant Sound Editor,Set Designer,Visual Effects Supervisor,Art Department Coordinator,Still Photographer,Production Coordinator,Conceptual Design,Visual Effects Coordinator,Dialogue Editor,Video Assist Operator,Hair Department Head,Visual Effects Editor,Script Supervisor,Foley,Greensman,Scenic Artist,Construction Coordinator,Visual Effects,Propmaker,Animation Director,Associate Producer,Grip,Set Costumer,Gaffer,Special Effects Coordinator,Best Boy Electric,Sound Recordist,Sound Mixer,Digital Effects Supervisor,Craft Service,Art Department Assistant,Utility Stunts,Rigging Grip,Stunts,Systems Administrators & Support,Assistant Director,Additional Photography,Production Accountant,Unit Publicist,CG Supervisor,Loader,Location Scout,Transportation Co-Captain,Grip,Lead Painter,Leadman,Painter,Production Illustrator,Sculptor,Set Decoration Buyer,Standby Painter,Camera Operator,First Assistant Camera,Costume Supervisor,Hairstylist,Seamstress,Carpenter,Driver,Makeup Effects,Post Production Assistant,Set Medic,Set Production Assistant,Software Engineer,Stand In,First Assistant Editor,Electrician,Lighting Technician,Location Manager,Production Supervisor,Boom Operator,I/O Supervisor',\n",
       "       'Characters,Director,Producer,Screenplay,Screenplay,Development Manager,Producer',\n",
       "       'Casting,Editor,Music,Screenplay,Screenplay,Director,Producer,Producer,Story,Original Music Composer,Animation Supervisor,Producer,Novel,Casting,Supervising Animator,Art Direction,Layout,Animation Supervisor,Production Design,Visual Effects Supervisor,Characters,Production Manager,Production Manager,Lighting Coordinator,Lighting Supervisor,Lighting Supervisor,Lighting Supervisor,Lighting Supervisor,Lighting Supervisor,Lighting Supervisor,Supervising Technical Director,Modeling,Character Technical Supervisor,Animation Supervisor,Animation Supervisor',\n",
       "       'Executive Producer,Editor,Director,Executive Producer,Editor,Casting,Producer,Casting,Production Design,Art Direction,Special Effects,Casting,Producer,Producer,Costume Design,Art Direction,Co-Producer,Set Decoration,Art Direction,Screenplay,Story,Screenplay,Story,Music,Producer,Story,Executive Producer,Executive Producer,Director of Photography,Editor,Set Decoration,Art Direction,Supervising Art Director,Co-Producer,Associate Producer,Costume Supervisor,Makeup Department Head,Costume Supervisor,Animation,Animation,Associate Producer',\n",
       "       'Casting,Producer,Original Music Composer,Producer,Director,Screenplay,Producer,Director of Photography,Casting,Original Music Composer,Screenplay,Characters,Editor,Producer,Executive Producer,Executive Producer,Unit Production Manager,Art Direction,Costume Design,Supervising Sound Editor,Assistant Art Director,Stunts,Hair Designer,Assistant Editor,Foley,Set Decoration,Set Decoration,Sound Re-Recording Mixer,Production Design,Stunt Coordinator,Casting Associate,Stunts,Thanks,Thanks,Thanks,Stunts,Stunts,Location Manager,Art Direction,Sound Editor,Music Editor,Production Manager,Special Effects Coordinator,Post Production Supervisor,CG Supervisor,Thanks,Post Production Assistant,Camera Operator,Steadicam Operator,Costume Supervisor,Supervising Art Director,Visual Effects Supervisor,Stunts,Art Direction,Makeup Artist,Art Department Coordinator,Boom Operator,Propmaker,Music Editor,Sound Re-Recording Mixer,Dialect Coach,Still Photographer,Gaffer,Script Supervisor,Visual Effects Editor,Associate Producer,Animatronics Designer,Set Designer,Greensman,Visual Effects Producer,Aerial Director of Photography,Unit Manager,Sound Effects Editor,Stunts,Foley,Unit Publicist,Hairstylist,3D Supervisor,Makeup Artist,Scenic Artist,Storyboard,Set Dressing Artist,Orchestrator,Dolby Consultant,Rigging Gaffer,Publicist,Carpenter,ADR & Dubbing,Chef,Armorer,Visual Effects,Sound Recordist,Dialogue Editor,Visual Effects Coordinator,Assistant Costume Designer,Video Assist Operator,First Assistant Editor,Color Timer,Sound Mixer,Color Timer,Hairstylist,Production Supervisor,Systems Administrators & Support,First Assistant Director,Property Master,Stand In,Production Accountant,Art Department Assistant,Loader,Key Grip,Electrician,Thanks,Transportation Co-Captain,Projection,Digital Compositors,Set Decoration,Construction Coordinator,Painter,Sculptor,Standby Painter,First Assistant Camera,Grip,Seamstress,Set Costumer,Driver,Production Office Assistant,Set Production Assistant,Transportation Coordinator,Utility Stunts,Lighting Technician,Rigging Grip,Production Coordinator,Assistant Sound Editor,I/O Supervisor,Special Effects Supervisor,Sequence Leads,VFX Artist',\n",
       "       'Creative Consultant,Executive Music Producer,Thanks,Supervising Sound Editor,Screenplay,Screenplay,Music Editor,Original Music Composer,Original Music Composer,Producer,Executive Producer,Executive Producer,Production Manager,Casting,Thanks,Director,Choreographer,Producer,Director,Screenplay,Producer,Editor,Production Illustrator,Sound Editor,Production Supervisor,Systems Administrators & Support,Thanks,Executive Producer,Animation,Casting,Music Editor,Thanks,Post Production Supervisor,Sound Mixer,Music Editor,Animation,Casting,Foley,First Assistant Editor,Music Editor,Thanks,Sound Recordist,Visual Effects Supervisor,Special Sound Effects,Storyboard,Sculptor,Sound,Color Timer,Additional Music,Production Design,Production Controller,Editorial Coordinator,Supervising Animator,Art Direction,Set Designer,Layout,Lighting Artist,Lighting Supervisor,Production Coordinator,Researcher,Assistant Sound Editor,Orchestrator,3D Modeller,Visual Effects,Visual Effects Coordinator,Supervising Technical Director',\n",
       "       'Sound Effects Editor,Writer,Original Music Composer,Supervising Sound Editor,Supervising Sound Editor,Producer,Casting,Editor,Director,Sound Effects Editor,Producer,Supervising Animator,Art Direction,Director,Sound Re-Recording Mixer,Music Editor,Casting Associate,Sound Effects Editor,Production Coordinator,Sound Re-Recording Mixer,Art Direction,Animation,Animation,Animation,Animation,Supervising Animator,Animation,Assistant Editor,Animation,Production Design',\n",
       "       'Original Music Composer,Producer,Editor,Co-Producer,Co-Producer,Editor,Sound Designer,Supervising Sound Editor,Sound Re-Recording Mixer,Animation,Executive Producer,Thanks,Thanks,Novel,Additional Writing,Screenplay,Director,Screenplay,Director,Editorial Services,Editorial Services,Screenplay,Executive Producer,Supervising Sound Editor,Sound Re-Recording Mixer,Storyboard,Associate Producer,Casting,Post-Production Manager,Casting,Post Production Supervisor,Animation,Layout,Animation,Layout,Animation Manager,Art Department Manager,Animation,Production Design,Co-Producer,Sound,Co-Producer',\n",
       "       'Casting,Co-Producer,Co-Producer,Director,Screenplay,Producer,Costume Design,Editor,Second Unit Cinematographer,Co-Producer,Unit Production Manager,Producer,Production Design,Assistant Art Director,Set Decoration,Art Direction,Casting,Makeup Artist,Color Timer,Dolby Consultant,Special Effects Coordinator,Art Direction,Art Direction,Art Direction,Visual Effects Supervisor,Director of Photography,Set Designer,Camera Operator,Supervising ADR Editor,Screenplay,Novel,Executive Producer,First Assistant Director,Producer,Original Music Composer,Musician,Original Music Composer,Sound Recordist,Sound Re-Recording Mixer,Dialect Coach,Post-Production Manager,Post Production Supervisor,Production Sound Mixer,Co-Producer,Utility Stunts,Visual Effects Producer,Camera Operator,Stunt Coordinator,Original Music Composer,Set Medic,Key Makeup Artist,Stunt Coordinator,Digital Compositors,Visual Effects Designer,Dialogue Editor,Line Producer,Unit Manager,Digital Effects Supervisor,Foley,Production Illustrator,Stunts,Rigging Gaffer,Visual Effects Coordinator,Visual Effects Producer,Makeup Department Head,Costume Supervisor,Production Coordinator,Set Designer,Set Designer,Visual Effects Producer,Executive Visual Effects Producer,Sound Designer,Set Designer,Construction Coordinator,Property Master,Art Department Coordinator,Set Designer,Leadman,Sound Re-Recording Mixer,Boom Operator,Sound Effects Editor,Visual Effects Supervisor,Visual Effects Producer,Visual Effects Supervisor,Camera Operator,Camera Operator,Camera Operator,Camera Operator,Local Casting,Digital Intermediate,Transportation Coordinator,Studio Teachers,Studio Teachers,Script Supervisor,Script Supervisor,Location Manager,Thanks,Transportation Captain,Still Photographer,Music Editor,Set Dressing Supervisor,Hair Department Head,Aerial Director of Photography,Visual Effects Editor,ADR Editor,Additional Sound Re-Recording Mixer,Makeup Effects,Assistant Sound Editor,First Assistant Sound Editor,Visual Effects Editor,Casting Associate,Key Costumer,Steadicam Operator,Quality Control Supervisor,Scoring Mixer,Telecine Colorist,First Assistant Editor,I/O Supervisor,Rigging Grip,First Assistant Camera,Construction Foreman,Standby Painter,Key Grip,Hairstylist,Seamstress,Set Costumer,Set Dresser,Armorer,Craft Service,Driver,Loader,Post Production Assistant,Projection,Propmaker,Sequence Supervisor,Set Production Assistant,Stand In,Technical Supervisor,Unit Publicist,Video Assist Operator,Layout,Best Boy Electric,Electrician,Gaffer,Lighting Artist,Lighting Technician,Production Accountant,Production Office Coordinator,Researcher,3D Supervisor,Storyboard,Translator,Second Assistant Director,CG Animator,Pilot,Negative Cutter,Ager/Dyer,ADR Voice Casting,Foley,Assistant Property Master,Dolly Grip,Grip,Tailor,Animal Wrangler,Marine Coordinator,Assistant Production Coordinator,Lead Animator,Matchmove Supervisor',\n",
       "       'Executive Producer,Original Music Composer,Director of Photography,Costume Design,Executive Producer,Producer,Casting,Screenplay,Director,Compositors,Visual Effects,Animation,Assistant Director,Compositors',\n",
       "       'Music,Producer,Director,Director,Screenplay,Producer,Screenplay,Screenplay,Screenplay,Producer,Editor,Costume Design,Director of Photography,Director of Photography,Animation,Animation,Art Direction,Conceptual Design,Animation,Art Department Manager,Animation',\n",
       "       'Original Music Composer,Screenplay,Director,Director,Screenplay,Director,Producer,Producer,Orchestrator,Set Designer,Visual Development,Visual Development,Visual Development,Visual Effects,Lighting Technician',\n",
       "       'Casting,Director of Photography,Producer,Producer,Production Design,Screenplay,Art Direction,Art Direction,Foley,Director,Set Decoration,Producer,Screenplay,Original Music Composer,Producer,Editor,Executive Producer,Property Master,Producer,Screenplay,Costume Design,Camera Operator,Art Direction,Art Direction,Novel,Executive Producer,Script Supervisor,First Assistant Editor,Underwater Camera,CG Supervisor,Costume Supervisor,Supervising Art Director,Visual Effects Supervisor,Sound Effects Editor,Supervising Sound Editor,Foley,Choreographer,Camera Operator,Executive Producer,Art Direction,Art Direction,Art Direction,Assistant Art Director,Assistant Art Director,Standby Painter,Assistant Art Director,Art Department Coordinator,Assistant Art Director,Standby Painter,Sound Effects Editor,Dialogue Editor,Special Effects Coordinator,Visual Effects Supervisor,Visual Effects Producer,Visual Effects Supervisor,Visual Effects Producer,Visual Effects Supervisor,Visual Effects Producer,Stunt Coordinator,Gaffer,Script Supervisor,Set Costumer,Camera Operator,Still Photographer,Construction Coordinator,Sound Re-Recording Mixer,Dolby Consultant,Still Photographer,Visual Effects Editor,Underwater Camera,Production Manager,Wigmaker,Camera Operator,Script Supervisor,Helicopter Camera,Location Manager,CG Supervisor,Second Unit Cinematographer,Animation Supervisor,Makeup Artist,Script Supervisor,Animation Supervisor,CG Supervisor,CG Supervisor,CG Supervisor,Animation Supervisor,Visual Effects Editor,Visual Effects Editor,Visual Effects Editor,Visual Effects Editor,Visual Effects Editor,Visual Effects Art Director,Hairstylist,Hairstylist,Hairstylist,Makeup Artist,Makeup Artist,Makeup Artist,Makeup Artist,Camera Operator,Camera Operator,Camera Operator,Camera Operator,Set Costumer,Digital Intermediate,First Assistant Editor,Script Supervisor,Location Manager,Location Manager,Visual Effects,Art Direction',\n",
       "       'Music,Writer,Producer,Cinematography,Screenplay,Director,Director,Writer,Producer,Art Department Manager,Digital Producer,Animation,Art Department Manager,Animation',\n",
       "       'Editor,Production Design,Original Music Composer,Art Direction,Producer,Music Editor,Casting,Director,Director of Photography,Screenplay,Editor,Costume Design,Producer,Supervising Art Director,Screenplay,Sound Effects Editor,Supervising Sound Editor,Producer,Art Direction,Executive Producer,Producer,Screenplay,Executive Producer,Set Decoration,Executive Producer,Music Editor,Co-Producer,Costume Supervisor,Sound Effects Editor,Dialogue Editor,Sound Re-Recording Mixer,Script Supervisor,Music Editor,Sound Re-Recording Mixer,Music Editor,Music Editor,Music Editor,Supervising Sound Editor,Sound Designer,Sound Effects Editor,Music Editor,Still Photographer,Music Editor,Visual Effects,Music Supervisor,Script Supervisor,Production Supervisor',\n",
       "       'Executive Producer,Original Music Composer,Casting,Producer,Production Design,Director,Director of Photography,Editor,Producer,Writer,Costume Design,Supervising Art Director,Editor,Set Decoration,Executive Producer,Supervising Art Director,Screenplay,Art Direction,VFX Artist,Camera Technician,Stunts',\n",
       "       'Editor,Casting,Production Design,Executive Producer,Producer,Executive Producer,Original Music Composer,Director,Costume Design,Set Decoration,Special Effects Supervisor,Screenplay,Casting,Director of Photography,Art Direction,Story,Executive Producer,Executive Producer,Co-Producer,Screenplay,Screenplay,Costume Supervisor,Makeup Department Head,Script Editor,Still Photographer,Camera Operator,Steadicam Operator,Visual Effects Editor,Other,Lighting Artist',\n",
       "       'Casting,Set Decoration,Producer,Original Music Composer,Screenplay,Director,Producer,Characters,Original Music Composer,Costume Design,Art Direction,Screenplay,Producer,Characters,Production Design,Supervising Art Director,Screenplay,Art Direction,Casting,Visual Effects Editor,Screenplay,Screenplay,Camera Operator,Helicopter Camera,Sound Effects Editor,Art Direction,ADR & Dubbing,Editor,Still Photographer,Art Direction,Casting Associate,Foley,Director of Photography,Makeup Department Head,Costume Supervisor,Foley,Script Supervisor,Assistant Art Director,Art Direction,Art Direction,Dialogue Editor,Sound Effects Editor,Foley,Conceptual Design,Foley,VFX Supervisor,Construction Coordinator,Construction Coordinator,Art Department Coordinator,Dialogue Editor,Sound Designer,Supervising Sound Editor,Visual Effects Editor,Sound Re-Recording Mixer,Makeup Artist,Set Costumer,Helicopter Camera,Sound Effects Editor,Gaffer,Hair Department Head,Set Costumer,Art Direction,Animation Director,VFX Editor,CG Supervisor,CG Supervisor,CG Supervisor,Visual Effects Editor,Rigging Gaffer,Art Department Coordinator,CG Supervisor,Assistant Art Director,Camera Operator,Helicopter Camera,Key Hair Stylist,Assistant Costume Designer,Script Supervisor,Assistant Costume Designer,Casting Associate,Makeup Artist,Special Effects Coordinator,Music Editor,Stunts,Music Editor,CG Supervisor,Set Costumer,Hairstylist,Rigging Grip,Makeup Artist,Animation Director,Construction Coordinator,Animation Supervisor,Music Editor,Visual Effects Editor,Art Direction,Conceptual Design,Seamstress,Camera Operator,Hairstylist,Hairstylist,Makeup Artist,3D Supervisor,Animation Supervisor,CG Supervisor,CG Supervisor,Digital Effects Supervisor,VFX Editor,VFX Supervisor,First Assistant Editor',\n",
       "       'Unit Production Manager,Producer,Executive Producer,Executive Producer,Executive Producer,Editor,Editor,Executive Producer,Casting,Director of Photography,Sound Effects Editor,Costume Design,Original Music Composer,Production Design,Editor,Director,Set Decoration,Screenplay,Executive Producer,Choreographer,Executive Producer,Screenstory,Screenplay,Screenplay,Sound Re-Recording Mixer,Stunt Coordinator,Dialogue Editor,Music Editor,Music Editor,Supervising Sound Editor,Sound Re-Recording Mixer,Still Photographer,Music Editor,Sound Designer,Supervising Sound Editor,Sound Effects Editor,Sound Effects Editor,Music Editor,Dialogue Editor,Sound Effects Editor,Script Supervisor,Sound Effects Editor,Sound Effects Editor,Hair Designer,Music Editor,Sound mixer',\n",
       "       'Set Decoration,Sound Re-Recording Mixer,Casting,Screenplay,Screenplay,Executive Producer,Producer,Sound Designer,Supervising Sound Editor,Sound Re-Recording Mixer,Executive Producer,Production Design,Costume Design,Co-Producer,Co-Producer,Camera Operator,Gaffer,Second Unit Cinematographer,Special Effects Supervisor,Editor,Supervising Sound Editor,Costume Supervisor,Characters,Characters,Director,Director,Script Supervisor,Makeup Artist,Music Supervisor,Assistant Costume Designer,Executive Producer,Second Unit Cinematographer,Executive Producer,Executive Producer,Comic Book,Foley,Makeup Artist,Additional Camera,Original Music Composer,Camera Operator,Supervising Art Director,Director of Photography,Property Master,Executive Producer,Co-Producer,Co-Producer,Art Direction,Gaffer,Costume Supervisor,Visual Effects Supervisor,Costume Supervisor,Visual Effects Coordinator,Assistant Art Director,Assistant Art Director,Researcher,Casting,Casting,Associate Producer,Boom Operator,Construction Coordinator,Camera Operator,Visual Effects Supervisor,Art Department Coordinator,Gaffer,Assistant Art Director,Sound Effects Editor,Set Costumer,Still Photographer,Music Editor,Helicopter Camera,Visual Effects Coordinator,Helicopter Camera,CG Supervisor,Animation Supervisor,Camera Operator,Set Costumer,Hair Department Head,Camera Operator,Hairstylist,Hairstylist,Dialogue Editor,Visual Effects Supervisor,Set Costumer,Steadicam Operator,Special Effects Coordinator,Assistant Art Director,Armorer,Assistant Costume Designer,Casting Associate,Visual Effects Coordinator,Armorer,First Assistant Editor,Hairstylist,Camera Operator,Visual Effects Coordinator,Property Master,Armorer,Assistant Costume Designer,Set Costumer,Set Costumer,Gaffer,Makeup Artist,Makeup Artist,Dialogue Editor,Boom Operator,Boom Operator,Animation Supervisor,CG Supervisor,Special Effects Supervisor,Visual Effects Coordinator,Visual Effects Coordinator,Visual Effects Editor,Visual Effects Producer,Visual Effects Supervisor,Visual Effects Supervisor,First Assistant Editor,First Assistant Editor,Researcher,Stunts',\n",
       "       'Music,Set Decoration,Casting,Executive Producer,Director,Editor,Executive Producer,Author,Director of Photography,Producer,Screenplay,Screenplay,Art Direction,Executive Producer,Art Direction,Costume Design,Executive Producer,Art Direction,Art Direction,Production Design,Art Direction,Art Direction,Animation,Animation,Animation,Compositors,Layout,Compositors,Art Direction,Visual Effects,Visual Effects',\n",
       "       'Original Music Composer,Director,Writer',\n",
       "       'Original Music Composer,Director,Author,Producer,Author,Producer,Author,Director of Photography,Production Design,Art Direction,Casting,Casting,Casting,Supervising Art Director,Editor,Original Music Composer,Original Music Composer,Casting,Costume Design,Sound Designer,Sound Designer,Producer,Producer,Art Direction,Hair Designer,Makeup Designer,Armorer,Costume Supervisor,3D Supervisor,Script Supervisor,Stunts,Visual Effects,Animation,Script Supervisor,Art Department Manager,Art Department Coordinator,Assistant Costume Designer,Choreographer',\n",
       "       'Screenplay,Original Music Composer,Editor,Screenplay,Supervising Animator,Story,Director,Director,Screenplay,Producer,Director of Photography,Animation,Visual Effects,Animation,Animation,Animation,Animation Supervisor,Animation,Layout,Animation Manager,Color Designer,Visual Effects,Layout,Animation,Visual Effects,Animation Manager,Visual Effects,Visual Effects,Animation,Animation,Visual Effects',\n",
       "       'Original Music Composer,Supervising Sound Editor,Writer,Casting,Editor,Editor,Director,Writer,Director,Writer,Additional Music,Creative Consultant,Sound Engineer,Producer,Editor,Co-Producer,Art Direction,Post-Production Manager,Visual Development,Post Production Supervisor,Production Manager,Writer,Unit Manager,Music Editor,Casting Associate,Production Supervisor,Sound Recordist,Production Accountant,Animation Supervisor,Animation Supervisor,Sculptor,Sound Effects Editor,Supervising Animator,First Assistant Editor,Animation,Set Designer,Color Timer,Orchestrator,Assistant Sound Editor,Foley,Translator,Production Controller,Visual Effects Supervisor,Production Supervisor,Production Design,Production Illustrator,Post Production Assistant,Software Engineer,Systems Administrators & Support,Lighting Artist,Production Coordinator,Visual Effects,Additional Editing,Animation Production Assistant,Supervising Technical Director',\n",
       "       'Screenplay,Casting,Editor,Editor,Screenplay,Screenplay,Director,Producer,Story,Production Design,Costume Design,Producer,Set Designer,Visual Effects Producer,Producer,Supervising Art Director,Producer,Casting,Original Music Composer,Casting,Director of Photography,Set Decoration,Stunt Coordinator,Music Editor,Sound Designer,Supervising Sound Editor,Stunt Coordinator,Casting,Screenplay,Producer,Art Direction,Visual Effects Supervisor,Visual Effects Producer,Choreographer,Hairstylist,Foley,Sound Re-Recording Mixer,Dialogue Editor,Visual Effects Producer,Visual Effects Producer,Script Supervisor,Visual Effects Editor,Set Designer,Visual Effects Supervisor,Supervising Sound Effects Editor,Visual Effects Supervisor,Visual Effects Producer,Visual Effects Producer,Visual Effects Editor,Visual Effects Supervisor,Wigmaker,Makeup Artist,Makeup Artist,Hairstylist,Hairstylist,Hairstylist,Post Production Supervisor,Property Master,Assistant Art Director,Assistant Art Director,Art Department Coordinator,Construction Coordinator,Sculptor,Sculptor,Scenic Artist,Sound Re-Recording Mixer,Dialogue Editor,Dialogue Editor,Dialogue Editor,Special Effects Coordinator,Special Effects Coordinator,Visual Effects Supervisor,Visual Effects Art Director,Visual Effects Supervisor,Visual Effects Supervisor,Visual Effects Supervisor,Visual Effects Supervisor,Visual Effects Editor,Visual Effects Supervisor,Visual Effects Supervisor,Visual Effects Editor,Visual Effects Art Director,Visual Effects Producer,Visual Effects Producer,Visual Effects Producer,Visual Effects Producer,Visual Effects Producer,Visual Effects Producer,Visual Effects Producer,Stunt Coordinator,Camera Operator,Camera Operator,Camera Operator,Still Photographer,Gaffer,Video Assist Operator,Digital Intermediate,Transportation Coordinator,Location Manager,Unit Publicist,Location Manager',\n",
       "       'Original Music Composer,Director,Co-Director,Screenplay,Story,Screenplay,Screenplay,Producer,Executive Producer,Associate Producer,Editor,Sound Effects Editor,Color Timer,Associate Editor,Casting Associate,Sound Recordist,Background Designer,Foley,Post Production Supervisor,ADR Editor,Animation,Additional Writing,Additional Writing,Additional Writing,Storyboard,Musician,Foley Editor,Scoring Mixer,Sound Designer,Supervising Sound Editor,Music Editor,Visual Development,Production Design,First Assistant Sound Editor,Sound Engineer,Additional Writing,Lead Animator,Additional Writing,Additional Writing,Set Dresser,Additional Music,Sequence Supervisor,Systems Administrators & Support,Layout,First Assistant Editor,Lighting Technician,Production Accountant,Production Coordinator,Production Manager,Production Supervisor,Researcher,Orchestrator,Digital Compositors,Translator,Modeling,Negative Cutter,Assistant Production Manager,Apprentice Sound Editor',\n",
       "       'Director,Director,Executive Producer,Producer,Editor,Producer,Original Music Composer,Digital Intermediate,Color Timer,Additional Editing,Thanks,Screenplay,Screenplay,Casting,Screenplay,Story,First Assistant Editor,Sound Recordist,Story,Story,Producer,Production Design,Foley,Dialogue Editor,Sound Effects Editor,Art Direction,Co-Producer,Animation,Supervising Animator,Script Coordinator,Sound Re-Recording Mixer,Conceptual Design,Storyboard,Sound Designer,Music Editor,Post Production Supervisor,Visual Development,Music Supervisor,Lighting Artist,Producer,CG Supervisor,First Assistant Sound Editor,Orchestrator,Scoring Mixer,Telecine Colorist,Layout,Production Accountant,Unit Production Manager,Master Lighting Artist,Software Engineer,Systems Administrators & Support,Lighting Artist,Lighting Supervisor,Lighting Technician,Production Coordinator,Production Supervisor,Visual Effects,Visual Effects Supervisor',\n",
       "       'Executive Producer,Writer,Co-Producer,Writer,Co-Producer,Executive Producer,Director,Animation,Producer,Director,Animation,Music Editor,Animation Manager,Animation,Animation,Layout,Technical Supervisor,Animation,Layout,Animation,Layout,Technical Supervisor,Animation,Animation,Supervising Animator,Layout,Animation,Modeling,Animation,VFX Artist,Music,Executive Producer,Co-Producer,Executive Producer',\n",
       "       'Original Music Composer,Casting,Director,Producer,Producer,Director of Photography,Editor,Casting,Production Design,Art Direction,Costume Design,Special Effects,Author,Author,Art Direction,Set Decoration,Supervising Sound Editor,Sound Editor,Supervising Art Director,Set Designer,Executive Producer,Utility Stunts,Novel,Special Effects Coordinator,Second Unit Cinematographer,Stunt Coordinator,Sound Designer,Orchestrator,ADR & Dubbing,Storyboard,First Assistant Editor,Unit Production Manager,Boom Operator,Scoring Mixer,Special Effects Supervisor,Production Supervisor,Costume Supervisor,Carpenter,Makeup Artist,Art Direction,Dialogue Editor,Stunts,Foley,Executive Producer,Sound Mixer,Standby Painter,First Assistant Director,Camera Operator,Costume Supervisor,Makeup Effects,Casting Associate,Makeup Department Head,Visual Effects Supervisor,Makeup Artist,Costume Supervisor,Sound Re-Recording Mixer,Assistant Costume Designer,Sound Designer,Supervising Sound Editor,Dialogue Editor,Location Manager,Script Supervisor,Sound Effects Editor,Sound Effects Editor,Sound Effects Editor,Foley,Camera Operator,Property Master,Sound Designer,Camera Operator,Studio Teachers,Still Photographer,Still Photographer,Transportation Captain,Dolby Consultant,Best Boy Electric,Sculptor,Camera Operator,Visual Effects Editor,Sound Re-Recording Mixer,Visual Effects,Hair Department Head,Transportation Coordinator,Production Coordinator,Sound Designer,Key Hair Stylist,Key Hair Stylist,Music Editor,Unit Publicist,Set Costumer,Set Medic,Makeup Effects,ADR & Dubbing,Greensman,Sound Recordist,Camera Operator,Visual Effects Art Director,Makeup Effects,Dialect Coach,Lighting Technician,Sound Re-Recording Mixer,Sound Designer,Mechanical Designer,Visual Effects Coordinator,Color Timer,Sound Engineer,Art Department Coordinator,Animation Supervisor,First Assistant Sound Editor,Camera Operator,Construction Coordinator,First Assistant Camera,Painter,Rigging Gaffer,Costume Supervisor,Armorer,Hairstylist,Armorer,Art Department Assistant,Armorer,Orchestrator,Armorer,First Assistant Editor,Animation Supervisor,Animation Supervisor,Creature Design,Armorer,Armorer,Armorer,Property Master,Still Photographer,ADR & Dubbing,Foley,Gaffer,Gaffer,Rigging Grip,Propmaker,Picture Car Coordinator,Production Accountant,Construction Foreman,Production Illustrator,Layout,Location Scout,Craft Service,Set Dressing Artist,Key Grip,Grip,Sequence Supervisor,Assistant Art Director,Visual Effects Producer,Scenic Artist,Loader,Camera Intern,Driver,Post Production Assistant,Post Production Supervisor,Production Intern,Security,Set Production Assistant,Software Engineer,Stand In,Video Assist Operator,Electrician,Digital Compositors',\n",
       "       'Supervising Sound Editor,Director of Photography,Original Music Composer,Director,Stunt Coordinator,Costume Design,Set Designer,Producer,Casting,Casting,Set Designer,Producer,Production Manager,Producer,Editor,Screenplay,Executive Producer,Production Design,Producer,Producer,Editor,Art Direction,Set Designer,Animation,Set Designer,Stunt Coordinator,Storyboard,Location Manager,Set Designer,Sound Re-Recording Mixer,Set Decoration,Set Designer,Script Supervisor,Sound Effects Editor,Set Designer,Production Supervisor,Lead Animator,Animation,Lead Animator,Animation,Layout,Animation,Layout,Compositors,Storyboard,Storyboard,Visual Effects Supervisor,Animation,Stunts,Animation,Animation,Animation,Sound Effects Editor,Production Manager,Visual Effects Coordinator,Animation,Unit Production Manager,Set Designer,Post Production Supervisor,Casting Associate,Production Manager,Production Coordinator,Sound Effects Editor',\n",
       "       'Screenplay,Music,Casting,Director of Photography,Costume Design,Executive Producer,Characters,Producer,Production Design,Editor,Editor,Executive Producer,Set Decoration,Art Direction,Characters,Art Direction,Director,Executive Producer,Characters,Characters,Casting,Executive Producer,Executive Producer,Art Direction,Executive Producer,Executive Producer,Producer,Producer,Orchestrator,ADR & Dubbing,Art Direction,Stunts,Animation',\n",
       "       'Director,Casting,Director of Photography,Screenplay,Story,Screenplay,Story,Executive Producer,Editor,Casting,Screenplay,Producer,Original Music Composer,Executive Producer,Screenplay,Characters,Executive Producer,Production Design,Animation,Animation,Animation,Animation,VFX Artist,Compositors,Animation',\n",
       "       'Producer,Producer,Screenplay,Casting,Music Editor,Director of Photography,Editor,Costume Design,Art Direction,Production Design,Sound Mixer,Makeup Artist,Supervising Art Director,Set Decoration,Visual Effects Producer,Original Music Composer,Producer,Music Supervisor,Music Supervisor,Producer,Executive Producer,CG Supervisor,CG Supervisor,Visual Effects Supervisor,Producer,Art Direction,Casting,Makeup Department Head,First Assistant Editor,Director,Screenplay,Sound Re-Recording Mixer,Makeup Artist,Sound Mixer,Supervising Sound Editor,Sound Effects Editor,Camera Operator,Executive Producer,Casting,Executive Producer,Foley,Sound Design Assistant,Story,Co-Producer,Assistant Costume Designer,Set Costumer,Costume Supervisor,Art Direction,Makeup Designer,Sound Effects Editor,Dialogue Editor,Supervising Sound Editor,Foley,Assistant Art Director,Sound Re-Recording Mixer,Script Supervisor,Executive Producer,Executive Producer,Unit Production Manager,Visual Effects Producer,Still Photographer,Gaffer,Special Effects Supervisor,Sound Re-Recording Mixer,Helicopter Camera,Art Department Coordinator,Wigmaker,Visual Effects Supervisor,Music Editor,Key Hair Stylist,Animation Supervisor,Camera Operator,Sound Effects Editor,Steadicam Operator,Additional Photography,Visual Effects Producer,Camera Operator,Animation,Animation,Production Office Assistant,Visual Effects Producer,Camera Operator,Helicopter Camera,Visual Effects Producer,Makeup Artist,Casting Associate,VFX Editor,Rigging Gaffer,First Assistant Camera,First Assistant Camera,Assistant Costume Designer,Seamstress,VFX Editor,Director of Photography,Second Unit Cinematographer,Sequence Supervisor,Sequence Supervisor,Art Direction,Construction Coordinator,Assistant Costume Designer,Seamstress,Seamstress,Seamstress,Seamstress,Set Costumer,Set Costumer,Hairstylist,Hairstylist,Makeup Artist,Animation,Animation,Animation,CG Supervisor,CG Supervisor,VFX Editor,VFX Supervisor,Visual Effects Editor,Visual Effects Editor,Visual Effects Producer,Visual Effects Producer,Visual Effects Supervisor,Visual Effects Supervisor,First Assistant Camera,First Assistant Camera,Gaffer,Sound Effects Editor,First Assistant Editor,Additional Music,First Assistant Camera',\n",
       "       'Casting,Executive Producer,Original Music Composer,Music Editor,Producer,Set Decoration,Production Design,Director,Producer,Novel,Costume Design,Art Direction,Supervising Sound Editor,Screenplay,Director of Photography,Editor,Editor,Art Direction,Art Direction,Makeup Artist,Sound Effects Editor,Special Effects,Stunt Coordinator,Visual Effects Supervisor,Dolby Consultant,Special Effects Coordinator,ADR Editor,Still Photographer,Co-Producer,Unit Production Manager,Key Makeup Artist,Sculptor,Assistant Art Director,Orchestrator,Screenplay,Hairstylist,Post Production Supervisor,First Assistant Director,Foley,Supervising ADR Editor,Second Unit Cinematographer,Pilot,Production Sound Mixer,Sequence Leads,Color Timer,Foley Editor,Chief Lighting Technician,Stunts,Production Supervisor,Set Designer,Costume Supervisor,Greensman,Boom Operator,Assistant Property Master,Key Costumer,Sound Re-Recording Mixer,Title Designer,Visual Effects Editor,Art Department Coordinator,Wardrobe Supervisor,Script Supervisor,Construction Coordinator,Visual Effects Art Director,Associate Producer,Unit Publicist,Lighting Technician,Sound Recordist,Leadman,Conceptual Design,Prosthetic Makeup Artist,Wigmaker,Camera Operator,Rigging Gaffer,Hair Department Head,Location Manager,Associate Editor,Steadicam Operator,Gaffer,Lead Animator,Storyboard,Electrician,Associate Producer,Creature Design,Set Costumer,Supervising Dialogue Editor,Production Office Coordinator,Painter,Apprentice Sound Editor,Property Master,Music Supervisor,Conductor,Projection,First Assistant Camera,Dialogue Editor,Set Medic,Standby Painter,Security,Visual Effects Producer,3D Supervisor,Script Coordinator,Digital Compositors,Administration,Art Department Assistant,Location Scout,Production Illustrator,Additional Photography,Set Dresser,Carpenter,CGI Supervisor,Craft Service,Digital Effects Supervisor,Driver,Loader,Post Production Assistant,Propmaker,Scenic Artist,Sequence Supervisor,Set Production Assistant,Software Engineer,Systems Administrators & Support,Transportation Co-Captain,Utility Stunts,Video Assist Operator,Editorial Production Assistant,Best Boy Electric,Lighting Artist,Lighting Supervisor,Rigging Grip,Production Accountant,Production Coordinator,Researcher,Sound Editor,Animation Supervisor,I/O Supervisor,Visual Effects Coordinator,Machinist,Digital Producer,Key Grip,Negative Cutter,Musician,Assistant Production Coordinator,Grip,Second Assistant Director,Dolly Grip,Casting Assistant,Assistant Sound Editor,Matchmove Supervisor',\n",
       "       'Producer,Casting,Producer,Co-Producer,Director,Story,Editor,Music,Director of Photography,Costume Design,Screenplay,Story,Art Direction,Set Decoration,Supervising Art Director,Editor,Stunts,Screenplay,Story,Screenplay,Choreographer,Stunts,Production Design,Sound Mixer,Script Supervisor,Animation,Animation,Video Assist Operator',\n",
       "       'Co-Producer,Casting,Director,Producer,Director,Producer,Producer,Director of Photography,Art Direction,Set Decoration,Screenplay,Original Music Composer,Hair Department Head,Producer,Costume Design,Sound Designer,Editor,Associate Producer,Editor,Associate Producer,Producer,Editor,Storyboard,Production Design,Visual Development,First Assistant Director,Visual Effects Supervisor,Lead Animator,Storyboard,Visual Development,Visual Development,Animation,Supervising Animator,Post Production Supervisor,Layout,Animation,Animation,Animation,Visual Development,Layout,Layout,Layout,Animation,Animation,Animation,Layout,Visual Development,Storyboard,Special Effects,Visual Effects,Animation,Storyboard,Art Department Manager,Visual Development,Visual Development,Storyboard,Visual Development,Stunt Coordinator,Special Effects Supervisor,Special Effects,Special Effects Coordinator,Sculptor,Animation,Makeup Department Head,Music Supervisor',\n",
       "       'Editor,Screenplay,Director of Photography,Producer,Music,Art Direction,Director,Screenplay,Producer,Animation,Producer,Storyboard,Animation Supervisor,Animation,Animation,Animation,Executive Producer,Editor,Animation,Producer,Storyboard,Producer,Visual Effects,Animation,Post Production Supervisor,Animation,Animation,Animation,Animation,Animation,Animation,Animation,Storyboard,Animation,Animation,Animation,Animation Manager,Animation,Art Department Manager,Animation,Animation,Executive Producer,Art Direction,Art Direction,Art Direction,Animation,Animation,Animation,Animation,Animation,Animation,Animation,Art Department Manager,Animation,Technical Supervisor,Animation,Animation,Animation,Animation,Art Department Manager,Animation,Animation,Animation,Animation,Animation,Animation,Layout,Animation,Art Department Manager,Technical Supervisor,Art Department Manager,Animation,Production Office Assistant,Animation,Art Department Manager,Storyboard,Other,Visual Effects,Continuity',\n",
       "       'Music,Screenplay,Director of Photography,Costume Design,Casting,Casting,Executive Producer,First Assistant Director,Producer,Producer,Director,Producer,Production Design,Editor,Foley Editor,Sound Designer,Boom Operator,Executive Producer,Screenplay,Set Decoration,Art Direction,Characters,Screenplay,Screenplay,Stunt Coordinator,Visual Effects Producer,Sound Effects Editor,Set Designer,Art Direction,Set Designer,Property Master,Choreographer,Set Designer,Supervising Sound Editor,Art Direction,Conceptual Design,Set Designer,Construction Coordinator,Sculptor,Visual Effects Editor,Set Designer,Lighting Director,Set Designer,Dialogue Editor,Still Photographer,Set Designer,Supervising Music Editor,Art Department Coordinator,Still Photographer,Sculptor,Visual Effects Supervisor,Steadicam Operator,Aerial Director of Photography,Camera Operator,Costume Supervisor,First Assistant Editor,Dialect Coach,Makeup Artist,Key Makeup Artist,Set Designer,Set Designer,Makeup Artist,Foley Editor,Script Supervisor,Visual Effects Coordinator,Visual Effects Coordinator,Visual Effects Editor,Armorer,First Assistant Editor,Visual Effects Producer,Script Coordinator,Seamstress,VFX Editor,Orchestrator,Visual Effects Coordinator,Painter,Hair Department Head,Makeup Department Head,Dolly Grip,Key Grip,Visual Effects Editor,Makeup Artist,Set Designer,Construction Foreman,Greensman,Greensman,Painter,Carpenter,Visual Effects Coordinator,Visual Effects Coordinator,Lighting Director,Visual Effects Producer,Visual Effects Coordinator,Visual Effects Coordinator,Production Coordinator,Visual Effects Coordinator,Visual Effects Coordinator,Visual Effects Coordinator,Visual Effects Coordinator,Visual Effects Coordinator,Visual Effects Coordinator,Visual Effects Supervisor,Visual Effects Coordinator,Visual Effects Coordinator,Visual Effects Coordinator,Modeling,Seamstress,Script Supervisor',\n",
       "       'Producer,Production Design,Producer,Editor,Costume Design,Set Decoration,Novel,Director,Music,Director of Photography,Casting,Art Direction,Art Direction,Supervising Art Director,Executive Producer,Stunts,Screenplay,Executive Producer,Screenplay,Graphic Novel Illustrator,Producer,Producer,Makeup Department Head,Digital Effects Supervisor',\n",
       "       'Executive Producer,Production Design,Music,Casting,Screenplay,Director,Producer,Editor,Producer,Producer,Producer,Makeup Artist,Costume Design,Producer,Executive Producer,Executive Producer,Executive Producer,Executive Producer,Director of Photography,Visual Effects Supervisor,Casting,Casting,Orchestrator,Casting,Stunts,Camera Department Manager,Animation',\n",
       "       'Executive Producer,Original Music Composer,Director,Story,Producer,Author,Story,Editor,Production Manager,Director,Screenplay,Story,Storyboard,Visual Effects,Associate Producer,Layout,Layout,Art Department Manager,Layout,Layout,Layout,Camera Department Manager,Animation,Animation,Visual Effects',\n",
       "       'Executive Producer,Casting,Producer,Director of Photography,Sound Re-Recording Mixer,Sound Designer,Set Decoration,Stunts,Costume Design,Characters,Production Design,Art Direction,Set Designer,Visual Effects,Foley,Foley,Sound Re-Recording Mixer,Costume Design,Visual Effects Supervisor,Second Unit Cinematographer,Stunt Coordinator,Modeling,Editor,Original Music Composer,Camera Operator,Art Direction,Producer,Hair Setup,Executive Producer,Compositors,Thanks,Screenplay,Story,Screenplay,Story,Stunts,Stunts,Underwater Camera,Stunts,Boom Operator,Gaffer,Stunts,Helicopter Camera,Special Effects,Storyboard,Art Direction,Stunts,Prop Maker,Animation,Art Department Coordinator,Stunts,Electrician,Set Designer,Transportation Coordinator,Hairstylist,Screenplay,Director,Set Designer,Screenplay,Stunts,Gaffer,Special Effects,Stunts,Makeup Department Head,Stunts,Visual Effects Editor,Stunts,Art Direction,Lighting Technician,Special Effects,Stunts,Production Supervisor,Stunts,Stunts,Stunts,Makeup Artist,Art Direction,Special Effects,Set Costumer,Set Costumer,Costume Supervisor,Makeup Artist,Set Designer,Associate Producer,Thanks,Set Designer,Sculptor,Stunts,Driver,Set Designer,Sculptor,Set Designer,Supervising Sound Editor,Set Dressing Artist,Visual Effects Producer,Stunt Coordinator,ADR & Dubbing,Dialogue Editor,Visual Effects Supervisor,Music Editor,Sculptor,Greensman,Set Designer,Electrician,Gaffer,Makeup Artist,Still Photographer,Set Designer,Set Designer,Visual Effects Producer,Set Designer,Set Designer,Greensman,Steadicam Operator,Best Boy Electric,Sculptor,Visual Effects Editor,Helicopter Camera,Hairstylist,Construction Coordinator,Makeup Artist,Director of Photography,Foley,Hairstylist,Set Costumer,Modeling,Hairstylist,Sound Effects Editor,Stunts,Sound Effects Editor,Property Master,Makeup Artist,Sound Re-Recording Mixer,Makeup Artist,Makeup Artist,Sound Designer,Makeup Artist,Electrician,Makeup Artist,Visual Effects Producer,Dialogue Editor,Set Dressing Artist,Special Effects,Stunts,Stunts,Animation,Compositors,Assistant Editor,Stunts,Makeup Artist,Makeup Artist,Rigging Gaffer,Animation,Animation,Animation,Animation,Animation,Animation,Animation,Animation,Animation,Lighting Supervisor,Compositors,Compositors,Art Direction,Hairstylist,Makeup Artist,Hairstylist,Hairstylist,Makeup Artist,Hairstylist,Makeup Artist,Hairstylist,Production Supervisor,Executive In Charge Of Production,Assistant Director,Assistant Director,Assistant Director,Assistant Director,Assistant Director,Assistant Director,Assistant Director,Assistant Art Director,Propmaker,Propmaker,Storyboard,Greensman,Storyboard,Propmaker,Modeling,Storyboard,Greensman,Art Department Assistant,Assistant Art Director,Set Dressing Artist,Storyboard,Propmaker,Set Decoration,Set Decoration,Storyboard,Set Dressing Artist,Greensman,Greensman,Prop Maker,Set Dressing Artist,Greensman,Art Department Assistant,Art Department Coordinator,Greensman,Propmaker,Sculptor,Set Dressing Artist,Greensman,Art Department Assistant,Set Designer,Propmaker,Set Dressing Artist,Storyboard,Greensman,Set Dressing Artist,Sculptor,Storyboard,Set Designer,Propmaker,Set Dressing Artist,Set Dressing Artist,Propmaker,Foley,ADR & Dubbing,Sound Editor,Sound mixer,Boom Operator,Foley,Boom Operator,Foley,Boom Operator,Boom Operator,Helicopter Camera,Special Effects Coordinator,Special Effects,Special Effects,Special Effects,Special Effects,Special Effects,Special Effects,Special Effects,Special Effects Coordinator,Special Effects,Special Effects,Special Effects,Special Effects,Special Effects,Special Effects,Special Effects,Visual Effects,Compositors,VFX Artist,Visual Effects,VFX Artist,Compositors,Compositors,Compositors,Compositors,Compositors,Compositors,Compositors,VFX Artist,Compositors,Modeling,Compositors,Compositors,Compositors,VFX Production Coordinator,Compositors,Compositors,Compositors,VFX Production Coordinator,Compositors,Modeling,Compositors,Compositors,VFX Artist,Modeling,VFX Production Coordinator,VFX Production Coordinator,Animation,Animation,Compositors,Animation,Compositors,Compositors,Compositors,Production Manager,Animation,Compositors,Compositors,Modeling,Modeling,Creature Design,Visual Effects,Compositors,Compositors,Compositors,Visual Effects,Compositors,Compositors,Compositors,Compositors,Compositors,Creature Design,Compositors,Compositors,VFX Artist,Compositors,Compositors,Compositors,Lighting Technician,VFX Artist,Compositors,Compositors,Visual Effects,VFX Artist,Compositors,Compositors,Modeling,Compositors,Compositors,Animation,Modeling,VFX Production Coordinator,Compositors,Compositors,Compositors,Compositors,VFX Artist,VFX Production Coordinator,Compositors,Stunts,Stunts,Stunts,Stunts,Stunts,Stunts,Stunts,Stunts,Stunts,Stunts,Stunts,Stunts,Stunts,Stunts,Stunts,Stunts,Stunts,Stunts,Stunts,Stunts,Stunts,Stunts,Stunts,Stunts,Stunts,Stunts,Stunts,Stunts,Stunts,Stunts,Stunts,Stunts,Stunts,Stunts,Electrician,Grip,Grip,Grip,Grip,Electrician,Electrician,Electrician,Rigging Grip,Electrician,Electrician,Electrician,Rigging Gaffer,Grip,Grip,Grip,Electrician,Electrician,Grip,Electrician,Electrician,Electrician,Electrician,Grip,Electrician,Electrician,Grip,Electrician,Grip,Grip,Grip,Lighting Technician,Grip,Grip,Electrician,Electrician,Lighting Technician,Grip,Animation,Animation,Animation,Animation,Animation,Set Costumer,Set Costumer,Set Costumer,Visual Effects Editor,Driver,Transportation Co-Captain,Driver,Transportation Captain,Driver,Additional Photography,Driver,Transportation Co-Captain,Driver,Administration,Camera Operator,Music Editor,Camera Operator,Lighting Technician,Production Supervisor,Animation,Stunts',\n",
       "       'Director of Photography,Editor,Casting,Set Decoration,Production Design,Original Music Composer,Novel,Screenplay,Producer,Art Direction,Stunt Coordinator,Art Direction,Supervising Sound Editor,Art Direction,Art Direction,Art Direction,Costume Design,Director,Casting,Art Direction,Makeup Artist,Makeup Artist,Special Effects,Visual Effects,Stunts,Executive Producer,Co-Producer,Executive Producer,Associate Producer,Associate Producer',\n",
       "       'Director of Photography,Original Music Composer,Editor,Production Design,Producer,Story,Casting,Producer,Director,Screenplay,Executive Producer,Stunt Coordinator,Set Decoration,Visual Effects Supervisor,Art Direction,Sound Designer,Producer,Executive Producer,Sound Re-Recording Mixer,Sound Re-Recording Mixer,Producer,Screenplay,Dialogue Editor,Makeup Department Head,Art Direction,Supervising Sound Editor,Still Photographer,Visual Effects Supervisor,Art Direction,Costume Design,Foley,Set Costumer,Costume Supervisor,Set Designer,Property Master,Visual Effects Editor,Music Editor,Sculptor,Set Designer,Visual Effects Supervisor,Visual Effects Producer,Sculptor,Set Designer,Visual Effects Producer,Set Designer,Leadman,Still Photographer,Construction Coordinator,Transportation Coordinator,Set Designer,Art Department Coordinator,Assistant Art Director,Set Designer,Set Designer,Set Designer,Sculptor,Sculptor,Sculptor,Scenic Artist,Scenic Artist,Sculptor,Foley,Sound Designer,Sound Re-Recording Mixer,Supervising Sound Editor,Visual Effects Producer,Visual Effects Producer,Visual Effects Producer,Visual Effects Producer,Visual Effects Producer,Visual Effects Producer,Visual Effects Editor,Visual Effects Supervisor,Visual Effects Supervisor,Visual Effects Supervisor,Visual Effects Supervisor,Camera Operator,Studio Teachers,Visual Effects,Animation,Animation,Animation,Animation,Animation,Lighting Artist,VFX Artist',\n",
       "       'Original Music Composer,Executive Producer,Casting,Producer,Storyboard,Producer,Storyboard,Director,Screenplay,Modeling,Screenplay,Director,Layout,Storyboard,Co-Producer,Director of Photography,Storyboard,Animation Manager,Lighting Artist,Animation,Camera Department Manager,Layout,Animation,Animation,Animation,Technical Supervisor,Conceptual Design,Lighting Artist,Lighting Artist,Animation,Animation,Layout,Lighting Coordinator,Animation,Animation,Lighting Artist,Modeling,Modeling,Lighting Technician,Animation,Animation Manager,Layout,Animation,Animation,Modeling,Lighting Coordinator,Modeling,Layout,Layout,Lighting Artist,Layout,Lighting Artist,Lighting Artist,Animation,Animation,Animation,Animation,Animation,Modeling,Modeling,Animation,Animation,Lighting Artist,Animation,Layout,Lighting Artist,Animation,Animation,Technical Supervisor,Modeling,Animation,Animation,Lighting Artist,Lighting Artist,Animation,Lighting Artist,Lighting Artist,Animation,Animation,Storyboard,Lighting Artist,Lighting Artist',\n",
       "       'Producer,Production Design,Director,Original Music Composer,Editor,Executive Producer,Costume Design,Executive Producer,Producer,Story,Casting,Director of Photography,Producer,Executive Producer,Screenplay,Story,Producer,Producer',\n",
       "       'Director,Screenplay,Producer,Screenplay,Producer,Screenplay,Original Music Composer,Editor,Screenplay,Animation,Producer,Screenplay,Screenplay,Screenplay,Producer,Screenplay,Screenplay,Producer,Screenplay,Screenplay,Producer,Screenplay,Art Direction,Producer,Producer,Producer,Producer,Executive Producer,Producer,Animation Director,Supervising Sound Editor,Co-Producer,Supervising Music Editor,Post Production Supervisor,Assistant Director,Animation,Animation,Animation,Layout,Layout,Layout,Layout,Layout,Layout,Layout,Layout,Layout,Compositors,Compositors,Compositors,Compositors,Compositors,Compositors,Compositors,Layout,Compositors,Compositors,Compositors,Layout,Layout,Animation,Editorial Services,Layout,Layout,Layout,Compositors',\n",
       "       'Producer,Director,Writer,Producer,Casting,Editor,Director of Photography,Producer,Production Design,Supervising Art Director,Foley,Original Music Composer,Supervising Art Director,Sound Designer,Supervising Sound Editor,Producer,Producer,Writer,Producer,Assistant Art Director,Dialogue Editor,Music,Casting Associate,Art Direction,Property Master,Second Unit Cinematographer,Hair Department Head,Visual Effects Coordinator,Set Costumer,Costume Supervisor,Set Decoration,Script Supervisor,Sound Designer,Visual Effects Producer,Camera Operator,ADR & Dubbing,Foley,Foley,Sound Effects Editor,Still Photographer,Script Supervisor,Visual Effects Supervisor,Original Music Composer,Visual Effects Editor,First Assistant Camera,Visual Effects Producer,Dialogue Editor,Sound Effects Editor,Visual Effects Producer,Special Effects Supervisor,Sound Effects Editor,Dialogue Editor,Visual Effects Editor,Art Department Coordinator,Wigmaker,Visual Effects Editor,Costume Supervisor,Helicopter Camera,Sound Effects Editor,Visual Effects Producer,Property Master,Foley,Visual Effects Producer,Makeup Artist,Construction Coordinator,Makeup Artist,Rigging Gaffer,Set Costumer,Set Designer,ADR & Dubbing,Gaffer,Makeup Artist,CG Supervisor,Visual Effects Editor,Visual Effects Supervisor,Supervising Sound Editor,First Assistant Camera,Makeup Artist,VFX Production Coordinator,Animation Supervisor,Construction Coordinator,Visual Effects Producer,Novel,Dialogue Editor,First Assistant Editor,Sound Effects Editor,Art Department Coordinator,Casting Associate,Casting Associate,Assistant Costume Designer,Seamstress,Seamstress,Seamstress,Seamstress,Armorer,Researcher,Key Hair Stylist,Makeup Department Head,Digital Intermediate,Camera Operator,Camera Operator,Rigging Gaffer,Rigging Gaffer,First Assistant Camera,Rigging Grip,Rigging Grip,Animation Supervisor,CG Supervisor,Dialogue Editor,Supervising Sound Editor,Script Coordinator,Construction Coordinator,Visual Effects Supervisor,Visual Effects Coordinator,Digital Intermediate,Digital Intermediate,First Assistant Editor,Visual Effects Coordinator,Visual Effects Coordinator,Visual Effects Coordinator,Visual Effects Coordinator,Visual Effects Editor,Visual Effects Supervisor,Property Master',\n",
       "       'Director of Photography,Director,Original Music Composer,Executive Producer,Editor,Costume Design,Producer,Producer,Producer,Producer,Producer,Executive Producer,Screenplay,Line Producer,Novel,Storyboard,Producer,Producer,Art Direction,Lighting Artist,Animation,Layout,Layout,Animation',\n",
       "       'Executive Producer,Original Music Composer,Casting,Director,Producer,Writer,Producer,Executive Producer,Writer,Writer,Co-Director,Editor,Producer,Writer,Co-Director,Associate Producer,Executive Producer,Associate Producer,Associate Producer,Executive Producer,Associate Producer,Production Design,Line Producer,Director of Photography,Layout,Editor,Orchestrator,Sound Effects Editor,Sound Re-Recording Mixer,Choreographer,Music Supervisor,Supervising Art Director,Sound Designer,Supervising Sound Editor,Sound Re-Recording Mixer,Art Direction,VFX Editor,Supervising Dialogue Editor,Assistant Editor,Sound Effects Editor,Dialogue Editor,Music Editor,Supervising Sound Effects Editor,Dialogue Editor,Music Editor,First Assistant Editor,Sound Re-Recording Mixer,First Assistant Director,Sound Effects Editor,Animation Director,Sound Effects Editor,Orchestrator,Music Editor,First Assistant Editor,Assistant Sound Editor,Choreographer,Lighting Supervisor,Assistant Art Director,Assistant Editor,Assistant Editor,Editorial Coordinator,Animation Supervisor,Production Manager,Sound Effects Editor,Dialogue Editor,Sound Effects Editor,Sound Effects Editor,Assistant Sound Editor,Orchestrator',\n",
       "       'Original Music Composer,Director of Photography,Casting,Casting,Director,Producer,Producer,Screenplay,Novel,Executive Producer,Producer,Producer,Executive Producer,Producer,Producer,Producer,Producer,Executive Producer,Editor,Casting,Production Design,Art Direction,Art Direction,Set Decoration,Costume Design,Music Editor,Music Editor,Producer,Stunts',\n",
       "       'Story,Casting,Executive Producer,Associate Producer,Producer,Executive Producer,Executive Producer,Stunt Coordinator,Sound Designer,Supervising Sound Editor,Director,Producer,Editor,Original Music Composer,Director of Photography,Costume Design,Supervising Art Director,Screenplay,Producer,Story,Set Decoration,Sound Re-Recording Mixer,Production Design,Casting,Story,Sound Designer,Sound Designer,Boom Operator,Associate Producer,Sound Recordist,Makeup Artist,Producer,Comic Book,Set Designer,Graphic Novel Illustrator,Casting,Set Designer,Costume Supervisor,Costume Supervisor,Makeup Department Head,Foley,Visual Effects Producer,Visual Effects Producer,Art Direction,Sound Effects Editor,Sound Re-Recording Mixer,Set Designer,Art Direction,Art Direction,Set Decoration,Makeup Department Head,Set Designer,Art Department Coordinator,Property Master,Lead Painter,Boom Operator,Dialogue Editor,Visual Effects Producer,Visual Effects Supervisor,Visual Effects Editor,Visual Effects Editor,Visual Effects Supervisor,Visual Effects Producer,Visual Effects Producer,Visual Effects Producer,Visual Effects Supervisor,Visual Effects Supervisor,Stunt Coordinator,Stunt Coordinator,Set Costumer,Music Editor,Transportation Coordinator,Transportation Captain,Transportation Co-Captain,Script Supervisor,Script Supervisor,Location Manager,Location Manager,Visual Effects Editor,Visual Effects Editor,Animation,Compositors,Visual Effects,Co-Producer,Co-Producer,Assistant Costume Designer',\n",
       "       'Supervising Sound Editor,Original Music Composer,Casting Associate,Director,Producer,Animation,Director,Producer,Editor,Screenplay,Editor,Screenplay,Screenplay,Animation,Screenplay,Executive Producer,Adaptation,Producer,Sound Recordist,Sound Re-Recording Mixer,Sound Re-Recording Mixer,Sound Re-Recording Mixer,Storyboard,Layout,Layout,Layout,Layout,Animation Director,Animation,Compositors,Animation,Animation Department Coordinator,Animation Department Coordinator,Animation Supervisor,Animation,Animation,Animation,Layout,Animation,Layout,Animation,Layout,Animation,Animation,Animation,Compositors,Compositors,Layout,Layout,Layout,Layout,Layout,Layout,Layout,Layout,Layout,Layout,Layout,Layout,Layout,Casting,Production Design,Production Manager',\n",
       "       'Original Music Composer,Director,Set Decoration,Director of Photography,Writer,Production Design,Editor,Characters,Costume Design,Casting,Producer,Writer,Writer,Executive Producer,Art Direction,Associate Producer,Producer,Art Direction,Songs,Art Direction,Art Direction,Art Direction,Songs,Still Photographer,Art Direction,Script Supervisor,Visual Effects Editor,Assistant Costume Designer,Stunts,Stunts',\n",
       "       'Director,Screenplay,Screenplay,Original Music Composer,Director of Photography,Editor,Editor,Production Design,Production Design,Costume Design,Set Decoration,Story,Producer,Producer,Producer,Producer,Executive Producer,Casting,Art Direction,Art Direction,Supervising Art Director,Supervising Art Director,Compositors,Visual Effects,Visual Effects,Digital Effects Supervisor,Compositors',\n",
       "       'Director,Screenplay,Animation,Animation,Animation,Compositors,Compositors,Compositors,VFX Artist,Compositors,Compositors,Visual Effects Design Consultant',\n",
       "       'Casting,Editor,Costume Design,Original Music Composer,Director of Photography,Executive Producer,Executive Producer,Art Direction,Production Design,Executive Producer,Producer,Executive Producer,Director,Executive Producer,Producer,Screenplay,Screenplay,Art Direction,Supervising Art Director,Set Decoration,Art Direction,Art Direction,Art Direction,Costume Supervisor,Other,Camera Technician,VFX Artist,Assistant Costume Designer,Visual Effects,Visual Effects,Stunts',\n",
       "       'Executive Producer,Associate Producer,Art Direction,Supervising Technical Director,Associate Producer,Production Manager,Casting,Animation,Art Direction,Shading,Visual Effects,Production Design,Director of Photography,Camera Operator,Layout,Production Artist,Set Dressing Artist,Supervising Animator,Animation,Animation,Animation Department Coordinator,First Assistant Editor,Assistant Editor,Modeling,Director of Photography,Master Lighting Artist,Production Coordinator,Production Office Coordinator,Information Systems Manager,Post Production Supervisor,Projection,Supervising Sound Editor,Mix Technician,Sound Effects Editor,Shading,Original Music Composer,Music Editor,Director,Author,Sound Designer,Casting,Producer,Director of Photography,Visual Effects,Editor,Casting,Casting,Scoring Mixer,Animation,Thanks,Thanks,Animation,Special Effects,Visual Development,Supervising Animator,Fix Animator,Foley,Special Effects Supervisor,Technical Supervisor,Storyboard,Lighting Manager,ADR & Dubbing,Set Designer,Simulation & Effects Artist,Art Department Coordinator,Orchestrator,Color Timer,Production Accountant,Craft Service,Security,Sequence Supervisor,Set Production Assistant,Software Engineer,Sound Recordist,Systems Administrators & Support,Script Supervisor,Lighting Artist,Lighting Technician,Animation Manager,Visual Effects Producer,Art Department Manager,Editorial Manager,Editorial Services,Modeling,CG Painter',\n",
       "       'Director of Photography,Characters,Executive Producer,Music Editor,Characters,Producer,Makeup Department Head,Director,Screenplay,Story,Screenplay,Story,Story,Producer,Producer,Original Music Composer,Editor,Editor,Casting,Production Design,Art Direction,Art Direction,Art Direction,Set Decoration,Costume Design,Sound Effects Editor,Boom Operator,Executive Producer,3D Supervisor,Costume Supervisor,Unit Production Manager,Stunts,Special Effects Supervisor,Executive Producer,Executive Producer,Dolby Consultant,Executive Producer,Casting,Makeup Artist,Sculptor,Production Sound Mixer,Producer,Makeup Effects,Line Producer,First Assistant Editor,Producer,Prosthetic Supervisor,Sound Editor,Production Supervisor,Production Illustrator,Second Unit Cinematographer,Stunt Coordinator,Makeup Effects,Supervising Sound Editor,Assistant Art Director,Executive Producer,Executive Producer,Loader,Sound Designer,Visual Effects Art Director,Assistant Director,Visual Effects Editor,Script Supervisor,Producer,Makeup Effects,Set Designer,Costume Supervisor,Art Direction,Construction Foreman,Location Manager,Transportation Coordinator,Digital Effects Supervisor,Special Effects Coordinator,First Assistant Sound Editor,Property Master,Set Costumer,Visual Effects Coordinator,Steadicam Operator,Transportation Captain,Leadman,Construction Coordinator,Systems Administrators & Support,Conceptual Design,Visual Effects Producer,Digital Intermediate,Hair Department Head,Unit Publicist,Dialogue Editor,Armorer,Visual Effects Supervisor,Key Hair Stylist,Still Photographer,CG Supervisor,Propmaker,Storyboard,Sequence Supervisor,Post Production Supervisor,Painter,Orchestrator,Quality Control Supervisor,Executive Music Producer,Set Dressing Supervisor,Casting Associate,Set Production Assistant,Stand In,Production Accountant,Video Assist Operator,Software Engineer,Foley,Rigging Grip,Projection,Craft Service,Set Medic,Visual Effects,Lighting Technician,Production Controller,Art Department Assistant,Art Department Coordinator,Greensman,Lead Painter,Additional Camera,First Assistant Camera,Grip,Hairstylist,Makeup Designer,Set Dressing Artist,Driver,Picture Car Coordinator,Post Production Assistant,Security,Sound Recordist,Utility Stunts,Layout,Best Boy Electric,Electrician,Gaffer,Production Coordinator,Publicist,Researcher,Sound Mixer,Digital Compositors,Motion Capture Artist,Thanks,Stunts',\n",
       "       'Casting,Characters,Characters,Set Decoration,Production Design,Editor,Stunt Coordinator,Art Direction,Stunt Coordinator,Screenplay,Executive Producer,Second Unit Cinematographer,Sound Re-Recording Mixer,Second Unit Cinematographer,Executive Producer,Makeup Department Head,Producer,Screenplay,Executive Producer,Costume Design,Executive Producer,Director of Photography,Stunt Coordinator,Art Direction,Producer,Director,Art Direction,Stunt Coordinator,Wigmaker,Stunts,Helicopter Camera,Original Music Composer,Art Direction,First Assistant Editor,Executive Producer,Camera Operator,Additional Camera,Script Supervisor,Camera Operator,Supervising Art Director,Hair Department Head,Gaffer,Art Direction,Camera Operator,Costume Supervisor,Still Photographer,Assistant Art Director,Casting,Visual Effects Coordinator,Foley,ADR & Dubbing,Dialogue Editor,Sound Re-Recording Mixer,Dialogue Editor,Sound Designer,Supervising Sound Editor,Script Supervisor,Art Direction,Foley,Set Costumer,Supervising Sound Editor,Supervising Sound Editor,Visual Effects Editor,Stunt Coordinator,Visual Effects Supervisor,Art Department Coordinator,Construction Coordinator,Visual Effects Producer,Visual Effects Supervisor,Camera Operator,Helicopter Camera,Set Costumer,Helicopter Camera,Visual Effects Editor,Camera Operator,Visual Effects Editor,Sound Designer,Set Costumer,Steadicam Operator,Makeup Artist,Rigging Gaffer,Set Costumer,Additional Camera,Digital Intermediate,Sound Effects Editor,Additional Camera,Costume Supervisor,Visual Effects Editor,Storyboard,Animation Supervisor,Animation Director,Digital Intermediate,Rigging Grip,Casting Associate,Art Direction,Assistant Art Director,Art Department Coordinator,Assistant Costume Designer,Seamstress,Seamstress,Set Costumer,Key Hair Stylist,Makeup Artist,Makeup Artist,Makeup Artist,Sound Effects Editor,Sound Effects Editor,Special Effects Coordinator,Special Effects Coordinator,Gaffer,Rigging Grip,Rigging Grip,Rigging Grip,First Assistant Camera,First Assistant Camera,First Assistant Camera,First Assistant Camera,Animation Supervisor,Armorer,Armorer,Armorer,Digital Intermediate,First Assistant Editor,Visual Effects Coordinator,Visual Effects Coordinator,Animation Supervisor,Visual Effects Coordinator,Visual Effects Coordinator,Visual Effects Coordinator,Visual Effects Editor,Visual Effects Coordinator,Visual Effects Coordinator,Visual Effects Coordinator,Visual Effects Coordinator,Visual Effects Coordinator,Visual Effects Producer,Visual Effects Producer,Visual Effects Producer,Visual Effects Producer,Visual Effects Supervisor,Visual Effects Editor,Visual Effects Supervisor,Stunt Coordinator,Electrician,Unit Production Manager',\n",
       "       'Director of Photography,Production Design,Screenplay,Novel,Producer,Art Direction,Stunt Coordinator,Art Direction,Costume Design,Casting,Art Direction,Visual Effects,Director,Original Music Composer,Editor,Makeup Artist,Makeup Artist,Sound Designer,Supervising Sound Effects Editor,Special Effects,Stunts,Assistant Costume Designer',\n",
       "       'Editor,Makeup Department Head,Producer,Production Design,Sound Designer,Art Direction,Costume Design,Set Costumer,Color Timer,Director of Photography,Original Music Composer,Editor,Producer,Producer,Casting,Costume Design,Set Decoration,Makeup Artist,Makeup Artist,Hairstylist,Director,Producer,Producer,Sound Re-Recording Mixer,Orchestrator,Casting,ADR & Dubbing,Dialogue Editor,Unit Publicist,Makeup Department Head,Screenplay,Screenplay,Art Direction,Transportation Coordinator,Sound Re-Recording Mixer,Producer,Sound Re-Recording Mixer,Stunt Coordinator,Editor,Set Designer,Art Direction,Casting,Visual Effects Editor,Set Designer,Costume Supervisor,Visual Effects Supervisor,Foley,Visual Effects Art Director,Camera Operator,Music Editor,Set Costumer,Gaffer,Visual Effects Supervisor,Sculptor,Set Designer,Visual Effects Supervisor,Location Manager,Still Photographer,Camera Operator,Music Editor,Visual Effects Producer,Sound Designer,Art Department Coordinator,Sound Re-Recording Mixer,Dialect Coach,Visual Effects Producer,Camera Operator,Underwater Camera,Foley,Sound Designer,Camera Operator,Steadicam Operator,Property Master,Costume Design,Hairstylist,Hairstylist,Production Supervisor,Production Supervisor,Production Manager,Art Department Coordinator,Construction Coordinator,Scenic Artist,Leadman,Leadman,Supervising Sound Editor,ADR & Dubbing,Dialogue Editor,Supervising Sound Editor,Sound Designer,Sound Designer,Sound Designer,ADR & Dubbing,Dialogue Editor,Visual Effects Supervisor,Visual Effects Editor,Visual Effects Supervisor,Visual Effects Supervisor,Visual Effects Supervisor,Visual Effects Supervisor,Visual Effects Editor,Visual Effects Supervisor,Visual Effects Producer,Visual Effects Editor,Visual Effects Producer,Visual Effects Producer,Visual Effects Producer,Visual Effects Producer,Camera Operator,Camera Operator,Best Boy Electric,Video Assist Operator,Cableman,Set Costumer,Set Costumer,Set Costumer,Digital Intermediate,Music Editor,Location Manager,Location Manager,Digital Effects Supervisor,Animation,Animation',\n",
       "       'Executive Producer,Original Music Composer,Executive Producer,Cinematography,Writer,Director,Producer,Producer,Characters,Executive Producer,Executive Producer,Editor,Writer,Writer,Animation,Visual Effects',\n",
       "       'Director,Screenplay,Screenplay,Producer,Producer,Original Music Composer,Editor,Animation Supervisor',\n",
       "       'Editor,Editor,Screenplay,Producer,Production Design,Original Music Composer,Costume Design,Editor,Director of Photography,Director,Characters,Producer,Producer,Producer,Production Design,Set Decoration,Executive Producer,Visual Effects Design Consultant',\n",
       "       'Casting,Original Music Composer,Songs,Associate Editor,Supervising Sound Editor,Editor,Producer,Thanks,Sound Designer,Supervising Animator,Assistant Sound Editor,Supervising Animator,Story,Casting,Assistant Editor,Thanks,Director,Writer,Story,Background Designer,Director,Writer,Story,Sound Re-Recording Mixer,Sound Re-Recording Mixer,Foley Editor,Sound Re-Recording Mixer,Story,Supervising Animator,Additional Dialogue,Story,Background Designer,Songs,Associate Producer,Orchestrator,First Assistant Editor,Music Editor,Background Designer,Visual Effects Supervisor,Production Manager,ADR Supervisor,Background Designer,Background Designer,Background Designer,Supervising Animator,Story,Supervising Animator,Background Designer,Supervising Animator,Background Designer,Post-Production Manager,Background Designer,Supervising Animator,Color Timer,Art Direction,Supervising Animator,Background Designer,Background Designer,Background Designer,Background Designer,Background Designer,Negative Cutter,Background Designer,Background Designer,Background Designer,Background Designer,Background Designer,Background Designer,Background Designer,Production Accountant,Production Accountant,Technical Supervisor,Color Timer,Conductor,Sound Effects Editor,Negative Cutter',\n",
       "       'Director,Producer,Novel,Writer,Original Music Composer,Director of Photography,Casting,Costume Design,Editor,Production Design,Casting,Producer,Executive Producer,Producer,Editor,Writer,Characters,Art Direction,Characters,Producer,Set Decoration,Art Direction,Characters,Characters,Editor,Casting,Script Supervisor',\n",
       "       'Writer,Editor,Original Music Composer,Producer,Director,Writer,Art Direction,Producer,Writer,Director,Writer,Director,Writer,Animation,Music',\n",
       "       'Supervising Art Director,Editor,Producer,Production Design,Producer,Producer,Costume Design,Original Music Composer,Director of Photography,Executive Producer,Story,Screenplay,Story,Screenplay,Story,Director,Executive Producer,Executive Producer,Novel,Stunts,Executive Producer,Executive Producer,Casting,Art Direction,Casting,Art Direction,VFX Artist,Animation,Lighting Technician,Visual Effects,Animation,Compositors,Animation',\n",
       "       'Original Music Composer,Sound Designer,Sound Re-Recording Mixer,Casting,Casting,Editor,Casting Associate,Animation Supervisor,Screenplay,Director,Idea,Screenplay,Director,Producer,Production Design,Sound Re-Recording Mixer,Sound Re-Recording Mixer,Sound Re-Recording Mixer,Lead Animator,Supervising Sound Editor,Music Editor,Sound Effects Editor,Sound Effects Editor,Sound Effects Editor,Painter,Painter,Animation Supervisor,Lead Animator,Lead Animator,Lead Animator,Visual Effects Supervisor,Art Direction,Production Manager',\n",
       "       'Director,Story,Producer,Original Music Composer,Screenplay,Screenplay,Screenplay,Screenplay,Animation Supervisor,Story,Story,Cinematography,Producer,Music,Storyboard,Lighting Artist',\n",
       "       'Casting,Costume Design,Casting,Screenplay,Screenplay,Original Music Composer,Executive Producer,Producer,Executive Producer,Art Direction,Producer,Story,Story,Director of Photography,Executive Producer,Director,Editor,Executive Producer,Executive Producer,Set Decoration,Executive Producer,Screenplay,Stunts,Art Direction,Supervising Art Director,Art Direction,Art Direction,Art Direction,Art Direction,Visual Effects Editor,Art Direction,Storyboard,Compositors,Compositors,Visual Effects,Associate Producer,Associate Producer,Stunts,Line Producer,Art Direction',\n",
       "       'Casting,Producer,Producer,Director,Screenplay,Screenplay,Art Direction,Production Manager,Orchestrator,Visual Effects,VFX Artist,Visual Effects,Lighting Technician,Animation,Animation,Visual Effects,Script Supervisor',\n",
       "       'Director,Director,Author,Orchestrator,First Assistant Editor,Animation',\n",
       "       'Editor,Editor,Producer,Casting,Production Design,Casting,Casting,Costume Supervisor,Producer,Executive Producer,Producer,Executive Producer,Costume Design,Art Direction,Original Music Composer,Screenplay,Makeup Effects,Director of Photography,Screenplay,Director,Art Direction,Set Decoration,Art Direction,Supervising Art Director,Costume Design,Stunts,Editor,Co-Producer,Co-Producer,Art Direction,Executive Producer,Visual Effects Supervisor,Digital Effects Supervisor,Co-Producer,Compositors,Animation,Co-Producer,Associate Producer,Associate Producer',\n",
       "       'Director,Costume Design,Sound Designer,Editor,Second Unit Cinematographer,Original Music Composer,Characters,Thanks,Producer,Casting,Producer,ADR & Dubbing,Dialogue Editor,Producer,Makeup Artist,Production Design,Executive Producer,Writer,Second Unit Cinematographer,Director of Photography,Editor,Art Direction,Camera Operator,Executive Producer,Producer,Set Decoration,Steadicam Operator,Associate Producer,Helicopter Camera,First Assistant Editor,Foley,Foley,First Assistant Editor,Editor,Editor,Foley,Casting,Makeup Department Head,Supervising Sound Editor,Makeup Artist,Assistant Art Director,Music Editor,Construction Coordinator,Dialogue Editor,Foley,Additional Camera,Camera Operator,Script Supervisor,Sound Designer,Music Editor,Sound Re-Recording Mixer,Sound Re-Recording Mixer,Additional Camera,Digital Intermediate,Gaffer,Helicopter Camera,Assistant Art Director,Hairstylist,Camera Operator,Script Supervisor,Camera Operator,Camera Operator,Hairstylist,Set Costumer,Sound Effects Editor,Property Master,Set Costumer,Still Photographer,Director of Photography,Supervising Art Director,Hairstylist,Camera Operator,Camera Operator,Gaffer,Makeup Artist,Camera Operator,Rigging Gaffer,Costume Supervisor,Costume Supervisor,First Assistant Editor,Animation Supervisor,Art Direction,Hairstylist,Animation,Makeup Artist,Property Master,Art Direction,Art Department Coordinator,Art Department Coordinator,Set Costumer,Set Costumer,Set Costumer,Hairstylist,Makeup Artist,Makeup Artist,Camera Operator,Camera Operator,Animation Supervisor',\n",
       "       'Casting,Original Music Composer,Director of Photography,Producer,Costume Design,Producer,Construction Coordinator,Visual Effects Supervisor,Sound Designer,Supervising Sound Editor,Sound Re-Recording Mixer,Director,Editor,Production Design,Supervising Art Director,Screenplay,Producer,Novel,Casting,Steadicam Operator,Camera Operator,Sound Effects Editor,Art Direction,Key Hair Stylist,Set Decoration,Second Unit Cinematographer,Editor,Foley,Camera Operator,Animation Supervisor,Makeup Department Head,Costume Supervisor,Foley,Script Supervisor,Makeup Artist,Music Editor,Property Master,Steadicam Operator,Still Photographer,Visual Effects Producer,ADR & Dubbing,Dialogue Editor,Still Photographer,Visual Effects Producer,Visual Effects Coordinator,Visual Effects Editor,Visual Effects Supervisor,Sound Re-Recording Mixer,Digital Intermediate,Rigging Gaffer,Art Department Coordinator,Dialogue Editor,Camera Operator,Visual Effects Editor,Choreographer,Visual Effects Editor,Helicopter Camera,Digital Intermediate,Hair Department Head,Visual Effects Editor,Hairstylist,Visual Effects Editor,Rigging Gaffer,First Assistant Sound Editor,CG Supervisor,Visual Effects Editor,CG Supervisor,Camera Operator,Property Master,CG Supervisor,Animation,Animation,Visual Effects Editor,Animation,Lighting Artist,First Assistant Editor,Animation,Visual Effects Coordinator,Gaffer,Visual Effects Coordinator,Key Hair Stylist,Casting Associate,Makeup Artist,Makeup Artist,Wigmaker,First Assistant Camera,Music Supervisor,First Assistant Camera,Orchestrator,Stunts,CG Supervisor,ADR & Dubbing,Dialogue Editor,Rigging Grip,Art Direction,Art Department Coordinator,Casting Associate,Assistant Costume Designer,Assistant Costume Designer,First Assistant Camera,First Assistant Camera,Rigging Grip,CG Supervisor,CG Supervisor,Digital Effects Supervisor,Visual Effects Coordinator,Visual Effects Coordinator,Visual Effects Coordinator,Visual Effects Coordinator,Visual Effects Coordinator,Visual Effects Coordinator,Visual Effects Producer,Stunts',\n",
       "       'Producer,Casting,Set Decoration,Editor,Original Music Composer,Costume Design,Director of Photography,Screenplay,Director,Screenplay,Director,Casting,Production Design,Art Direction,Art Direction,Set Decoration,Makeup Artist,Sound Designer,Special Effects,Visual Effects,Stunts,Stunts,Assistant Director',\n",
       "       'Casting,Music,Production Design,Director of Photography,Supervising Art Director,Director,Producer,Costume Design,Digital Intermediate,Casting,Art Direction,Producer,Digital Intermediate,Sound Designer,Supervising Sound Editor,Editor,Casting Associate,Art Direction,Screenplay,Screenplay,Set Decoration,Foley,Dialogue Editor,Music Editor,Dialogue Editor,Camera Operator,Supervising Sound Effects Editor,Gaffer,Camera Operator,Makeup Artist,Key Hair Stylist,Script Supervisor,Digital Intermediate,Makeup Artist,Rigging Gaffer,Camera Operator,Animation Director,Animation,Animation,Art Department Coordinator,Assistant Art Director,Script Supervisor,Sound Effects Editor,Sound Re-Recording Mixer,Sound Re-Recording Mixer,Assistant Art Director,Sound Effects Editor,CG Supervisor,Camera Operator,First Assistant Camera,First Assistant Camera,First Assistant Camera,Sound Effects Editor,Sound Effects Editor,Sound Recordist,Animation Director,Animation,CG Supervisor,CG Supervisor,CG Supervisor,CG Supervisor,Makeup Effects,Makeup Effects,Makeup Effects,Makeup Effects,Hairstylist,Hairstylist,Prosthetic Supervisor,Digital Intermediate,First Assistant Editor,First Assistant Editor',\n",
       "       'Original Music Composer,Producer,Director,Screenplay,Director,Executive Producer,Producer,Editor,Songs,Animation,Animation,Layout,Animation,Animation,Animation,Layout,Animation,Animation Supervisor,Art Direction,Animation Supervisor,Animation,Animation,Animation,Layout,Layout',\n",
       "       'Original Music Composer,Producer,Executive Producer,Executive Producer,Screenplay,Executive Producer,Graphic Novel Illustrator,Novel,Casting,Characters,Production Design,Art Direction,Costume Design,Editor,Art Direction,Supervising Art Director,Executive Producer,Executive Producer,Associate Producer,Director,Supervising Sound Editor,Director of Photography,Casting,Characters,Characters,Makeup Department Head,Sound Effects Editor,Sound Designer,Makeup Artist,Original Music Composer,Casting,Digital Intermediate,Sound Designer,Orchestrator,Executive Producer,Producer,Co-Producer,Storyboard,Set Decoration,Screenplay,Sound Re-Recording Mixer,Characters,Executive Producer,Makeup Artist,Art Department Coordinator,Art Direction,Art Direction,Art Direction,Costume Supervisor,Researcher,ADR & Dubbing,Foley,Sound Re-Recording Mixer,Music Editor,Special Effects Supervisor,Script Supervisor,Still Photographer,Camera Operator,VFX Editor,Underwater Camera,Dialogue Editor,Camera Operator,Seamstress,Key Hair Stylist,Helicopter Camera,Helicopter Camera,Assistant Art Director,ADR & Dubbing,VFX Supervisor,CG Supervisor,Script Supervisor,Rigging Gaffer,Costume Supervisor,Visual Effects Supervisor,Animation Director,Co-Producer,Set Costumer,Set Costumer,Additional Camera,Art Department Coordinator,Set Costumer,Casting Associate,Hair Department Head,Stunts,Digital Intermediate,Animation Supervisor,Seamstress,Assistant Costume Designer,VFX Editor,VFX Editor,Animation Director,Assistant Art Director,Assistant Art Director,Animation Supervisor,Animation Supervisor,Casting Associate,Armorer,Armorer,Set Costumer,Set Costumer,Set Costumer,Animation Supervisor,CG Supervisor,CG Supervisor,Camera Operator,Gaffer,Rigging Gaffer,Additional Camera,First Assistant Editor,Assistant Editor,Assistant Editor',\n",
       "       'Casting,Original Music Composer,Producer,Screenplay,Director,Producer,Screenplay,Producer,Director of Photography,Casting,Original Music Composer,Story,Characters,Editor,Producer,Executive Producer,Executive Producer,Art Direction,Costume Design,Art Direction,Makeup Artist,Production Design,Supervising Art Director,Art Direction,Stunt Coordinator,Executive Producer,Set Decoration,Orchestrator,Stunts,Executive Producer,Associate Producer,Art Direction,Sound Re-Recording Mixer,Characters,Orchestrator,Orchestrator,Stunts,Stunts,Art Direction,Dialogue Editor,Thanks,Supervising Art Director,Sound Re-Recording Mixer,Stunt Coordinator,Stunts,Sound Designer,Supervising Sound Editor,Dialogue Editor,Characters,Script Supervisor,Sound Re-Recording Mixer,Sound Effects Editor,Still Photographer,Camera Operator,Steadicam Operator,Art Department Coordinator,Foley,Music Editor,Music Editor,Stunts,Unit Publicist,Hair Department Head,Hairstylist,Sound Effects Editor,Makeup Artist,Assistant Editor,Hairstylist,Makeup Artist,Casting,Set Costumer,Orchestrator,Animatronic and Prosthetic Effects,First Assistant Camera,Publicist,Production Sound Mixer,Stunt Coordinator,Stunts,Color Timer,Assistant Director,Post Production Supervisor,Prosthetic Supervisor',\n",
       "       'Director,Screenplay,Casting,Original Music Composer,Executive Producer,Screenplay,Art Direction,Production Design,Producer,Editor,Animation,Lighting Artist,Animation',\n",
       "       'Casting,Executive Producer,Screenplay,Director,Producer,Producer,Screenplay,Original Music Composer,Producer,Director of Photography,Art Direction,Producer,Casting,Novel,Art Direction,Set Decoration,Executive Producer,Art Direction',\n",
       "       'Producer,Casting,Editor,Screenplay,Screenplay,Original Music Composer,Production Design,Producer,Orchestrator,Editor,Executive Producer,Animation,Director,Director,Story,Executive Producer,Original Music Composer,Art Direction,Producer,Storyboard,Storyboard,Post Production Supervisor,Animation,Animation,Editor',\n",
       "       'Producer,Music,Director,Casting,Casting,Director,Music,Editor,Director,Director,Director,Animation,Executive Producer,Director,Director,Director,Sound Re-Recording Mixer,Sound Re-Recording Mixer,Sound Re-Recording Mixer,Title Designer,Executive Music Producer,Conductor,Music,Music,Music,Music,Animation,Conductor,ADR Supervisor,Sound Designer,Sound Designer,Color Timer,Animation,Animation,Animation,Animation,Animation,Animation,Animation,Editor,Post Production Supervisor,Negative Cutter,Negative Cutter,Music,Associate Producer,Music',\n",
       "       'Story,Producer,Original Music Composer,Original Music Composer,Director,Story,Story,Producer,Story,Screenplay,Story',\n",
       "       'Original Music Composer,Editor,Production Design,Characters,Characters,Producer,Supervising Art Director,Costume Design,Stunt Coordinator,Stunt Coordinator,Makeup Department Head,Screenplay,Story,Screenplay,Story,Director of Photography,Special Effects Coordinator,Set Decoration,Camera Operator,Story,Casting,Visual Effects Editor,Orchestrator,Production Manager,Director,Transportation Captain,Sound Designer,Screenplay,Story,Makeup Artist,Original Music Composer,Assistant Art Director,Original Music Composer,Art Direction,Producer,Camera Operator,Costume Supervisor,Set Costumer,Foley,Costume Supervisor,Makeup Department Head,Assistant Art Director,Property Master,Scenic Artist,Assistant Art Director,Assistant Art Director,Art Department Coordinator,Costume Supervisor,Dialect Coach,Dialogue Editor,Set Designer,Set Designer,Greensman,Dialogue Editor,Dialogue Editor,Sound Effects Editor,Sound Effects Editor,Sound Effects Editor,Foley,Boom Operator,Supervising Sound Editor,Visual Effects Supervisor,Visual Effects Supervisor,Visual Effects Producer,Visual Effects Supervisor,Music Editor,Studio Teachers,Location Manager,Visual Effects Editor,Assistant Art Director,Assistant Art Director,Assistant Art Director,Assistant Art Director,Assistant Art Director,Assistant Art Director,Scenic Artist,Scenic Artist,Scenic Artist,Scenic Artist,Scenic Artist,Leadman,Camera Operator,Camera Operator,Camera Operator,Camera Operator,Gaffer,Set Costumer,Set Costumer,Digital Intermediate,Publicist,Script Supervisor,Production Manager,Production Supervisor,Animation,Animation,Animation,Animation,Compositors,Compositors,Compositors,VFX Artist,Compositors',\n",
       "       'Director of Photography,Original Music Composer,Production Design,Costume Design,Set Decoration,Screenplay,Assistant Art Director,Director,Casting,Supervising Art Director,Producer,Executive Producer,Executive Producer,Screenplay,Producer,Screenplay,Screenplay,Producer,ADR & Dubbing,Conceptual Design,Art Direction,Assistant Art Director,Art Direction,Makeup Department Head,Property Master,Art Department Coordinator,Script Supervisor,Conceptual Design,Construction Coordinator,Script Supervisor,Wigmaker,Art Department Coordinator,Makeup Artist,Hairstylist,Hairstylist,Makeup Artist,Visual Effects,Animation,Animation,VFX Artist,VFX Artist,Art Direction,Hairstylist,Hairstylist,Wigmaker,Art Department Coordinator,Stunts',\n",
       "       'Casting,Original Music Composer,Thanks,Production Design,Producer,Director,Set Designer,Set Designer,Costume Supervisor,Art Department Coordinator,Supervising Art Director,Stunt Coordinator,Set Decoration,Director of Photography,Screenplay,Art Direction,Art Direction,Greensman,Foley,Editor,Editor,Makeup Department Head,Novel,Executive Producer,Screenplay,Makeup Department Head,Hairstylist,Set Designer,Producer,Supervising Art Director,Art Direction,Set Designer,Set Designer,Visual Effects Producer,Makeup Artist,Assistant Art Director,Special Effects Coordinator,Dialect Coach,Property Master,Costume Supervisor,Transportation Coordinator,Hairstylist,Construction Coordinator,Script Supervisor,Music Editor,Dialogue Editor,Set Costumer,Transportation Coordinator,Sound Effects Editor,Visual Effects Supervisor,Camera Operator,Property Master,Location Manager,Gaffer,Sound Designer,Sound Re-Recording Mixer,Set Costumer,Still Photographer,Visual Effects Producer,Visual Effects Supervisor,Camera Operator,Helicopter Camera,Set Designer,Set Costumer,Gaffer,Second Unit Cinematographer,Set Designer,Sculptor,Camera Operator,Helicopter Camera,Sculptor,ADR & Dubbing,Dialogue Editor,Makeup Artist,Visual Effects Editor,Gaffer,Transportation Coordinator,Visual Effects Supervisor,Visual Effects Producer,CG Supervisor,Set Costumer,Set Designer,Camera Operator,Location Manager,Set Designer,Hairstylist,Set Costumer,Unit Publicist,CG Supervisor,Visual Effects Editor,Steadicam Operator,Hairstylist,Visual Effects Editor,Visual Effects Producer,Location Manager,Hairstylist,Hairstylist,Art Department Coordinator,Property Master,Art Department Coordinator,Assistant Art Director,Assistant Art Director,Assistant Art Director,Construction Coordinator,Greensman,Sculptor,Sculptor,Set Designer,Set Decoration Buyer,CG Supervisor,CG Supervisor,CG Supervisor,Animation Supervisor,Visual Effects Editor,Visual Effects Producer,Visual Effects Editor,Visual Effects Producer,Visual Effects Producer,Visual Effects Supervisor,Visual Effects Supervisor,Visual Effects Supervisor,Visual Effects Supervisor,Visual Effects Supervisor,Visual Effects Supervisor,VFX Production Coordinator,VFX Supervisor,Stunt Coordinator,Camera Operator,Set Costumer,Picture Car Coordinator,Dialect Coach,Location Manager,Location Manager,Costume Design',\n",
       "       'Executive Producer,Director,Story,Producer,Original Music Composer,Casting,Sound Re-Recording Mixer,Editor,Screenplay,Screenplay,Director of Photography,Producer,Screenplay,Sound Re-Recording Mixer,Supervising Sound Editor,Sound Effects Editor,Music Editor,Sound Effects Editor,Animation,Animation,Screenplay,Sound Recordist',\n",
       "       'Producer,Casting,Director,Producer,Producer,Director of Photography,Costume Design,Production Design,Editor,Screenplay,Still Photographer,Set Decoration,Original Music Composer,Script Supervisor,Music Editor,Art Department Coordinator,Music Editor,Art Department Coordinator',\n",
       "       'Casting,Thanks,Music,Orchestrator,Executive Producer,ADR Editor,Producer,Screenplay,Executive Producer,Producer,Orchestrator,Screenstory,Screenstory,Executive Producer,ADR Voice Casting,Director,Director,Director of Photography,Story,Editor,Lead Animator,Supervising Art Director,Book,Character Designer,Story,Lead Animator,Casting Associate,Sound Designer,Sound Re-Recording Mixer,Sound Re-Recording Mixer,ADR Editor,ADR Supervisor,Music Editor,Assistant Editor,Lead Animator,Lead Animator,Story,Story,Story,Storyboard,Animation Supervisor,Story,Lead Animator,First Assistant Sound Editor,Sound Effects Editor,Music Supervisor,Editor,Associate Editor,Orchestrator,First Assistant Editor,Color Timer,Story,Lead Animator,Story,Post Production Supervisor,Sound Designer,Executive Producer,Co-Producer,Production Design,Character Designer,Visual Effects Supervisor,Character Designer,Character Designer,Story,Story,First Assistant Editor,Assistant Editor,Associate Producer,Associate Producer,Associate Producer,Associate Producer,Line Producer,Lead Animator,Lead Animator,Lead Animator,Title Designer',\n",
       "       'Producer,Casting,Editor,Original Music Composer,Costume Design,Director of Photography,Screenplay,Director,Screenplay,Director,Casting,Production Design,Art Direction,Stunts,Art Direction,Set Decoration,Sound Designer,Art Direction,Art Direction,Makeup Artist,Special Effects,Visual Effects,Stunts,Assistant Director,Animation',\n",
       "       'Production Design,Costume Design,Original Music Composer,Executive Producer,Director of Photography,Producer,Screenstory,Screenplay,Screenstory,Screenplay,Director,Executive Producer,Editor,Producer,Producer,Novel,Executive Producer,Executive Producer,Producer,Casting,Producer,Animation,Choreographer',\n",
       "       'Characters,Production Design,Costume Design,Supervising Sound Editor,Casting,Associate Producer,Screenplay,Set Decoration,Producer,Producer,Music,Music Editor,Executive Producer,Art Direction,Art Direction,Executive Producer,Producer,Director,Producer,Director of Photography,Editor,Executive Producer,Art Direction,Art Direction,Screenplay,Music Editor,Makeup Designer,Steadicam Operator,Visual Effects Supervisor,Visual Effects Producer,Associate Producer,Conceptual Design,Casting,Editor,Supervising Art Director,Casting,Conceptual Design,Executive Producer,Casting,Casting Associate,Art Direction,First Assistant Editor,Assistant Costume Designer,Editor,Editor,Art Direction,Art Direction,Art Direction,Hairstylist,Foley,Visual Effects Supervisor,Visual Effects Producer,Script Supervisor,Conceptual Design,Sound Effects Editor,Second Unit Cinematographer,Conceptual Design,Still Photographer,Visual Effects Producer,Additional Camera,Sound Re-Recording Mixer,Special Effects Supervisor,Art Department Coordinator,Gaffer,Visual Effects Editor,Helicopter Camera,First Assistant Editor,Visual Effects Producer,Pre-Visualization Supervisor,Sound Designer,Rigging Gaffer,Visual Effects Supervisor,Foley,Casting,Set Costumer,Costume Supervisor,Visual Effects Supervisor,Assistant Art Director,Visual Effects Supervisor,Art Department Coordinator,Assistant Art Director,Set Costumer,First Assistant Camera,Visual Effects Editor,Costume Supervisor,Sound Designer,Set Costumer,Stunts,Construction Coordinator,Executive Producer,Researcher,Art Direction,Assistant Art Director,Conceptual Design,Camera Operator,Camera Operator,First Assistant Camera,First Assistant Camera,Gaffer,Assistant Costume Designer,Seamstress,Set Costumer,Set Costumer,Visual Effects Coordinator,Visual Effects Coordinator,Visual Effects Producer,Visual Effects Producer,Associate Producer',\n",
       "       'Producer,Casting,Production Design,Foley,Costume Supervisor,Director,Writer,Original Music Composer,Supervising Art Director,Hairstylist,Producer,Art Direction,Camera Operator,Editor,Underwater Camera,ADR & Dubbing,Director of Photography,Sound Re-Recording Mixer,Sound Re-Recording Mixer,Executive Producer,Costume Design,Art Direction,Casting,Stunts,Supervising Sound Editor,Gaffer,Costume Supervisor,Makeup Artist,Makeup Designer,Set Costumer,Camera Operator,Music Editor,Art Direction,Art Department Coordinator,Art Direction,Special Effects Coordinator,Makeup Department Head,Foley,Camera Operator,Sound Effects Editor,Visual Effects Editor,Script Supervisor,Still Photographer,Set Costumer,Steadicam Operator,Set Costumer,Second Unit Cinematographer,Helicopter Camera,Rigging Gaffer,Dialogue Editor,Helicopter Camera,Still Photographer,Dialogue Editor,ADR & Dubbing,VFX Editor,Prosthetic Supervisor,Hair Department Head,Key Hair Stylist,Art Department Coordinator,Script Supervisor,Special Effects Supervisor,Visual Effects Editor,Set Costumer,Helicopter Camera,First Assistant Editor,Music Supervisor,Music Supervisor,Assistant Costume Designer,Makeup Artist,Video Assist Operator,Gaffer,Camera Operator,Seamstress,Visual Effects Editor,First Assistant Camera,First Assistant Camera,Casting Associate,Digital Intermediate,VFX Editor,Visual Effects Editor,Conceptual Design,VFX Editor,Art Direction,Art Direction,Construction Coordinator,Casting Associate,Seamstress,Set Costumer,Set Costumer,Set Costumer,Set Costumer,Camera Operator,Camera Operator,Gaffer,Animation Supervisor,VFX Production Coordinator,VFX Supervisor,Visual Effects Editor,Visual Effects Editor,Sound Effects Editor,Makeup Artist,Digital Intermediate,First Assistant Editor,First Assistant Camera',\n",
       "       'Casting,Producer,Producer,Animation Director,Director,Executive Producer,Executive Producer,Producer,Line Producer,Producer,Producer,Producer,Producer,Screenplay,Additional Writing,Executive Producer,Executive Producer,Executive Producer,Executive Producer,Executive Producer,Executive Producer,Production Design,Editor,Director of Photography,Animation Director,Music,Music,Additional Music,Additional Music,Additional Music,Additional Music,Director,Director,Animation Director,Producer,Animation,Animation,Modeling',\n",
       "       'Executive Producer,Screenplay,Additional Editing,Co-Director,Executive Producer,Co-Director,Sound Designer,Producer,Associate Producer,Original Story,Visual Development,Original Story,Original Story,Visual Development,Screenplay,Original Music Composer,Editor,Supervising Technical Director,Production Design,Production Design,Art Direction,Art Direction,Supervising Animator,Supervising Animator,Lighting Supervisor,Shading,Set Dressing Supervisor,Production Supervisor,Casting,Casting,Editorial Manager,Visual Development,Character Designer,Visual Development,Visual Development,Animation,Art Department Manager,CG Painter,CG Painter,Production Artist,CG Painter,CG Painter,Production Artist,CG Painter,CG Painter,CG Painter,CG Painter,Production Artist,Production Artist,Production Artist,Production Artist,Production Artist,Production Artist,Production Artist,Production Artist,Production Artist,Sculptor,Sculptor,Visual Development,Visual Development,Visual Development,Visual Development,Visual Development,Visual Development,Visual Development,Visual Development,Visual Development,Art Department Coordinator,Art Department Coordinator,Art Department Assistant,Animation,Sequence Leads,Sequence Leads,Sequence Leads,Set Dressing Artist,Set Dressing Artist,Layout,Animation,Animation,Animation,Animation,Set Dressing Manager,Set Dresser,Set Dressing Artist,Set Dressing Artist,Set Dressing Artist,Set Dressing Artist,Set Dressing Artist,Set Dressing Production Assistant,Animation Manager,Animation Director,Animation Director,Animation,Animation,Animation,Animation,Animation,Animation,Animation,Animation,Animation,Animation,Animation,Animation,Animation,Animation,Animation,Animation,Animation,Animation,Animation,Animation,Animation,Animation,Animation,Animation,Animation,Animation,Animation,Animation,Animation,Animation,Animation,Animation,Animation,Animation,Animation,Animation,Animation,Animation,Animation,Animation,Animation,Animation,Fix Animator,Animation Department Coordinator,Animation Fix Coordinator,Animation Production Assistant,Second Film Editor,Editor,First Assistant Editor,Additional Editing,Assistant Editor,Assistant Editor,Assistant Editor,Assistant Editor,Additional Editorial Assistant,Additional Editorial Assistant,Editorial Coordinator,Editorial Production Assistant,Editorial Production Assistant,Modeling,Modeling,Modeling,Modeling,Modeling,Modeling,Shading,Modeling,Modeling,Modeling,Modeling,Modeling,Master Lighting Artist,Modeling,Production Coordinator,Shading,Shading,Shading,Shading,Shading,Shading,Shading,Lighting Manager,Directing Lighting Artist,Directing Lighting Artist,Master Lighting Artist,Master Lighting Artist,Lighting Artist,Lighting Artist,Production Coordinator,Lighting Production Assistant,Sequence Supervisor,Software Team Lead,Software Team Lead,Software Team Lead,Software Team Lead,Software Engineer,Software Engineer,Software Engineer,Software Engineer,Documentation & Support,Documentation & Support,Camera Department Manager,Camera Supervisor,Machinist,Camera Technician,Photoscience Manager,Department Administrator,Production Accountant,Production Office Coordinator,Production Office Assistant,Information Systems Manager,Post Production Supervisor,Editorial Services,Projection,Post Production Assistant,Sound Editor,Supervising Sound Editor,Sound Effects Editor,Foley,Foley,Foley,Sound Design Assistant,Mix Technician,Sound Re-Recording Mixer,Music Editor,Sound Editor,Finance,Director,Original Story,Casting,Animation,Musician,Animation,Music Supervisor,Visual Effects Supervisor,ADR Editor,Foley Editor,Title Designer,Co-Producer,Simulation & Effects Artist,Color Timer,Key Hair Stylist,Security,Script Coordinator,Production Manager,Orchestrator,Scoring Mixer,Visual Effects,Finance,Negative Cutter',\n",
       "       'Supervising Art Director,Local Casting,Sound Designer,Sound Re-Recording Mixer,Casting,Production Design,Screenplay,Executive Producer,Comic Book,Producer,Set Decoration,Supervising Sound Editor,Foley Editor,Sound Re-Recording Mixer,Director of Photography,Stunt Coordinator,Screenplay,Executive Producer,Story,Costume Design,Editor,Special Effects Supervisor,Supervising Sound Editor,Director,Editor,Comic Book,Comic Book,Art Direction,Original Music Composer,Music Supervisor,Executive Producer,Set Designer,Screenplay,Executive Producer,Unit Production Manager,Set Designer,Orchestrator,Executive Producer,Executive Producer,Orchestrator,Aerial Director of Photography,Storyboard Designer,Makeup Artist,Screenplay,Story,ADR Voice Casting,Transportation Captain,Sound Mixer,Key Makeup Artist,Set Designer,Property Master,First Assistant Director,Assistant Art Director,Storyboard Designer,Thanks,Thanks,Thanks,Thanks,Storyboard Designer,Thanks,Co-Producer,Additional Music,Assistant Costume Designer,Art Direction,Costume Supervisor,Set Designer,Music Editor,Key Set Costumer,Associate Producer,First Assistant Director,Dialogue Editor,ADR Editor,Leadman,Script Supervisor,Key Costumer,Stunt Coordinator,Dialogue Editor,Makeup Department Head,Key Set Costumer,Sound Effects Editor,Sound Effects Editor,Sound Designer,Transportation Captain,Camera Operator,Steadicam Operator,Still Photographer,Construction Coordinator,Visual Effects Producer,Aerial Director of Photography,Sound Effects Editor,Sound Effects Editor,Chief Lighting Technician,Visual Effects Editor,Gaffer,Key Hair Stylist,Sound Effects Editor,Rigging Gaffer,Hair Department Head,Hairstylist,Key Set Costumer,Camera Operator,Set Decoration Buyer,Key Costumer,Fight Choreographer,Set Decorating Coordinator,Visual Effects Supervisor,Art Department Coordinator,Armorer,Co-Producer,Casting Associate,Set Costumer,Makeup Artist,Hairstylist,Art Direction,Assistant Art Director,Assistant Art Director,Assistant Art Director,Visual Effects Coordinator,Visual Effects Coordinator,Visual Effects Coordinator,Armorer,Dialogue Editor,Production Coordinator,Production Supervisor,Music Editor,Key Costumer,First Assistant Camera,Production Controller,Set Designer,Storyboard Designer,Set Decoration Buyer,First Assistant Sound Editor,Unit Publicist,Production Accountant,Orchestrator,Storyboard Designer,Assistant Sound Editor,Picture Car Coordinator,First Assistant Editor,Transportation Co-Captain,Dolly Grip,First Assistant Camera,Casting Assistant,Dolly Grip,Key Grip,Compositors,Foley Editor,Second Assistant Director,Storyboard Designer,Post Production Supervisor,First Assistant Editor,Visual Effects Coordinator,Visual Effects Editor,Compositors,Compositors,Compositors,Assistant Property Master,Boom Operator,Best Boy Electric,Key Costumer,Set Decoration Buyer,Epk Camera Operator,Transportation Captain,Dialogue Editor,Set Designer',\n",
       "       'Original Music Composer,Sound Designer,Sound Re-Recording Mixer,Director of Photography,Casting,Set Decoration,Visual Effects Supervisor,Visual Effects Supervisor,Comic Book,Executive Producer,Executive Producer,Producer,Supervising Art Director,Production Design,Wigmaker,Director,Screenplay,Story,Costume Design,Sound Effects Editor,Stunt Coordinator,Additional Photography,Editor,Story,Characters,Executive Producer,Casting,Art Direction,Music Supervisor,Executive Producer,Set Designer,Visual Effects Producer,Executive Producer,Executive Producer,Executive Producer,Executive Producer,Transportation Coordinator,Editor,Set Designer,Art Direction,Costume Supervisor,Art Direction,Sound Re-Recording Mixer,Makeup Department Head,Set Costumer,Art Direction,Art Direction,Costume Supervisor,Costume Supervisor,Property Master,Set Designer,Supervising Sound Editor,Dialogue Editor,Set Costumer,Script Supervisor,Visual Effects Art Director,Assistant Art Director,Foley,Set Designer,Art Department Coordinator,Set Designer,Visual Effects Producer,Visual Effects Producer,Dialogue Editor,Leadman,Visual Effects Supervisor,Visual Effects Producer,Set Designer,Visual Effects Producer,Assistant Art Director,Construction Coordinator,Set Costumer,Location Manager,Visual Effects Editor,Visual Effects Supervisor,Set Costumer,Visual Effects Producer,Camera Operator,Camera Operator,Location Manager,Still Photographer,Scenic Artist,Visual Effects Supervisor,Visual Effects Supervisor,Visual Effects Producer,Visual Effects Supervisor,Hairstylist,Production Supervisor,Production Supervisor,Art Department Coordinator,Sculptor,Sculptor,Leadman,Sculptor,Visual Effects Producer,Visual Effects Editor,Visual Effects Producer,Visual Effects Editor,Visual Effects Producer,Visual Effects Producer,Visual Effects Editor,Visual Effects Editor,Visual Effects Editor,Visual Effects Producer,Visual Effects Supervisor,Visual Effects Supervisor,Visual Effects Art Director,Visual Effects Supervisor,Visual Effects Supervisor,Visual Effects Supervisor,Camera Operator,Lighting Technician,Camera Operator,Video Assist Operator,Lighting Technician,Video Assist Operator,Lighting Technician,Additional Photography,Lighting Technician,Lighting Technician,Gaffer,Animation Director,Set Costumer,Set Costumer,Set Costumer,Set Costumer,Set Costumer,Set Costumer,Set Costumer,Music Editor,Translator,Dialect Coach,Studio Teachers,Studio Teachers,Location Manager,Publicist,Location Manager,Unit Publicist,Visual Effects Editor,Visual Effects Editor,Storyboard,Visual Effects,Compositors,Visual Effects,Compositors,Animation,Visual Effects',\n",
       "       'Screenplay,Screenplay,Original Music Composer,Supervising Film Editor,Original Music Composer,Executive Producer,Casting,Director,Supervising Film Editor,Producer,Producer,Director,Co-Executive Producer,Animation,Sound Effects Editor,Animation,Animation,Sound Re-Recording Mixer,Supervising Music Editor,Sound Re-Recording Mixer,Supervising Sound Editor,Sound Designer,Supervising Sound Effects Editor,Music Editor,Editor,Layout,Supervising Animator,Animation,Animation,Sequence Leads,Layout,Animation Supervisor,Visual Development,Animation,Supervising Animator,Layout,Layout',\n",
       "       'Screenplay,Production Design,Characters,Costume Design,Music,Editor,Casting,Producer,Executive Producer,Director,Director of Photography,Editor,Screenplay,Screenplay,Executive Producer,Associate Producer,Producer',\n",
       "       'Producer,Story,Producer,Lead Animator,Executive Producer,Screenplay,Story,Original Music Composer,Executive Producer,Director,Line Producer,Book,Producer,Book,Executive Producer,Editor,Production Design,Executive Producer,Storyboard,Lead Animator,Animation,Lead Animator,Storyboard,Lead Animator,Animation,Animation,Character Designer,Lead Animator,Layout,Animation,Storyboard,Layout,Animation,Visual Effects Supervisor,Layout,Prop Designer,Animation Supervisor,Visual Development,Visual Effects Supervisor,Animation,Character Designer,Animation,Storyboard,Lead Animator,Storyboard,Animation,Layout,Production Manager,Animation,Animation,Storyboard,Layout',\n",
       "       'Producer,Original Music Composer,Costume Design,Producer,Producer,Casting,Music Editor,Production Design,Special Effects Supervisor,Director of Photography,Costume Supervisor,Music Editor,Producer,Casting,Visual Effects Supervisor,Set Designer,Hair Designer,Art Direction,Editor,Screenplay,Set Decoration,Novel,Makeup Artist,Foley,Director,Supervising Art Director,Supervising Art Director,Visual Effects Producer,Electrician,Visual Effects Editor,Set Designer,Art Direction,Art Department Coordinator,Assistant Art Director,Art Direction,Construction Coordinator,Art Direction,Visual Effects Producer,Visual Effects Editor,Dialogue Editor,ADR & Dubbing,Sound Re-Recording Mixer,First Assistant Editor,Set Designer,Set Designer,Script Supervisor,Visual Effects Supervisor,Still Photographer,Additional Photography,Assistant Art Director,Script Supervisor,Second Unit Cinematographer,Choreographer,Hairstylist,Visual Effects Editor,Helicopter Camera,Visual Effects Producer,Steadicam Operator,Gaffer,Set Decoration,Hairstylist,Hairstylist,Digital Intermediate,Digital Intermediate,Visual Effects Supervisor,Digital Intermediate,Visual Effects Supervisor,Rigging Gaffer,Supervising Sound Editor,Property Master,Visual Effects Supervisor,Visual Effects Editor,Wigmaker,ADR & Dubbing,Helicopter Camera,Casting Associate,Camera Operator,Casting Associate,Hairstylist,Assistant Art Director,Animation Supervisor,Animation Supervisor,Animation Supervisor,Script Supervisor,Assistant Costume Designer,CG Supervisor,Gaffer,First Assistant Camera,First Assistant Camera,First Assistant Camera,Makeup Artist,Makeup Artist,Makeup Artist,Visual Effects Coordinator,Visual Effects Coordinator,Visual Effects Coordinator,Visual Effects Coordinator,Visual Effects Coordinator,Visual Effects Coordinator,Visual Effects Editor,Visual Effects Producer,Visual Effects Producer',\n",
       "       'Producer,Original Music Composer,Executive Producer,Executive Producer,Executive Producer,Producer,Editor,Costume Design,Casting,Producer,Director,Director of Photography,Editor,Supervising Sound Editor,Screenplay,Executive Producer,Editor,Music Supervisor,Hairstylist,Special Effects Coordinator,Producer,Assistant Costume Designer,Visual Effects Supervisor,Art Direction,Production Design,Art Direction,Producer,Stunt Coordinator,Executive Producer,Producer,Line Producer,Executive Producer,Editor,Set Decoration,Set Decoration,Costume Design,Special Effects Supervisor,Stunt Coordinator,Visual Effects Producer,Assistant Art Director,Sound Re-Recording Mixer,Second Unit Cinematographer,Camera Operator,Steadicam Operator,Camera Operator,Casting Associate,Makeup Effects,Script Coordinator,Key Hair Stylist,Assistant Art Director,Visual Effects Producer,ADR & Dubbing,Stunt Coordinator,ADR & Dubbing,Prosthetic Supervisor,Makeup Effects,Makeup Department Head,Makeup Artist,Costume Supervisor,Makeup Artist,Visual Effects Supervisor,Foley,Sequence Supervisor,ADR & Dubbing,Foley,Gaffer,Dialogue Editor,Supervising Sound Editor,Sound Re-Recording Mixer,Sound Designer,Still Photographer,Visual Effects Producer,Visual Effects Producer,Camera Operator,Underwater Camera,Construction Coordinator,Camera Operator,Script Supervisor,Hair Department Head,ADR & Dubbing,Visual Effects Art Director,Armorer,Visual Effects Editor,Stunt Coordinator,Dialogue Editor,Dialogue Editor,Dialogue Editor,Camera Operator,Sound Effects Editor,Dialogue Editor,Hairstylist,Key Hair Stylist,ADR & Dubbing,Special Effects Supervisor,Modeling,Music Supervisor,Casting Associate,Rigging Gaffer,Researcher,Hairstylist,Makeup Artist,Art Department Assistant,Art Department Coordinator,Art Department Coordinator,Assistant Art Director,Sound Effects Editor,Visual Effects Editor,Visual Effects Coordinator,Visual Effects Coordinator,Visual Effects Coordinator,Visual Effects Coordinator,Gaffer,Gaffer,First Assistant Editor',\n",
       "       'Executive Producer,Novel,Novel,Animation Supervisor,Production Design,Original Music Composer,Songs,Screenplay,Producer,Story,Co-Art Director,Editor,Original Music Composer,Director,Sound Re-Recording Mixer,Sound Re-Recording Mixer,Director,Casting,Executive Producer,Animation Supervisor,Characters,Post Production Supervisor,Executive Music Producer,Songs,Supervising Animator,Visual Effects Supervisor,Animation Supervisor,Music Supervisor,Sound Editor,Visual Development,Production Supervisor,Sound Editor,Sound Designer,Associate Producer,Visual Development,Layout,Layout,Characters,Layout,Visual Development,Layout,Characters,Layout,Visual Development,Executive In Charge Of Post Production,Production Supervisor,Lighting Supervisor,Art Direction,Visual Development,Production Manager,Layout,Layout,Technical Supervisor,Lighting Supervisor,Lighting Supervisor,Lighting Supervisor,Lighting Supervisor,Lighting Supervisor,Lighting Supervisor,Characters,Visual Development,Visual Development,Visual Development,Visual Development,Visual Development,Visual Development,Visual Development,Layout,Layout,Layout,Layout,Layout,Layout,Layout,Layout,Layout,Software Engineer,Software Engineer,Supervising Animator',\n",
       "       'Producer,Casting,Producer,Original Music Composer,Director,Producer,Original Music Composer,Set Decoration,Costume Design,Executive Producer,Production Design,Producer,Producer,Writer,Producer,Executive Producer,Editor,Director of Photography,Set Decoration,Executive Producer,Stunts,Lighting Technician',\n",
       "       'Sound Effects Editor,Original Music Composer,Screenplay,Foley,Foley,Supervising Sound Editor,Screenplay,Director,Director,Director of Photography,Screenplay,Casting,Screenplay,Producer,Producer,Original Music Composer,Original Music Composer,Editor,Production Design,Sound Designer,Sound Re-Recording Mixer,Animation Director,Sound Re-Recording Mixer,Visual Effects Art Director,Visual Effects Supervisor,Sound Effects Editor,Sound Effects Editor,Sound Effects Editor,Music Editor,ADR & Dubbing,Sound Effects Editor,CG Supervisor,Conceptual Design,Animation,Animation,Creature Design,Sound Effects Editor,Sound Effects Editor,Sound Recordist,Sequence Supervisor,Sequence Supervisor,CG Supervisor,Stunt Coordinator,First Assistant Editor',\n",
       "       'Director,Executive Producer,Orchestrator,Writer,Animation,Visual Effects,Visual Effects Art Director,Color Designer',\n",
       "       'Original Music Composer,Screenplay,Director,Producer,Producer,Director of Photography,Casting,Editor,Set Decoration,Art Direction,Set Decoration,Executive Producer,Executive Producer,Orchestrator,Art Direction,Art Direction,Production Design,Costume Design',\n",
       "       'Editor,Director of Photography,Original Music Composer,Director,Producer,Screenstory,Screenplay,Screenstory,Screenplay,Screenstory,Screenstory,Production Design,Casting,Casting,Editor,Editor,Executive Producer,Second Unit Cinematographer,Executive Producer,Executive Producer,Associate Producer,Sound Designer,Supervising Sound Editor,Art Direction,Costume Design,Music Supervisor,Digital Compositors,Art Direction,Dialect Coach,Art Direction,Additional Photography,Special Effects Coordinator,Set Decoration,First Assistant Camera,Choreographer,Gaffer,Leadman,Property Master,Makeup Department Head,First Assistant Editor,Executive Producer,Unit Production Manager,Creature Design,Stunts,Sound Re-Recording Mixer,Steadicam Operator,Set Costumer,Additional Music,Music Editor,Digital Effects Supervisor,Transportation Coordinator,Unit Publicist,Camera Operator,Sound Effects Editor,Helicopter Camera,Construction Coordinator,Underwater Camera,Visual Development,ADR & Dubbing,Visual Effects Producer,Editorial Services,Art Department Coordinator,Dialogue Editor,Location Manager,Set Designer,Production Supervisor,Still Photographer,Greensman,Animation Supervisor,Rigging Gaffer,Studio Teachers,Visual Effects,Production Illustrator,Orchestrator,Hair Designer,Pyrotechnic Supervisor,Hairstylist,Visual Effects Editor,Wigmaker,Production Sound Mixer,Color Timer,Post Production Assistant,Foley,Makeup Artist,Scoring Mixer,Post Production Supervisor,Production Accountant,Storyboard,Scenic Artist,Software Engineer,Loader,Electrician,Art Direction,Lighting Technician,Set Production Assistant,Propmaker,Stunt Coordinator,Construction Foreman,Painter,Camera Technician,Grip,Assistant Costume Designer,Set Dressing Artist,Armorer,Carpenter,Craft Service,Driver,Production Office Assistant,Sequence Supervisor,Set Medic,Sound Recordist,Utility Stunts,Video Assist Operator,Assistant Director,Digital Intermediate,Best Boy Electric,Rigging Grip,Production Coordinator,Researcher,First Assistant Sound Editor,Sound Mixer,3D Supervisor,Visual Effects,Visual Effects Coordinator,Visual Effects Supervisor,Stunts,Boom Operator,Stunts',\n",
       "       'Screenplay,Original Story,Editor,Co-Director,Production Manager,Director,Original Story,Editor,Additional Editing,Sound Designer,Sound Re-Recording Mixer,Character Designer,Music,Orchestrator,Additional Editing,Visual Development,Supervising Animator,Animation,Lighting Supervisor,Set Dresser,Casting,Casting,Character Designer,Character Designer,Animation,Art Direction,Shading,CG Painter,CG Painter,CG Painter,CG Painter,CG Painter,Character Designer,Character Designer,Sculptor,Sculptor,Layout,Set Dresser,Layout,Layout,Animation,Animation,Animation,Animation,Set Dresser,Set Dressing Supervisor,Animation,Animation,Animation,Animation,Animation,Animation,Animation,Animation,Animation Director,Animation,Animation,Animation,Animation,Animation,Animation,Animation,Animation,Animation,Animation,Animation,Animation,Animation,Animation,Animation,Animation,Animation,Animation,Animation,Animation,Animation,Animation,Animation,Animation,Fix Animator,Additional Editing,Second Film Editor,Additional Editorial Assistant,Additional Editorial Assistant,Additional Editorial Assistant,Additional Editorial Assistant,Additional Editorial Assistant,Additional Editorial Assistant,Additional Editorial Assistant,Camera Department Manager,Camera Supervisor,Camera Technician,Production Accountant,Post Production Supervisor,Supervising Sound Editor,Sound Effects Editor,Supervising Music Editor,Original Story,Original Story,Co-Director,Character Designer,Animation,Screenplay,Screenplay,Screenplay,Producer,Executive Producer,Producer,Director of Photography,Editor,Production Design,Production Design,Character Designer,Sound Effects Editor,Sound Designer,Music Editor,Supervising Technical Director,Orchestrator,Additional Editing,ADR Voice Casting,Character Designer,Animation,Animation Director,Animation,Animation,Executive Music Producer,Animation,First Assistant Editor,Temp Music Editor,Temp Music Editor,Animation,Animation,Animation,Visual Development,Animation,Visual Development,Animation,Set Dresser,Additional Editorial Assistant,Additional Editorial Assistant,Animation,Sound Re-Recording Mixer,Color Timer,Production Office Coordinator,Title Designer,Layout,Animation,Animation Department Coordinator,Foley Editor,Orchestrator,Character Designer,Animation,Camera Technician,Animation,Layout,Additional Editorial Assistant,Foley Editor,Art Department Manager,Assistant Art Director,Art Department Coordinator,Layout,Layout,Layout,Animation,Animation,Animation,Animation,Animation,Animation,Fix Animator,Additional Editorial Assistant,Additional Editorial Assistant',\n",
       "       'Executive Producer,Original Music Composer,Visual Development,Director,Screenplay,Story,Director,Screenplay,Story,Supervising Animator,Sound Designer,Supervising Sound Editor,Screenplay,Casting,Casting,Producer,Art Direction,Supervising Animator,Characters,Supervising Animator,Layout,Story,Background Designer,Casting,Sound Re-Recording Mixer,Sound Re-Recording Mixer,Supervising Animator,Visual Development,Story,Production Manager,Post Production Supervisor,Background Designer,Executive Music Producer,Editor,Characters,Music Supervisor,Supervising Animator,Storyboard,Associate Producer,Characters,Supervising Animator,Visual Development,Background Designer,Layout,Background Designer,Background Designer,Layout,Layout,Characters,Compositors,Compositors,Layout,Layout,Layout,Layout,Background Designer,Visual Development,Visual Development,Layout,Visual Development,Compositors,Background Designer,Visual Effects Supervisor,Visual Development,Supervising Animator,Layout,Background Designer,Layout,Supervising Animator,Layout,Layout,Visual Development,Background Designer,Layout,Layout,Background Designer,Visual Development,Visual Development,Executive In Charge Of Post Production,Background Designer,Visual Development,Production Supervisor,Visual Development,Supervising Animator,Supervising Animator,Visual Development,Story,Technical Supervisor,Original Story,Executive Producer,Visual Development,Production Design,Visual Development,Characters,Layout,Layout,Background Designer,Background Designer,Background Designer',\n",
       "       'Producer,Director,Characters,Characters,Original Music Composer,Producer,Director,Executive Producer,Writer,Post Production Supervisor,Animation,Editor',\n",
       "       'Executive Producer,Executive Producer,Executive Producer,Producer,Screenplay,Original Music Composer,Production Design,Screenplay,Casting,Screenplay,Director,Casting,Executive Producer',\n",
       "       'Casting,Screenplay,Original Music Composer,Songs,Producer,Supervising Sound Editor,Novel,Songs,Screenplay,Co-Producer,Screenplay,Story,Director,Director,Screenplay,Screenplay,Editor,Executive Music Producer,Animation,Supervising Sound Editor,Music Editor,Dialogue Editor,Animation,Animation,Visual Development,Layout,Animation,Layout,Layout,Animation Supervisor,Animation,Dialogue Editor,Art Direction,Post Production Supervisor,Associate Producer',\n",
       "       'Producer,Producer,Producer,Screenplay,Director,Writer,VFX Artist,Stunts',\n",
       "       'Co-Producer,Unit Production Manager,Producer,Costume Design,Original Music Composer,Editor,Executive Producer,Art Direction,Art Direction,Music Editor,Producer,Casting,Art Direction,Production Design,Art Direction,Screenplay,Sound Designer,Screenplay,Set Decoration,Director of Photography,Sound Effects Editor,Sound Designer,Production Sound Mixer,Director,Screenplay,Screenstory,Editor,Executive Producer,Location Manager,Still Photographer,Costume Supervisor,Sound Re-Recording Mixer,Supervising Sound Editor,Sound Re-Recording Mixer,Dialogue Editor,Music Editor,Supervising Art Director,Sound Effects Editor,Sound Designer,Art Direction,Script Supervisor,Visual Effects Editor,First Assistant Editor,Music Editor,VFX Artist,Visual Effects,Assistant Director,Visual Effects Supervisor,Lighting Technician,Animation,Animation,Hair Department Head,First Assistant Editor,Production Supervisor,Still Photographer,First Assistant Editor',\n",
       "       'Music,Producer,Director of Photography,Screenplay,Director,Editor,Director of Photography,Editor,Screenplay',\n",
       "       'Director,Executive Producer,Production Design,Screenplay,Executive Producer,Executive Producer,Visual Development,Visual Effects,Characters,Lighting Technician,Visual Development',\n",
       "       'Supervising Sound Editor,Costume Design,Casting,Editor,Art Direction,Set Decoration,Director,Screenplay,Editor,Original Music Composer,Associate Producer,Director of Photography,Art Direction,Sound Editor,Casting,Production Design,Art Direction,Art Direction,Producer,Story,Executive Producer,Executive Producer,Executive Producer,Executive Producer,Screenplay,Sound mixer,Screenplay,Story,Art Direction,Executive Producer,Casting,Sound Re-Recording Mixer,Sound Re-Recording Mixer,Sound Re-Recording Mixer,Music Editor,Script Supervisor,Music Editor,Dialogue Editor,Visual Effects,Still Photographer,Production Sound Mixer,First Assistant Sound Editor,Art Department Coordinator',\n",
       "       'Casting,Director of Photography,Characters,Executive Producer,Producer,Producer,Costume Design,Editor,Characters,Director,Screenplay,Screenplay,Characters,Characters,Casting,Original Music Composer,Co-Producer,Executive Producer,Costume Design,Script Supervisor,Visual Effects',\n",
       "       'Casting,Original Music Composer,Editor,Director of Photography,Set Decoration,Producer,Director,Writer,Makeup Department Head,Production Design,Producer,Costume Design,Editor,Art Direction',\n",
       "       'Original Music Composer,Sound Re-Recording Mixer,Director,Producer,Writer,Novel,Producer,Writer,Writer,Co-Producer,Director of Photography,Conceptual Design,Conceptual Design,Costume Design,Casting,Casting,Casting,Production Design,Editor,Supervising Sound Editor,Sound Designer,Producer,Dialogue Editor,Stunt Coordinator,Writer,Set Decoration,Supervising Art Director,Makeup Department Head,Producer,Leadman,Sound Recordist,Art Direction,Property Master,Set Costumer,Rigging Gaffer,Casting,Casting,Costume Design,Executive Producer,Sound Effects Editor,Dialogue Editor,Costume Design,ADR & Dubbing,Foley,Conceptual Design,Sequence Supervisor,Sound Re-Recording Mixer,Visual Effects Supervisor,Set Designer,Gaffer,Scenic Artist,Still Photographer,Visual Effects Editor,Animation Director,Sound Designer,Sound Re-Recording Mixer,Set Decoration,Visual Effects Supervisor,Animation Director,Animation Director,Animation Director,CG Supervisor,CG Supervisor,CG Supervisor,CG Supervisor,Animation Director,Visual Effects Supervisor,Animation Supervisor,Sound Effects Editor,Sound Effects Editor,Sound Effects Editor,Animation Manager,First Assistant Editor,Sound Re-Recording Mixer,Sound Recordist,Stunts,Conceptual Design,Visual Effects,VFX Artist,Lighting Artist,Set Decoration,Hairstylist,Hairstylist,Hairstylist,Makeup Artist,Makeup Artist,Makeup Artist,Art Department Coordinator,Assistant Art Director,Assistant Art Director,Greensman,Greensman,Greensman,Greensman,Set Designer,Set Designer,Set Designer,ADR & Dubbing,Dialogue Editor,First Assistant Sound Editor,Supervising Sound Editor,Animation Supervisor,CG Supervisor,Animation Director,Sequence Supervisor,Sequence Supervisor,Animation Production Assistant,Visual Effects Producer,Visual Effects Editor,Visual Effects Producer,Visual Effects Editor,Visual Effects Supervisor,VFX Supervisor,VFX Supervisor,VFX Supervisor,Camera Operator,Still Photographer,Set Costumer,Set Costumer,Music Editor,Music Editor,Location Manager,Dialect Coach,Location Manager,Dialect Coach,Unit Publicist,Dialogue Editor',\n",
       "       'Executive Producer,Producer,Executive Producer,Casting,Production Design,Visual Effects,Makeup Artist,Art Direction,Costume Design,Producer,Makeup Artist,Line Producer,Screenplay,Director of Photography,Set Decoration,Casting,Editor,Director,Screenplay,Screenplay,Original Music Composer,Editor,Stunts,Special Effects,Executive Producer,Associate Producer,Visual Development,Art Direction,Animation,Costume Supervisor,Animation,Stunts,Camera Operator,Camera Operator,Layout,Animation,Animation,Animation,Hair Setup,Conceptual Design,Animation,Animation,Visual Effects,Lighting Artist,Animation,Animation,Animation,Art Department Manager,Layout,Layout,Hairstylist,Makeup Artist,Associate Producer,Motion Capture Artist,Motion Capture Artist,Animation,Stunts,Stunts,Stunt Coordinator,Animation,Animation,Animation,Animation,Animation,Animation,Animation,Animation Supervisor,Animation,Animation Manager,Animation,Animation,Animation,Layout,Animation,Animation,Animation,Animation,Technical Supervisor,Animation,Animation,Costume Design,Costume Design,Camera Operator,Video Assist Operator,Camera Operator,Camera Operator,Camera Operator,Camera Operator,Visual Effects Editor,Lighting Technician,Lighting Technician,Technical Supervisor,Lighting Technician',\n",
       "       'Costume Design,Sound Designer,Characters,Casting,Director,Producer,Screenplay,Producer,Screenplay,Producer,Original Music Composer,Director of Photography,Editor,Editor,Production Design,Set Decoration,Music Editor,Executive Producer,Hairstylist,Hair Department Head,Art Direction,Executive Producer,Executive Producer,Producer,Executive Producer,Art Direction,Supervising Art Director,Supervising Sound Editor,Screenplay,Producer,Special Effects Supervisor,Camera Operator,Visual Effects Producer,Casting,Art Direction,First Assistant Editor,Art Direction,Creature Design,Assistant Art Director,Costume Supervisor,Art Direction,Assistant Art Director,Digital Intermediate,Makeup Artist,Set Costumer,Sound Re-Recording Mixer,Construction Coordinator,Visual Effects Supervisor,Visual Effects Supervisor,Visual Effects Supervisor,Foley,Property Master,Second Unit Cinematographer,Dialogue Editor,Visual Effects Producer,Visual Effects Producer,Still Photographer,Camera Operator,Steadicam Operator,Camera Operator,Visual Effects Editor,Script Supervisor,Art Department Coordinator,Camera Operator,Sound Effects Editor,CG Supervisor,CG Supervisor,Makeup Artist,Digital Intermediate,Sound Effects Editor,Visual Effects Editor,Set Costumer,Key Hair Stylist,Animation,Set Costumer,ADR & Dubbing,Animation Supervisor,Visual Effects Editor,Digital Intermediate,Compositors,Sound Recordist,Art Department Coordinator,Sound Effects Editor,Animation Supervisor,Animation Supervisor,Music Editor,Assistant Costume Designer,Hairstylist,Animation,Visual Effects Art Director,Set Costumer,Makeup Artist,Stunts,Dialogue Editor,Foley,First Assistant Editor,Makeup Department Head,Visual Effects Producer,Script Supervisor,Animation,Animation,CG Supervisor,Digital Effects Supervisor,Visual Effects Art Director,Visual Effects Producer,Sound Recordist,Makeup Artist',\n",
       "       'Screenplay,Original Music Composer,Casting,Casting,Original Story,Executive Producer,Sound Designer,Editor,Visual Development,Director,Story,Casting,Producer,Story,Production Design,Editor,Sound Re-Recording Mixer,Sound Re-Recording Mixer,Sound Re-Recording Mixer,Art Direction,Animation,Director of Photography,Animation,First Assistant Editor,Co-Art Director,Music Editor,Music Editor',\n",
       "       'Original Music Composer,Supervising Sound Editor,Sound Re-Recording Mixer,Casting,Original Music Composer,Executive Producer,Characters,Producer,Set Decoration,Executive Producer,Director,Writer,Costume Design,Editor,Director of Photography,Characters,Executive Producer,Production Design,Executive Producer,Executive Producer,Executive Producer,Executive Producer,Art Direction,Casting,Editor,Line Producer,Supervising Art Director,Co-Producer,Steadicam Operator,Sound Designer,Costume Supervisor,Art Direction,Art Direction,Art Direction,Sound Re-Recording Mixer,Art Direction,Set Decoration,Supervising Sound Editor,Associate Producer,Dialogue Editor,Still Photographer,Art Direction,Sound Effects Editor,Second Unit Cinematographer,Steadicam Operator,Camera Operator,Camera Operator,Stunts,Helicopter Camera,Underwater Camera,Compositors,Animation Supervisor,Animation Supervisor,Camera Operator,Sound Re-Recording Mixer,Second Unit Cinematographer,Camera Operator,Camera Operator,Animation Supervisor,Storyboard,Compositors,Animation,Visual Effects,ADR & Dubbing,Co-Producer,Helicopter Camera,Art Direction,Set Decoration,Costume Supervisor,Special Effects Coordinator,Camera Operator,Camera Operator,Still Photographer,Associate Producer',\n",
       "       'Creative Consultant,Screenplay,Director,Story,Editor,Costume Design,Original Music Composer,Supervising Sound Editor,Novel,Executive Producer,Producer,Casting,Production Design,Producer,Director,Director,Additional Dialogue,Screenplay,Screenplay,Screenplay,Producer,Art Direction,Additional Dialogue,Additional Dialogue,Sound Designer,Characters,Post-Production Manager,Storyboard,Sound Engineer,Additional Dialogue,Music Supervisor,Systems Administrators & Support,Additional Music,Additional Dialogue,Dolby Consultant,Animation Director,Post Production Supervisor,Casting Associate,Visual Effects Coordinator,Sound Mixer,Sound Recordist,Sound Effects Editor,Visual Effects Supervisor,Production Illustrator,Animation Director,Supervising Animator,Animation Supervisor,Animation,VFX Artist,VFX Artist,Editorial Coordinator,Lighting Artist,Music Editor,Editor,Color Timer,Orchestrator,Foley,Set Designer,Production Controller,Second Film Editor,Story,Sculptor,Projection,Sequence Supervisor,Software Engineer,Layout,Editorial Production Assistant,First Assistant Editor,Production Coordinator,Production Manager,Production Supervisor,Digital Compositors',\n",
       "       'Editor,Supervising Sound Editor,Sound Re-Recording Mixer,Casting,Sound Effects Editor,Executive Producer,Producer,Foley,Foley,Set Decoration,Set Designer,Costume Design,Screenplay,Director,Original Music Composer,Music Editor,Editor,Director of Photography,Makeup Department Head,Music Supervisor,Production Design,Sculptor,Sound mixer,Executive Producer,Editor,Executive Producer,Executive Producer,Executive Producer,Supervising Sound Editor,Sculptor,Characters,Art Direction,Casting,Camera Operator,Screenplay,Camera Operator,Sound Designer,Costume Supervisor,Visual Effects Supervisor,Visual Effects Supervisor,Visual Effects Supervisor,Visual Effects Supervisor,Production Sound Mixer,Sound Re-Recording Mixer,Property Master,Visual Effects Producer,Visual Effects Producer,Characters,Sculptor,Set Costumer,Assistant Art Director,Set Designer,Dialogue Editor,Still Photographer,Assistant Art Director,Construction Coordinator,Assistant Art Director,Assistant Art Director,Set Designer,Set Designer,Set Designer,Property Master,Sculptor,Dialogue Editor,Sound Effects Editor,Visual Effects Producer,Visual Effects Producer,Visual Effects Producer,Visual Effects Producer,Visual Effects Supervisor,Visual Effects Producer,Visual Effects Producer,Visual Effects Producer,Visual Effects Supervisor,Stunt Coordinator,Stunt Coordinator,Music Editor,Transportation Coordinator,Security,Set Costumer,Set Costumer,Set Costumer,Set Costumer,Camera Operator,Camera Operator,Camera Operator,Camera Operator,Camera Operator,Camera Operator,Still Photographer,Storyboard,Animation,Lighting Technician,Visual Effects,Visual Effects Editor,Animation,Compositors,Visual Effects,Animation,Visual Effects Editor,Compositors,Co-Producer,Associate Producer,Co-Producer,Stunts',\n",
       "       'Music,Screenplay,Director,Author,Executive Producer,Line Producer,Layout,Layout,VFX Artist',\n",
       "       'Original Music Composer,Casting,Screenplay,Director,Editor,Screenplay,Director,Screenplay,Screenplay,Producer,Story,Story,Production Design,Writer,Writer,Producer,Executive Producer,Animation,Animation',\n",
       "       'Screenplay,Director,Original Story,Executive Producer,Original Music Composer,Thanks,Production Design,Executive Producer,Art Direction,Production Manager,Set Dressing Artist,Director of Photography,Art Direction,Supervising Animator,Sound Designer,Assistant Editor,Modeling,Master Lighting Artist,Post Production Supervisor,Projection,Thanks,Makeup Artist,Makeup Artist,Color Timer,Original Story,Thanks,Sound Re-Recording Mixer,Casting,Visual Effects,Editor,Producer,Producer,Screenplay,Layout,Casting,Animation,Thanks,Casting,Music Supervisor,Animation,Line Producer,Sound Mixer,Animation,Thanks,Assistant Editor,Camera Operator,Editorial Manager,Additional Dialogue,Set Designer,Sound Effects Editor,Art Direction,Color Timer',\n",
       "       'Screenplay,Screenplay,Director,Screenplay,Writer,Animation,Animation,Animation,Lighting Artist,Animation,Animation,Animation,Storyboard',\n",
       "       'Executive Producer,Screenplay,Co-Director,Story,Executive Producer,Lighting Director,Lighting Director,Director of Photography,Production Design,Animation,Producer,Lighting Director,Director of Photography,Layout,Layout,Layout,Supervising Animator,Animation Director,Animation,Animation,Animation,Animation,Animation,Animation Director,Animation Director,Editor,Production Manager,Supervising Technical Director,Post Production Supervisor,Supervising Sound Editor,Screenplay,Story,Director,Sound Effects Editor,Sound Re-Recording Mixer,Sound Designer,Supervising Sound Editor,Shading,Music,Music Editor,Story,Orchestrator,Casting,Layout,Sound Mixer,Animation,Foley Editor,Executive Music Producer,Casting,Associate Producer,Sculptor,Music Supervisor,Visual Effects Supervisor,Sound Re-Recording Mixer,Animation,Animation,Foley Editor,Animation,Sound Effects Editor,Sound Effects Editor,Additional Editorial Assistant,Art Department Coordinator,Animation Manager,Editorial Manager,Camera Operator,Sound Design Assistant,Editor,Color Timer,Script Supervisor,Associate Editor,ADR Editor,Art Department Coordinator,Animation,Animation,Production Artist,Production Artist,Art Department Manager,Editorial Manager,Assistant Editor,Assistant Editor,Assistant Editor,Editorial Coordinator,Layout,Layout,Layout,Layout,Layout,Layout,Camera Operator,Post-Production Manager,Post Production Assistant',\n",
       "       'Original Music Composer,Songs,Director,Screenplay,Producer,Producer,Second Unit Cinematographer,Executive Producer,Director of Photography,Screenplay,Production Design,Costume Design,Casting,Chief Lighting Technician,Sound Re-Recording Mixer,Boom Operator,Set Decoration,Art Direction,Associate Producer,Unit Production Manager,First Assistant Director,Sound Recordist,Production Illustrator,Visual Effects Supervisor,Orchestrator,Supervising Sound Editor,Art Direction,Post Production Assistant,Makeup Artist,Property Master,Executive Producer,Director of Photography,Editor,Production Design,Key Makeup Artist,Songs,Associate Producer,Sound Re-Recording Mixer,Sound Designer,Associate Producer,Digital Effects Supervisor,Digital Producer,Visual Effects Art Director,Assistant Art Director,Producer,Executive Producer,Book,Producer,Co-Producer,Editor,Casting,Orchestrator,Production Sound Mixer,Sound Mixer,Sound Recordist,Special Effects Coordinator,Propmaker,Dialogue Editor,Set Designer,Art Direction,Production Accountant,Creative Producer,Still Photographer,Production Coordinator,Production Office Coordinator,Script Supervisor,Assistant Art Director,Unit Publicist,Assistant Art Director,Layout,Costume Supervisor,Set Costumer,Art Direction,Color Timer,Assistant Art Director,Construction Coordinator,Sound Design Assistant,Set Designer,Assistant Art Director,Music Editor,Visual Effects Producer,Sound Effects Editor,Dolby Consultant,Camera Operator,Hair Designer,Leadman,Key Hair Stylist,Set Designer,Sound Re-Recording Mixer,Foley Editor,Sound Effects Editor,Foley Editor,Video Assist Operator,Visual Effects Art Director,Digital Compositors,Set Designer,Visual Effects Editor,Hairstylist,Layout,Casting Assistant,Layout,Set Designer,First Assistant Editor,VFX Editor,VFX Editor,Transportation Coordinator,Executive In Charge Of Production,Digital Effects Supervisor,Construction Foreman,Choreographer,Key Grip,Motion Capture Artist,Sequence Supervisor,Art Department Coordinator,Art Department Coordinator,Casting Associate,Animation Supervisor,Digital Effects Supervisor,Digital Effects Supervisor,Visual Effects Coordinator,First Assistant Editor,Art Department Assistant,Second Assistant Director,Character Designer,Set Designer,Set Designer,Set Designer,Assistant Editor,Layout,Layout,Layout,Rigging Gaffer,Grip,Best Boy Electric,Visual Effects,Rigging Grip,Set Production Assistant,Set Dressing Artist,Driver,Software Engineer,Stunt Coordinator,Stunts,Digital Intermediate,Lighting Artist,Production Supervisor,Storyboard,Animation',\n",
       "       'Writer,Executive Producer,Director,Producer,Storyboard,Production Supervisor,Director,Producer,Visual Effects Supervisor,Animation,Animation,Animation',\n",
       "       'Music,Art Department Manager,Director,Storyboard,Animation Supervisor,Storyboard,Storyboard,Animation,Animation,Director,Writer,Storyboard,Executive Producer,Animation,Storyboard,Animation,Animation,Animation,Storyboard,Animation,Animation,Animation,Animation,Animation,Animation,Animation,Storyboard,Storyboard,Animation,Art Department Manager,Animation,Animation,Animation Supervisor,Animation,Animation,Animation,Storyboard,Art Department Manager,Animation,Animation,Animation,Animation,Animation,Animation,Animation,Animation,Art Department Manager,Animation,Animation,Animation,Animation,Animation,Storyboard,Storyboard,Storyboard,Animation,Animation',\n",
       "       'Producer,Costume Design,Director of Photography,Co-Producer,Co-Producer,Casting,Producer,Original Music Composer,Director,Supervising Art Director,Executive Producer,Executive Producer,Executive Producer,Producer,Executive Producer,Line Producer,Associate Producer,Screenplay,Co-Producer,Casting,Screenplay,Co-Producer,Co-Producer,Co-Producer,Assistant Director,Compositors,Visual Effects,Consulting Producer',\n",
       "       'Original Music Composer,Music Editor,Executive Producer,Editor,Writer,Writer,Executive Producer,Costume Design,Set Decoration,Casting,Art Direction,Director,Production Design,Co-Producer,Sound Re-Recording Mixer,Sound Effects Editor,Producer,Producer,Executive Producer,Hair Department Head,Director of Photography,Associate Producer,Executive Producer,Executive Producer,Associate Producer,Storyboard,Producer,Associate Producer,Makeup Department Head,Casting,Producer,Executive Producer,Costume Supervisor,Script Supervisor,Camera Operator,Art Department Coordinator,Dialogue Editor,Sound Effects Editor,Sound Designer,Sound Re-Recording Mixer,Steadicam Operator,Still Photographer,Production Supervisor,Sound Designer,Supervising Sound Editor,Digital Effects Supervisor,Production Manager,Associate Producer,Production Sound Mixer,Stunt Coordinator,Associate Producer,Transportation Captain,Transportation Coordinator,First Assistant Camera,First Assistant Editor',\n",
       "       'Casting,Original Music Composer,Director,Producer,Characters,Director of Photography,Writer,Producer,Lighting Artist,Art Direction,Screenplay,Producer,Screenplay,Producer,Editor,Producer',\n",
       "       'Casting,Supervising Art Director,Set Decoration,Director of Photography,Producer,Original Music Composer,Costume Design,Supervising Art Director,Director,Producer,Additional Music,Associate Producer,Editor,Casting Associate,Music Editor,Author,Poem,Screenplay,Producer,Co-Producer,Camera Operator,Production Design,Art Direction,Art Direction,Art Direction,Art Direction,Art Direction,Set Decoration,Supervising Sound Editor,Makeup Artist,Scenic Artist,Sound Effects Editor,Sound Editor,Supervising Art Director,Key Hair Stylist,Music Editor,Visual Effects Producer,Orchestrator,Production Supervisor,Prosthetic Supervisor,Stunt Coordinator,Second Unit Cinematographer,Creative Producer,Dolby Consultant,Still Photographer,Costume Supervisor,Property Master,Sculptor,First Assistant Sound Editor,Sound Re-Recording Mixer,Security,CG Supervisor,Gaffer,Best Boy Electric,Assistant Art Director,Script Supervisor,Steadicam Operator,Production Sound Mixer,Publicist,Set Costumer,Unit Publicist,Steadicam Operator,Greensman,Production Coordinator,Hairstylist,Helicopter Camera,Dialogue Editor,Standby Painter,First Assistant Editor,Foley,Propmaker,Visual Effects Editor,Storyboard,Rigging Gaffer,Dialect Coach,Orchestrator,Orchestrator,Orchestrator,Visual Effects Coordinator,Projection,Visual Effects,Art Department Coordinator,Motion Capture Artist,Post Production Supervisor,Set Production Assistant,Sound Mixer,Sequence Supervisor,Visual Effects Supervisor,Color Timer,I/O Supervisor,Grip,Transportation Coordinator,Loader,Special Effects Supervisor,Art Department Assistant,Location Scout,Painter,First Assistant Camera,Assistant Costume Designer,Seamstress,Set Dressing Artist,Armorer,Carpenter,Chef,Driver,Production Controller,Production Intern,Set Medic,Software Engineer,Special Effects Coordinator,Stunts,Unit Production Manager,Utility Stunts,Assistant Director,Electrician,Lighting Artist,Lighting Supervisor,Location Manager,Production Accountant,Production Manager,Boom Operator,3D Supervisor,Digital Compositors,Unit Manager',\n",
       "       'Screenplay,Director,Thanks,Producer,Casting,Sound Re-Recording Mixer,Editor,Dialogue Editor,Sound Re-Recording Mixer,Key Makeup Artist,Set Decoration,Thanks,In Memory Of,Makeup Designer,Art Direction,Production Design,Music,Director of Photography,Music Editor,Art Direction,Costume Design,Supervising Art Director,Art Direction,Art Direction,Orchestrator,Makeup Artist,Original Story,Casting,Thanks,Key Makeup Artist,ADR Voice Casting,Producer,Producer,Screenplay,Unit Production Manager,Camera Operator,Sound Mixer,Visual Effects Supervisor,Screenplay,Supervising Sound Editor,Casting Associate,Makeup Department Head,Casting Associate,Assistant Costume Designer,Art Direction,Art Direction,Supervising Art Director,Post Production Supervisor,Storyboard Designer,Special Effects Supervisor,Assistant Costume Designer,Associate Producer,Set Designer,Storyboard Designer,Makeup Artist,Makeup Artist,Assistant Art Director,Property Master,Thanks,Transportation Coordinator,Visual Effects Supervisor,Casting Assistant,Dialogue Editor,Sound Re-Recording Mixer,Assistant Art Director,Gaffer,Script Supervisor,Sound Designer,Supervising Sound Editor,Art Department Coordinator,Set Designer,Art Direction,Camera Operator,Gaffer,Camera Operator,Steadicam Operator,Production Supervisor,Key Makeup Artist,Visual Effects Producer,Key Makeup Artist,Key Makeup Artist,Still Photographer,Sound Effects Editor,Makeup Artist,Makeup Artist,Sound Effects Editor,Assistant Art Director,Hair Designer,Key Makeup Artist,Makeup Artist,Makeup Artist,Animation Supervisor,Visual Effects Editor,Makeup Artist,Camera Operator,Makeup Artist,Art Department Assistant,Makeup Artist,Makeup Artist,Key Costumer,Makeup Artist,Visual Effects Art Director,Key Makeup Artist,Stunt Coordinator,Art Department Assistant,Art Department Coordinator,Makeup Artist,Production Coordinator,Boom Operator,Art Department Assistant,Unit Publicist,Unit Production Manager,Additional Editing,First Assistant Director,Art Department Assistant,Second Assistant Director,Second Assistant Director,Art Department Coordinator,Art Department Assistant,Art Department Assistant,Key Makeup Artist,Makeup Artist,Makeup Artist,Makeup Artist,Hairstylist,Hairstylist,Boom Operator,Production Coordinator,Key Grip,Key Grip,Thanks,Stunts',\n",
       "       'Casting,Director of Photography,Editor,Original Music Composer,Costume Design,Executive Producer,Characters,Characters,Producer,Producer,Screenplay,Executive Producer,Production Design,Set Decoration,Sound Designer,Supervising Sound Editor,Screenplay,Makeup Department Head,Stunt Coordinator,Stunt Coordinator,Supervising Art Director,Camera Operator,Art Direction,Screenplay,Story,Visual Effects Supervisor,Executive Producer,Sound Re-Recording Mixer,Sound Re-Recording Mixer,Art Direction,Editor,Assistant Art Director,Director,Makeup Department Head,Sound mixer,Assistant Art Director,Art Direction,Producer,Set Designer,Foley,Makeup Department Head,Costume Supervisor,Costume Supervisor,Set Costumer,Visual Effects Producer,Scenic Artist,Dialect Coach,Leadman,Sculptor,Script Supervisor,Property Master,Set Designer,Dialogue Editor,Foley,Sound Designer,Supervising Sound Editor,Visual Effects Supervisor,Visual Effects Producer,Camera Operator,Steadicam Operator,Construction Coordinator,Visual Effects Producer,Art Department Coordinator,Set Costumer,Music Editor,Gaffer,Sound Re-Recording Mixer,Art Department Coordinator,Assistant Art Director,Set Designer,Set Designer,Set Designer,Set Designer,Visual Effects Editor,Visual Effects Editor,Visual Effects Supervisor,Visual Effects Editor,Visual Effects Supervisor,Visual Effects Editor,Visual Effects Supervisor,Visual Effects Producer,Visual Effects Producer,Visual Effects Producer,Visual Effects Producer,Gaffer,Camera Operator,Camera Operator,Still Photographer,Set Costumer,Set Costumer,Set Costumer,Set Costumer,Set Costumer,Set Costumer,Music Editor,Music Editor,Transportation Coordinator,VFX Artist,Visual Effects,Animation,Animation,VFX Artist,Compositors,Visual Effects Editor,Visual Effects,Visual Effects',\n",
       "       'Original Music Composer,Casting,Sound Designer,Set Decoration,Production Design,Producer,Editor,Director of Photography,Novel,Screenplay,Producer,Art Direction,Stunt Coordinator,Assistant Art Director,Stunts,Director,Producer,Art Direction,Art Direction,Art Direction,Art Direction,Costume Design,Makeup Artist,Supervising Sound Editor,Special Effects,Hair Designer,Makeup Designer,Foley,Unit Production Manager,Associate Producer,Additional Photography,Second Unit Cinematographer,Sound Editor,Dialogue Editor,Executive Producer,Executive Producer,Executive Producer,Steadicam Operator,Scoring Mixer,ADR Editor,Foley Editor,Storyboard,Stand In,Lighting Artist,Sound Effects Editor,Musician,Casting Assistant,Set Production Assistant,Aerial Camera,Creative Producer,Post Production Supervisor,Production Accountant,Wardrobe Supervisor,Costume Supervisor,First Assistant Editor,Draughtsman,Art Department Assistant,First Assistant Sound Editor,Transportation Coordinator,Sound Re-Recording Mixer,Digital Effects Producer,Art Department Coordinator,Script Supervisor,Still Photographer,Production Sound Mixer,Scenic Artist,Wigmaker,Visual Effects Editor,Sculptor,Visual Effects Supervisor,Aerial Director of Photography,Visual Effects Coordinator,Unit Manager,Line Producer,First Assistant Camera,Property Master,Animation Supervisor,Camera Operator,Location Manager,Construction Coordinator,Animation,Digital Effects Supervisor,Associate Producer,First Assistant Director,CGI Supervisor,Lead Animator,Special Effects Supervisor,Production Controller,Modeling,Music Editor,Orchestrator,Costume Illustrator,Standby Painter,Researcher,Associate Editor,Gaffer,Rigging Gaffer,Visual Effects,Aerial Coordinator,Grip,Post Production Assistant,Painter,Production Illustrator,Additional Camera,Camera Technician,Key Grip,Assistant Costume Designer,Hairstylist,Prosthetic Supervisor,Carpenter,CG Supervisor,Driver,Loader,Propmaker,Security,Sequence Supervisor,Software Engineer,Special Effects Coordinator,Supervising Animator,Unit Publicist,Video Assist Operator,Layout,Color Timer,Digital Intermediate,Best Boy Electric,Electrician,Lighting Supervisor,Lighting Technician,Rigging Grip,Production Coordinator,Production Manager,Boom Operator,Sound Mixer,3D Animator,Digital Compositors,I/O Supervisor,Visual Effects Producer,Sound,Assistant Sound Editor,Assistant Property Master,Title Designer,Costume Coordinator,Second Assistant Director,Third Assistant Director,Rigging Supervisor,Additional Sound Re-Recording Mixer,Creature Technical Director',\n",
       "       'Executive Producer,Cinematography,Cinematography,Screenplay,Story,Screenplay,Producer,Editor,Director,Art Direction,Screenplay,Sound Re-Recording Mixer,Associate Producer,Casting,Casting,Director,Original Music Composer,Characters,Additional Editing,Story,Visual Development,Co-Producer,Thanks,Characters,Visual Development,Other,Sound Re-Recording Mixer,Music,Layout,Layout,Layout,Camera Department Manager,Animation,Animation,Casting Associate,Music,Other,Orchestrator,Color Timer',\n",
       "       'Editor,Casting,Director of Photography,Original Music Composer,Producer,Production Design,Art Direction,Production Design,Producer,Casting,Costume Design,Author,Director,Producer,Executive Producer,Casting,Producer,Executive Producer,Line Producer,Associate Producer,Original Music Composer,Art Direction,Set Decoration,Animation',\n",
       "       'Set Decoration,Director of Photography,Producer,Producer,Co-Producer,Costume Design,Original Music Composer,Screenplay,Executive Producer,Production Design,Art Direction,Art Direction,Casting,Co-Producer,Script Supervisor,Co-Producer,Casting,Sound Effects Editor,Co-Producer,Sound Designer,Director,Novel,Screenplay,Screenplay,Producer,Producer,Editor,Second Unit Cinematographer,Orchestrator,Stunt Coordinator,Executive Producer,Co-Producer,Sound Mixer,Line Producer,Co-Producer,Co-Producer,Co-Producer,Associate Producer,Line Producer,Production Manager,Associate Producer,Executive Producer,Propmaker,Assistant Art Director,Dolby Consultant,Stunts,Visual Effects Supervisor,Special Effects Coordinator,Foley,Aerial Director of Photography,First Assistant Sound Editor,First Assistant Editor,Art Department Coordinator,Makeup Artist,Digital Intermediate,Visual Effects Producer,Still Photographer,Music Editor,Prosthetic Makeup Artist,Gaffer,Supervising Sound Editor,Costume Supervisor,Visual Effects Coordinator,Hairstylist,Makeup Artist,Hairstylist,Unit Publicist,First Assistant Director,Executive Producer,Assistant Costume Designer,Location Scout,Armorer,Special Effects Supervisor,Standby Painter,Hair Designer,Dialect Coach,Screenplay,Scenic Artist,Dialogue Editor,Sound Recordist,Music Supervisor,Production Accountant,Storyboard,Key Grip,Visual Effects Editor,Art Department Assistant,Painter,Sculptor,First Assistant Camera,Grip,Cableman,Carpenter,Driver,Loader,Projection,Set Production Assistant,Stand In,Technical Supervisor,Unit Production Manager,Best Boy Electric,Electrician,Rigging Gaffer,Location Manager,Production Coordinator,Boom Operator,3D Artist,Digital Compositors',\n",
       "       'Casting,Producer,Casting,Production Design,Director of Photography,Costume Design,Original Music Composer,Director,Producer,Writer,Supervising Art Director,Executive Producer,Writer,Set Decoration,Editor,Executive Producer,Thanks,Dialect Coach,Transportation Captain,Producer,Stunt Coordinator,Art Direction,Conceptual Design,Art Direction,Casting,Casting,Sound Effects Editor,Creature Design,Art Direction,Producer,Costume Supervisor,Costume Supervisor,Casting,Assistant Art Director,Foley,Sound Re-Recording Mixer,Supervising Sound Editor,Color Timer,Art Direction,Set Decoration,Makeup Department Head,Assistant Art Director,Scenic Artist,Scenic Artist,Scenic Artist,Scenic Artist,Property Master,Sculptor,Scenic Artist,Assistant Art Director,Construction Coordinator,Assistant Art Director,Scenic Artist,Art Department Coordinator,Sound Re-Recording Mixer,Boom Operator,Dialogue Editor,Costume Supervisor,Set Costumer,Set Costumer,Set Costumer,Set Costumer,Music Editor,Transportation Co-Captain,Location Manager,Location Scout,Dialect Coach,Script Supervisor,Thanks,Camera Operator,Other,Compositors,Visual Effects Editor,Software Engineer,Special Effects',\n",
       "       'Casting,Director of Photography,Editor,Director of Photography,Original Music Composer,Characters,Production Design,Producer,Director,Editor,Costume Design,Producer,Screenplay,Special Effects Supervisor,Casting,Executive Producer,Music Editor,Producer,Music Editor,Music Editor,Script Supervisor,Boom Operator',\n",
       "       'Director of Photography,Director,Producer,Screenplay,Author,Screenplay,Author,Editor,Editor,Original Music Composer,Executive Producer,Executive Producer,Executive Producer,Executive Producer,Producer,Producer,Casting,Production Design,Conceptual Design,Makeup Department Head,Special Effects Supervisor,Hairstylist,Visual Effects',\n",
       "       'Characters,Director,Screenplay,Director,Screenplay,Screenplay,Screenplay,Characters,Storyboard,Art Department Manager,Art Department Manager,Animation,Animation',\n",
       "       'Writer,Director,Writer,Writer,Animation,Layout',\n",
       "       'Original Music Composer,Casting,Casting,Sound Designer,Supervising Sound Editor,Sound Effects Editor,Sound Effects Designer,Director,Screenplay,Producer,Director,Screenplay,Producer,Supervising Music Editor,Novel,Screenplay,Producer,Production Design,Associate Producer,Casting Associate,Production Design,Sound Re-Recording Mixer,Sound Re-Recording Mixer,Sound Re-Recording Mixer,Music Editor,Production Manager,Editor,Visual Development,Painter,Animation,Animation,Layout,Layout,Animation,Animation,Painter,Art Direction,Production Manager,Music Editor',\n",
       "       'Editor,Original Music Composer,Director of Photography,Executive Producer,Line Producer,Screenplay,Screenplay,Set Decoration,Orchestrator,Executive Producer,Story,Production Design,Storyboard,First Assistant Camera,Producer,Animation Supervisor,Director,Story,First Assistant Director,Art Direction,Storyboard,Animation,Layout,Storyboard,Storyboard,Storyboard,Storyboard,Script Supervisor,Storyboard,Producer,Producer,Still Photographer,Camera Operator,Location Manager,Layout,Layout,Character Designer,Layout,Layout,Translator,Executive Producer,Unit Production Manager,Production Manager,First Assistant Director,Second Assistant Director,Second Assistant Director,Production Supervisor,Production Supervisor,Production Supervisor,Production Supervisor,Technical Supervisor,Production Coordinator,Location Manager,Animation Director,Production Supervisor,Storyboard,Storyboard,Storyboard,Storyboard,Storyboard,Storyboard,Storyboard,Animation Director,Animation,Animation,Animation,Animation Supervisor,Lead Animator,Animation,Animation,Animation,Animation,Animation,Animation,Animation,Animation,Animation,Animation,Animation,Animation,Animation,Animation,Lead Animator,Compositors,Visual Effects Editor,Compositors,Animation Supervisor,Visual Effects Supervisor,Compositors,Supervising Animator,Lead Animator,Lead Animator,Lead Animator,Animation,Compositors,Supervising Producer,Casting,Production Coordinator',\n",
       "       'Original Music Composer,Screenplay,Producer,Characters,Producer,Characters,Costume Design,Director,Choreographer,Choreographer,Storyboard,Executive Music Producer',\n",
       "       'Producer,Director,Characters,Writer,Writer,Art Department Manager,Animation,Animation,Animation',\n",
       "       'Screenplay,Producer,Executive Producer,Casting,Casting,Casting,Costume Design,Supervising Art Director,Set Decoration,Supervising Art Director,Producer,Producer,Director of Photography,Co-Producer,Music,Screenplay,Makeup Department Head,Director,Associate Producer,Co-Producer,Production Design,Co-Producer,Screenplay,Screenplay,Costume Supervisor,Animation,Associate Producer',\n",
       "       'Original Music Composer,Director,Producer,Author,Producer,Producer,Producer,Executive Producer,Executive Producer,Producer,Editor,Production Design,Art Direction,Orchestrator,Animation,Layout,Animation,Art Department Manager,Compositors,Special Effects',\n",
       "       'Casting,Costume Design,Executive Producer,Unit Production Manager,Editor,Original Music Composer,Special Effects Coordinator,Screenplay,Screenstory,Producer,Art Direction,Screenplay,Director,Stunt Coordinator,Steadicam Operator,Director of Photography,Makeup Artist,Makeup Effects,Production Design,First Assistant Editor,Dialogue Editor,Author,Screenplay,Executive Producer,Sound Effects Editor,Visual Effects,Visual Effects Supervisor,Supervising Sound Editor,Foley,Camera Operator,Gaffer,Set Decoration,Gaffer,Production Controller,Additional Camera,Supervising Sound Editor,Gaffer,Camera Operator,Transportation Captain,Set Costumer,Sound Re-Recording Mixer,Set Designer,Costume Supervisor,Makeup Artist,Key Hair Stylist,Foley,Sound Designer,Digital Compositors,Assistant Director,Sound Designer,Dialogue Editor,Foley,Visual Effects Producer,Sound Re-Recording Mixer,Dialogue Editor,Visual Effects Producer,Script Supervisor,Camera Operator,Still Photographer,Set Costumer,Transportation Coordinator,Steadicam Operator,Chef,Production Sound Mixer,Production Manager,Greensman,Unit Publicist,Camera Operator,ADR & Dubbing,Visual Effects Art Director,Leadman,Sound Editor,Visual Effects Editor,Sound Effects Editor,Camera Operator,Music Editor,Property Master,Camera Operator,Hairstylist,Sound Effects Editor,Sound Effects Editor,CG Supervisor,Second Unit Cinematographer,Visual Effects Producer,Hairstylist,Additional Camera,Visual Effects Supervisor,Art Department Coordinator,Assistant Art Director,Property Master,Construction Coordinator,Construction Foreman,ADR & Dubbing,Sound Recordist,Sound Recordist,Sound Effects Editor,Visual Effects Supervisor,Camera Operator,Additional Photography,First Assistant Editor,Picture Car Coordinator,Location Manager,Location Manager,Propmaker,Executive In Charge Of Post Production,First Assistant Sound Editor,Associate Producer,Visual Effects Supervisor,Casting Associate,Post Production Supervisor,Standby Painter,Music Supervisor,Color Timer,Storyboard,Painter,Sound Engineer,Lighting Technician,3D Supervisor,Loader,Set Decoration Buyer,Rigging Grip,Set Dressing Artist,Video Assist Operator,Set Production Assistant,Craft Service,Art Department Assistant,First Assistant Camera,Grip,Carpenter,Driver,Set Medic,Stunts,Telecine Colorist,Best Boy Electric,Electrician,Rigging Gaffer,Production Coordinator,Production Supervisor,Boom Operator,Orchestrator,Special Effects Supervisor',\n",
       "       'Screenplay,Director,Animation,Lighting Technician,Lighting Artist,Animation,Animation',\n",
       "       'Producer,Casting,Cinematography,Casting,Costume Design,Art Direction,Producer,Set Decoration,Dialogue Editor,Art Direction,Producer,Production Design,Music,Art Direction,Screenstory,Screenplay,Screenstory,Screenplay,Art Direction,Property Master,Scenic Artist,Director,Visual Effects Producer,Assistant Art Director,Casting,Costume Supervisor,Supervising Art Director,Art Direction,Visual Effects Supervisor,Assistant Art Director,Foley,Set Designer,Set Designer,Visual Effects Producer,Sound Re-Recording Mixer,Sound Designer,Sound Re-Recording Mixer,Set Designer,Sculptor,Transportation Coordinator,Location Manager,Art Direction,Assistant Art Director,Construction Coordinator,Assistant Art Director,Art Department Coordinator,Art Department Coordinator,Set Designer,Set Designer,Set Designer,Sculptor,Supervising Sound Editor,Sound Re-Recording Mixer,Sound Re-Recording Mixer,Visual Effects Supervisor,Visual Effects Supervisor,Visual Effects Supervisor,Visual Effects Supervisor,Visual Effects Supervisor,Visual Effects Editor,Visual Effects Producer,Visual Effects Producer,Visual Effects Editor,Visual Effects Editor,Supervising Animator,Set Costumer,Set Costumer,Set Costumer,Set Costumer,Music Editor,Music Editor,Transportation Coordinator,Location Manager,Dialect Coach,Choreographer,Dialect Coach,Chef,VFX Artist,Compositors,Visual Effects,Stunts',\n",
       "       'Director of Photography,Set Decoration,Production Design,Novel,Screenplay,Producer,Supervising Art Director,Art Direction,Costume Design,Casting,Art Direction,Director,Original Music Composer,Editor,Producer,Producer,Executive Producer,Art Direction,Art Direction,Art Direction,Art Direction,Script Supervisor,Still Photographer,First Assistant Editor,First Assistant Editor,Assistant Costume Designer,Production Sound Mixer',\n",
       "       'Story,Director,Story,Producer,Story,Thanks,Thanks,Thanks,Producer,Music,Production Design,Animation,Layout,Director of Photography,Animation,Animation,Editor,Assistant Editor,Lighting Camera,Post Production Supervisor,Screenplay,Thanks,Sound Re-Recording Mixer,Casting,Visual Effects,Casting,Layout,Casting,Casting,Art Direction,Visual Effects Supervisor,Animation,Visual Effects,Storyboard,Additional Dialogue,Sound Effects Editor,Associate Producer,Color Timer',\n",
       "       'Casting,Executive Producer,Screenplay,Director,Author,Executive Producer,Author,Editor,Producer,Producer,Production Design,Costume Design,Screenplay,Executive Producer,Director of Photography,Producer,Screenplay,Original Music Composer,Casting,Production Design,Set Decoration,Costume Design,Unit Production Manager,Art Direction,Art Direction,Production Manager,Art Direction,Art Direction,Still Photographer,Casting Assistant,Production Coordinator,Set Designer,Script Supervisor,Set Designer,Set Designer,Still Photographer,Set Designer,Set Designer,Set Designer,Production Coordinator,Set Designer,Set Designer,Visual Effects Editor,Production Supervisor,Production Coordinator,Set Designer,Location Manager,Location Manager,Casting Assistant,Casting Assistant,Casting Assistant,Casting Assistant,Casting Associate,Location Scout,Title Designer,Production Coordinator',\n",
       "       'Original Music Composer,Original Music Composer,Director,Director,Screenplay,Screenplay,Director of Photography,Editor,Animation,Color Designer,Animation Director,Art Department Manager',\n",
       "       'Casting,Executive Producer,Editor,Director,Executive Producer,Producer,Producer,Producer,Screenplay,Supervising Art Director,Costume Design,Production Design,Producer,Editor,Set Decoration,Editor,Original Music Composer,Producer,Production Supervisor,Casting,Orchestrator,Director of Photography,Costume Supervisor,Makeup Department Head,Script Supervisor,Script Supervisor,Still Photographer,Digital Effects Supervisor,Stunts',\n",
       "       'Original Music Composer,Director,Producer,Producer,Second Unit,Casting,Costume Design,Screenplay,Executive Producer,Set Decoration,Producer,Supervising Sound Editor,Art Direction,Casting,Screenplay,Producer,Executive Producer,Director of Photography,Editor,Production Design,Makeup Artist,Makeup Artist,Makeup Artist,Makeup Artist,Makeup Artist,Makeup Artist,Executive Producer,Visual Effects Supervisor,Original Music Composer,Visual Effects Supervisor,Producer,Producer,Sound Designer,Executive Visual Effects Producer,Visual Effects Design Consultant,Digital Effects Supervisor,Animation Supervisor,Visual Effects Producer,Digital Producer,CG Supervisor,Visual Effects Art Director,Hairstylist,Set Designer,Visual Effects Editor,Sound mixer,Dialogue Editor,Script Supervisor,Makeup Department Head,Sound Effects Editor,Music Editor,Sound Effects Editor,Music Editor,Sound Effects Editor,Lighting Artist,Hair Department Head,Animation,Layout,Visual Effects,Transportation Captain,Transportation Coordinator',\n",
       "       'Executive Producer,Editor,Director of Photography,Casting,Costume Design,Art Direction,Producer,Director,Producer,Writer,Director,Writer,Producer,Production Design,Supervising Sound Editor,Supervising Art Director,Stunt Coordinator,Executive Producer,Set Decoration,Original Music Composer,Art Direction,Camera Operator,Visual Effects Producer,Sound Effects Editor,Conceptual Design,Visual Effects Supervisor,Foley,Art Direction,Visual Effects Supervisor,Visual Effects Producer,Art Direction,Costume Supervisor,Property Master,Assistant Art Director,Sound Designer,Assistant Art Director,Sound Effects Editor,Conceptual Design,Sound Designer,Gaffer,Visual Effects Supervisor,Visual Effects Supervisor,Script Supervisor,Visual Effects Supervisor,Stunt Coordinator,Music Editor,Camera Operator,Still Photographer,VFX Supervisor,Visual Effects Supervisor,Visual Effects Editor,Foley,Visual Effects Editor,Music Editor,Helicopter Camera,Dialogue Editor,ADR & Dubbing,Visual Effects Editor,Helicopter Camera,Visual Effects Supervisor,Camera Operator,Visual Effects Editor,Sequence Supervisor,Visual Effects Editor,Digital Intermediate,Rigging Gaffer,Special Effects Coordinator,Camera Operator,First Assistant Sound Editor,Compositors,First Assistant Editor,Compositors,Compositors,Visual Effects Editor,VFX Artist,Art Direction,Art Direction,Art Department Coordinator,Art Department Coordinator,Construction Coordinator,Foley,CG Supervisor,Animation Supervisor,CG Supervisor,CG Supervisor,Still Photographer,Set Costumer,Set Costumer,First Assistant Editor,Dialect Coach,VFX Production Coordinator,VFX Production Coordinator,Visual Effects Producer,Visual Effects Producer,Visual Effects Producer,Visual Effects Producer,Visual Effects Supervisor,Sequence Supervisor,Sequence Supervisor,Visual Effects Supervisor,Visual Effects Supervisor,Gaffer,Electrician',\n",
       "       'Director,Casting,Director,Author,Director,Author,Author,Art Direction,Animation,Art Direction,Lighting Technician,Animation,Animation,Layout',\n",
       "       'Art Direction,Editor,Producer,Producer,Novel,Producer,Executive Producer,Executive Producer,Screenplay,Screenplay,Original Music Composer,Art Direction,Casting,Director of Photography,Casting,Production Design,Art Direction,Director,Line Producer,Screenplay,Producer,Executive Producer,Post-Production Manager,Art Direction,Art Direction,Casting,Animation,Stunts,Visual Effects,Animation,Animation Supervisor',\n",
       "       'Additional Writing,Original Music Composer,Casting,Screenplay,Story,Director,Additional Writing,Additional Writing,Screenplay,Screenplay,Story,Producer,Story,Producer,Director of Photography,Editor,Director,Story,Additional Writing,Screenplay,Producer,Director of Photography,Editor,Additional Writing,Supervising Animator,Production Design,Additional Writing,Producer,Screenplay,Story,Supervising Animator,Layout,Editorial Manager,Animation',\n",
       "       'Casting,Director of Photography,Director,Writer,Casting,Editor,Producer,Producer,Art Direction,Art Direction,Costume Design,Producer,Set Decoration,Supervising Art Director,Supervising Art Director,Writer,Art Direction,Editor,Supervising Art Director,Production Design,Art Direction,Writer,Writer,Producer,Music,Utility Stunts,Art Direction,Casting,Art Direction,Costume Supervisor,Art Direction,Art Direction,Art Direction,Art Direction,Art Direction,Art Direction,Set Decoration,Costume Supervisor,Visual Effects Supervisor,Animation,VFX Artist,Lighting Artist,Lighting Technician,Production Office Assistant,Animation',\n",
       "       'Editor,Music,Producer,Editor,Supervising Sound Editor,Writer,Writer,Co-Director,Producer,Director,Sound Re-Recording Mixer,Animation Director,Executive Producer,Associate Producer,Art Direction,Production Design,Animation,Writer,Sound Re-Recording Mixer,Foley,Dialogue Editor,Dialogue Editor,Music Editor,First Assistant Editor,Digital Intermediate,Sound Effects Editor,Sound Effects Editor,Animation,Animation,Animation,Animation,Animation,Animation,Animation,Animation,Animation,Fix Animator,Animation,Animation,Animation,Animation,Modeling,Animation,Set Dressing Supervisor,Animation,Lighting Artist,Set Designer,Visual Effects,Foley,Sound Recordist,First Assistant Editor,First Assistant Editor,Associate Producer',\n",
       "       'Executive Producer,Screenplay,Original Music Composer,Editor,Director,Screenplay,Director,Storyboard,Animation,Layout,Lighting Artist,Script Supervisor,Art Direction',\n",
       "       'Director of Photography,Producer,Producer,Producer,Director,Executive Producer,Screenplay,Author,Producer,Editor,Producer,Executive Producer,Producer,Editor,Production Design,Set Decoration,Costume Design,Screenplay,Screenplay,Screenplay,Original Music Composer,Art Direction,Stunts,Art Department Manager,Animation,Special Effects,Digital Producer,Animation,Animation',\n",
       "       'Art Direction,Casting,Producer,Executive Producer,Executive Producer,Associate Producer,Director,Original Music Composer,Editor,Casting,Screenplay,Story,Music Supervisor,Casting,Special Effects Supervisor,Art Direction,Costume Design,Production Illustrator,Executive Producer,Editor,Set Decoration,Costume Design,Special Effects Coordinator,Dolby Consultant,Pyrotechnician,Editor,Story,Story,Characters,Production Design,Unit Production Manager,Stunts,Hairstylist,Screenplay,Orchestrator,Associate Producer,Casting Associate,Additional Photography,Production Supervisor,Associate Producer,Supervising ADR Editor,Additional Music,Makeup Artist,Special Sound Effects,Stunt Coordinator,Set Decoration Buyer,Director of Photography,Technical Supervisor,Aerial Coordinator,Camera Loader,Makeup Artist,Art Direction,First Assistant Editor,Costume Supervisor,Makeup Department Head,Visual Effects Producer,Visual Effects Supervisor,Set Designer,Supervising Sound Editor,Sound Re-Recording Mixer,Leadman,Steadicam Operator,Underwater Director of Photography,Camera Operator,Sound Designer,Unit Publicist,Art Department Coordinator,Aerial Director of Photography,Electrician,Makeup Artist,Sound Effects Editor,Transportation Captain,Visual Effects Coordinator,Key Costumer,Dialogue Editor,Supervising Dialogue Editor,Set Dresser,Location Manager,Color Timer,Production Sound Mixer,Script Supervisor,Gaffer,Chief Lighting Technician,Special Effects Coordinator,Construction Coordinator,Still Photographer,Visual Effects,First Assistant Camera,Second Unit,Storyboard,24 Frame Playback,First Assistant Director,Key Hair Stylist,Property Master,Sound Mixer,Executive In Charge Of Production,Hairstylist,Hairstylist,Key Makeup Artist,Assistant Costume Designer,Music Editor,Rigging Gaffer,ADR Editor,Sound Recordist,Software Engineer,Digital Effects Supervisor,Additional Camera,Boom Operator,Costume Illustrator,Construction Foreman,Greensman,Location Scout,Painter,Standby Painter,Camera Intern,Key Grip,Armorer,Carpenter,Craft Service,Driver,Loader,Picture Car Coordinator,Post Production Assistant,Post Production Supervisor,Production Office Assistant,Propmaker,Scenic Artist,Security,Set Medic,Set Production Assistant,Stand In,Transportation Co-Captain,Utility Stunts,Visual Effects Editor,Digital Intermediate,Editorial Coordinator,Best Boy Electric,Lighting Technician,Rigging Grip,Casting Associate,Production Accountant,Production Coordinator,Researcher,Digital Compositors,Assistant Property Master,Set Medic,Dolly Grip,Title Designer,Set Decorating Coordinator,Grip,Ager/Dyer,Animal Wrangler,Marine Coordinator,Second Assistant Director,Negative Cutter,Assistant Production Coordinator,Casting Assistant,Foley Editor,Utility Sound,Lead Animator,Matchmove Supervisor,Visual Effects Designer,Wigmaker',\n",
       "       'Costume Design,Characters,Casting,Director,Producer,Executive Producer,Writer,Executive Producer,Writer,Original Music Composer,Director of Photography,Editor,Editor,Production Design,Set Decoration,Art Direction,Executive Producer,Executive Producer,Producer,Stunts,Casting,Makeup Department Head,Costume Supervisor,Digital Effects Supervisor',\n",
       "       'Original Music Composer,Casting,Music Editor,Set Decoration,Executive Producer,Director,Executive Producer,Story,Comic Book,Editor,Producer,Producer,Production Design,Costume Design,Screenplay,Producer,Executive Producer,Director of Photography,Co-Producer,Stunt Coordinator,Second Unit Cinematographer,Stunts,Utility Stunts,Art Direction,Sound Editor,Art Direction,Special Effects Coordinator,Color Timer,Executive Producer,Screenstory,Screenstory,Electrician,Art Direction,Additional Music,Unit Production Manager,Art Direction,Casting Associate,Screenstory,Hairstylist,Helicopter Camera,Driver,Assistant Director,Art Direction,Special Effects,Costume Design,First Assistant Editor,Assistant Editor,Makeup Artist,Makeup Department Head,Assistant Art Director,Transportation Coordinator,Script Supervisor,Sound Effects Editor,Scenic Artist,Sound Mixer,Set Designer,Property Master,Art Department Assistant,Still Photographer,Visual Effects Supervisor,Visual Effects Producer,Steadicam Operator,Sound Designer,Supervising Sound Editor,Sculptor,Leadman,Camera Operator,Assistant Costume Designer,Picture Car Coordinator,Scoring Mixer,Rigging Gaffer,Visual Effects Editor,Hair Department Head,Visual Effects,Set Medic,Key Hair Stylist,Construction Coordinator,First Assistant Sound Editor,Art Department Manager,Camera Technician,Sequence Leads,Carpenter,Production Supervisor,First Assistant Camera,Hairstylist,Art Department Coordinator,Special Effects Supervisor,Lighting Technician,Transportation Co-Captain,Gaffer,Foley,Rigging Grip,Sound Recordist,Orchestrator,Quality Control Supervisor,Best Boy Electric,Production Office Assistant,Production Sound Mixer,Chef,Storyboard,Painter,Craft Service,Grip,Set Production Assistant,Publicist,Production Illustrator,CG Supervisor,Digital Compositors,Visual Effects Coordinator,Production Coordinator,Construction Foreman,Location Scout,Standby Painter,Seamstress,Set Costumer,Set Dressing Artist,Loader,Production Controller,Production Intern,Propmaker,Software Engineer,Stand In,Systems Administrators & Support,Location Manager,Production Accountant,Boom Operator,Studio Teachers,Digital Producer',\n",
       "       'Executive Producer,Layout,Assistant Editor,Animation,Original Music Composer,Screenplay,Layout,Sound Designer,Sound Re-Recording Mixer,Visual Development,Modeling,Editor,Orchestrator,Animation,Orchestrator,Producer,Screenplay,Director,Art Direction,Visual Development,Director,Associate Producer,Casting,Sound Re-Recording Mixer,Post Production Supervisor,Executive Music Producer,Orchestrator,Animation,Associate Editor,Supervising Animator,Character Designer,Animation,Supervising Animator,Music Supervisor,Animation,Supervising Sound Editor,Music Editor,Animation,Dialogue Editor,Assistant Editor,Music Editor,Sound Effects Editor,Sound Effects Editor,Animation,Visual Development,Animation Manager,Visual Development,Layout,Layout,Visual Development,Layout,Layout,Animation,Supervising Animator,Animation,Animation Manager,Animation,Modeling,Layout,Animation,Layout,Visual Development,Visual Development,Animation,Animation,Sequence Leads,Visual Development,Production Manager,Orchestrator,Orchestrator,Animation,Visual Effects Supervisor,Technical Supervisor,Color Timer,Layout,Animation,Visual Development,Sequence Leads,Sequence Leads,Sequence Leads,Sequence Leads,Lighting Supervisor,Sequence Leads,Character Designer,Layout,Layout,Layout,Animation,Animation,Visual Development,Layout,Animation,CG Supervisor,Modeling,Animation Supervisor,Supervising Animator,Supervising Animator,Supervising Animator,Sequence Leads,Assistant Editor,Character Designer,Character Designer,Visual Development,Modeling,Modeling,Modeling,Modeling,Modeling,Modeling,Modeling,Modeling,Modeling,Modeling,Modeling,Modeling,Layout,Layout,Animation,Animation,Animation,Animation,Animation,Animation,Animation,Animation,Animation,Animation,Animation,Animation,Animation,Animation,Animation,Animation,Animation,Animation,Animation,Animation,Animation,Animation,Animation,Animation,Animation,Animation,Animation,Animation,Animation,Animation,Animation,Animation,Animation,Animation,Animation,Animation,Animation,Foley Editor,Sound Design Assistant',\n",
       "       'Original Music Composer,Editor,Screenplay,Co-Executive Producer,Sound Designer,Co-Producer,Producer,Producer,Casting,Director,Director,Screenplay,Producer,Visual Development,Costume Design,Layout,Sound Effects Editor,Sound Re-Recording Mixer,Sound Re-Recording Mixer,Sound Re-Recording Mixer,Sound Effects Editor,Animation,Animation,Lighting Artist,Animation,Editor,Visual Effects Coordinator,Co-Executive Producer,Production Design,Producer,Visual Effects Coordinator,Dialogue Editor',\n",
       "       'Original Music Composer,Producer,Screenplay,Director,Producer,Story,Screenplay,Producer,Director of Photography,Camera Operator,Casting,Story,Characters,Editor,Executive Producer,Executive Producer,Stunts,Makeup Artist,Costume Design,Set Decoration,Art Direction,Production Design,Production Design,Supervising Art Director,Electrician,Rigging Grip,ADR & Dubbing,Executive Producer,Stunts,Stunts,Art Direction,Art Direction,Orchestrator,Stunts,Executive Producer,Co-Producer,Production Manager,VFX Supervisor,Stunts,Sound Re-Recording Mixer,Stunts,Stunts,Stunts,ADR & Dubbing,Stunts,Orchestrator,Stunts,Art Direction,Casting,Stunts,Supervising Art Director,Stunts,Set Costumer,Dialogue Editor,Stunts,Stunts,Foley,Visual Effects Producer,Production Manager,Stunts,Costume Supervisor,Makeup Department Head,Art Direction,Stunts,Stunts,Costume Supervisor,Set Costumer,Stunts,Sound Designer,Supervising Sound Editor,Sound Effects Editor,Production Office Assistant,Sculptor,Special Effects Coordinator,Camera Operator,Camera Operator,Transportation Coordinator,Stunts,Script Supervisor,Visual Effects Editor,Sound Effects Editor,Construction Coordinator,Sound Effects Editor,Set Costumer,Dialect Coach,Stunts,Construction Coordinator,Set Costumer,Art Direction,Special Effects Coordinator,Dialect Coach,Set Costumer,Set Costumer,Art Department Coordinator,Set Designer,Foley,Greensman,Helicopter Camera,Set Costumer,Leadman,Still Photographer,Set Costumer,Dialect Coach,Assistant Director,Costume Design,Production Supervisor,Helicopter Camera,Visual Effects Supervisor,Wigmaker,Painter,Makeup Artist,Construction Foreman,Sequence Supervisor,Makeup Effects,Unit Publicist,Art Direction,Art Direction,Hairstylist,Hairstylist,Hairstylist,Makeup Effects,Production Manager,Production Manager,Production Supervisor,Art Department Coordinator,Art Department Coordinator,Assistant Art Director,Assistant Art Director,Property Master,Construction Coordinator,Property Master,Greensman,Scenic Artist,Leadman,Set Designer,Sound Effects Editor,Sound Re-Recording Mixer,Sound Effects Editor,Sound Effects Editor,Sound Re-Recording Mixer,Visual Effects Editor,Visual Effects Producer,Visual Effects Editor,Visual Effects Editor,Visual Effects Editor,CG Supervisor,Visual Effects Supervisor,CG Supervisor,Visual Effects Supervisor,Sequence Supervisor,Sequence Supervisor,Stunt Coordinator,Gaffer,Gaffer,Camera Technician,Rigging Gaffer,Animation,Costume Supervisor,Set Costumer,Set Costumer,First Assistant Editor,Music Editor,Transportation Coordinator,Picture Car Coordinator,Location Manager,Location Manager,Location Manager,Location Manager,Location Manager,Hairstylist,Stunts,Assistant Editor,Stunts,Casting,Stunts,Assistant Costume Designer,Stunts,Assistant Director,Grip,Grip,Hairstylist,Assistant Editor,Stunts,First Assistant Camera,Rigging Grip,First Assistant Camera,Stunts,Grip,Grip,Stunts,Stunts,Driver,Hairstylist,Propmaker,Stunts Coordinator,Stunts,Rigging Grip,Set Production Assistant,Stunts,Camera Intern,Color Timer,Stunts,Stunts,Stunts,Rigging Grip,Stunts,Stunts,Stunts,Rigging Grip,Executive In Charge Of Production,Assistant Director,Post Production Supervisor,Stunts,Stunts,Prosthetic Supervisor,Sound Mixer,Line Producer',\n",
       "       'Original Music Composer,Producer,Screenplay,Producer,Producer,Producer,Director,Screenplay,Songs,Director,Editor,Director,Visual Development,Production Manager,Animation,Supervising Animator,Animation,Animation,Animation,Layout,Animation,Animation,Visual Development,Visual Effects,Visual Effects,Layout,Script Coordinator',\n",
       "       'Original Music Composer,Art Direction,Casting,Director of Photography,Casting,Casting,Editor,Second Unit Cinematographer,Set Decoration,Production Design,Associate Producer,Unit Production Manager,Executive Producer,Art Direction,Director,Executive Producer,Novel,Screenplay,Producer,Casting,Art Direction,Costume Design,Makeup Artist,Sound Effects Editor,Special Effects,Visual Effects Supervisor,Stunts,Stunt Coordinator,Art Direction,Executive Producer,Art Direction,Hair Designer,Makeup Designer,Musician,Sound Re-Recording Mixer,Associate Producer,Supervising Sound Editor,Executive Producer,Art Direction,Co-Producer,Supervising Music Editor,Visual Effects Coordinator,Assistant Costume Designer,Makeup Effects,Aerial Camera,Casting Assistant,Production Accountant,Sound Recordist,Costume Supervisor,Art Direction,Assistant Art Director,Assistant Property Master,Temp Music Editor,Production Manager,Script Supervisor,Scoring Mixer,Still Photographer,I/O Supervisor,Sound Mixer,Wigmaker,Visual Effects Producer,Sculptor,ADR Editor,Music Editor,Dialogue Editor,Camera Operator,Gaffer,Assistant Sound Editor,Set Production Assistant,Property Master,Animation Supervisor,Prosthetic Makeup Artist,Steadicam Operator,Special Effects Coordinator,Projection,Sequence Leads,First Assistant Editor,Visual Effects Editor,Construction Coordinator,First Assistant Director,Sequence Supervisor,Special Effects Supervisor,Utility Stunts,Orchestrator,Dolby Consultant,Standby Painter,Rigging Gaffer,Key Grip,Pilot,Color Timer,Painter,Unit Publicist,Video Assist Operator,Assistant Production Manager,Boom Operator,Transportation Co-Captain,Best Boy Electric,Art Department Coordinator,Production Illustrator,Set Designer,First Assistant Camera,Grip,Hairstylist,Carpenter,CG Supervisor,Chef,Driver,Post Production Supervisor,Scenic Artist,Security,Systems Administrators & Support,Transportation Coordinator,Electrician,Lighting Supervisor,Location Manager,Production Coordinator,Production Supervisor,Foley,Sound Engineer,3D Supervisor,Digital Compositors,Storyboard,Costume Coordinator,Tailor,ADR Voice Casting,Foley Editor,Additional Sound Re-Recording Mixer,Animal Coordinator,Dolly Grip,Digital Effects Producer,Second Assistant Director,Third Assistant Director,Assistant Production Coordinator,Lead Animator',\n",
       "       'Director,Editor,Screenplay,Screenplay,Animation',\n",
       "       'Director of Photography,Editor,Director,Original Music Composer,Screenplay,Story,Screenplay,Story,Editor,Executive Producer,Screenplay,Post Production Supervisor,Animation,Animation,Visual Effects,Visual Effects,Storyboard,Animation,Animation,Animation,Animation',\n",
       "       'Original Music Composer,Casting,Producer,Thanks,Co-Producer,Co-Producer,Animation,Novel,Executive Producer,Editor,Director,Writer,Executive Producer,Editorial Services,Other,Production Controller,Production Manager,Visual Effects Design Consultant,Thanks,Casting,Sound Effects Editor,Co-Producer,Storyboard,Animation Supervisor,Layout,Animation,Co-Executive Producer,Co-Producer,Associate Producer',\n",
       "       'Original Music Composer,Casting,Producer,Producer,Screenplay,Director,Author,Author,Screenplay,Director,Screenplay,Executive Producer,Art Direction,Editor,Production Design,Producer,Production Manager,Art Department Manager,Art Department Manager,Lighting Artist,Animation',\n",
       "       'Casting,Producer,Editor,Casting,Producer,Executive Producer,Producer,Executive Producer,Production Design,Costume Design,Original Music Composer,Set Decoration,Director of Photography,Editor,Director,Producer,Screenplay,Screenplay,Art Direction,Art Direction,Executive Producer,Hairstylist,Hairstylist,Hairstylist,Makeup Effects,Unit Production Manager,Production Supervisor',\n",
       "       'Casting,Costume Design,Producer,Art Direction,Director of Photography,Casting,Production Design,Director,Screenplay,Story,Supervising Sound Editor,Characters,Producer,Executive Producer,Executive Producer,Supervising Art Director,Art Direction,Editor,Producer,Casting Associate,Producer,Producer,Original Music Composer,Digital Intermediate,Set Decoration,Line Producer,Art Direction,Sound Mixer,Sound Effects Editor,Camera Operator,Foley,Orchestrator,Camera Operator,Story,Costume Supervisor,Art Direction,Sound Effects Editor,Sound Effects Editor,Foley,Music Editor,Armorer,Assistant Art Director,Sound Effects Editor,Special Effects Coordinator,Visual Effects Producer,Script Supervisor,Camera Operator,Still Photographer,Art Direction,Visual Effects Producer,Foley,Sound Re-Recording Mixer,Art Direction,Visual Effects Producer,Foley,Underwater Camera,Helicopter Camera,Camera Operator,Visual Effects Supervisor,Visual Effects Editor,ADR & Dubbing,First Assistant Editor,Script Supervisor,Hair Designer,Makeup Designer,Assistant Art Director,Visual Effects Supervisor,Visual Effects Supervisor,Visual Effects Editor,Rigging Gaffer,Second Unit Cinematographer,Sound Re-Recording Mixer,Art Department Coordinator,Hairstylist,Key Hair Stylist,Makeup Artist,Makeup Artist,Camera Operator,Gaffer,Special Effects Supervisor,Visual Effects Editor,Assistant Art Director,Visual Effects Editor,Digital Intermediate,Assistant Art Director,Casting Associate,Visual Effects Coordinator,Costume Supervisor,Set Costumer,Set Costumer,Set Costumer,Art Direction,Set Decoration,Hairstylist,Makeup Artist,Makeup Artist,3D Supervisor,Animation,Visual Effects Coordinator,Visual Effects Coordinator,Visual Effects Coordinator,Visual Effects Coordinator,Visual Effects Coordinator,Visual Effects Coordinator,Visual Effects Producer,Sequence Supervisor,Sequence Supervisor,Special Effects Supervisor,Gaffer,Additional Camera,Additional Camera,First Assistant Editor',\n",
       "       'Original Music Composer,Producer,Screenplay,Casting,Casting,Supervising Sound Editor,Screenplay,Director,Producer,Executive Producer,Producer,Producer,Editor,Editor,Casting,Set Decoration,Production Design,Art Direction,Executive Producer,Novel,Producer,Director of Photography,Costume Design,Producer,Casting,Visual Effects Supervisor,Stunt Coordinator,Sound Re-Recording Mixer,Art Direction,Art Direction,Orchestrator,Art Direction,Gaffer,Executive Producer,Casting,Dialect Coach,Stunt Coordinator,Location Manager,Foley,Producer,Line Producer,Visual Effects Art Director,Sound Effects Editor,Dialogue Editor,Costume Supervisor,Art Direction,Art Direction,Visual Effects Art Director,Set Decoration,Makeup Department Head,Costume Supervisor,Visual Effects Art Director,Sculptor,Sculptor,Sculptor,Set Costumer,Sound Designer,Art Department Coordinator,Foley,Visual Effects Supervisor,Set Designer,Script Supervisor,Visual Effects Producer,Sculptor,Sculptor,Property Master,Publicist,Transportation Coordinator,Visual Effects Editor,Production Manager,Production Supervisor,Art Department Coordinator,Property Master,Property Master,Assistant Art Director,Scenic Artist,Leadman,Leadman,Sculptor,Set Designer,Set Designer,Sound Recordist,Sound Designer,Dialogue Editor,Sound Re-Recording Mixer,Visual Effects Editor,Visual Effects Supervisor,Visual Effects Supervisor,Visual Effects Supervisor,Visual Effects Producer,Visual Effects Producer,Camera Operator,Camera Operator,Steadicam Operator,Still Photographer,Camera Operator,Set Costumer,Set Costumer,Set Costumer,Music Editor,Location Manager,Script Supervisor,Location Manager,Helicopter Camera,Sound Effects Editor,Stunts,Stunts',\n",
       "       'Director,Producer,Original Music Composer,Screenplay,Novel,Producer,Production Design,Editor,Casting,Director of Photography,Producer,Associate Producer,Screenplay,Art Direction,Executive Producer,Co-Producer,Executive Producer',\n",
       "       'Characters,Production Design,Original Music Composer,Director of Photography,Editor,Costume Design,Casting,Producer,Screenplay,Line Producer,Sound Re-Recording Mixer,Sound Re-Recording Mixer,Set Decoration,Story,Story,Director,Supervising Sound Editor,First Assistant Editor,First Assistant Editor,Producer,Sound mixer,Art Department Coordinator,Sound Re-Recording Mixer,Still Photographer,Music Editor,Script Supervisor,Associate Producer,Sound Re-Recording Mixer,Dialogue Editor',\n",
       "       'Director,Producer,Producer,Screenplay,Executive Producer,Screenplay,Executive Producer,Executive Producer,Editor,Original Music Composer,Executive Producer,Executive Producer,Executive Producer,Casting,Sound Designer,Sound Re-Recording Mixer,Sound Designer,Set Decoration,Costume Design,Production Design,Editor,Director of Photography,Supervising Sound Editor,Casting,Screenplay,Orchestrator,Executive Producer,Costume Supervisor,Music Editor,Animation,Supervising Sound Editor,Visual Effects Editor,Stunts,Music Editor,Sound mixer',\n",
       "       'Screenplay,Director,Original Story,Producer,Original Music Composer,Associate Producer,Production Design,Director of Photography,Supervising Technical Director,Screenplay,Director,Script Supervisor,Original Story,Production Manager,Sculptor,Director of Photography,Supervising Animator,Supervising Animator,Editor,Editorial Manager,Supervising Sound Editor,Sound Effects Editor,Sound Effects Editor,Music Editor,Production Design,Screenplay,Sound Effects Editor,Sound Designer,Supervising Sound Editor,Special Effects,Visual Effects Supervisor,Casting,Executive Music Producer,Screenplay,Original Story,Screenplay,Screenplay,Sound Re-Recording Mixer,Manager of Operations,Script Supervisor',\n",
       "       'Original Music Composer,Director,Screenplay,Producer,Novel,Screenplay,Producer,Screenplay,Director of Photography,Conceptual Design,Costume Design,Casting,Casting,Casting,Production Design,Editor,Supervising Sound Editor,Sound Designer,Producer,First Assistant Director,Dialogue Editor,Screenplay,Executive Producer,Executive Producer,Supervising Art Director,Set Decoration,Key Makeup Artist,Producer,Conceptual Illustrator,Executive Producer,Art Direction,Property Master,Key Set Costumer,Stunt Coordinator,Executive Producer,Casting,Casting,Costume Design,Executive Producer,Dialogue Editor,Costume Design,ADR Supervisor,Conceptual Design,Visual Effects Supervisor,Visual Effects Supervisor,Camera Operator,Camera Operator,Special Effects Supervisor,Visual Effects Supervisor,Sound Designer,Set Decoration,CG Supervisor,CG Supervisor,Visual Effects Supervisor,Sound Effects Editor,Supervising Sound Editor,Sound Effects Editor,Sound Effects Editor,Animation Supervisor,Music Editor,Stunt Coordinator,Stunts,Conceptual Design,Visual Effects,VFX Artist,Lighting Artist,Hairstylist,Hairstylist,Makeup Artist,Makeup Artist,Art Department Coordinator,Set Designer,Set Designer,ADR Editor,Dialogue Editor,Dialogue Editor,Visual Effects Producer,Steadicam Operator,Still Photographer,Set Costumer,Set Costumer,Music Editor,Dialect Coach,Dialect Coach,CG Supervisor,Script Supervisor,Set Costumer,Makeup Artist,Music Supervisor,Production Coordinator,Visual Effects Editor,Hairstylist,Production Coordinator,Hairstylist,Script Supervisor,Supervising Music Editor,Armorer,Makeup Artist,Hairstylist,Greensman,Set Designer,Set Designer,Modeling,Foley Editor,Visual Effects Coordinator,Visual Effects Coordinator,Visual Effects Coordinator,Production Coordinator',\n",
       "       'Executive Producer,Original Music Composer,Casting,Director,Producer,Writer,Producer,Producer,Writer,Executive Producer,Co-Producer,Writer,Writer,Art Direction,Animation,Layout,Animation,Animation,Animation,Animation,Technical Supervisor,Line Producer',\n",
       "       'Casting,Executive Producer,Editor,Director,Executive Producer,Producer,Associate Producer,Producer,Producer,Screenplay,Costume Design,Production Design,Supervising Art Director,Co-Producer,Editor,Set Decoration,Editor,Sound Re-Recording Mixer,Original Music Composer,Producer,Executive Producer,Executive Producer,Editor,Music Editor,Sound Effects Editor,Co-Producer,Associate Producer,Director of Photography,Orchestrator,Camera Operator,Steadicam Operator,Stunts,Costume Supervisor,Makeup Department Head,Sound Effects Editor,Supervising Sound Editor,Supervising Sound Editor,Art Department Coordinator,Script Supervisor,Hair Department Head,Dialogue Editor,Music Editor,Dialogue Editor,Sound Re-Recording Mixer,Sound Effects Editor,Still Photographer,Digital Effects Supervisor,Sound Effects Editor,Animation,Animation,Animation,Digital Effects Supervisor,Associate Producer,Sound Mixer,Stunts',\n",
       "       'Director of Photography,Producer,Screenplay,Screenplay,Executive Producer,Original Music Composer,Executive Producer,Executive Producer,Sound Re-Recording Mixer,Costume Design,Music Supervisor,Editor,Supervising Sound Editor,Sound Effects Editor,Executive Producer,Set Decoration,Production Design,Director,Sound Re-Recording Mixer,Orchestrator,Makeup Department Head,Executive Producer,Set Decoration,Dialogue Editor,Dialogue Editor,Script Supervisor,Editor,Music Editor,Music Supervisor,Supervising Sound Editor,Still Photographer,Sound Effects Editor,Music Editor,Sound Effects Editor,Sound Effects Editor,VFX Artist,Compositors,Music Editor,Production Sound Mixer',\n",
       "       'Original Music Composer,Editor,Executive Producer,Writer,Director of Photography,Executive Producer,Producer,Editor,Associate Producer,Executive Producer,Producer,Editor,Director,Executive Producer,Animation,Animation,Animation,Animation,Animation,Animation,Animation,Conceptual Design,Storyboard,Modeling,Animation,Animation,Animation Supervisor,Animation,Animation,Art Department Manager,Animation Manager',\n",
       "       'Original Music Composer,Producer,Editor,Director of Photography,Director,Executive Producer,Screenplay,Conceptual Design,Animation,Animation',\n",
       "       'Original Music Composer,Director,Producer,Executive Producer,Director of Photography,Foley,Producer,Costume Design,Characters,Production Design,Art Direction,Set Decoration,Producer,Screenplay,Screenplay,Editor,Executive Producer,Producer,Orchestrator,Art Direction,Stunt Coordinator,Script Supervisor,Art Direction,Casting,Supervising Art Director,Set Decoration,Art Direction,Special Effects Coordinator,Stunts,Unit Production Manager,Visual Effects Supervisor,Visual Effects Supervisor,Stunt Coordinator,First Assistant Editor',\n",
       "       'Director of Photography,Producer,Executive Producer,Screenplay,Screenplay,Director,Original Music Composer,Original Music Composer,Editor,Author,Executive Producer,Animation',\n",
       "       'Editor,Writer,Director,Producer,Director,Animation',\n",
       "       'Casting,Set Decoration,Executive Producer,Special Effects,Supervising Art Director,Production Design,Editor,Costume Design,Supervising Sound Editor,Foley,Director of Photography,Director,Stunt Coordinator,Makeup Artist,Editor,Music,Executive Producer,Executive Producer,Casting,Screenplay,Screenplay,Editor,Producer,Executive Producer,Visual Effects Editor,Producer,Screenplay,Producer,Art Direction,Visual Effects Supervisor,Set Designer,Steadicam Operator,Executive Producer,Visual Effects Editor,Camera Operator,Visual Effects Producer,Art Direction,Costume Supervisor,ADR & Dubbing,Greensman,Set Designer,Art Department Coordinator,Sculptor,Sculptor,Greensman,Greensman,Construction Coordinator,Sculptor,Sculptor,Greensman,Greensman,Set Designer,Property Master,Sound Effects Editor,Sound Designer,Sound Effects Editor,Special Effects,Special Effects,Visual Effects Supervisor,Visual Effects Supervisor,Visual Effects Producer,Music Editor,Music Editor,Transportation Captain,Transportation Coordinator,Visual Effects Supervisor,Script Supervisor,Still Photographer,Assistant Art Director,Visual Effects Producer,Visual Effects Supervisor,Sound Re-Recording Mixer,CG Supervisor,Second Unit Cinematographer,Helicopter Camera,Choreographer,Camera Operator,Gaffer,Camera Operator,Script Supervisor,Digital Intermediate,Camera Operator,Location Manager,Hairstylist,Makeup Artist,Hairstylist,Makeup Artist,Hairstylist,Makeup Artist,Hairstylist,Makeup Artist,Makeup Artist,Makeup Artist,Wigmaker,Wigmaker,Wigmaker,Wigmaker,Production Manager,Production Supervisor,Assistant Art Director,Scenic Artist,Dolby Consultant,Animatronic and Prosthetic Effects,Animatronic and Prosthetic Effects,Visual Effects Supervisor,Visual Effects Editor,Visual Effects Producer,Visual Effects Editor,CG Supervisor,Visual Effects Producer,Animation Supervisor,Camera Operator,Rigging Gaffer,Set Costumer,Set Costumer,Set Costumer,Digital Intermediate,First Assistant Editor,First Assistant Editor,Location Manager,Unit Publicist,Location Manager,Location Manager',\n",
       "       'Original Music Composer,Producer,Casting,Screenplay,Costume Design,Director of Photography,Editor,Executive Producer,Production Design,Director,Screenplay,Producer,Screenplay,Producer,Producer,Producer,Producer,Editor,Executive Producer,Executive Producer,Executive Producer',\n",
       "       'Producer,Original Music Composer,Producer,Unit Production Manager,Production Design,Supervising Art Director,Editor,Set Decoration,Director,Editor,Executive Producer,Executive Producer,Costume Design,Producer,Executive Producer,Screenstory,Screenplay,Screenstory,Executive Producer,Screenplay,Casting,Executive Producer,Director of Photography,Executive Producer,Screenplay,Novel,Producer,Visual Effects Editor,Script Supervisor,Animation Supervisor,Visual Effects Supervisor',\n",
       "       'Casting,Original Music Composer,Screenplay,Director,Editor,Producer,Production Design,Editor,Editor,Director of Photography,Art Direction,Set Decoration,Costume Design,Unit Production Manager,Co-Producer,Producer,Unit Production Manager,Unit Production Manager,Unit Production Manager,Post Production Supervisor,Production Supervisor,Executive Producer,Casting,Casting Associate,Makeup Effects,Assistant Costume Designer,Co-Producer,Key Hair Stylist,Stunt Coordinator,Dialogue Editor,Key Set Costumer,Casting Associate,Costume Supervisor,Costume Supervisor,Key Set Costumer,Dialogue Editor,Still Photographer,Dialogue Editor,Music Editor,Visual Effects,Visual Effects Editor,Key Makeup Artist,Key Hair Stylist,Steadicam Operator,Dialogue Editor,Compositors,Associate Producer,Rigging Gaffer,Music Supervisor,Assistant Costume Designer,Stunts,Key Makeup Artist,Construction Coordinator,Art Department Coordinator,Art Department Coordinator,Construction Coordinator,Construction Coordinator,Casting Associate,Casting Associate,Casting Associate,Casting Associate,Key Set Costumer,Seamstress,Key Set Costumer,Key Hair Stylist',\n",
       "       'Additional Dialogue,Layout,Original Music Composer,Casting,Music Editor,Editor,Screenplay,Screenplay,Choreographer,Casting,Story,Additional Dialogue,Screenplay,Associate Producer,Director,Story,Casting,Producer,Art Direction,Production Design,Co-Art Director,Visual Development,Sound Re-Recording Mixer,Visual Effects Supervisor,Visual Development,Music Editor,Sound Re-Recording Mixer,Sound Designer,Supervising Sound Editor,Sound Effects Editor,Sound Effects Editor,Animation Supervisor,Visual Development,Layout,Visual Development,Visual Development,Layout,Layout,Visual Development,CG Supervisor,Layout,Layout,Visual Development,Music Editor,Visual Development,Color Timer,Layout,Visual Development,Layout,CG Supervisor,Technical Supervisor,Production Manager,Visual Development,Visual Development,Visual Development,Visual Development,Visual Development,Visual Development,Visual Development,Visual Development,Visual Development,Visual Development,Layout,Layout,Production Accountant',\n",
       "       'Music,Production Design,Casting,Director of Photography,Director,Orchestrator,Screenplay,Director,Storyboard,Storyboard,Animation,Animation Supervisor,Editor,Producer,Animation,Producer,Animation,Storyboard,Animation,Animation,Animation,Animation,Animation,Animation,Animation,Animation,Animation,Animation,Animation,Animation,Animation,Animation,Storyboard,Animation,Animation,Animation,Animation,Animation,Animation,Animation,Animation,Animation,Animation,Storyboard,Storyboard,Animation,Animation,Animation,Animation,Animation,Animation,Storyboard,Animation,Storyboard,Animation Supervisor,Visual Effects,Animation,Storyboard,Storyboard,Animation,Animation,Animation,Animation Supervisor,Animation,Art Department Manager,Editorial Coordinator,Animation,Animation,Animation,Animation,Animation,Visual Development,Art Direction',\n",
       "       'Casting,Original Music Composer,Director,Screenplay,Producer,Executive Producer,Story,Characters,Characters,Executive Producer,Story,Producer,Editor,Director,Production Design,Screenplay,Animation,Visual Development,Animation,Animation,Animation,Lighting Artist,Lighting Technician,Animation,Animation,Lighting Coordinator,Associate Editor,Supervising Animator,Layout',\n",
       "       'Screenplay,Producer,Producer,Music,Set Decoration,Director,Producer,Casting,Supervising Sound Editor,Sound Re-Recording Mixer,Set Costumer,Art Direction,Dialect Coach,Editor,Production Design,Art Direction,Special Effects Coordinator,Novel,Leadman,Cinematography,Supervising Art Director,Special Effects Coordinator,Hairstylist,Transportation Coordinator,CG Supervisor,Costume Design,Art Direction,Editor,Art Direction,Set Costumer,Foley,Stunt Coordinator,Still Photographer,Location Manager,Assistant Art Director,Set Costumer,Choreographer,Stunt Coordinator,Makeup Artist,Set Costumer,Set Costumer,Set Costumer,Makeup Department Head,Costume Supervisor,Visual Effects Producer,Art Department Coordinator,Set Designer,Visual Effects Producer,Set Designer,Set Designer,Greensman,Set Designer,ADR & Dubbing,Studio Teachers,Sound Re-Recording Mixer,Assistant Art Director,Assistant Art Director,Construction Coordinator,Set Costumer,Dialogue Editor,Property Master,Set Designer,Music Editor,Location Manager,Leadman,Visual Effects Producer,Visual Effects Supervisor,Gaffer,Script Supervisor,Assistant Art Director,Sculptor,Sculptor,Foley,Visual Effects Supervisor,Visual Effects Producer,Underwater Camera,Visual Effects Editor,Set Designer,Script Supervisor,Visual Effects Producer,Visual Effects Supervisor,Construction Foreman,Art Department Coordinator,Hairstylist,Transportation Coordinator,Hairstylist,Sound Re-Recording Mixer,Greensman,Digital Intermediate,Visual Effects Editor,Picture Car Coordinator,Wigmaker,Set Designer,Hairstylist,Makeup Effects,Makeup Effects,Greensman,Hairstylist,Hairstylist,Hairstylist,Makeup Artist,Makeup Artist,Makeup Artist,Makeup Artist,Makeup Effects,Makeup Effects,Makeup Effects,Makeup Effects,Makeup Effects,Makeup Effects,Makeup Effects,Production Supervisor,Art Department Coordinator,Construction Foreman,Greensman,Greensman,Greensman,Scenic Artist,Greensman,Greensman,Scenic Artist,Sound Recordist,Sound Effects Editor,Sound Effects Editor,Animatronic and Prosthetic Effects,CG Supervisor,CG Supervisor,CG Supervisor,Visual Effects Producer,Visual Effects Producer,Visual Effects Editor,Visual Effects Producer,Visual Effects Producer,Visual Effects Supervisor,Visual Effects Supervisor,Visual Effects Supervisor,Animation Supervisor,Animation Supervisor,Animation Supervisor,Camera Operator,Rigging Gaffer,Set Costumer,Set Costumer,Set Costumer,Set Costumer,Set Costumer,Set Costumer,Set Costumer,Music Editor,Transportation Coordinator,Picture Car Coordinator,Dialect Coach,Production Accountant,Visual Effects,Animation',\n",
       "       'Director,Producer,Original Music Composer,Editor,Screenplay,Visual Effects,Visual Effects,Storyboard,Post Production Supervisor,Lighting Artist',\n",
       "       'Producer,Director of Photography,Writer,Producer,Original Music Composer,Director,Writer,Executive Producer,Producer,Original Music Composer,Editor,Casting,Visual Effects Supervisor,Visual Effects Supervisor,Construction Coordinator,Stunt Coordinator,Executive Producer,Production Design,Costume Design,Set Decoration,Art Direction,Producer,Executive Producer,Property Master,Stunts,Editor,Art Direction,Casting,Assistant Art Director,Dialect Coach,Dialect Coach,Set Costumer,Sound Re-Recording Mixer,Stunts,Set Designer,ADR & Dubbing,Scenic Artist,Producer,Supervising Art Director,Assistant Art Director,Casting,Casting,Visual Effects Supervisor,Scenic Artist,Foley,Producer,Producer,Visual Effects Editor,Assistant Art Director,Makeup Department Head,Set Designer,Casting,Art Direction,Makeup Department Head,Costume Supervisor,Assistant Art Director,Set Designer,Visual Effects Supervisor,Sound Re-Recording Mixer,Visual Effects Producer,Dialogue Editor,Property Master,Visual Effects Supervisor,Dialogue Editor,Visual Effects Producer,Visual Effects Editor,Visual Effects Producer,Visual Effects Supervisor,Sound Re-Recording Mixer,Set Designer,Set Designer,Set Costumer,Transportation Coordinator,Visual Effects Supervisor,Set Designer,Location Manager,Dialogue Editor,Visual Effects Supervisor,Visual Effects Producer,Dialect Coach,Dialect Coach,Visual Effects Producer,Art Department Coordinator,Set Designer,Set Designer,Set Designer,Greensman,Scenic Artist,Sculptor,Sculptor,Supervising Sound Editor,Sound Designer,Special Effects Coordinator,Visual Effects Producer,Visual Effects Editor,Visual Effects Editor,Visual Effects Producer,Visual Effects Producer,Visual Effects Producer,Visual Effects Supervisor,Visual Effects Supervisor,Visual Effects Supervisor,Visual Effects Supervisor,Camera Operator,Camera Operator,Still Photographer,Steadicam Operator,Set Costumer,Set Costumer,Music Editor,Chef,Dialect Coach,Location Manager,Visual Effects Supervisor,Stunts',\n",
       "       'Director,Director,Screenplay,Screenplay',\n",
       "       'Original Music Composer,Executive Producer,Director,Executive Producer,Producer,Orchestrator,Screenplay,Screenplay,Production Design,Producer,Original Music Composer,Visual Development,Storyboard,Storyboard',\n",
       "       'Executive Producer,Cinematography,Additional Writing,Lighting Camera,Additional Editing,Art Direction,Production Design,Story,Producer,Editor,Sound Re-Recording Mixer,Casting,Director,Story,Casting,Original Music Composer,Screenplay,Producer,Post Production Supervisor,Animation Supervisor,Screenplay,Thanks,Music Editor,Storyboard,Visual Development,Art Department Manager,Layout,Layout,Art Department Manager,Layout,Production Supervisor,Camera Department Manager,Lighting Artist,Animation,Visual Effects,Lighting Artist,Casting Associate,Digital Intermediate',\n",
       "       'Original Music Composer,Visual Effects,Art Direction,Director,Screenplay,Sound Designer,Editor,Director,Visual Effects Technical Director,Producer,Music,Visual Effects Art Director,Set Decoration,Casting,Producer,Assistant Director,Visual Effects,Visual Effects Supervisor,Editor,Producer,Art Direction,Executive Producer,Cinematography,Line Producer,Producer,Set Decoration,Special Effects',\n",
       "       'Director,Original Music Composer,Editor,Executive Producer,Producer,Producer,Screenplay,Author,Screenplay,Director of Photography,Casting,Production Design,Costume Design,Sound Designer,Music Editor,Supervising Art Director,Producer,Assistant Director,Co-Producer,Art Direction,Art Direction,Sound Effects Editor,Foley,Supervising Sound Editor,Art Direction,Art Direction,Executive Producer,Still Photographer,Digital Compositors,Executive Producer,Costume Supervisor,Executive Producer,Additional Music,Executive Producer,Art Direction,Art Direction,Assistant Costume Designer,Visual Effects Supervisor,Associate Producer,Art Department Manager,Loader,Art Direction,Post Production Supervisor,Boom Operator,Set Decoration,Post Production Assistant,CG Supervisor,Key Hair Stylist,Property Master,Visual Effects Producer,Digital Effects Supervisor,First Assistant Sound Editor,Dolby Consultant,Conceptual Illustrator,Assistant Art Director,First Assistant Camera,Production Sound Mixer,Greensman,VFX Editor,Choreographer,Steadicam Operator,Scenic Artist,Unit Manager,Hair Designer,Makeup Designer,Scoring Mixer,Stunt Coordinator,Sound Re-Recording Mixer,Production Coordinator,Video Assist Operator,Visual Effects Editor,Location Manager,First Assistant Editor,Publicist,Special Effects Supervisor,Visual Development,Animation Supervisor,Rigging Gaffer,Script Supervisor,Key Grip,Visual Effects Coordinator,Gaffer,Orchestrator,Motion Capture Artist,Art Department Coordinator,Painter,Carpenter,Unit Production Manager,Storyboard,Digital Producer,Production Accountant,Projection,Makeup Artist,Art Department Assistant,Sculptor,Additional Camera,Grip,Hairstylist,Set Dressing Artist,Dialect Coach,Propmaker,Sequence Supervisor,Set Production Assistant,Sound Recordist,Systems Administrators & Support,Utility Stunts,Electrician,Lighting Artist,Casting Associate,Production Manager,Production Supervisor,Sound Editor,3D Modeller,Visual Effects,Studio Teachers',\n",
       "       'Music Editor,Sound Re-Recording Mixer,Sound Effects Editor,Producer,Production Manager,Camera Operator,Director of Photography,Supervising Animator,Sound Designer,Foley,Foley,Original Music Composer,Production Design,Executive Producer,Sound Effects Editor,Screenplay,Casting,Screenplay,Director,Story,Screenplay,Director,Screenplay,Director,Casting,Music Editor,Shading,Supervising Sound Editor,Sound Effects Editor,Sound Effects Editor,Simulation & Effects Artist,Simulation & Effects Artist,Simulation & Effects Artist,Simulation & Effects Artist,Simulation & Effects Artist,Simulation & Effects Artist,Animation Fix Coordinator,Supervising Animator,Publicist,Publicist,Publicist,Script Supervisor,Story,Production Manager',\n",
       "       'Original Music Composer,Director,Set Decoration,Screenplay,Story,Production Design,Characters,Editor,Music Editor,Co-Producer,Costume Design,Casting,Producer,Line Producer,Music Editor,Sound Designer,Supervising Sound Editor,Casting,Casting Associate,Screenplay,Story,Screenplay,Story,Executive Producer,Screenplay,Supervising Art Director,Assistant Art Director,Makeup Effects,Casting,Camera Operator,Line Producer,Orchestrator,Associate Producer,Producer,Line Producer,Director of Photography,Special Effects Coordinator,Camera Operator,Art Direction,Art Direction,Visual Effects Editor,Co-Producer,Visual Effects Producer,Key Hair Stylist,Hairstylist,Camera Operator,Art Direction,Casting Associate,Makeup Artist,Costume Supervisor,Art Direction,Visual Effects Coordinator,Foley,Visual Effects Supervisor,Sound Re-Recording Mixer,Script Supervisor,Associate Producer,Sound Re-Recording Mixer,Script Supervisor,Foley,Camera Operator,Steadicam Operator,Foley,Visual Effects Producer,Sound Designer,Camera Operator,Script Supervisor,Still Photographer,Art Department Coordinator,Greensman,Visual Effects Producer,Helicopter Camera,Dialogue Editor,Wigmaker,Visual Effects Editor,ADR & Dubbing,Camera Operator,Supervising Sound Editor,Sound Designer,Helicopter Camera,Helicopter Camera,First Assistant Editor,Makeup Designer,Makeup Effects,Gaffer,CG Supervisor,CG Supervisor,Visual Effects Producer,Hair Designer,Visual Effects Editor,Makeup Artist,Animation Supervisor,Visual Effects Editor,Hairstylist,Animation Director,Visual Effects Editor,CG Supervisor,Still Photographer,Assistant Art Director,Co-Producer,Key Hair Stylist,Visual Effects Supervisor,Sound Effects Editor,Costume Supervisor,Camera Operator,Costume Supervisor,Set Costumer,Additional Camera,Assistant Costume Designer,Digital Intermediate,Hairstylist,Carpenter,Property Master,Special Effects Coordinator,Casting,Casting Associate,Casting Associate,Assistant Costume Designer,Sound Effects Editor,Armorer,Researcher,Armorer,Hairstylist,Makeup Artist,Makeup Artist,Makeup Artist,Makeup Artist,Makeup Artist,Researcher,Assistant Art Director,Assistant Art Director,Assistant Art Director,Carpenter,Carpenter,CG Supervisor,CG Supervisor,Visual Effects Coordinator,Visual Effects Coordinator,Visual Effects Coordinator,Visual Effects Coordinator,Visual Effects Coordinator,Visual Effects Coordinator,Visual Effects Coordinator,Visual Effects Coordinator,Visual Effects Editor,Visual Effects Editor,Visual Effects Producer,Visual Effects Supervisor,Visual Effects Supervisor,Visual Effects Supervisor,Visual Effects Supervisor,Visual Effects Supervisor,Visual Effects Supervisor,Gaffer,Gaffer',\n",
       "       'Casting,Original Music Composer,Production Design,Producer,Co-Producer,Director,Art Direction,Stunt Coordinator,Screenplay,Set Decoration,Director of Photography,Set Designer,Executive Producer,Unit Production Manager,Screenplay,Post Production Supervisor,Editor,Executive In Charge Of Production,Novel,Executive Producer,Makeup Department Head,Casting Associate,Producer,Executive Producer,Costume Design,Supervising Art Director,Set Designer,Set Designer,Stunt Coordinator,Casting Associate,Set Designer,Script Supervisor,Set Designer,Visual Effects Supervisor,Location Manager,Gaffer,Art Direction,Production Coordinator,Visual Effects Producer,Music Supervisor,Executive Producer,Co-Producer,Production Supervisor,Visual Effects Editor,Visual Effects Coordinator,Visual Effects Coordinator,Production Controller,Set Designer',\n",
       "       'Screenplay,Producer,Director,Producer,Producer,Supervising Art Director,Stunts,Author,Stunt Coordinator,Animation,Animation,VFX Artist,Lighting Artist,Visual Effects,Visual Effects Art Director,Digital Effects Supervisor',\n",
       "       'Supervising Sound Editor,Director of Photography,Original Music Composer,Casting,Casting,Costume Design,Co-Producer,Editor,Producer,Grip,Foley,Set Decoration,Visual Effects Supervisor,Writer,Writer,Co-Producer,Unit Production Manager,Music Editor,Director,Executive Producer,Music Supervisor,Production Design,Costume Supervisor,Writer,Producer,Producer,Location Manager,Writer,Set Designer,Line Producer,Associate Producer,Sound Re-Recording Mixer,Makeup Artist,Storyboard,Art Department Coordinator,Stunts,First Assistant Camera,Production Manager,Stunt Coordinator,Animation,Key Hair Stylist,First Assistant Editor,Orchestrator,Sculptor,Animation,Script Supervisor,Supervising Animator,Sound Re-Recording Mixer,Assistant Costume Designer,Sound Re-Recording Mixer,Sound Re-Recording Mixer,Sound Re-Recording Mixer,Steadicam Operator,Property Master,Still Photographer,Sound Re-Recording Mixer,Key Makeup Artist,Production Illustrator,Sound Editor,Sound Recordist,Special Effects Coordinator,Sound Designer,Sound Effects Editor,Digital Compositors,Visual Effects Coordinator,Art Direction,Lead Animator,Animation,Visual Effects,Animation,Visual Development,Visual Effects,Visual Effects Editor,Animation,VFX Artist,Production Office Assistant,Executive Producer,Co-Producer,Set Dressing Artist,Visual Effects Producer,3D Coordinator,Camera Operator,Digital Producer,Color Timer,Production Sound Mixer,Driver,Boom Operator,Digital Effects Supervisor,Rigging Gaffer,Assistant Sound Editor,Production Sound Mixer,Best Boy Electric,Unit Manager,Supervising Film Editor,First Assistant Editor,First Assistant Director,Animation,Unit Publicist,Assistant Art Director,Greensman,Painter,Standby Painter,Additional Photography,Key Grip,Craft Service,Production Intern,Software Engineer,Systems Administrators & Support,Technical Supervisor,Transportation Co-Captain,Transportation Coordinator,Utility Stunts,Electrician,Production Coordinator,Visual Effects,Sound'],\n",
       "      dtype=object)"
      ]
     },
     "execution_count": 258,
     "metadata": {},
     "output_type": "execute_result"
    }
   ],
   "source": [
    "doc"
   ]
  },
  {
   "cell_type": "markdown",
   "metadata": {},
   "source": [
    "#### Stop words are words that are not to be counted in the bag of words model. spacy already has a stop_word estimator that is made of a dictionary of words, but it also allows us to add our own stop words to the dictionary.\n",
    "\n",
    "#### I would be adding some very common words that appear in both documents refering to Animated movies and Non_Animated movies.\n",
    "\n",
    "#### words like Editor, Director, Art appear multiple times in bothe documents and if they are counted would have very highe weights and hence make it dificult for the classifier to dintinguish between key elements.\n",
    "\n",
    "#### Lemmatization simply implies Reducing Each words to its lemar. words like ( run, ran, runs, and running) would all be counted as run."
   ]
  },
  {
   "cell_type": "code",
   "execution_count": 259,
   "metadata": {},
   "outputs": [],
   "source": [
    "from spacy.lang.en import STOP_WORDS\n",
    "stop_words_str = \" \".join(STOP_WORDS)\n",
    "stop_words_lemma = set(word.lemma_ for word in nlp(stop_words_str))\n",
    "\n",
    "additional_words = ['Editor','Art','Sound','Producer','wigmaker','vfx',\n",
    "             'Director','Acting','Crew','Camera','Writing','armorer','underwater',\n",
    "             'Sound','lighting','Executive Producer','frame','writing','writer',\n",
    "             'Production Design','Thanks','Casting','3d','administration',\n",
    "             'Original Music Composer','Screenplay','24','administrator','aerial',\n",
    "             'Additional Soundtrack','Associate Producer','&',',','-','/',\n",
    "             'Set Designer','Set Production','Driver','Assistant','unit','adr',\n",
    "             'utility','assistant','assist','transportation','timer','additional',\n",
    "             'account','book','boom','system','teacher','technician','technical',\n",
    "             'thank','editor','art','sound','producer','crew','camera','art','writing','acting',\n",
    "             'boy','buyer','captain','capture','studio','stunt','stylist','boy','author',\n",
    "             'video','title','supervise','supervisor','cg','stand','standby']\n",
    "\n",
    "for word in additional_words:\n",
    "    stop_words_lemma = stop_words_lemma.union({word})"
   ]
  },
  {
   "cell_type": "code",
   "execution_count": 260,
   "metadata": {},
   "outputs": [],
   "source": [
    "def lemmatizer(text):\n",
    "     return [word.lemma_ for word in nlp(text)]"
   ]
  },
  {
   "cell_type": "code",
   "execution_count": 261,
   "metadata": {},
   "outputs": [
    {
     "name": "stdout",
     "output_type": "stream",
     "text": [
      "Training accuracy For the Sliced DataFrame is: 0.9133333333333333\n"
     ]
    },
    {
     "name": "stderr",
     "output_type": "stream",
     "text": [
      "C:\\Users\\Anthony\\anaconda3\\lib\\site-packages\\sklearn\\feature_extraction\\text.py:386: UserWarning: Your stop_words may be inconsistent with your preprocessing. Tokenizing the stop words generated tokens ['associate', 'casting', 'composer', 'design', 'designer', 'director', 'driver', 'executive', 'music', 'original', 'production', 'pron', 'screenplay', 'set', 'soundtrack', 'thanks'] not in stop_words.\n",
      "  'stop_words.' % sorted(inconsistent))\n"
     ]
    }
   ],
   "source": [
    "from sklearn.feature_extraction.text import TfidfVectorizer,CountVectorizer,TfidfTransformer\n",
    "from sklearn.naive_bayes import MultinomialNB\n",
    "from sklearn.pipeline import Pipeline\n",
    "\n",
    "\n",
    "\n",
    "\n",
    "\n",
    "bow = CountVectorizer(ngram_range = (1,1), stop_words=stop_words_lemma)\n",
    "\n",
    "tfidf = TfidfTransformer()\n",
    "\n",
    "\n",
    "pipe = Pipeline([('bag_of_words', bow),('classifier', MultinomialNB())])\n",
    "pipe.fit(doc,label)\n",
    "\n",
    "\n",
    "print('Training accuracy For the Sliced DataFrame is: {}'.format(pipe.score(doc,label)))"
   ]
  },
  {
   "cell_type": "markdown",
   "metadata": {},
   "source": [
    "#### The test accuracy is quite good, and since there is not much inbalance in the dataset the metric is acceptable. Now lets train the model using all the observations.\n",
    "\n",
    "#### Note!! \n",
    "#### you can go to the bottom of the notebook to test the model usingg the test df we defined above."
   ]
  },
  {
   "cell_type": "markdown",
   "metadata": {},
   "source": [
    "#### The cell below is just an illustration of what the countvectorizer does.\n",
    "\n",
    "#### It basically takes each words and counts its frequency of occurence in a document, each row in the Dataframe below represents a movie and all the job role occurences for that movie, The words included in the stopwords are not included in the words count. For this illustration i included a tfidf transformer."
   ]
  },
  {
   "cell_type": "code",
   "execution_count": 267,
   "metadata": {},
   "outputs": [
    {
     "name": "stderr",
     "output_type": "stream",
     "text": [
      "C:\\Users\\Anthony\\anaconda3\\lib\\site-packages\\sklearn\\feature_extraction\\text.py:386: UserWarning: Your stop_words may be inconsistent with your preprocessing. Tokenizing the stop words generated tokens ['-pron-', 'act', 'associate', 'cast', 'composer', 'design', 'designer', 'director', 'driver', 'executive', 'music', 'original', 'production', 'screenplay', 'set', 'soundtrack', 'thanks'] not in stop_words.\n",
      "  'stop_words.' % sorted(inconsistent))\n"
     ]
    }
   ],
   "source": [
    "bow = CountVectorizer(ngram_range = (1,1),min_df = 5, stop_words=stop_words_lemma, tokenizer = lemmatizer, max_features = 100)\n",
    "X = bow.fit_transform(doc)\n",
    "tfidf = TfidfTransformer()\n",
    "F = tfidf.fit_transform(X)\n",
    "classifier =  MultinomialNB()\n",
    "model = classifier.fit(F,label)"
   ]
  },
  {
   "cell_type": "code",
   "execution_count": 264,
   "metadata": {},
   "outputs": [
    {
     "data": {
      "text/plain": [
       "(300, 100)"
      ]
     },
     "execution_count": 264,
     "metadata": {},
     "output_type": "execute_result"
    }
   ],
   "source": [
    "values = X.toarray()\n",
    "values.shape"
   ]
  },
  {
   "cell_type": "code",
   "execution_count": 268,
   "metadata": {},
   "outputs": [
    {
     "data": {
      "text/plain": [
       "['accountant',\n",
       " 'animation',\n",
       " 'animator',\n",
       " 'artist',\n",
       " 'associate',\n",
       " 'carpenter',\n",
       " 'cast',\n",
       " 'casting',\n",
       " 'character',\n",
       " 'choreographer']"
      ]
     },
     "execution_count": 268,
     "metadata": {},
     "output_type": "execute_result"
    }
   ],
   "source": [
    "## showing some of the counted words\n",
    "headers = bow.get_feature_names()\n",
    "headers[:10]"
   ]
  },
  {
   "cell_type": "code",
   "execution_count": 265,
   "metadata": {},
   "outputs": [
    {
     "data": {
      "text/html": [
       "<div>\n",
       "<style scoped>\n",
       "    .dataframe tbody tr th:only-of-type {\n",
       "        vertical-align: middle;\n",
       "    }\n",
       "\n",
       "    .dataframe tbody tr th {\n",
       "        vertical-align: top;\n",
       "    }\n",
       "\n",
       "    .dataframe thead th {\n",
       "        text-align: right;\n",
       "    }\n",
       "</style>\n",
       "<table border=\"1\" class=\"dataframe\">\n",
       "  <thead>\n",
       "    <tr style=\"text-align: right;\">\n",
       "      <th></th>\n",
       "      <th>accountant</th>\n",
       "      <th>animation</th>\n",
       "      <th>animator</th>\n",
       "      <th>artist</th>\n",
       "      <th>associate</th>\n",
       "      <th>carpenter</th>\n",
       "      <th>cast</th>\n",
       "      <th>casting</th>\n",
       "      <th>character</th>\n",
       "      <th>choreographer</th>\n",
       "      <th>...</th>\n",
       "      <th>second</th>\n",
       "      <th>sequence</th>\n",
       "      <th>service</th>\n",
       "      <th>set</th>\n",
       "      <th>software</th>\n",
       "      <th>special</th>\n",
       "      <th>steadicam</th>\n",
       "      <th>story</th>\n",
       "      <th>storyboard</th>\n",
       "      <th>visual</th>\n",
       "    </tr>\n",
       "  </thead>\n",
       "  <tbody>\n",
       "    <tr>\n",
       "      <th>0</th>\n",
       "      <td>0</td>\n",
       "      <td>6</td>\n",
       "      <td>3</td>\n",
       "      <td>0</td>\n",
       "      <td>0</td>\n",
       "      <td>0</td>\n",
       "      <td>1</td>\n",
       "      <td>0</td>\n",
       "      <td>0</td>\n",
       "      <td>0</td>\n",
       "      <td>...</td>\n",
       "      <td>0</td>\n",
       "      <td>0</td>\n",
       "      <td>0</td>\n",
       "      <td>0</td>\n",
       "      <td>0</td>\n",
       "      <td>0</td>\n",
       "      <td>0</td>\n",
       "      <td>1</td>\n",
       "      <td>0</td>\n",
       "      <td>0</td>\n",
       "    </tr>\n",
       "    <tr>\n",
       "      <th>1</th>\n",
       "      <td>0</td>\n",
       "      <td>3</td>\n",
       "      <td>0</td>\n",
       "      <td>2</td>\n",
       "      <td>0</td>\n",
       "      <td>0</td>\n",
       "      <td>0</td>\n",
       "      <td>1</td>\n",
       "      <td>0</td>\n",
       "      <td>0</td>\n",
       "      <td>...</td>\n",
       "      <td>0</td>\n",
       "      <td>0</td>\n",
       "      <td>0</td>\n",
       "      <td>0</td>\n",
       "      <td>0</td>\n",
       "      <td>0</td>\n",
       "      <td>0</td>\n",
       "      <td>1</td>\n",
       "      <td>0</td>\n",
       "      <td>0</td>\n",
       "    </tr>\n",
       "    <tr>\n",
       "      <th>2</th>\n",
       "      <td>0</td>\n",
       "      <td>1</td>\n",
       "      <td>0</td>\n",
       "      <td>0</td>\n",
       "      <td>0</td>\n",
       "      <td>0</td>\n",
       "      <td>0</td>\n",
       "      <td>1</td>\n",
       "      <td>0</td>\n",
       "      <td>1</td>\n",
       "      <td>...</td>\n",
       "      <td>0</td>\n",
       "      <td>1</td>\n",
       "      <td>0</td>\n",
       "      <td>1</td>\n",
       "      <td>0</td>\n",
       "      <td>0</td>\n",
       "      <td>0</td>\n",
       "      <td>0</td>\n",
       "      <td>1</td>\n",
       "      <td>1</td>\n",
       "    </tr>\n",
       "    <tr>\n",
       "      <th>3</th>\n",
       "      <td>0</td>\n",
       "      <td>4</td>\n",
       "      <td>2</td>\n",
       "      <td>0</td>\n",
       "      <td>1</td>\n",
       "      <td>0</td>\n",
       "      <td>0</td>\n",
       "      <td>2</td>\n",
       "      <td>2</td>\n",
       "      <td>0</td>\n",
       "      <td>...</td>\n",
       "      <td>0</td>\n",
       "      <td>0</td>\n",
       "      <td>0</td>\n",
       "      <td>0</td>\n",
       "      <td>0</td>\n",
       "      <td>0</td>\n",
       "      <td>0</td>\n",
       "      <td>3</td>\n",
       "      <td>1</td>\n",
       "      <td>0</td>\n",
       "    </tr>\n",
       "    <tr>\n",
       "      <th>4</th>\n",
       "      <td>0</td>\n",
       "      <td>0</td>\n",
       "      <td>0</td>\n",
       "      <td>4</td>\n",
       "      <td>1</td>\n",
       "      <td>0</td>\n",
       "      <td>1</td>\n",
       "      <td>1</td>\n",
       "      <td>0</td>\n",
       "      <td>0</td>\n",
       "      <td>...</td>\n",
       "      <td>0</td>\n",
       "      <td>0</td>\n",
       "      <td>0</td>\n",
       "      <td>1</td>\n",
       "      <td>0</td>\n",
       "      <td>1</td>\n",
       "      <td>0</td>\n",
       "      <td>0</td>\n",
       "      <td>0</td>\n",
       "      <td>6</td>\n",
       "    </tr>\n",
       "    <tr>\n",
       "      <th>...</th>\n",
       "      <td>...</td>\n",
       "      <td>...</td>\n",
       "      <td>...</td>\n",
       "      <td>...</td>\n",
       "      <td>...</td>\n",
       "      <td>...</td>\n",
       "      <td>...</td>\n",
       "      <td>...</td>\n",
       "      <td>...</td>\n",
       "      <td>...</td>\n",
       "      <td>...</td>\n",
       "      <td>...</td>\n",
       "      <td>...</td>\n",
       "      <td>...</td>\n",
       "      <td>...</td>\n",
       "      <td>...</td>\n",
       "      <td>...</td>\n",
       "      <td>...</td>\n",
       "      <td>...</td>\n",
       "      <td>...</td>\n",
       "      <td>...</td>\n",
       "    </tr>\n",
       "    <tr>\n",
       "      <th>295</th>\n",
       "      <td>0</td>\n",
       "      <td>1</td>\n",
       "      <td>2</td>\n",
       "      <td>6</td>\n",
       "      <td>0</td>\n",
       "      <td>0</td>\n",
       "      <td>1</td>\n",
       "      <td>1</td>\n",
       "      <td>0</td>\n",
       "      <td>0</td>\n",
       "      <td>...</td>\n",
       "      <td>0</td>\n",
       "      <td>0</td>\n",
       "      <td>0</td>\n",
       "      <td>0</td>\n",
       "      <td>0</td>\n",
       "      <td>0</td>\n",
       "      <td>0</td>\n",
       "      <td>2</td>\n",
       "      <td>0</td>\n",
       "      <td>0</td>\n",
       "    </tr>\n",
       "    <tr>\n",
       "      <th>296</th>\n",
       "      <td>0</td>\n",
       "      <td>2</td>\n",
       "      <td>0</td>\n",
       "      <td>7</td>\n",
       "      <td>6</td>\n",
       "      <td>3</td>\n",
       "      <td>7</td>\n",
       "      <td>1</td>\n",
       "      <td>1</td>\n",
       "      <td>0</td>\n",
       "      <td>...</td>\n",
       "      <td>0</td>\n",
       "      <td>0</td>\n",
       "      <td>0</td>\n",
       "      <td>2</td>\n",
       "      <td>0</td>\n",
       "      <td>2</td>\n",
       "      <td>1</td>\n",
       "      <td>3</td>\n",
       "      <td>0</td>\n",
       "      <td>29</td>\n",
       "    </tr>\n",
       "    <tr>\n",
       "      <th>297</th>\n",
       "      <td>0</td>\n",
       "      <td>0</td>\n",
       "      <td>0</td>\n",
       "      <td>0</td>\n",
       "      <td>2</td>\n",
       "      <td>0</td>\n",
       "      <td>3</td>\n",
       "      <td>0</td>\n",
       "      <td>0</td>\n",
       "      <td>0</td>\n",
       "      <td>...</td>\n",
       "      <td>0</td>\n",
       "      <td>0</td>\n",
       "      <td>0</td>\n",
       "      <td>7</td>\n",
       "      <td>0</td>\n",
       "      <td>0</td>\n",
       "      <td>0</td>\n",
       "      <td>0</td>\n",
       "      <td>0</td>\n",
       "      <td>5</td>\n",
       "    </tr>\n",
       "    <tr>\n",
       "      <th>298</th>\n",
       "      <td>0</td>\n",
       "      <td>2</td>\n",
       "      <td>0</td>\n",
       "      <td>2</td>\n",
       "      <td>0</td>\n",
       "      <td>0</td>\n",
       "      <td>0</td>\n",
       "      <td>0</td>\n",
       "      <td>0</td>\n",
       "      <td>0</td>\n",
       "      <td>...</td>\n",
       "      <td>0</td>\n",
       "      <td>0</td>\n",
       "      <td>0</td>\n",
       "      <td>0</td>\n",
       "      <td>0</td>\n",
       "      <td>0</td>\n",
       "      <td>0</td>\n",
       "      <td>0</td>\n",
       "      <td>0</td>\n",
       "      <td>2</td>\n",
       "    </tr>\n",
       "    <tr>\n",
       "      <th>299</th>\n",
       "      <td>0</td>\n",
       "      <td>6</td>\n",
       "      <td>2</td>\n",
       "      <td>4</td>\n",
       "      <td>1</td>\n",
       "      <td>0</td>\n",
       "      <td>2</td>\n",
       "      <td>0</td>\n",
       "      <td>0</td>\n",
       "      <td>0</td>\n",
       "      <td>...</td>\n",
       "      <td>0</td>\n",
       "      <td>0</td>\n",
       "      <td>1</td>\n",
       "      <td>3</td>\n",
       "      <td>1</td>\n",
       "      <td>1</td>\n",
       "      <td>1</td>\n",
       "      <td>0</td>\n",
       "      <td>1</td>\n",
       "      <td>8</td>\n",
       "    </tr>\n",
       "  </tbody>\n",
       "</table>\n",
       "<p>300 rows × 100 columns</p>\n",
       "</div>"
      ],
      "text/plain": [
       "     accountant  animation  animator  artist  associate  carpenter  cast  \\\n",
       "0             0          6         3       0          0          0     1   \n",
       "1             0          3         0       2          0          0     0   \n",
       "2             0          1         0       0          0          0     0   \n",
       "3             0          4         2       0          1          0     0   \n",
       "4             0          0         0       4          1          0     1   \n",
       "..          ...        ...       ...     ...        ...        ...   ...   \n",
       "295           0          1         2       6          0          0     1   \n",
       "296           0          2         0       7          6          3     7   \n",
       "297           0          0         0       0          2          0     3   \n",
       "298           0          2         0       2          0          0     0   \n",
       "299           0          6         2       4          1          0     2   \n",
       "\n",
       "     casting  character  choreographer  ...  second  sequence  service  set  \\\n",
       "0          0          0              0  ...       0         0        0    0   \n",
       "1          1          0              0  ...       0         0        0    0   \n",
       "2          1          0              1  ...       0         1        0    1   \n",
       "3          2          2              0  ...       0         0        0    0   \n",
       "4          1          0              0  ...       0         0        0    1   \n",
       "..       ...        ...            ...  ...     ...       ...      ...  ...   \n",
       "295        1          0              0  ...       0         0        0    0   \n",
       "296        1          1              0  ...       0         0        0    2   \n",
       "297        0          0              0  ...       0         0        0    7   \n",
       "298        0          0              0  ...       0         0        0    0   \n",
       "299        0          0              0  ...       0         0        1    3   \n",
       "\n",
       "     software  special  steadicam  story  storyboard  visual  \n",
       "0           0        0          0      1           0       0  \n",
       "1           0        0          0      1           0       0  \n",
       "2           0        0          0      0           1       1  \n",
       "3           0        0          0      3           1       0  \n",
       "4           0        1          0      0           0       6  \n",
       "..        ...      ...        ...    ...         ...     ...  \n",
       "295         0        0          0      2           0       0  \n",
       "296         0        2          1      3           0      29  \n",
       "297         0        0          0      0           0       5  \n",
       "298         0        0          0      0           0       2  \n",
       "299         1        1          1      0           1       8  \n",
       "\n",
       "[300 rows x 100 columns]"
      ]
     },
     "execution_count": 265,
     "metadata": {},
     "output_type": "execute_result"
    }
   ],
   "source": [
    "dataframe =  pd.DataFrame(values, columns = headers)\n",
    "dataframe"
   ]
  },
  {
   "cell_type": "markdown",
   "metadata": {},
   "source": [
    "### Approach 2"
   ]
  },
  {
   "cell_type": "code",
   "execution_count": 269,
   "metadata": {},
   "outputs": [
    {
     "data": {
      "text/html": [
       "<div>\n",
       "<style scoped>\n",
       "    .dataframe tbody tr th:only-of-type {\n",
       "        vertical-align: middle;\n",
       "    }\n",
       "\n",
       "    .dataframe tbody tr th {\n",
       "        vertical-align: top;\n",
       "    }\n",
       "\n",
       "    .dataframe thead th {\n",
       "        text-align: right;\n",
       "    }\n",
       "</style>\n",
       "<table border=\"1\" class=\"dataframe\">\n",
       "  <thead>\n",
       "    <tr style=\"text-align: right;\">\n",
       "      <th></th>\n",
       "      <th>genres</th>\n",
       "      <th>original_title</th>\n",
       "      <th>crew</th>\n",
       "      <th>labels</th>\n",
       "    </tr>\n",
       "  </thead>\n",
       "  <tbody>\n",
       "    <tr>\n",
       "      <th>4798</th>\n",
       "      <td>[Action, Crime, Thriller]</td>\n",
       "      <td>El Mariachi</td>\n",
       "      <td>Director,Director of Photography,Editor,Produc...</td>\n",
       "      <td>Not_Animation</td>\n",
       "    </tr>\n",
       "    <tr>\n",
       "      <th>4799</th>\n",
       "      <td>[Comedy, Romance]</td>\n",
       "      <td>Newlyweds</td>\n",
       "      <td>Director,Producer,Writer,Producer,Cinematograp...</td>\n",
       "      <td>Not_Animation</td>\n",
       "    </tr>\n",
       "    <tr>\n",
       "      <th>4800</th>\n",
       "      <td>[Comedy, Drama, Romance, TV Movie]</td>\n",
       "      <td>Signed, Sealed, Delivered</td>\n",
       "      <td>Costume Design,Producer,Director of Photograph...</td>\n",
       "      <td>Not_Animation</td>\n",
       "    </tr>\n",
       "    <tr>\n",
       "      <th>4801</th>\n",
       "      <td>[]</td>\n",
       "      <td>Shanghai Calling</td>\n",
       "      <td>Director,Writer</td>\n",
       "      <td>Not_Animation</td>\n",
       "    </tr>\n",
       "    <tr>\n",
       "      <th>4802</th>\n",
       "      <td>[Documentary]</td>\n",
       "      <td>My Date with Drew</td>\n",
       "      <td>Executive Producer,Executive Producer,Director...</td>\n",
       "      <td>Not_Animation</td>\n",
       "    </tr>\n",
       "  </tbody>\n",
       "</table>\n",
       "</div>"
      ],
      "text/plain": [
       "                                  genres             original_title  \\\n",
       "4798           [Action, Crime, Thriller]                El Mariachi   \n",
       "4799                   [Comedy, Romance]                  Newlyweds   \n",
       "4800  [Comedy, Drama, Romance, TV Movie]  Signed, Sealed, Delivered   \n",
       "4801                                  []           Shanghai Calling   \n",
       "4802                       [Documentary]          My Date with Drew   \n",
       "\n",
       "                                                   crew         labels  \n",
       "4798  Director,Director of Photography,Editor,Produc...  Not_Animation  \n",
       "4799  Director,Producer,Writer,Producer,Cinematograp...  Not_Animation  \n",
       "4800  Costume Design,Producer,Director of Photograph...  Not_Animation  \n",
       "4801                                    Director,Writer  Not_Animation  \n",
       "4802  Executive Producer,Executive Producer,Director...  Not_Animation  "
      ]
     },
     "execution_count": 269,
     "metadata": {},
     "output_type": "execute_result"
    }
   ],
   "source": [
    "# Transformed Dataset with the newly created labels feature\n",
    "df.tail(5)"
   ]
  },
  {
   "cell_type": "markdown",
   "metadata": {},
   "source": [
    "#### Let's define our labels and document, we can see that some labels are empty, so we would fill such rows with an  empty string"
   ]
  },
  {
   "cell_type": "code",
   "execution_count": 270,
   "metadata": {},
   "outputs": [
    {
     "data": {
      "text/plain": [
       "'Director,Producer,Writer,Producer,Cinematography,Music,Editor,Producer'"
      ]
     },
     "execution_count": 270,
     "metadata": {},
     "output_type": "execute_result"
    }
   ],
   "source": [
    "doc = df['crew'].values\n",
    "# lets show the document(job  titles) for NewlyWeds index number 4799\n",
    "doc[4799]"
   ]
  },
  {
   "cell_type": "code",
   "execution_count": 271,
   "metadata": {},
   "outputs": [],
   "source": [
    "label = df['labels'].values\n"
   ]
  },
  {
   "cell_type": "code",
   "execution_count": 272,
   "metadata": {},
   "outputs": [],
   "source": [
    "from sklearn.model_selection import train_test_split\n",
    "x_train,x_test,y_train,y_test = train_test_split(doc,label,test_size = 0.2, random_state = 0)"
   ]
  },
  {
   "cell_type": "code",
   "execution_count": 273,
   "metadata": {},
   "outputs": [
    {
     "data": {
      "text/plain": [
       "Not_Animation    918\n",
       "Animation         43\n",
       "dtype: int64"
      ]
     },
     "execution_count": 273,
     "metadata": {},
     "output_type": "execute_result"
    }
   ],
   "source": [
    "(pd.Series(y_test)).value_counts()"
   ]
  },
  {
   "cell_type": "code",
   "execution_count": 274,
   "metadata": {},
   "outputs": [
    {
     "name": "stderr",
     "output_type": "stream",
     "text": [
      "C:\\Users\\Anthony\\anaconda3\\lib\\site-packages\\sklearn\\feature_extraction\\text.py:386: UserWarning: Your stop_words may be inconsistent with your preprocessing. Tokenizing the stop words generated tokens ['associate', 'casting', 'composer', 'design', 'designer', 'director', 'driver', 'executive', 'music', 'original', 'production', 'pron', 'screenplay', 'set', 'soundtrack', 'thanks'] not in stop_words.\n",
      "  'stop_words.' % sorted(inconsistent))\n"
     ]
    },
    {
     "name": "stdout",
     "output_type": "stream",
     "text": [
      "Training accuracy: 0.9791775117126497\n"
     ]
    }
   ],
   "source": [
    "from sklearn.feature_extraction.text import TfidfVectorizer,CountVectorizer,TfidfTransformer\n",
    "from sklearn.naive_bayes import MultinomialNB\n",
    "from sklearn.pipeline import Pipeline\n",
    "\n",
    "\n",
    "\n",
    "\n",
    "\n",
    "bow = CountVectorizer(ngram_range = (1,1), stop_words=stop_words_lemma)\n",
    "\n",
    "\n",
    "\n",
    "\n",
    "pipe = Pipeline([('bag_of_words', bow),('classifier', MultinomialNB())])\n",
    "pipe.fit(x_train,y_train)\n",
    "\n",
    "\n",
    "print('Training accuracy: {}'.format(pipe.score(x_train,y_train)))"
   ]
  },
  {
   "cell_type": "code",
   "execution_count": 275,
   "metadata": {},
   "outputs": [],
   "source": [
    "y_pred = pipe.predict(x_test)"
   ]
  },
  {
   "cell_type": "markdown",
   "metadata": {},
   "source": [
    "#### The test accuracy is improved here, although there is an imbalance but our initial test validates this."
   ]
  },
  {
   "cell_type": "code",
   "execution_count": 276,
   "metadata": {},
   "outputs": [
    {
     "name": "stdout",
     "output_type": "stream",
     "text": [
      "The Accuracy on The Test Set is: 0.9791883454734651\n"
     ]
    }
   ],
   "source": [
    "from sklearn.metrics import accuracy_score, recall_score\n",
    "accuracy = accuracy_score(y_test, y_pred)\n",
    "print('The Accuracy on The Test Set is: %s' % accuracy)"
   ]
  },
  {
   "cell_type": "markdown",
   "metadata": {},
   "source": [
    "#### You can use this to check for a particular Movie Title just change the row index number for a different movie "
   ]
  },
  {
   "cell_type": "code",
   "execution_count": 277,
   "metadata": {},
   "outputs": [],
   "source": [
    "test = test_df.drop(columns='labels')"
   ]
  },
  {
   "cell_type": "code",
   "execution_count": 279,
   "metadata": {},
   "outputs": [
    {
     "data": {
      "text/plain": [
       "'Sausage Party'"
      ]
     },
     "execution_count": 279,
     "metadata": {},
     "output_type": "execute_result"
    }
   ],
   "source": [
    "movie_name = test.loc[30,'original_title']\n",
    "movie_name"
   ]
  },
  {
   "cell_type": "markdown",
   "metadata": {},
   "source": [
    "#### You can use this to get the crew Job."
   ]
  },
  {
   "cell_type": "code",
   "execution_count": 281,
   "metadata": {},
   "outputs": [
    {
     "data": {
      "text/plain": [
       "'Director,Producer,Original Music Composer,Executive Producer,Story,Story,Producer,Screenplay,Original Music Composer,Story,Producer,Screenplay,Director,Producer,Screenplay,Executive Producer,Screenplay,Executive Producer,Layout,Line Producer,Co-Producer,Co-Producer,Co-Producer,Storyboard,Storyboard,Executive Producer,Editor,Art Direction,Production Manager,Animation,VFX Artist,Lighting Technician,Layout,Animation,Animation Supervisor,Animation Manager,Administration,Animation,Animation,Animation,Animation,Animation,Animation,Animation,Music Supervisor,Visual Effects Supervisor'"
      ]
     },
     "execution_count": 281,
     "metadata": {},
     "output_type": "execute_result"
    }
   ],
   "source": [
    "crew_job = test.loc[30,'crew']\n",
    "crew_job"
   ]
  },
  {
   "cell_type": "markdown",
   "metadata": {},
   "source": [
    "#### And finally you can check if a movie is animation or not by Passing the crew's_job as an argument in a list here"
   ]
  },
  {
   "cell_type": "code",
   "execution_count": 282,
   "metadata": {},
   "outputs": [
    {
     "data": {
      "text/plain": [
       "array(['Animation'], dtype='<U13')"
      ]
     },
     "execution_count": 282,
     "metadata": {},
     "output_type": "execute_result"
    }
   ],
   "source": [
    "y_pred = pipe.predict([crew_job])\n",
    "y_pred"
   ]
  },
  {
   "cell_type": "markdown",
   "metadata": {},
   "source": [
    "### you can also search for a random movie online, pass the jobs of the crew as an array delimited by space into the predictor, the model would tell you if that movie is an animation movie or not even without seeing the genre. all it needs to make predictions are the crew's job."
   ]
  },
  {
   "cell_type": "code",
   "execution_count": null,
   "metadata": {},
   "outputs": [],
   "source": []
  },
  {
   "cell_type": "code",
   "execution_count": null,
   "metadata": {},
   "outputs": [],
   "source": []
  }
 ],
 "metadata": {
  "kernelspec": {
   "display_name": "Python 3",
   "language": "python",
   "name": "python3"
  },
  "language_info": {
   "codemirror_mode": {
    "name": "ipython",
    "version": 3
   },
   "file_extension": ".py",
   "mimetype": "text/x-python",
   "name": "python",
   "nbconvert_exporter": "python",
   "pygments_lexer": "ipython3",
   "version": "3.7.6"
  }
 },
 "nbformat": 4,
 "nbformat_minor": 4
}
