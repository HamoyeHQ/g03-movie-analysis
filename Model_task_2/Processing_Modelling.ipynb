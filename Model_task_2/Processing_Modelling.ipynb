{
 "cells": [
  {
   "cell_type": "markdown",
   "metadata": {},
   "source": [
    "Before the industrial age, information age, and globalization,\n",
    "when the number of choices for the consumer in any market\n",
    "was limited, it was possible to solely rely on word of mouth,\n",
    "editorial and staff reviews of movies, books, etc.,\n",
    "testimonials, endorsements and general surveys to make the\n",
    "right purchases . However, this natural social approach to\n",
    "gathering recommendations became impractical as the\n",
    "assortment of offerings in the market grew from a few dozens\n",
    "to millions, often overwhelming customers trying to decide\n",
    "what to buy, watch, read, etc. This paved the way for the\n",
    "deployment of intelligent recommender systems by\n",
    "businesses, applying statistical and knowledge discovery\n",
    "techniques on users’ purchases datasets, to generate sound\n",
    "product suggestions for the buyers, as a value-added service."
   ]
  },
  {
   "cell_type": "code",
   "execution_count": 1,
   "metadata": {},
   "outputs": [],
   "source": [
    "# To support both python 2 and python 3\n",
    "from __future__ import division, print_function, unicode_literals"
   ]
  },
  {
   "cell_type": "markdown",
   "metadata": {},
   "source": [
    "### Import Necessary Libraries"
   ]
  },
  {
   "cell_type": "code",
   "execution_count": 2,
   "metadata": {},
   "outputs": [],
   "source": [
    "import pandas as pd\n",
    "import matplotlib as mpl\n",
    "import matplotlib.pyplot as plt\n",
    "plt.style.use('fivethirtyeight')\n",
    "import seaborn as sns\n",
    "sns.set_style('whitegrid')\n",
    "import numpy as np\n",
    "\n",
    "import json\n",
    "import os\n",
    "import warnings\n",
    "warnings.filterwarnings('ignore')\n",
    "import base64\n",
    "import io\n",
    "from scipy.misc import imread\n",
    "import codecs\n",
    "from IPython.display import HTML\n",
    "from wordcloud import WordCloud\n",
    "%matplotlib inline"
   ]
  },
  {
   "cell_type": "markdown",
   "metadata": {},
   "source": [
    "### Function to load  the Data\n",
    "\n",
    "- Several of the columns contain `json`. We can save a bit of time by porting the `load data` functions()."
   ]
  },
  {
   "cell_type": "code",
   "execution_count": 3,
   "metadata": {},
   "outputs": [],
   "source": [
    "# the load data function to load the movies dataset\n",
    "def load_movies(path):\n",
    "    df = pd.read_csv(path)\n",
    "    df['release_date'] = pd.to_datetime(df['release_date']).apply(lambda x: x.date())\n",
    "    json_columns = ['genres', 'keywords', 'production_countries', 'production_companies', 'spoken_languages']\n",
    "    for column in json_columns:\n",
    "        df[column] = df[column].apply(json.loads)\n",
    "    return df\n",
    "\n",
    "\n",
    "def load_credits(path):\n",
    "    df = pd.read_csv(path)\n",
    "    json_columns = ['cast', 'crew']\n",
    "    for column in json_columns:\n",
    "        df[column] = df[column].apply(json.loads)\n",
    "    return df"
   ]
  },
  {
   "cell_type": "code",
   "execution_count": 4,
   "metadata": {},
   "outputs": [
    {
     "data": {
      "text/html": [
       "<div>\n",
       "<style scoped>\n",
       "    .dataframe tbody tr th:only-of-type {\n",
       "        vertical-align: middle;\n",
       "    }\n",
       "\n",
       "    .dataframe tbody tr th {\n",
       "        vertical-align: top;\n",
       "    }\n",
       "\n",
       "    .dataframe thead th {\n",
       "        text-align: right;\n",
       "    }\n",
       "</style>\n",
       "<table border=\"1\" class=\"dataframe\">\n",
       "  <thead>\n",
       "    <tr style=\"text-align: right;\">\n",
       "      <th></th>\n",
       "      <th>budget</th>\n",
       "      <th>genres</th>\n",
       "      <th>homepage</th>\n",
       "      <th>id</th>\n",
       "      <th>keywords</th>\n",
       "      <th>original_language</th>\n",
       "      <th>original_title</th>\n",
       "      <th>overview</th>\n",
       "      <th>popularity</th>\n",
       "      <th>production_companies</th>\n",
       "      <th>production_countries</th>\n",
       "      <th>release_date</th>\n",
       "      <th>revenue</th>\n",
       "      <th>runtime</th>\n",
       "      <th>spoken_languages</th>\n",
       "      <th>status</th>\n",
       "      <th>tagline</th>\n",
       "      <th>title</th>\n",
       "      <th>vote_average</th>\n",
       "      <th>vote_count</th>\n",
       "    </tr>\n",
       "  </thead>\n",
       "  <tbody>\n",
       "    <tr>\n",
       "      <th>0</th>\n",
       "      <td>237000000</td>\n",
       "      <td>[{'id': 28, 'name': 'Action'}, {'id': 12, 'nam...</td>\n",
       "      <td>http://www.avatarmovie.com/</td>\n",
       "      <td>19995</td>\n",
       "      <td>[{'id': 1463, 'name': 'culture clash'}, {'id':...</td>\n",
       "      <td>en</td>\n",
       "      <td>Avatar</td>\n",
       "      <td>In the 22nd century, a paraplegic Marine is di...</td>\n",
       "      <td>150.437577</td>\n",
       "      <td>[{'name': 'Ingenious Film Partners', 'id': 289...</td>\n",
       "      <td>[{'iso_3166_1': 'US', 'name': 'United States o...</td>\n",
       "      <td>2009-12-10</td>\n",
       "      <td>2787965087</td>\n",
       "      <td>162.0</td>\n",
       "      <td>[{'iso_639_1': 'en', 'name': 'English'}, {'iso...</td>\n",
       "      <td>Released</td>\n",
       "      <td>Enter the World of Pandora.</td>\n",
       "      <td>Avatar</td>\n",
       "      <td>7.2</td>\n",
       "      <td>11800</td>\n",
       "    </tr>\n",
       "    <tr>\n",
       "      <th>1</th>\n",
       "      <td>300000000</td>\n",
       "      <td>[{'id': 12, 'name': 'Adventure'}, {'id': 14, '...</td>\n",
       "      <td>http://disney.go.com/disneypictures/pirates/</td>\n",
       "      <td>285</td>\n",
       "      <td>[{'id': 270, 'name': 'ocean'}, {'id': 726, 'na...</td>\n",
       "      <td>en</td>\n",
       "      <td>Pirates of the Caribbean: At World's End</td>\n",
       "      <td>Captain Barbossa, long believed to be dead, ha...</td>\n",
       "      <td>139.082615</td>\n",
       "      <td>[{'name': 'Walt Disney Pictures', 'id': 2}, {'...</td>\n",
       "      <td>[{'iso_3166_1': 'US', 'name': 'United States o...</td>\n",
       "      <td>2007-05-19</td>\n",
       "      <td>961000000</td>\n",
       "      <td>169.0</td>\n",
       "      <td>[{'iso_639_1': 'en', 'name': 'English'}]</td>\n",
       "      <td>Released</td>\n",
       "      <td>At the end of the world, the adventure begins.</td>\n",
       "      <td>Pirates of the Caribbean: At World's End</td>\n",
       "      <td>6.9</td>\n",
       "      <td>4500</td>\n",
       "    </tr>\n",
       "    <tr>\n",
       "      <th>2</th>\n",
       "      <td>245000000</td>\n",
       "      <td>[{'id': 28, 'name': 'Action'}, {'id': 12, 'nam...</td>\n",
       "      <td>http://www.sonypictures.com/movies/spectre/</td>\n",
       "      <td>206647</td>\n",
       "      <td>[{'id': 470, 'name': 'spy'}, {'id': 818, 'name...</td>\n",
       "      <td>en</td>\n",
       "      <td>Spectre</td>\n",
       "      <td>A cryptic message from Bond’s past sends him o...</td>\n",
       "      <td>107.376788</td>\n",
       "      <td>[{'name': 'Columbia Pictures', 'id': 5}, {'nam...</td>\n",
       "      <td>[{'iso_3166_1': 'GB', 'name': 'United Kingdom'...</td>\n",
       "      <td>2015-10-26</td>\n",
       "      <td>880674609</td>\n",
       "      <td>148.0</td>\n",
       "      <td>[{'iso_639_1': 'fr', 'name': 'Français'}, {'is...</td>\n",
       "      <td>Released</td>\n",
       "      <td>A Plan No One Escapes</td>\n",
       "      <td>Spectre</td>\n",
       "      <td>6.3</td>\n",
       "      <td>4466</td>\n",
       "    </tr>\n",
       "  </tbody>\n",
       "</table>\n",
       "</div>"
      ],
      "text/plain": [
       "      budget                                             genres  \\\n",
       "0  237000000  [{'id': 28, 'name': 'Action'}, {'id': 12, 'nam...   \n",
       "1  300000000  [{'id': 12, 'name': 'Adventure'}, {'id': 14, '...   \n",
       "2  245000000  [{'id': 28, 'name': 'Action'}, {'id': 12, 'nam...   \n",
       "\n",
       "                                       homepage      id  \\\n",
       "0                   http://www.avatarmovie.com/   19995   \n",
       "1  http://disney.go.com/disneypictures/pirates/     285   \n",
       "2   http://www.sonypictures.com/movies/spectre/  206647   \n",
       "\n",
       "                                            keywords original_language  \\\n",
       "0  [{'id': 1463, 'name': 'culture clash'}, {'id':...                en   \n",
       "1  [{'id': 270, 'name': 'ocean'}, {'id': 726, 'na...                en   \n",
       "2  [{'id': 470, 'name': 'spy'}, {'id': 818, 'name...                en   \n",
       "\n",
       "                             original_title  \\\n",
       "0                                    Avatar   \n",
       "1  Pirates of the Caribbean: At World's End   \n",
       "2                                   Spectre   \n",
       "\n",
       "                                            overview  popularity  \\\n",
       "0  In the 22nd century, a paraplegic Marine is di...  150.437577   \n",
       "1  Captain Barbossa, long believed to be dead, ha...  139.082615   \n",
       "2  A cryptic message from Bond’s past sends him o...  107.376788   \n",
       "\n",
       "                                production_companies  \\\n",
       "0  [{'name': 'Ingenious Film Partners', 'id': 289...   \n",
       "1  [{'name': 'Walt Disney Pictures', 'id': 2}, {'...   \n",
       "2  [{'name': 'Columbia Pictures', 'id': 5}, {'nam...   \n",
       "\n",
       "                                production_countries release_date     revenue  \\\n",
       "0  [{'iso_3166_1': 'US', 'name': 'United States o...   2009-12-10  2787965087   \n",
       "1  [{'iso_3166_1': 'US', 'name': 'United States o...   2007-05-19   961000000   \n",
       "2  [{'iso_3166_1': 'GB', 'name': 'United Kingdom'...   2015-10-26   880674609   \n",
       "\n",
       "   runtime                                   spoken_languages    status  \\\n",
       "0    162.0  [{'iso_639_1': 'en', 'name': 'English'}, {'iso...  Released   \n",
       "1    169.0           [{'iso_639_1': 'en', 'name': 'English'}]  Released   \n",
       "2    148.0  [{'iso_639_1': 'fr', 'name': 'Français'}, {'is...  Released   \n",
       "\n",
       "                                          tagline  \\\n",
       "0                     Enter the World of Pandora.   \n",
       "1  At the end of the world, the adventure begins.   \n",
       "2                           A Plan No One Escapes   \n",
       "\n",
       "                                      title  vote_average  vote_count  \n",
       "0                                    Avatar           7.2       11800  \n",
       "1  Pirates of the Caribbean: At World's End           6.9        4500  \n",
       "2                                   Spectre           6.3        4466  "
      ]
     },
     "execution_count": 4,
     "metadata": {},
     "output_type": "execute_result"
    }
   ],
   "source": [
    "movies = load_movies(\"../data/tmdb_5000_movies.csv/tmdb_5000_movies.csv\")\n",
    "movies.head(3)"
   ]
  },
  {
   "cell_type": "code",
   "execution_count": 5,
   "metadata": {},
   "outputs": [
    {
     "data": {
      "text/html": [
       "<div>\n",
       "<style scoped>\n",
       "    .dataframe tbody tr th:only-of-type {\n",
       "        vertical-align: middle;\n",
       "    }\n",
       "\n",
       "    .dataframe tbody tr th {\n",
       "        vertical-align: top;\n",
       "    }\n",
       "\n",
       "    .dataframe thead th {\n",
       "        text-align: right;\n",
       "    }\n",
       "</style>\n",
       "<table border=\"1\" class=\"dataframe\">\n",
       "  <thead>\n",
       "    <tr style=\"text-align: right;\">\n",
       "      <th></th>\n",
       "      <th>movie_id</th>\n",
       "      <th>title</th>\n",
       "      <th>cast</th>\n",
       "      <th>crew</th>\n",
       "    </tr>\n",
       "  </thead>\n",
       "  <tbody>\n",
       "    <tr>\n",
       "      <th>0</th>\n",
       "      <td>19995</td>\n",
       "      <td>Avatar</td>\n",
       "      <td>[{'cast_id': 242, 'character': 'Jake Sully', '...</td>\n",
       "      <td>[{'credit_id': '52fe48009251416c750aca23', 'de...</td>\n",
       "    </tr>\n",
       "    <tr>\n",
       "      <th>1</th>\n",
       "      <td>285</td>\n",
       "      <td>Pirates of the Caribbean: At World's End</td>\n",
       "      <td>[{'cast_id': 4, 'character': 'Captain Jack Spa...</td>\n",
       "      <td>[{'credit_id': '52fe4232c3a36847f800b579', 'de...</td>\n",
       "    </tr>\n",
       "    <tr>\n",
       "      <th>2</th>\n",
       "      <td>206647</td>\n",
       "      <td>Spectre</td>\n",
       "      <td>[{'cast_id': 1, 'character': 'James Bond', 'cr...</td>\n",
       "      <td>[{'credit_id': '54805967c3a36829b5002c41', 'de...</td>\n",
       "    </tr>\n",
       "  </tbody>\n",
       "</table>\n",
       "</div>"
      ],
      "text/plain": [
       "   movie_id                                     title  \\\n",
       "0     19995                                    Avatar   \n",
       "1       285  Pirates of the Caribbean: At World's End   \n",
       "2    206647                                   Spectre   \n",
       "\n",
       "                                                cast  \\\n",
       "0  [{'cast_id': 242, 'character': 'Jake Sully', '...   \n",
       "1  [{'cast_id': 4, 'character': 'Captain Jack Spa...   \n",
       "2  [{'cast_id': 1, 'character': 'James Bond', 'cr...   \n",
       "\n",
       "                                                crew  \n",
       "0  [{'credit_id': '52fe48009251416c750aca23', 'de...  \n",
       "1  [{'credit_id': '52fe4232c3a36847f800b579', 'de...  \n",
       "2  [{'credit_id': '54805967c3a36829b5002c41', 'de...  "
      ]
     },
     "execution_count": 5,
     "metadata": {},
     "output_type": "execute_result"
    }
   ],
   "source": [
    "credits = load_credits(\"../data/tmdb_5000_credits.csv/tmdb_5000_credits.csv\")\n",
    "credits.head(3)"
   ]
  },
  {
   "cell_type": "code",
   "execution_count": 6,
   "metadata": {},
   "outputs": [
    {
     "data": {
      "text/plain": [
       "((4803, 20), (4803, 4))"
      ]
     },
     "execution_count": 6,
     "metadata": {},
     "output_type": "execute_result"
    }
   ],
   "source": [
    "movies.shape, credits.shape"
   ]
  },
  {
   "cell_type": "code",
   "execution_count": 7,
   "metadata": {},
   "outputs": [
    {
     "data": {
      "text/plain": [
       "pandas.core.frame.DataFrame"
      ]
     },
     "execution_count": 7,
     "metadata": {},
     "output_type": "execute_result"
    }
   ],
   "source": [
    "type(movies)"
   ]
  },
  {
   "cell_type": "code",
   "execution_count": 8,
   "metadata": {},
   "outputs": [
    {
     "data": {
      "text/plain": [
       "pandas.core.frame.DataFrame"
      ]
     },
     "execution_count": 8,
     "metadata": {},
     "output_type": "execute_result"
    }
   ],
   "source": [
    "type(credits)"
   ]
  },
  {
   "cell_type": "markdown",
   "metadata": {},
   "source": [
    "#### Let's merge the `credits` and `movies` dataset on the 'id' column"
   ]
  },
  {
   "cell_type": "code",
   "execution_count": 9,
   "metadata": {},
   "outputs": [
    {
     "data": {
      "text/html": [
       "<div>\n",
       "<style scoped>\n",
       "    .dataframe tbody tr th:only-of-type {\n",
       "        vertical-align: middle;\n",
       "    }\n",
       "\n",
       "    .dataframe tbody tr th {\n",
       "        vertical-align: top;\n",
       "    }\n",
       "\n",
       "    .dataframe thead th {\n",
       "        text-align: right;\n",
       "    }\n",
       "</style>\n",
       "<table border=\"1\" class=\"dataframe\">\n",
       "  <thead>\n",
       "    <tr style=\"text-align: right;\">\n",
       "      <th></th>\n",
       "      <th>budget</th>\n",
       "      <th>genres</th>\n",
       "      <th>homepage</th>\n",
       "      <th>id</th>\n",
       "      <th>keywords</th>\n",
       "      <th>original_language</th>\n",
       "      <th>original_title</th>\n",
       "      <th>overview</th>\n",
       "      <th>popularity</th>\n",
       "      <th>production_companies</th>\n",
       "      <th>...</th>\n",
       "      <th>runtime</th>\n",
       "      <th>spoken_languages</th>\n",
       "      <th>status</th>\n",
       "      <th>tagline</th>\n",
       "      <th>title_x</th>\n",
       "      <th>vote_average</th>\n",
       "      <th>vote_count</th>\n",
       "      <th>title_y</th>\n",
       "      <th>cast</th>\n",
       "      <th>crew</th>\n",
       "    </tr>\n",
       "  </thead>\n",
       "  <tbody>\n",
       "    <tr>\n",
       "      <th>0</th>\n",
       "      <td>237000000</td>\n",
       "      <td>[{'id': 28, 'name': 'Action'}, {'id': 12, 'nam...</td>\n",
       "      <td>http://www.avatarmovie.com/</td>\n",
       "      <td>19995</td>\n",
       "      <td>[{'id': 1463, 'name': 'culture clash'}, {'id':...</td>\n",
       "      <td>en</td>\n",
       "      <td>Avatar</td>\n",
       "      <td>In the 22nd century, a paraplegic Marine is di...</td>\n",
       "      <td>150.437577</td>\n",
       "      <td>[{'name': 'Ingenious Film Partners', 'id': 289...</td>\n",
       "      <td>...</td>\n",
       "      <td>162.0</td>\n",
       "      <td>[{'iso_639_1': 'en', 'name': 'English'}, {'iso...</td>\n",
       "      <td>Released</td>\n",
       "      <td>Enter the World of Pandora.</td>\n",
       "      <td>Avatar</td>\n",
       "      <td>7.2</td>\n",
       "      <td>11800</td>\n",
       "      <td>Avatar</td>\n",
       "      <td>[{'cast_id': 242, 'character': 'Jake Sully', '...</td>\n",
       "      <td>[{'credit_id': '52fe48009251416c750aca23', 'de...</td>\n",
       "    </tr>\n",
       "    <tr>\n",
       "      <th>1</th>\n",
       "      <td>300000000</td>\n",
       "      <td>[{'id': 12, 'name': 'Adventure'}, {'id': 14, '...</td>\n",
       "      <td>http://disney.go.com/disneypictures/pirates/</td>\n",
       "      <td>285</td>\n",
       "      <td>[{'id': 270, 'name': 'ocean'}, {'id': 726, 'na...</td>\n",
       "      <td>en</td>\n",
       "      <td>Pirates of the Caribbean: At World's End</td>\n",
       "      <td>Captain Barbossa, long believed to be dead, ha...</td>\n",
       "      <td>139.082615</td>\n",
       "      <td>[{'name': 'Walt Disney Pictures', 'id': 2}, {'...</td>\n",
       "      <td>...</td>\n",
       "      <td>169.0</td>\n",
       "      <td>[{'iso_639_1': 'en', 'name': 'English'}]</td>\n",
       "      <td>Released</td>\n",
       "      <td>At the end of the world, the adventure begins.</td>\n",
       "      <td>Pirates of the Caribbean: At World's End</td>\n",
       "      <td>6.9</td>\n",
       "      <td>4500</td>\n",
       "      <td>Pirates of the Caribbean: At World's End</td>\n",
       "      <td>[{'cast_id': 4, 'character': 'Captain Jack Spa...</td>\n",
       "      <td>[{'credit_id': '52fe4232c3a36847f800b579', 'de...</td>\n",
       "    </tr>\n",
       "    <tr>\n",
       "      <th>2</th>\n",
       "      <td>245000000</td>\n",
       "      <td>[{'id': 28, 'name': 'Action'}, {'id': 12, 'nam...</td>\n",
       "      <td>http://www.sonypictures.com/movies/spectre/</td>\n",
       "      <td>206647</td>\n",
       "      <td>[{'id': 470, 'name': 'spy'}, {'id': 818, 'name...</td>\n",
       "      <td>en</td>\n",
       "      <td>Spectre</td>\n",
       "      <td>A cryptic message from Bond’s past sends him o...</td>\n",
       "      <td>107.376788</td>\n",
       "      <td>[{'name': 'Columbia Pictures', 'id': 5}, {'nam...</td>\n",
       "      <td>...</td>\n",
       "      <td>148.0</td>\n",
       "      <td>[{'iso_639_1': 'fr', 'name': 'Français'}, {'is...</td>\n",
       "      <td>Released</td>\n",
       "      <td>A Plan No One Escapes</td>\n",
       "      <td>Spectre</td>\n",
       "      <td>6.3</td>\n",
       "      <td>4466</td>\n",
       "      <td>Spectre</td>\n",
       "      <td>[{'cast_id': 1, 'character': 'James Bond', 'cr...</td>\n",
       "      <td>[{'credit_id': '54805967c3a36829b5002c41', 'de...</td>\n",
       "    </tr>\n",
       "  </tbody>\n",
       "</table>\n",
       "<p>3 rows × 23 columns</p>\n",
       "</div>"
      ],
      "text/plain": [
       "      budget                                             genres  \\\n",
       "0  237000000  [{'id': 28, 'name': 'Action'}, {'id': 12, 'nam...   \n",
       "1  300000000  [{'id': 12, 'name': 'Adventure'}, {'id': 14, '...   \n",
       "2  245000000  [{'id': 28, 'name': 'Action'}, {'id': 12, 'nam...   \n",
       "\n",
       "                                       homepage      id  \\\n",
       "0                   http://www.avatarmovie.com/   19995   \n",
       "1  http://disney.go.com/disneypictures/pirates/     285   \n",
       "2   http://www.sonypictures.com/movies/spectre/  206647   \n",
       "\n",
       "                                            keywords original_language  \\\n",
       "0  [{'id': 1463, 'name': 'culture clash'}, {'id':...                en   \n",
       "1  [{'id': 270, 'name': 'ocean'}, {'id': 726, 'na...                en   \n",
       "2  [{'id': 470, 'name': 'spy'}, {'id': 818, 'name...                en   \n",
       "\n",
       "                             original_title  \\\n",
       "0                                    Avatar   \n",
       "1  Pirates of the Caribbean: At World's End   \n",
       "2                                   Spectre   \n",
       "\n",
       "                                            overview  popularity  \\\n",
       "0  In the 22nd century, a paraplegic Marine is di...  150.437577   \n",
       "1  Captain Barbossa, long believed to be dead, ha...  139.082615   \n",
       "2  A cryptic message from Bond’s past sends him o...  107.376788   \n",
       "\n",
       "                                production_companies  ... runtime  \\\n",
       "0  [{'name': 'Ingenious Film Partners', 'id': 289...  ...   162.0   \n",
       "1  [{'name': 'Walt Disney Pictures', 'id': 2}, {'...  ...   169.0   \n",
       "2  [{'name': 'Columbia Pictures', 'id': 5}, {'nam...  ...   148.0   \n",
       "\n",
       "                                    spoken_languages    status  \\\n",
       "0  [{'iso_639_1': 'en', 'name': 'English'}, {'iso...  Released   \n",
       "1           [{'iso_639_1': 'en', 'name': 'English'}]  Released   \n",
       "2  [{'iso_639_1': 'fr', 'name': 'Français'}, {'is...  Released   \n",
       "\n",
       "                                          tagline  \\\n",
       "0                     Enter the World of Pandora.   \n",
       "1  At the end of the world, the adventure begins.   \n",
       "2                           A Plan No One Escapes   \n",
       "\n",
       "                                    title_x vote_average vote_count  \\\n",
       "0                                    Avatar          7.2      11800   \n",
       "1  Pirates of the Caribbean: At World's End          6.9       4500   \n",
       "2                                   Spectre          6.3       4466   \n",
       "\n",
       "                                    title_y  \\\n",
       "0                                    Avatar   \n",
       "1  Pirates of the Caribbean: At World's End   \n",
       "2                                   Spectre   \n",
       "\n",
       "                                                cast  \\\n",
       "0  [{'cast_id': 242, 'character': 'Jake Sully', '...   \n",
       "1  [{'cast_id': 4, 'character': 'Captain Jack Spa...   \n",
       "2  [{'cast_id': 1, 'character': 'James Bond', 'cr...   \n",
       "\n",
       "                                                crew  \n",
       "0  [{'credit_id': '52fe48009251416c750aca23', 'de...  \n",
       "1  [{'credit_id': '52fe4232c3a36847f800b579', 'de...  \n",
       "2  [{'credit_id': '54805967c3a36829b5002c41', 'de...  \n",
       "\n",
       "[3 rows x 23 columns]"
      ]
     },
     "execution_count": 9,
     "metadata": {},
     "output_type": "execute_result"
    }
   ],
   "source": [
    "credits.columns\n",
    "\n",
    "# credits.drop('title', axis=1, inplace=True)\n",
    "\n",
    "credits.columns = ['id', 'title', 'cast', 'crew']\n",
    "dataset = pd.DataFrame(movies.merge(credits, on=\"id\"))\n",
    "dataset.head(3)"
   ]
  },
  {
   "cell_type": "code",
   "execution_count": 10,
   "metadata": {},
   "outputs": [],
   "source": [
    " # drop the extra title column\n",
    "# dataset = dataset.drop('title', axis=1)"
   ]
  },
  {
   "cell_type": "code",
   "execution_count": 11,
   "metadata": {},
   "outputs": [
    {
     "data": {
      "text/plain": [
       "pandas.core.frame.DataFrame"
      ]
     },
     "execution_count": 11,
     "metadata": {},
     "output_type": "execute_result"
    }
   ],
   "source": [
    "type(dataset)"
   ]
  },
  {
   "cell_type": "markdown",
   "metadata": {},
   "source": [
    "#### Define Functions that would help change some Features and Re-Engineer some Features as well"
   ]
  },
  {
   "cell_type": "code",
   "execution_count": 12,
   "metadata": {},
   "outputs": [],
   "source": [
    "def safe_access(container, index_values):\n",
    "    # return missing value rather than an error upon indexing/key failure\n",
    "    result = container\n",
    "    try:\n",
    "        for idx in index_values:\n",
    "            result = result[idx]\n",
    "        return result\n",
    "    except IndexError or KeyError:\n",
    "        return pd.np.nan\n",
    "    \n",
    "# function to get names of genres  \n",
    "def get_name_genres(keywords):\n",
    "    if isinstance(keywords, list):\n",
    "        names = [i['name'] for i in keywords]\n",
    "        return names\n",
    "\n",
    "# function to get jobs of crew members\n",
    "def get_jobs_crew(keywords):\n",
    "    if isinstance(keywords, list):\n",
    "        job = [i['job'] for i in keywords]\n",
    "        return job\n",
    "    \n",
    "# function to get names from Json Object\n",
    "def get_value_names(keywords):\n",
    "    return '|'.join([x['name'] for x in keywords])\n",
    "\n",
    "# function to get jobs title from Json object\n",
    "def get_value_jobs(keywords):\n",
    "    return '|'.join([x['job'] for x in keywords])\n",
    "\n",
    "# function to get department name from Json object\n",
    "def get_value_department(keywords):\n",
    "    return '|'.join(x['department'] for x in keywords)\n",
    "\n",
    "# function to get names \n",
    "def get_director(crew_data):\n",
    "    directors = [x['name'] for x in crew_data if x['job'] == 'Director']\n",
    "    return safe_access(directors, [0])\n",
    "\n",
    "# Apply functions here\n",
    "def make_ideal_format(dataset):\n",
    "    # make a copy of the data\n",
    "    df_format = dataset.copy()\n",
    "    df_format.rename(columns={'original_language': 'language'}, inplace=True)\n",
    "    # get the year, month and day of release\n",
    "    df_format['release_year'] = pd.to_datetime(df_format['release_date']).apply(lambda x: x.year)\n",
    "    df_format['release_month'] = pd.to_datetime(df_format['release_date']).apply(lambda x: x.month)\n",
    "    df_format['release_day'] = pd.to_datetime(df_format['release_date']).apply(lambda x: x.day)\n",
    "    # Get all the names of the countries where the movies where produced\n",
    "    df_format['production_countries'] = df_format['production_countries'].apply(get_value_names)\n",
    "    # Get all the languages spoken / used in the movie\n",
    "    df_format['spoken_language'] = df_format['spoken_languages'].apply(get_value_names)\n",
    "    # Get crew members with the job title `Director`\n",
    "    df_format['director_name'] = df_format['crew'].apply(get_director)\n",
    "   \n",
    "    # Get the names the top 5 actors from the cast feature\n",
    "    df_format['actor_1_name'] = df_format['cast'].apply(lambda x: safe_access(x, [1, 'name']))\n",
    "    df_format['actor_2_name'] = df_format['cast'].apply(lambda x: safe_access(x, [2, 'name']))\n",
    "    df_format['actor_3_name'] = df_format['cast'].apply(lambda x: safe_access(x, [3, 'name']))\n",
    "    df_format['actor_4_name'] = df_format['cast'].apply(lambda x: safe_access(x, [4, 'name']))\n",
    "    df_format['actor_5_name'] = df_format['cast'].apply(lambda x: safe_access(x, [5, 'name']))\n",
    "    # get the names of the cast members\n",
    "    df_format['cast'] = df_format['cast'].apply(get_value_names)\n",
    "    # get the movie Genres\n",
    "    df_format['genres'] = df_format['genres'].apply(get_name_genres)\n",
    "    # get names, job_title, and the department of the crew members\n",
    "    df_format['crew_names'] = df_format['crew'].apply(get_value_names)\n",
    "    df_format['crew_jobs'] = df_format['crew'].apply(get_jobs_crew)\n",
    "    df_format['crew_departments'] = df_format['crew'].apply(get_value_department)\n",
    "    # get names of the keywords\n",
    "    df_format['keywords'] = df_format['keywords'].apply(get_value_names)\n",
    "    # get the names of the production companies\n",
    "    df_format['production_companies'] = df_format['production_companies'].apply(get_value_names)\n",
    "    # return the DataFrame\n",
    "    return df_format"
   ]
  },
  {
   "cell_type": "code",
   "execution_count": 13,
   "metadata": {},
   "outputs": [
    {
     "name": "stdout",
     "output_type": "stream",
     "text": [
      "Shape: (4803, 36)\n"
     ]
    },
    {
     "data": {
      "text/html": [
       "<div>\n",
       "<style scoped>\n",
       "    .dataframe tbody tr th:only-of-type {\n",
       "        vertical-align: middle;\n",
       "    }\n",
       "\n",
       "    .dataframe tbody tr th {\n",
       "        vertical-align: top;\n",
       "    }\n",
       "\n",
       "    .dataframe thead th {\n",
       "        text-align: right;\n",
       "    }\n",
       "</style>\n",
       "<table border=\"1\" class=\"dataframe\">\n",
       "  <thead>\n",
       "    <tr style=\"text-align: right;\">\n",
       "      <th></th>\n",
       "      <th>budget</th>\n",
       "      <th>genres</th>\n",
       "      <th>homepage</th>\n",
       "      <th>id</th>\n",
       "      <th>keywords</th>\n",
       "      <th>language</th>\n",
       "      <th>original_title</th>\n",
       "      <th>overview</th>\n",
       "      <th>popularity</th>\n",
       "      <th>production_companies</th>\n",
       "      <th>...</th>\n",
       "      <th>spoken_language</th>\n",
       "      <th>director_name</th>\n",
       "      <th>actor_1_name</th>\n",
       "      <th>actor_2_name</th>\n",
       "      <th>actor_3_name</th>\n",
       "      <th>actor_4_name</th>\n",
       "      <th>actor_5_name</th>\n",
       "      <th>crew_names</th>\n",
       "      <th>crew_jobs</th>\n",
       "      <th>crew_departments</th>\n",
       "    </tr>\n",
       "  </thead>\n",
       "  <tbody>\n",
       "    <tr>\n",
       "      <th>0</th>\n",
       "      <td>237000000</td>\n",
       "      <td>[Action, Adventure, Fantasy, Science Fiction]</td>\n",
       "      <td>http://www.avatarmovie.com/</td>\n",
       "      <td>19995</td>\n",
       "      <td>culture clash|future|space war|space colony|so...</td>\n",
       "      <td>en</td>\n",
       "      <td>Avatar</td>\n",
       "      <td>In the 22nd century, a paraplegic Marine is di...</td>\n",
       "      <td>150.437577</td>\n",
       "      <td>Ingenious Film Partners|Twentieth Century Fox ...</td>\n",
       "      <td>...</td>\n",
       "      <td>English|Español</td>\n",
       "      <td>James Cameron</td>\n",
       "      <td>Zoe Saldana</td>\n",
       "      <td>Sigourney Weaver</td>\n",
       "      <td>Stephen Lang</td>\n",
       "      <td>Michelle Rodriguez</td>\n",
       "      <td>Giovanni Ribisi</td>\n",
       "      <td>Stephen E. Rivkin|Rick Carter|Christopher Boye...</td>\n",
       "      <td>[Editor, Production Design, Sound Designer, Su...</td>\n",
       "      <td>Editing|Art|Sound|Sound|Production|Sound|Direc...</td>\n",
       "    </tr>\n",
       "    <tr>\n",
       "      <th>1</th>\n",
       "      <td>300000000</td>\n",
       "      <td>[Adventure, Fantasy, Action]</td>\n",
       "      <td>http://disney.go.com/disneypictures/pirates/</td>\n",
       "      <td>285</td>\n",
       "      <td>ocean|drug abuse|exotic island|east india trad...</td>\n",
       "      <td>en</td>\n",
       "      <td>Pirates of the Caribbean: At World's End</td>\n",
       "      <td>Captain Barbossa, long believed to be dead, ha...</td>\n",
       "      <td>139.082615</td>\n",
       "      <td>Walt Disney Pictures|Jerry Bruckheimer Films|S...</td>\n",
       "      <td>...</td>\n",
       "      <td>English</td>\n",
       "      <td>Gore Verbinski</td>\n",
       "      <td>Orlando Bloom</td>\n",
       "      <td>Keira Knightley</td>\n",
       "      <td>Stellan Skarsgård</td>\n",
       "      <td>Chow Yun-fat</td>\n",
       "      <td>Bill Nighy</td>\n",
       "      <td>Dariusz Wolski|Gore Verbinski|Jerry Bruckheime...</td>\n",
       "      <td>[Director of Photography, Director, Producer, ...</td>\n",
       "      <td>Camera|Directing|Production|Writing|Writing|Ed...</td>\n",
       "    </tr>\n",
       "    <tr>\n",
       "      <th>2</th>\n",
       "      <td>245000000</td>\n",
       "      <td>[Action, Adventure, Crime]</td>\n",
       "      <td>http://www.sonypictures.com/movies/spectre/</td>\n",
       "      <td>206647</td>\n",
       "      <td>spy|based on novel|secret agent|sequel|mi6|bri...</td>\n",
       "      <td>en</td>\n",
       "      <td>Spectre</td>\n",
       "      <td>A cryptic message from Bond’s past sends him o...</td>\n",
       "      <td>107.376788</td>\n",
       "      <td>Columbia Pictures|Danjaq|B24</td>\n",
       "      <td>...</td>\n",
       "      <td>Français|English|Español|Italiano|Deutsch</td>\n",
       "      <td>Sam Mendes</td>\n",
       "      <td>Christoph Waltz</td>\n",
       "      <td>Léa Seydoux</td>\n",
       "      <td>Ralph Fiennes</td>\n",
       "      <td>Monica Bellucci</td>\n",
       "      <td>Ben Whishaw</td>\n",
       "      <td>Thomas Newman|Sam Mendes|Anna Pinnock|John Log...</td>\n",
       "      <td>[Original Music Composer, Director, Set Decora...</td>\n",
       "      <td>Sound|Directing|Art|Writing|Writing|Art|Writin...</td>\n",
       "    </tr>\n",
       "  </tbody>\n",
       "</table>\n",
       "<p>3 rows × 34 columns</p>\n",
       "</div>"
      ],
      "text/plain": [
       "      budget                                         genres  \\\n",
       "0  237000000  [Action, Adventure, Fantasy, Science Fiction]   \n",
       "1  300000000                   [Adventure, Fantasy, Action]   \n",
       "2  245000000                     [Action, Adventure, Crime]   \n",
       "\n",
       "                                       homepage      id  \\\n",
       "0                   http://www.avatarmovie.com/   19995   \n",
       "1  http://disney.go.com/disneypictures/pirates/     285   \n",
       "2   http://www.sonypictures.com/movies/spectre/  206647   \n",
       "\n",
       "                                            keywords language  \\\n",
       "0  culture clash|future|space war|space colony|so...       en   \n",
       "1  ocean|drug abuse|exotic island|east india trad...       en   \n",
       "2  spy|based on novel|secret agent|sequel|mi6|bri...       en   \n",
       "\n",
       "                             original_title  \\\n",
       "0                                    Avatar   \n",
       "1  Pirates of the Caribbean: At World's End   \n",
       "2                                   Spectre   \n",
       "\n",
       "                                            overview  popularity  \\\n",
       "0  In the 22nd century, a paraplegic Marine is di...  150.437577   \n",
       "1  Captain Barbossa, long believed to be dead, ha...  139.082615   \n",
       "2  A cryptic message from Bond’s past sends him o...  107.376788   \n",
       "\n",
       "                                production_companies  ...  \\\n",
       "0  Ingenious Film Partners|Twentieth Century Fox ...  ...   \n",
       "1  Walt Disney Pictures|Jerry Bruckheimer Films|S...  ...   \n",
       "2                       Columbia Pictures|Danjaq|B24  ...   \n",
       "\n",
       "                             spoken_language   director_name     actor_1_name  \\\n",
       "0                            English|Español   James Cameron      Zoe Saldana   \n",
       "1                                    English  Gore Verbinski    Orlando Bloom   \n",
       "2  Français|English|Español|Italiano|Deutsch      Sam Mendes  Christoph Waltz   \n",
       "\n",
       "       actor_2_name       actor_3_name        actor_4_name     actor_5_name  \\\n",
       "0  Sigourney Weaver       Stephen Lang  Michelle Rodriguez  Giovanni Ribisi   \n",
       "1   Keira Knightley  Stellan Skarsgård        Chow Yun-fat       Bill Nighy   \n",
       "2       Léa Seydoux      Ralph Fiennes     Monica Bellucci      Ben Whishaw   \n",
       "\n",
       "                                          crew_names  \\\n",
       "0  Stephen E. Rivkin|Rick Carter|Christopher Boye...   \n",
       "1  Dariusz Wolski|Gore Verbinski|Jerry Bruckheime...   \n",
       "2  Thomas Newman|Sam Mendes|Anna Pinnock|John Log...   \n",
       "\n",
       "                                           crew_jobs  \\\n",
       "0  [Editor, Production Design, Sound Designer, Su...   \n",
       "1  [Director of Photography, Director, Producer, ...   \n",
       "2  [Original Music Composer, Director, Set Decora...   \n",
       "\n",
       "                                    crew_departments  \n",
       "0  Editing|Art|Sound|Sound|Production|Sound|Direc...  \n",
       "1  Camera|Directing|Production|Writing|Writing|Ed...  \n",
       "2  Sound|Directing|Art|Writing|Writing|Art|Writin...  \n",
       "\n",
       "[3 rows x 34 columns]"
      ]
     },
     "execution_count": 13,
     "metadata": {},
     "output_type": "execute_result"
    }
   ],
   "source": [
    "df = make_ideal_format(dataset)\n",
    "print('Shape:',df.shape)\n",
    "\n",
    "# Remove/drop `title_y` and `title_x`\n",
    "df.drop(['title_y', 'title_x'], axis=1, inplace=True)\n",
    "\n",
    "df.head(3)"
   ]
  },
  {
   "cell_type": "code",
   "execution_count": 14,
   "metadata": {},
   "outputs": [
    {
     "name": "stdout",
     "output_type": "stream",
     "text": [
      "Shape after dropping the two columns:  (4803, 34)\n"
     ]
    }
   ],
   "source": [
    "print('Shape after dropping the two columns: ', df.shape)"
   ]
  },
  {
   "cell_type": "markdown",
   "metadata": {},
   "source": [
    "### Overview Analysis \n",
    "\n",
    "- I'll be using the `Overview` Feature for Genre Prediction"
   ]
  },
  {
   "cell_type": "code",
   "execution_count": 15,
   "metadata": {},
   "outputs": [
    {
     "data": {
      "text/plain": [
       "pandas.core.series.Series"
      ]
     },
     "execution_count": 15,
     "metadata": {},
     "output_type": "execute_result"
    }
   ],
   "source": [
    "df['overview'] = df['overview'].apply(str)  \n",
    "type(df['overview'])"
   ]
  },
  {
   "cell_type": "code",
   "execution_count": 16,
   "metadata": {},
   "outputs": [],
   "source": [
    "import re\n",
    "import os\n",
    "import io\n",
    "import string\n",
    "from itertools import repeat\n",
    "from datetime import datetime\n",
    "from collections import Counter\n",
    "from operator import itemgetter\n",
    "from scipy.spatial.distance import cosine\n",
    "from sklearn.feature_extraction import stop_words\n",
    "\n",
    "pd.set_option('display.max_colwidth', -1)\n",
    "pd.options.mode.chained_assignment = None # Silence pandas SettingWithCopyWarning\n",
    "sns.set(style='whitegrid', color_codes=True)"
   ]
  },
  {
   "cell_type": "code",
   "execution_count": 17,
   "metadata": {},
   "outputs": [],
   "source": [
    "# normalize the dataset by removing quotations, ampersand, punctuations and capital letters, etc.\n",
    "\n",
    "df['norm_overview'] = df.overview.map(lambda x: re.sub(r'<a href=\\S+>', '', x))\n",
    "df['norm_overview'] = df.norm_overview.map(lambda x: x.replace('</a>', '')) \n",
    "df['norm_overview'] = df.norm_overview.map(lambda x: x.replace('<br />', ' ')) \n",
    "df['norm_overview'] = df.norm_overview.map(lambda x: x.replace('&quot;', '')) \n",
    "df['norm_overview'] = df.norm_overview.map(lambda x: x.replace('&amp;', 'and'))\n",
    "df['norm_overview'] = df.norm_overview.map(lambda x: x.lower()) \n",
    "df['norm_overview'] = df.norm_overview.map(lambda x: x.translate(str.maketrans('', '', string.punctuation))) \n",
    "df['norm_overview'] = df.norm_overview.map(lambda x: x.replace('  ', ' '))"
   ]
  },
  {
   "cell_type": "code",
   "execution_count": 18,
   "metadata": {},
   "outputs": [],
   "source": [
    "df = df.drop_duplicates(subset=['overview'], keep=False) # remove duplicates"
   ]
  },
  {
   "cell_type": "code",
   "execution_count": 19,
   "metadata": {},
   "outputs": [
    {
     "data": {
      "text/plain": [
       "'a cryptic message from bond’s past sends him on a trail to uncover a sinister organization while m battles political forces to keep the secret service alive bond peels back the layers of deceit to reveal the terrible truth behind spectre'"
      ]
     },
     "execution_count": 19,
     "metadata": {},
     "output_type": "execute_result"
    }
   ],
   "source": [
    "df['norm_overview'][2]"
   ]
  },
  {
   "cell_type": "code",
   "execution_count": 20,
   "metadata": {},
   "outputs": [
    {
     "name": "stdout",
     "output_type": "stream",
     "text": [
      "<class 'pandas.core.frame.DataFrame'>\n",
      "Int64Index: 4800 entries, 0 to 4802\n",
      "Data columns (total 35 columns):\n",
      " #   Column                Non-Null Count  Dtype  \n",
      "---  ------                --------------  -----  \n",
      " 0   budget                4800 non-null   int64  \n",
      " 1   genres                4800 non-null   object \n",
      " 2   homepage              1712 non-null   object \n",
      " 3   id                    4800 non-null   int64  \n",
      " 4   keywords              4800 non-null   object \n",
      " 5   language              4800 non-null   object \n",
      " 6   original_title        4800 non-null   object \n",
      " 7   overview              4800 non-null   object \n",
      " 8   popularity            4800 non-null   float64\n",
      " 9   production_companies  4800 non-null   object \n",
      " 10  production_countries  4800 non-null   object \n",
      " 11  release_date          4799 non-null   object \n",
      " 12  revenue               4800 non-null   int64  \n",
      " 13  runtime               4800 non-null   float64\n",
      " 14  spoken_languages      4800 non-null   object \n",
      " 15  status                4800 non-null   object \n",
      " 16  tagline               3959 non-null   object \n",
      " 17  vote_average          4800 non-null   float64\n",
      " 18  vote_count            4800 non-null   int64  \n",
      " 19  cast                  4800 non-null   object \n",
      " 20  crew                  4800 non-null   object \n",
      " 21  release_year          4799 non-null   float64\n",
      " 22  release_month         4799 non-null   float64\n",
      " 23  release_day           4799 non-null   float64\n",
      " 24  spoken_language       4800 non-null   object \n",
      " 25  director_name         4770 non-null   object \n",
      " 26  actor_1_name          4749 non-null   object \n",
      " 27  actor_2_name          4739 non-null   object \n",
      " 28  actor_3_name          4709 non-null   object \n",
      " 29  actor_4_name          4633 non-null   object \n",
      " 30  actor_5_name          4522 non-null   object \n",
      " 31  crew_names            4800 non-null   object \n",
      " 32  crew_jobs             4800 non-null   object \n",
      " 33  crew_departments      4800 non-null   object \n",
      " 34  norm_overview         4800 non-null   object \n",
      "dtypes: float64(6), int64(4), object(25)\n",
      "memory usage: 1.5+ MB\n"
     ]
    }
   ],
   "source": [
    "df.info()"
   ]
  },
  {
   "cell_type": "markdown",
   "metadata": {},
   "source": [
    "####  Remove all words on the stopword list from all of the dictionaries. \n",
    "#### Now your dictionaries contain only words that may be relevant to the semantic relationships amongst the topics."
   ]
  },
  {
   "cell_type": "code",
   "execution_count": 21,
   "metadata": {},
   "outputs": [
    {
     "name": "stdout",
     "output_type": "stream",
     "text": [
      "Number of words in stopwords list: 318\n",
      "50 words on the stopwords list: ['herein', 'become', 'bill', 'my', 'find', 'part', 'thin', 'see', 'becomes', 'whatever', 'per', 'due', 'not', 'among', 'name', 'rather', 'those', 'her', 'toward', 'couldnt', 'beside', 'around', 'whoever', 'herself', 'whose', 'again', 'a', 'first', 'whole', 'serious', 'across', 'ever', 'sincere', 'became', 'on', 'below', 'seems', 'so', 'move', 'thereby', 'perhaps', 'being', 'many', 'full', 'cannot', 'anything', 'still', 'alone', 'meanwhile', 'off']\n"
     ]
    }
   ],
   "source": [
    "print('Number of words in stopwords list:', len(stop_words.ENGLISH_STOP_WORDS))\n",
    "print('50 words on the stopwords list:', list(stop_words.ENGLISH_STOP_WORDS)[:50])"
   ]
  },
  {
   "cell_type": "code",
   "execution_count": 22,
   "metadata": {},
   "outputs": [],
   "source": [
    "def create_dict(norm_text):\n",
    "    wordlist = [review.split(' ') for review in norm_text] # Create a list of lists (words in each review).\n",
    "    wordlist = [word for review in wordlist for word in review] # Flatten the wordlist to create one list of all words in the reviews.\n",
    "    vocab_dict = Counter(wordlist) # Create a Counter object (a dictionary of words and their frequencies).\n",
    "    for word in list(vocab_dict):\n",
    "        if word in stop_words.ENGLISH_STOP_WORDS or word=='':\n",
    "            del vocab_dict[word]\n",
    "    return vocab_dict"
   ]
  },
  {
   "cell_type": "code",
   "execution_count": 23,
   "metadata": {},
   "outputs": [],
   "source": [
    "all_dict = create_dict(df.norm_overview)    # Using the normalised overview text"
   ]
  },
  {
   "cell_type": "code",
   "execution_count": 24,
   "metadata": {},
   "outputs": [
    {
     "name": "stdout",
     "output_type": "stream",
     "text": [
      "Number of unique words in all overviews: 23527\n",
      "\n",
      "Most common words in all overviews: [('life', 799), ('new', 714), ('young', 629), ('world', 561), ('man', 503), ('family', 492), ('story', 448), ('love', 425), ('years', 354), ('finds', 331), ('friends', 328), ('time', 313), ('help', 312), ('film', 310), ('father', 304), ('lives', 298), ('way', 285), ('home', 278), ('war', 273), ('woman', 272), ('town', 269), ('school', 262), ('city', 247), ('friend', 238), ('group', 238), ('wife', 234), ('set', 232), ('son', 227), ('soon', 224), ('make', 222), ('team', 221), ('takes', 220), ('just', 220), ('girl', 219), ('hes', 216), ('old', 210), ('save', 208), ('mother', 205), ('york', 203), ('death', 202), ('best', 199), ('people', 198), ('–', 197), ('gets', 197), ('day', 191), ('daughter', 190), ('american', 186), ('true', 186), ('begins', 182), ('discovers', 179)]\n"
     ]
    }
   ],
   "source": [
    "print('Number of unique words in all overviews:', len(all_dict))\n",
    "\n",
    "print('')\n",
    "print('Most common words in all overviews:', all_dict.most_common(50))"
   ]
  },
  {
   "cell_type": "code",
   "execution_count": 25,
   "metadata": {},
   "outputs": [
    {
     "name": "stdout",
     "output_type": "stream",
     "text": [
      "Number of words in all overviews: 23527\n",
      "Number of words with frequencies below 20: 22276\n",
      "Number of words with frequencies of at least 20: 1251\n",
      " \n",
      "A sample of low-frequency words: ['22nd', 'paraplegic', 'marine', 'dispatched', 'moon', 'pandora', 'protecting', 'civilization', 'barbossa', 'believed', 'headed', 'edge', 'turner', 'swann', 'quite', 'cryptic', 'message', 'bond’s', 'm', 'battles', 'peels', 'layers', 'deceit', 'reveal', 'spectre', 'harvey', 'dent', 'batman', 'assumes', 'responsibility', 'dents', 'attorneys', 'reputation', 'subsequently', 'hunted', 'gotham', 'department', 'selina', 'kyle', 'villainous', 'bane', 'overwhelms', 'gothams', 'finest', 'knight', 'resurfaces', 'branded', 'warweary', 'inexplicably', 'transported']\n"
     ]
    }
   ],
   "source": [
    "vocab_dict = all_dict\n",
    "low_freq = []\n",
    "for word in list(vocab_dict):\n",
    "    if vocab_dict[word] < 20:\n",
    "        low_freq.append(word)\n",
    "\n",
    "print('Number of words in all overviews:', len(vocab_dict))\n",
    "print('Number of words with frequencies below 20:', len(low_freq))\n",
    "print('Number of words with frequencies of at least 20:', len(vocab_dict)-len(low_freq))\n",
    "print(' ')\n",
    "print('A sample of low-frequency words:', low_freq[:50])"
   ]
  },
  {
   "cell_type": "markdown",
   "metadata": {},
   "source": [
    "## Can we Predict the Movie Genres using NLP?\n",
    "\n",
    "- Our task is to build a model that can predict the genre of a movie using just the plot details "
   ]
  },
  {
   "cell_type": "code",
   "execution_count": 38,
   "metadata": {},
   "outputs": [
    {
     "data": {
      "text/plain": [
       "0    [Action, Adventure, Fantasy, Science Fiction]\n",
       "1    [Adventure, Fantasy, Action]                 \n",
       "2    [Action, Adventure, Crime]                   \n",
       "Name: genres, dtype: object"
      ]
     },
     "execution_count": 38,
     "metadata": {},
     "output_type": "execute_result"
    }
   ],
   "source": [
    "df['genres'][:3]"
   ]
  },
  {
   "cell_type": "code",
   "execution_count": null,
   "metadata": {},
   "outputs": [],
   "source": [
    "# Find missing values on the genre Features"
   ]
  },
  {
   "cell_type": "markdown",
   "metadata": {},
   "source": [
    "### Our Strategy to Build a Movie Genre Prediction Model\n",
    "\n",
    "- We know that we can’t use supervised classification algorithms directly on a multi-label dataset. Therefore, we’ll first have to transform our target variable.\n",
    "\n",
    "- Using the `Overview`, `movie_name` and `genre` Features for this prediction"
   ]
  },
  {
   "cell_type": "code",
   "execution_count": 42,
   "metadata": {},
   "outputs": [],
   "source": [
    "import json\n",
    "import nltk\n",
    "import re \n",
    "from tqdm import tqdm\n",
    "from sklearn.feature_extraction.text import TfidfVectorizer\n",
    "from sklearn.model_selection import train_test_split\n",
    "\n",
    "%matplotlib inline\n",
    "pd.set_option('display.max_colwidth', 300)"
   ]
  },
  {
   "cell_type": "code",
   "execution_count": 43,
   "metadata": {},
   "outputs": [
    {
     "data": {
      "text/html": [
       "<div>\n",
       "<style scoped>\n",
       "    .dataframe tbody tr th:only-of-type {\n",
       "        vertical-align: middle;\n",
       "    }\n",
       "\n",
       "    .dataframe tbody tr th {\n",
       "        vertical-align: top;\n",
       "    }\n",
       "\n",
       "    .dataframe thead th {\n",
       "        text-align: right;\n",
       "    }\n",
       "</style>\n",
       "<table border=\"1\" class=\"dataframe\">\n",
       "  <thead>\n",
       "    <tr style=\"text-align: right;\">\n",
       "      <th></th>\n",
       "      <th>genres</th>\n",
       "      <th>original_title</th>\n",
       "      <th>norm_overview</th>\n",
       "    </tr>\n",
       "  </thead>\n",
       "  <tbody>\n",
       "    <tr>\n",
       "      <th>0</th>\n",
       "      <td>[Action, Adventure, Fantasy, Science Fiction]</td>\n",
       "      <td>Avatar</td>\n",
       "      <td>in the 22nd century a paraplegic marine is dispatched to the moon pandora on a unique mission but becomes torn between following orders and protecting an alien civilization</td>\n",
       "    </tr>\n",
       "    <tr>\n",
       "      <th>1</th>\n",
       "      <td>[Adventure, Fantasy, Action]</td>\n",
       "      <td>Pirates of the Caribbean: At World's End</td>\n",
       "      <td>captain barbossa long believed to be dead has come back to life and is headed to the edge of the earth with will turner and elizabeth swann but nothing is quite as it seems</td>\n",
       "    </tr>\n",
       "  </tbody>\n",
       "</table>\n",
       "</div>"
      ],
      "text/plain": [
       "                                          genres  \\\n",
       "0  [Action, Adventure, Fantasy, Science Fiction]   \n",
       "1                   [Adventure, Fantasy, Action]   \n",
       "\n",
       "                             original_title  \\\n",
       "0                                    Avatar   \n",
       "1  Pirates of the Caribbean: At World's End   \n",
       "\n",
       "                                                                                                                                                                  norm_overview  \n",
       "0  in the 22nd century a paraplegic marine is dispatched to the moon pandora on a unique mission but becomes torn between following orders and protecting an alien civilization  \n",
       "1  captain barbossa long believed to be dead has come back to life and is headed to the edge of the earth with will turner and elizabeth swann but nothing is quite as it seems  "
      ]
     },
     "execution_count": 43,
     "metadata": {},
     "output_type": "execute_result"
    }
   ],
   "source": [
    "movies_new = df.filter(['genres', 'original_title', 'norm_overview'], axis=1)\n",
    "\n",
    "movies_new.head(2)"
   ]
  },
  {
   "cell_type": "code",
   "execution_count": 45,
   "metadata": {},
   "outputs": [
    {
     "data": {
      "text/plain": [
       "(4800, 3)"
      ]
     },
     "execution_count": 45,
     "metadata": {},
     "output_type": "execute_result"
    }
   ],
   "source": [
    "movies_new.shape"
   ]
  },
  {
   "cell_type": "code",
   "execution_count": 51,
   "metadata": {},
   "outputs": [
    {
     "data": {
      "text/plain": [
       "(4772, 3)"
      ]
     },
     "execution_count": 51,
     "metadata": {},
     "output_type": "execute_result"
    }
   ],
   "source": [
    "# remove samples with 0 genre tags\n",
    "movies_new = movies_new[~(movies_new['genres'].str.len() == 0)]\n",
    "movies_new = movies_new[~(movies_new['original_title'].str.len() == 0)]\n",
    "movies_new = movies_new[~(movies_new['norm_overview'].str.len() == 0)]\n",
    "movies_new.shape"
   ]
  },
  {
   "cell_type": "code",
   "execution_count": 52,
   "metadata": {},
   "outputs": [
    {
     "data": {
      "text/plain": [
       "20"
      ]
     },
     "execution_count": 52,
     "metadata": {},
     "output_type": "execute_result"
    }
   ],
   "source": [
    "# get all genre tags in a list\n",
    "all_genres = sum(movies_new['genres'],[])\n",
    "len(set(all_genres))"
   ]
  },
  {
   "cell_type": "markdown",
   "metadata": {},
   "source": [
    "There are over `20` unique genre tags in our dataset. We will use `FreqDist( )` from the `nltk library` to create a dictionary of `genres` and their `occurrence count` across the dataset:"
   ]
  },
  {
   "cell_type": "code",
   "execution_count": 53,
   "metadata": {},
   "outputs": [],
   "source": [
    "all_genres = nltk.FreqDist(all_genres) \n",
    "\n",
    "# create dataframe\n",
    "all_genres_df = pd.DataFrame({'Genre': list(all_genres.keys()), \n",
    "                              'Count': list(all_genres.values())})"
   ]
  },
  {
   "cell_type": "code",
   "execution_count": 55,
   "metadata": {},
   "outputs": [
    {
     "data": {
      "image/png": "[encoded data removed]",
      "text/plain": [
       "<Figure size 864x1080 with 1 Axes>"
      ]
     },
     "metadata": {
      "needs_background": "light"
     },
     "output_type": "display_data"
    }
   ],
   "source": [
    "g = all_genres_df.nlargest(columns=\"Count\", n = 20) \n",
    "plt.figure(figsize=(12,15)) \n",
    "ax = sns.barplot(data=g, x= \"Count\", y = \"Genre\") \n",
    "ax.set(ylabel = 'Count') \n",
    "plt.show()"
   ]
  },
  {
   "cell_type": "markdown",
   "metadata": {},
   "source": [
    "- #### Though I normalised the `overview` Feature earlier by doing some little cleaning, will this time remove backslashes, aspostrophe, and removing everything except alphabets."
   ]
  },
  {
   "cell_type": "code",
   "execution_count": 56,
   "metadata": {},
   "outputs": [],
   "source": [
    "# function for text cleaning \n",
    "def clean_text(text):\n",
    "    # remove backslash-apostrophe \n",
    "    text = re.sub(\"\\'\", \"\", text) \n",
    "    # remove everything except alphabets \n",
    "    text = re.sub(\"[^a-zA-Z]\",\" \",text) \n",
    "    # remove whitespaces \n",
    "    text = ' '.join(text.split()) \n",
    "    \n",
    "    return text"
   ]
  },
  {
   "cell_type": "code",
   "execution_count": 57,
   "metadata": {},
   "outputs": [],
   "source": [
    "movies_new['norm_overview'] = movies_new['norm_overview'].apply(lambda x: clean_text(x))"
   ]
  },
  {
   "cell_type": "code",
   "execution_count": 58,
   "metadata": {},
   "outputs": [
    {
     "data": {
      "text/html": [
       "<div>\n",
       "<style scoped>\n",
       "    .dataframe tbody tr th:only-of-type {\n",
       "        vertical-align: middle;\n",
       "    }\n",
       "\n",
       "    .dataframe tbody tr th {\n",
       "        vertical-align: top;\n",
       "    }\n",
       "\n",
       "    .dataframe thead th {\n",
       "        text-align: right;\n",
       "    }\n",
       "</style>\n",
       "<table border=\"1\" class=\"dataframe\">\n",
       "  <thead>\n",
       "    <tr style=\"text-align: right;\">\n",
       "      <th></th>\n",
       "      <th>genres</th>\n",
       "      <th>original_title</th>\n",
       "      <th>norm_overview</th>\n",
       "    </tr>\n",
       "  </thead>\n",
       "  <tbody>\n",
       "    <tr>\n",
       "      <th>0</th>\n",
       "      <td>[Action, Adventure, Fantasy, Science Fiction]</td>\n",
       "      <td>Avatar</td>\n",
       "      <td>in the nd century a paraplegic marine is dispatched to the moon pandora on a unique mission but becomes torn between following orders and protecting an alien civilization</td>\n",
       "    </tr>\n",
       "    <tr>\n",
       "      <th>1</th>\n",
       "      <td>[Adventure, Fantasy, Action]</td>\n",
       "      <td>Pirates of the Caribbean: At World's End</td>\n",
       "      <td>captain barbossa long believed to be dead has come back to life and is headed to the edge of the earth with will turner and elizabeth swann but nothing is quite as it seems</td>\n",
       "    </tr>\n",
       "  </tbody>\n",
       "</table>\n",
       "</div>"
      ],
      "text/plain": [
       "                                          genres  \\\n",
       "0  [Action, Adventure, Fantasy, Science Fiction]   \n",
       "1                   [Adventure, Fantasy, Action]   \n",
       "\n",
       "                             original_title  \\\n",
       "0                                    Avatar   \n",
       "1  Pirates of the Caribbean: At World's End   \n",
       "\n",
       "                                                                                                                                                                  norm_overview  \n",
       "0    in the nd century a paraplegic marine is dispatched to the moon pandora on a unique mission but becomes torn between following orders and protecting an alien civilization  \n",
       "1  captain barbossa long believed to be dead has come back to life and is headed to the edge of the earth with will turner and elizabeth swann but nothing is quite as it seems  "
      ]
     },
     "execution_count": 58,
     "metadata": {},
     "output_type": "execute_result"
    }
   ],
   "source": [
    "movies_new.head(2)"
   ]
  },
  {
   "cell_type": "markdown",
   "metadata": {},
   "source": [
    "- The function below will visualize the words and their frequency in a set of documents. Let’s use it to find out the most frequent words in the `norm_overview` column:"
   ]
  },
  {
   "cell_type": "code",
   "execution_count": 60,
   "metadata": {},
   "outputs": [
    {
     "data": {
      "image/png": "[encoded data removed]",
      "text/plain": [
       "<Figure size 864x1080 with 1 Axes>"
      ]
     },
     "metadata": {
      "needs_background": "light"
     },
     "output_type": "display_data"
    }
   ],
   "source": [
    "def freq_words(x, terms = 20):\n",
    "    all_words = ' '.join([text for text in x]) \n",
    "    all_words = all_words.split() \n",
    "    fdist = nltk.FreqDist(all_words) \n",
    "    words_df = pd.DataFrame({'word':list(fdist.keys()), 'count':list(fdist.values())}) \n",
    "\n",
    "  # selecting top 20 most frequent words \n",
    "    d = words_df.nlargest(columns=\"count\", n = terms) \n",
    "  \n",
    "  # visualize words and frequencies\n",
    "    plt.figure(figsize=(12,15)) \n",
    "    ax = sns.barplot(data=d, x= \"count\", y = \"word\") \n",
    "    ax.set(ylabel = 'Word') \n",
    "    plt.show()\n",
    "  \n",
    "# print 100 most frequent words \n",
    "freq_words(movies_new['norm_overview'], 100)"
   ]
  },
  {
   "cell_type": "markdown",
   "metadata": {},
   "source": [
    "- Most of the terms in the above plot are `stopwords`. These `stopwords` carry far less meaning than other keywords in the text (they just add noise to the data). I’m going to go ahead and remove them from the `norm_overview`. The list of stopwords can be downloaded from the nltk library:"
   ]
  },
  {
   "cell_type": "code",
   "execution_count": 61,
   "metadata": {},
   "outputs": [
    {
     "name": "stderr",
     "output_type": "stream",
     "text": [
      "[nltk_data] Downloading package stopwords to\n",
      "[nltk_data]     C:\\Users\\Sillians\\AppData\\Roaming\\nltk_data...\n",
      "[nltk_data]   Unzipping corpora\\stopwords.zip.\n"
     ]
    },
    {
     "data": {
      "text/plain": [
       "True"
      ]
     },
     "execution_count": 61,
     "metadata": {},
     "output_type": "execute_result"
    }
   ],
   "source": [
    "nltk.download('stopwords')"
   ]
  },
  {
   "cell_type": "markdown",
   "metadata": {},
   "source": [
    "#### Let’s remove the stopwords:"
   ]
  },
  {
   "cell_type": "code",
   "execution_count": 62,
   "metadata": {},
   "outputs": [],
   "source": [
    "from nltk.corpus import stopwords\n",
    "stop_words = set(stopwords.words('english'))\n",
    "\n",
    "# function to remove stopwords\n",
    "def remove_stopwords(text):\n",
    "    no_stopword_text = [w for w in text.split() if not w in stop_words]\n",
    "    return ' '.join(no_stopword_text)\n",
    "\n",
    "movies_new['norm_overview'] = movies_new['norm_overview'].apply(lambda x: remove_stopwords(x))"
   ]
  },
  {
   "cell_type": "markdown",
   "metadata": {},
   "source": [
    "#### Check the most frequent terms sans the stopwords:"
   ]
  },
  {
   "cell_type": "code",
   "execution_count": 64,
   "metadata": {},
   "outputs": [
    {
     "data": {
      "image/png": "[encoded data removed]",
      "text/plain": [
       "<Figure size 864x1080 with 1 Axes>"
      ]
     },
     "metadata": {
      "needs_background": "light"
     },
     "output_type": "display_data"
    }
   ],
   "source": [
    "freq_words(movies_new['norm_overview'], 50)"
   ]
  },
  {
   "cell_type": "markdown",
   "metadata": {},
   "source": [
    "- Meaningful words have now emerged i.e: `life`, `Young`, `family`, `story`, `man`, etc"
   ]
  },
  {
   "cell_type": "markdown",
   "metadata": {},
   "source": [
    "### Converting Text to Features\n",
    "\n",
    "- This problem is a multi-label classification problem and would be treated as a Binary Relevance problem.\n",
    "- Hence, we will now one hot encode the target variable, i.e., `genres` by using sklearn’s `MultiLabelBinarizer( )`. Since there are 20 unique genre tags, there are going to be 20 new target variables."
   ]
  },
  {
   "cell_type": "code",
   "execution_count": 65,
   "metadata": {},
   "outputs": [],
   "source": [
    "from sklearn.preprocessing import MultiLabelBinarizer\n",
    "\n",
    "multilabel_binarizer = MultiLabelBinarizer()\n",
    "multilabel_binarizer.fit(movies_new['genres'])\n",
    "\n",
    "# transform target variable\n",
    "y = multilabel_binarizer.transform(movies_new['genres'])"
   ]
  },
  {
   "cell_type": "code",
   "execution_count": 66,
   "metadata": {},
   "outputs": [
    {
     "data": {
      "text/plain": [
       "(4772, 20)"
      ]
     },
     "execution_count": 66,
     "metadata": {},
     "output_type": "execute_result"
    }
   ],
   "source": [
    "y.shape"
   ]
  },
  {
   "cell_type": "markdown",
   "metadata": {},
   "source": [
    "   - Now, it’s time to turn our focus to extracting features from the cleaned version of the movie `norm_overview` data. For this Project, I will be using `TF-IDF` features. One can as well use any other feature extraction method i.e, `Bag-of-Words`, `word2vec`, `GloVe`, or `ELMo`."
   ]
  },
  {
   "cell_type": "code",
   "execution_count": 69,
   "metadata": {},
   "outputs": [],
   "source": [
    "# I have used the 10,000 most frequent words in the data as my features.\n",
    "tfidf_vectorizer = TfidfVectorizer(max_df=0.8, max_features=10000)"
   ]
  },
  {
   "cell_type": "markdown",
   "metadata": {},
   "source": [
    "- Now, before creating `TF-IDF` features, we will split our data into `train` and `validation` sets for `training` and `evaluating` our model’s performance. I’m going with a `80-20 split` – `80%` of the data samples in the train set and the rest in the validation set:"
   ]
  },
  {
   "cell_type": "code",
   "execution_count": 70,
   "metadata": {},
   "outputs": [],
   "source": [
    "# split dataset into training and validation set\n",
    "x_train, x_val, y_train, y_val = train_test_split(movies_new['norm_overview'], y, test_size=0.2, random_state=0)"
   ]
  },
  {
   "cell_type": "markdown",
   "metadata": {},
   "source": [
    "- Now we can create features for the train and the validation set:"
   ]
  },
  {
   "cell_type": "code",
   "execution_count": 71,
   "metadata": {},
   "outputs": [],
   "source": [
    "# create TF-IDF features\n",
    "x_train_tfidf = tfidf_vectorizer.fit_transform(x_train)\n",
    "x_val_tfidf = tfidf_vectorizer.transform(x_val)"
   ]
  },
  {
   "cell_type": "markdown",
   "metadata": {},
   "source": [
    "### Now we can Build Our Movie Genre Prediction Model"
   ]
  },
  {
   "cell_type": "markdown",
   "metadata": {},
   "source": [
    "We will have to build a model for every `one-hot encoded` target variable. Since we have `20` target variables, we will have to fit `20` different models with the same set of predictors `(TF-IDF features)`.\n",
    "\n",
    "- I will build a Logistic Regression model as it is quick to train on limited computational power:"
   ]
  },
  {
   "cell_type": "code",
   "execution_count": 72,
   "metadata": {},
   "outputs": [],
   "source": [
    "from sklearn.linear_model import LogisticRegression\n",
    "\n",
    "# Binary Relevance\n",
    "from sklearn.multiclass import OneVsRestClassifier\n",
    "\n",
    "# Performance metric\n",
    "from sklearn.metrics import f1_score"
   ]
  },
  {
   "cell_type": "markdown",
   "metadata": {},
   "source": [
    "- We will use `sk-learn’s` `OneVsRestClassifier` class to solve this problem as a `Binary Relevance` or `one-vs-all` problem:"
   ]
  },
  {
   "cell_type": "code",
   "execution_count": 73,
   "metadata": {},
   "outputs": [],
   "source": [
    "lr = LogisticRegression()\n",
    "clf = OneVsRestClassifier(lr)"
   ]
  },
  {
   "cell_type": "markdown",
   "metadata": {},
   "source": [
    "- Finally, fit the model on the train set:"
   ]
  },
  {
   "cell_type": "code",
   "execution_count": 74,
   "metadata": {},
   "outputs": [
    {
     "data": {
      "text/plain": [
       "OneVsRestClassifier(estimator=LogisticRegression())"
      ]
     },
     "execution_count": 74,
     "metadata": {},
     "output_type": "execute_result"
    }
   ],
   "source": [
    "# fit model on train data\n",
    "clf.fit(x_train_tfidf, y_train)"
   ]
  },
  {
   "cell_type": "markdown",
   "metadata": {},
   "source": [
    "- Predict movie genres on the validation set:"
   ]
  },
  {
   "cell_type": "code",
   "execution_count": 75,
   "metadata": {},
   "outputs": [],
   "source": [
    "# make predictions for validation set\n",
    "y_pred = clf.predict(x_val_tfidf)"
   ]
  },
  {
   "cell_type": "markdown",
   "metadata": {},
   "source": [
    "- Let’s check out a sample from these predictions:"
   ]
  },
  {
   "cell_type": "code",
   "execution_count": 76,
   "metadata": {},
   "outputs": [
    {
     "data": {
      "text/plain": [
       "array([0, 0, 0, 1, 0, 0, 0, 0, 0, 0, 0, 0, 0, 0, 0, 0, 0, 0, 0, 0])"
      ]
     },
     "execution_count": 76,
     "metadata": {},
     "output_type": "execute_result"
    }
   ],
   "source": [
    "y_pred[3]"
   ]
  },
  {
   "cell_type": "markdown",
   "metadata": {},
   "source": [
    "- It is a `binary one-dimensional` array of length `20`. Basically, it is the `one-hot encoded` form of the unique `genres` tags. We will have to find a way to convert it into movie `genres tags`.\n",
    "\n",
    "- So, `sk-learn` comes to our rescue once again. We will use the `inverse_transform( )` function along with the `MultiLabelBinarizer( )` object to convert the predicted arrays into movie genre tags:"
   ]
  },
  {
   "cell_type": "code",
   "execution_count": 77,
   "metadata": {},
   "outputs": [
    {
     "data": {
      "text/plain": [
       "('Comedy',)"
      ]
     },
     "execution_count": 77,
     "metadata": {},
     "output_type": "execute_result"
    }
   ],
   "source": [
    "multilabel_binarizer.inverse_transform(y_pred)[3]"
   ]
  },
  {
   "cell_type": "markdown",
   "metadata": {},
   "source": [
    "- However, to `evaluate` our `model’s overall performance`, we need to take into consideration all the `predictions` and the `entire target variable` of the validation set:"
   ]
  },
  {
   "cell_type": "code",
   "execution_count": 78,
   "metadata": {},
   "outputs": [
    {
     "data": {
      "text/plain": [
       "0.343581616481775"
      ]
     },
     "execution_count": 78,
     "metadata": {},
     "output_type": "execute_result"
    }
   ],
   "source": [
    "# evaluate performance\n",
    "f1_score(y_val, y_pred, average=\"micro\")"
   ]
  },
  {
   "cell_type": "markdown",
   "metadata": {},
   "source": [
    "- We get a decent `F1 score` of `0.344`. These predictions were made based on a `threshold` value of `0.5`, which means that the probabilities greater than or equal to `0.5` were converted to `1’s` and the rest to `0’s`.\n",
    "\n",
    "- I'll try to change this `threshold` value and see if that improves our model’s score:"
   ]
  },
  {
   "cell_type": "code",
   "execution_count": 79,
   "metadata": {},
   "outputs": [],
   "source": [
    "# predict probabilities\n",
    "y_pred_prob = clf.predict_proba(x_val_tfidf)"
   ]
  },
  {
   "cell_type": "markdown",
   "metadata": {},
   "source": [
    "- Now set a threshold value:"
   ]
  },
  {
   "cell_type": "code",
   "execution_count": 84,
   "metadata": {},
   "outputs": [],
   "source": [
    "t = 0.35 # threshold value\n",
    "y_pred_new = (y_pred_prob >= t).astype(int)"
   ]
  },
  {
   "cell_type": "markdown",
   "metadata": {},
   "source": [
    "- Let’s check the F1 score again on these new predictions."
   ]
  },
  {
   "cell_type": "code",
   "execution_count": 85,
   "metadata": {},
   "outputs": [
    {
     "data": {
      "text/plain": [
       "0.507626310772164"
      ]
     },
     "execution_count": 85,
     "metadata": {},
     "output_type": "execute_result"
    }
   ],
   "source": [
    "# evaluate performance\n",
    "f1_score(y_val, y_pred_new, average=\"micro\")"
   ]
  },
  {
   "cell_type": "markdown",
   "metadata": {},
   "source": [
    "- This is quite a big boost in our model’s performance. A better approach to find the right threshold value would be to use a `k-fold cross validation` setup and try different values."
   ]
  },
  {
   "cell_type": "markdown",
   "metadata": {},
   "source": [
    "### Create Inference Function\n",
    "\n",
    "- Now, I'll also have to take care of the new data or new movie `overview` that will come in the future.  Our `movie genre` prediction system should be able to take a `movie overview` in raw form as input and generate its `genre tag(s)`.\n",
    "\n",
    "- To achieve this, let’s build an `inference function`. It will take a `movie overview text` and follow the below steps:\n",
    "\n",
    "\n",
    "    - Clean the text\n",
    "    - Remove stopwords from the cleaned text\n",
    "    - Extract features from the text\n",
    "    - Make predictions\n",
    "    - Return the predicted movie genre tags"
   ]
  },
  {
   "cell_type": "code",
   "execution_count": 86,
   "metadata": {},
   "outputs": [],
   "source": [
    "def infer_tags(q):\n",
    "    q = clean_text(q)\n",
    "    q = remove_stopwords(q)\n",
    "    q_vec = tfidf_vectorizer.transform([q])\n",
    "    q_pred = clf.predict(q_vec)\n",
    "    return multilabel_binarizer.inverse_transform(q_pred)"
   ]
  },
  {
   "cell_type": "markdown",
   "metadata": {},
   "source": [
    "- I'll test this inference function on a few samples from our validation set:"
   ]
  },
  {
   "cell_type": "code",
   "execution_count": 87,
   "metadata": {},
   "outputs": [
    {
     "data": {
      "text/plain": [
       "Index(['genres', 'original_title', 'norm_overview'], dtype='object')"
      ]
     },
     "execution_count": 87,
     "metadata": {},
     "output_type": "execute_result"
    }
   ],
   "source": [
    "movies_new.columns"
   ]
  },
  {
   "cell_type": "code",
   "execution_count": 105,
   "metadata": {},
   "outputs": [
    {
     "name": "stdout",
     "output_type": "stream",
     "text": [
      "Movie:  The Front Page \n",
      "Predicted genre:  [('Comedy', 'Drama')]\n",
      "Actual genre:  ['Romance', 'Drama', 'Comedy'] \n",
      "\n",
      "Movie:  Groundhog Day \n",
      "Predicted genre:  [('Drama',)]\n",
      "Actual genre:  ['Romance', 'Fantasy', 'Drama', 'Comedy'] \n",
      "\n",
      "Movie:  Maurice Richard \n",
      "Predicted genre:  [('Drama',)]\n",
      "Actual genre:  ['Drama'] \n",
      "\n",
      "Movie:  WALL·E \n",
      "Predicted genre:  [('Science Fiction',)]\n",
      "Actual genre:  ['Animation', 'Family'] \n",
      "\n",
      "Movie:  Edmond \n",
      "Predicted genre:  [('Drama',)]\n",
      "Actual genre:  ['Drama', 'Thriller'] \n",
      "\n"
     ]
    }
   ],
   "source": [
    "for i in range(5): \n",
    "  k = x_val.sample(1).index[0] \n",
    "  print(\"Movie: \", movies_new['original_title'][k], \"\\nPredicted genre: \", infer_tags(x_val[k])), print(\"Actual genre: \",movies_new['genres'][k], \"\\n\")"
   ]
  },
  {
   "cell_type": "markdown",
   "metadata": {},
   "source": [
    "### Conclusion on Movie Genre Prediction Model\n",
    "\n",
    "- Our Model isn't able to make much better prediction and this can be improved on.\n",
    "- We might need more keywords in our Overview Features to help our model make better Genre Prediction\n",
    "- We can twerk the model or better still try out different models and make a choice of the best performing model\n",
    "- More Data is needed for a very accurate prediction"
   ]
  },
  {
   "cell_type": "code",
   "execution_count": null,
   "metadata": {},
   "outputs": [],
   "source": []
  },
  {
   "cell_type": "markdown",
   "metadata": {},
   "source": [
    "### Categorize films by Type (Animated or Not_Animated)"
   ]
  },
  {
   "cell_type": "code",
   "execution_count": 106,
   "metadata": {},
   "outputs": [
    {
     "data": {
      "text/plain": [
       "0    [Action, Adventure, Fantasy, Science Fiction]\n",
       "1                     [Adventure, Fantasy, Action]\n",
       "2                       [Action, Adventure, Crime]\n",
       "3                 [Action, Crime, Drama, Thriller]\n",
       "4             [Action, Adventure, Science Fiction]\n",
       "5                     [Fantasy, Action, Adventure]\n",
       "6                              [Animation, Family]\n",
       "Name: genres, dtype: object"
      ]
     },
     "execution_count": 106,
     "metadata": {},
     "output_type": "execute_result"
    }
   ],
   "source": [
    "df['genres'][:7]"
   ]
  },
  {
   "cell_type": "code",
   "execution_count": 107,
   "metadata": {},
   "outputs": [
    {
     "data": {
      "text/html": [
       "<div>\n",
       "<style scoped>\n",
       "    .dataframe tbody tr th:only-of-type {\n",
       "        vertical-align: middle;\n",
       "    }\n",
       "\n",
       "    .dataframe tbody tr th {\n",
       "        vertical-align: top;\n",
       "    }\n",
       "\n",
       "    .dataframe thead th {\n",
       "        text-align: right;\n",
       "    }\n",
       "</style>\n",
       "<table border=\"1\" class=\"dataframe\">\n",
       "  <thead>\n",
       "    <tr style=\"text-align: right;\">\n",
       "      <th></th>\n",
       "      <th>genres</th>\n",
       "      <th>production_companies</th>\n",
       "      <th>original_title</th>\n",
       "      <th>crew_jobs</th>\n",
       "    </tr>\n",
       "  </thead>\n",
       "  <tbody>\n",
       "    <tr>\n",
       "      <th>0</th>\n",
       "      <td>[Action, Adventure, Fantasy, Science Fiction]</td>\n",
       "      <td>Ingenious Film Partners|Twentieth Century Fox Film Corporation|Dune Entertainment|Lightstorm Entertainment</td>\n",
       "      <td>Avatar</td>\n",
       "      <td>[Editor, Production Design, Sound Designer, Supervising Sound Editor, Casting, Original Music Composer, Director, Writer, Editor, Producer, Screenplay, Art Direction, Visual Effects Producer, Casting, Supervising Art Director, Music Editor, Sound Effects Editor, Foley, Foley, Costume Design, Pro...</td>\n",
       "    </tr>\n",
       "    <tr>\n",
       "      <th>1</th>\n",
       "      <td>[Adventure, Fantasy, Action]</td>\n",
       "      <td>Walt Disney Pictures|Jerry Bruckheimer Films|Second Mate Productions</td>\n",
       "      <td>Pirates of the Caribbean: At World's End</td>\n",
       "      <td>[Director of Photography, Director, Producer, Screenplay, Screenplay, Editor, Editor, Original Music Composer, Executive Producer, Producer, Producer, Producer, Producer, Casting, Production Design, Art Direction, Casting, Set Decoration, Costume Design, Costume Design, Music Supervisor, Concept...</td>\n",
       "    </tr>\n",
       "  </tbody>\n",
       "</table>\n",
       "</div>"
      ],
      "text/plain": [
       "                                          genres  \\\n",
       "0  [Action, Adventure, Fantasy, Science Fiction]   \n",
       "1                   [Adventure, Fantasy, Action]   \n",
       "\n",
       "                                                                                         production_companies  \\\n",
       "0  Ingenious Film Partners|Twentieth Century Fox Film Corporation|Dune Entertainment|Lightstorm Entertainment   \n",
       "1                                        Walt Disney Pictures|Jerry Bruckheimer Films|Second Mate Productions   \n",
       "\n",
       "                             original_title  \\\n",
       "0                                    Avatar   \n",
       "1  Pirates of the Caribbean: At World's End   \n",
       "\n",
       "                                                                                                                                                                                                                                                                                                     crew_jobs  \n",
       "0  [Editor, Production Design, Sound Designer, Supervising Sound Editor, Casting, Original Music Composer, Director, Writer, Editor, Producer, Screenplay, Art Direction, Visual Effects Producer, Casting, Supervising Art Director, Music Editor, Sound Effects Editor, Foley, Foley, Costume Design, Pro...  \n",
       "1  [Director of Photography, Director, Producer, Screenplay, Screenplay, Editor, Editor, Original Music Composer, Executive Producer, Producer, Producer, Producer, Producer, Casting, Production Design, Art Direction, Casting, Set Decoration, Costume Design, Costume Design, Music Supervisor, Concept...  "
      ]
     },
     "execution_count": 107,
     "metadata": {},
     "output_type": "execute_result"
    }
   ],
   "source": [
    "genre_ani = df.filter(['genres','production_companies','original_title', 'crew_jobs'], axis=1)\n",
    "\n",
    "genre_ani.head(2)"
   ]
  },
  {
   "cell_type": "code",
   "execution_count": 108,
   "metadata": {},
   "outputs": [],
   "source": [
    "# Categorize the films by type 'animated' / 'not_animated'\n",
    "def get_animated(genre_data):\n",
    "    for i in range(len(genre_data)):\n",
    "        if 'Animation' in genre_data[i]:\n",
    "            return 'Animation'\n",
    "        elif 'Animation' not in genre_data:\n",
    "            return 'Not_Animation'\n",
    "        else:\n",
    "            return 'Not_Animation'\n",
    "genre_ani['film_type'] = genre_ani['genres'].apply(get_animated)\n",
    "\n",
    "# Unpack the list form\n",
    "def join_crew_jobs(keywords):\n",
    "    return \" \".join(keywords)\n",
    "genre_ani['crew_jobs'] = df['crew_jobs'].apply(join_crew_jobs)"
   ]
  },
  {
   "cell_type": "code",
   "execution_count": 112,
   "metadata": {},
   "outputs": [
    {
     "data": {
      "text/html": [
       "<div>\n",
       "<style scoped>\n",
       "    .dataframe tbody tr th:only-of-type {\n",
       "        vertical-align: middle;\n",
       "    }\n",
       "\n",
       "    .dataframe tbody tr th {\n",
       "        vertical-align: top;\n",
       "    }\n",
       "\n",
       "    .dataframe thead th {\n",
       "        text-align: right;\n",
       "    }\n",
       "</style>\n",
       "<table border=\"1\" class=\"dataframe\">\n",
       "  <thead>\n",
       "    <tr style=\"text-align: right;\">\n",
       "      <th></th>\n",
       "      <th>genres</th>\n",
       "      <th>production_companies</th>\n",
       "      <th>original_title</th>\n",
       "      <th>crew_jobs</th>\n",
       "      <th>film_type</th>\n",
       "    </tr>\n",
       "  </thead>\n",
       "  <tbody>\n",
       "    <tr>\n",
       "      <th>0</th>\n",
       "      <td>[Action, Adventure, Fantasy, Science Fiction]</td>\n",
       "      <td>Ingenious Film Partners|Twentieth Century Fox Film Corporation|Dune Entertainment|Lightstorm Entertainment</td>\n",
       "      <td>Avatar</td>\n",
       "      <td>Editor Production Design Sound Designer Supervising Sound Editor Casting Original Music Composer Director Writer Editor Producer Screenplay Art Direction Visual Effects Producer Casting Supervising Art Director Music Editor Sound Effects Editor Foley Foley Costume Design Producer Art Direction S...</td>\n",
       "      <td>Not_Animation</td>\n",
       "    </tr>\n",
       "    <tr>\n",
       "      <th>1</th>\n",
       "      <td>[Adventure, Fantasy, Action]</td>\n",
       "      <td>Walt Disney Pictures|Jerry Bruckheimer Films|Second Mate Productions</td>\n",
       "      <td>Pirates of the Caribbean: At World's End</td>\n",
       "      <td>Director of Photography Director Producer Screenplay Screenplay Editor Editor Original Music Composer Executive Producer Producer Producer Producer Producer Casting Production Design Art Direction Casting Set Decoration Costume Design Costume Design Music Supervisor Conceptual Design Makeup Depa...</td>\n",
       "      <td>Not_Animation</td>\n",
       "    </tr>\n",
       "    <tr>\n",
       "      <th>2</th>\n",
       "      <td>[Action, Adventure, Crime]</td>\n",
       "      <td>Columbia Pictures|Danjaq|B24</td>\n",
       "      <td>Spectre</td>\n",
       "      <td>Original Music Composer Director Set Decoration Screenplay Story Production Design Characters Editor Music Editor Co-Producer Costume Design Casting Producer Line Producer Music Editor Sound Designer Supervising Sound Editor Casting Casting Associate Screenplay Story Screenplay Story Executive P...</td>\n",
       "      <td>Not_Animation</td>\n",
       "    </tr>\n",
       "    <tr>\n",
       "      <th>3</th>\n",
       "      <td>[Action, Crime, Drama, Thriller]</td>\n",
       "      <td>Legendary Pictures|Warner Bros.|DC Entertainment|Syncopy</td>\n",
       "      <td>The Dark Knight Rises</td>\n",
       "      <td>Original Music Composer Producer Screenplay Director Producer Story Screenplay Producer Director of Photography Camera Operator Casting Story Characters Editor Executive Producer Executive Producer Stunts Makeup Artist Costume Design Set Decoration Art Direction Production Design Production Desi...</td>\n",
       "      <td>Not_Animation</td>\n",
       "    </tr>\n",
       "    <tr>\n",
       "      <th>4</th>\n",
       "      <td>[Action, Adventure, Science Fiction]</td>\n",
       "      <td>Walt Disney Pictures</td>\n",
       "      <td>John Carter</td>\n",
       "      <td>Screenplay Director Thanks Producer Casting Sound Re-Recording Mixer Editor Dialogue Editor Sound Re-Recording Mixer Key Makeup Artist Set Decoration Thanks In Memory Of Makeup Designer Art Direction Production Design Music Director of Photography Music Editor Art Direction Costume Design Superv...</td>\n",
       "      <td>Not_Animation</td>\n",
       "    </tr>\n",
       "    <tr>\n",
       "      <th>5</th>\n",
       "      <td>[Fantasy, Action, Adventure]</td>\n",
       "      <td>Columbia Pictures|Laura Ziskin Productions|Marvel Enterprises</td>\n",
       "      <td>Spider-Man 3</td>\n",
       "      <td>Casting Executive Producer Screenplay Director Author Executive Producer Author Editor Producer Producer Production Design Costume Design Screenplay Executive Producer Director of Photography Producer Screenplay Original Music Composer Casting Production Design Set Decoration Costume Design Unit...</td>\n",
       "      <td>Not_Animation</td>\n",
       "    </tr>\n",
       "    <tr>\n",
       "      <th>6</th>\n",
       "      <td>[Animation, Family]</td>\n",
       "      <td>Walt Disney Pictures|Walt Disney Animation Studios</td>\n",
       "      <td>Tangled</td>\n",
       "      <td>Executive Producer Novel Novel Animation Supervisor Production Design Original Music Composer Songs Screenplay Producer Story Co-Art Director Editor Original Music Composer Director Sound Re-Recording Mixer Sound Re-Recording Mixer Director Casting Executive Producer Animation Supervisor Charact...</td>\n",
       "      <td>Animation</td>\n",
       "    </tr>\n",
       "  </tbody>\n",
       "</table>\n",
       "</div>"
      ],
      "text/plain": [
       "                                          genres  \\\n",
       "0  [Action, Adventure, Fantasy, Science Fiction]   \n",
       "1                   [Adventure, Fantasy, Action]   \n",
       "2                     [Action, Adventure, Crime]   \n",
       "3               [Action, Crime, Drama, Thriller]   \n",
       "4           [Action, Adventure, Science Fiction]   \n",
       "5                   [Fantasy, Action, Adventure]   \n",
       "6                            [Animation, Family]   \n",
       "\n",
       "                                                                                         production_companies  \\\n",
       "0  Ingenious Film Partners|Twentieth Century Fox Film Corporation|Dune Entertainment|Lightstorm Entertainment   \n",
       "1                                        Walt Disney Pictures|Jerry Bruckheimer Films|Second Mate Productions   \n",
       "2                                                                                Columbia Pictures|Danjaq|B24   \n",
       "3                                                    Legendary Pictures|Warner Bros.|DC Entertainment|Syncopy   \n",
       "4                                                                                        Walt Disney Pictures   \n",
       "5                                               Columbia Pictures|Laura Ziskin Productions|Marvel Enterprises   \n",
       "6                                                          Walt Disney Pictures|Walt Disney Animation Studios   \n",
       "\n",
       "                             original_title  \\\n",
       "0                                    Avatar   \n",
       "1  Pirates of the Caribbean: At World's End   \n",
       "2                                   Spectre   \n",
       "3                     The Dark Knight Rises   \n",
       "4                               John Carter   \n",
       "5                              Spider-Man 3   \n",
       "6                                   Tangled   \n",
       "\n",
       "                                                                                                                                                                                                                                                                                                     crew_jobs  \\\n",
       "0  Editor Production Design Sound Designer Supervising Sound Editor Casting Original Music Composer Director Writer Editor Producer Screenplay Art Direction Visual Effects Producer Casting Supervising Art Director Music Editor Sound Effects Editor Foley Foley Costume Design Producer Art Direction S...   \n",
       "1  Director of Photography Director Producer Screenplay Screenplay Editor Editor Original Music Composer Executive Producer Producer Producer Producer Producer Casting Production Design Art Direction Casting Set Decoration Costume Design Costume Design Music Supervisor Conceptual Design Makeup Depa...   \n",
       "2  Original Music Composer Director Set Decoration Screenplay Story Production Design Characters Editor Music Editor Co-Producer Costume Design Casting Producer Line Producer Music Editor Sound Designer Supervising Sound Editor Casting Casting Associate Screenplay Story Screenplay Story Executive P...   \n",
       "3  Original Music Composer Producer Screenplay Director Producer Story Screenplay Producer Director of Photography Camera Operator Casting Story Characters Editor Executive Producer Executive Producer Stunts Makeup Artist Costume Design Set Decoration Art Direction Production Design Production Desi...   \n",
       "4  Screenplay Director Thanks Producer Casting Sound Re-Recording Mixer Editor Dialogue Editor Sound Re-Recording Mixer Key Makeup Artist Set Decoration Thanks In Memory Of Makeup Designer Art Direction Production Design Music Director of Photography Music Editor Art Direction Costume Design Superv...   \n",
       "5  Casting Executive Producer Screenplay Director Author Executive Producer Author Editor Producer Producer Production Design Costume Design Screenplay Executive Producer Director of Photography Producer Screenplay Original Music Composer Casting Production Design Set Decoration Costume Design Unit...   \n",
       "6  Executive Producer Novel Novel Animation Supervisor Production Design Original Music Composer Songs Screenplay Producer Story Co-Art Director Editor Original Music Composer Director Sound Re-Recording Mixer Sound Re-Recording Mixer Director Casting Executive Producer Animation Supervisor Charact...   \n",
       "\n",
       "       film_type  \n",
       "0  Not_Animation  \n",
       "1  Not_Animation  \n",
       "2  Not_Animation  \n",
       "3  Not_Animation  \n",
       "4  Not_Animation  \n",
       "5  Not_Animation  \n",
       "6      Animation  "
      ]
     },
     "execution_count": 112,
     "metadata": {},
     "output_type": "execute_result"
    }
   ],
   "source": [
    "genre_ani.head(7)"
   ]
  },
  {
   "cell_type": "code",
   "execution_count": 113,
   "metadata": {},
   "outputs": [],
   "source": [
    "# normalize the crew_jobs column by removing quotations, ampersand, punctuations and capital letters, etc.\n",
    "\n",
    "genre_ani['crew_jobs'] = genre_ani.crew_jobs.map(lambda x: re.sub(r'<a href=\\S+>', '', x))\n",
    "genre_ani['crew_jobs'] = genre_ani.crew_jobs.map(lambda x: x.replace('</a>', '')) \n",
    "genre_ani['crew_jobs'] = genre_ani.crew_jobs.map(lambda x: x.replace('<br />', ' ')) \n",
    "genre_ani['crew_jobs'] = genre_ani.crew_jobs.map(lambda x: x.replace('&quot;', '')) \n",
    "genre_ani['crew_jobs'] = genre_ani.crew_jobs.map(lambda x: x.replace('&amp;', 'and'))\n",
    "genre_ani['crew_jobs'] = genre_ani.crew_jobs.map(lambda x: x.lower()) \n",
    "genre_ani['crew_jobs'] = genre_ani.crew_jobs.map(lambda x: x.translate(str.maketrans('', '', string.punctuation))) \n",
    "genre_ani['crew_jobs'] = genre_ani.crew_jobs.map(lambda x: x.replace('  ', ' '))"
   ]
  },
  {
   "cell_type": "code",
   "execution_count": 114,
   "metadata": {},
   "outputs": [
    {
     "data": {
      "text/plain": [
       "Not_Animation    4649\n",
       "Animation         123\n",
       "Name: film_type, dtype: int64"
      ]
     },
     "execution_count": 114,
     "metadata": {},
     "output_type": "execute_result"
    }
   ],
   "source": [
    "genre_ani['film_type'].value_counts()"
   ]
  },
  {
   "cell_type": "markdown",
   "metadata": {},
   "source": [
    "- There seems to be a Class imbalance in the `film_type` Column."
   ]
  },
  {
   "cell_type": "markdown",
   "metadata": {},
   "source": [
    "- The conventional model evaluation methods do not accurately measure model performance when faced with imbalanced datasets.\n",
    "\n",
    "- Standard classifier algorithms like `Decision Tree` and `Logistic Regression` have a bias towards classes which have number of instances. They tend to only predict the `majority class data`. The features of the minority class are treated as noise and are often ignored. Thus, there is a high probability of misclassification of the minority class as compared to the majority class."
   ]
  },
  {
   "cell_type": "code",
   "execution_count": 115,
   "metadata": {},
   "outputs": [
    {
     "name": "stdout",
     "output_type": "stream",
     "text": [
      "<class 'pandas.core.frame.DataFrame'>\n",
      "Int64Index: 4800 entries, 0 to 4802\n",
      "Data columns (total 5 columns):\n",
      " #   Column                Non-Null Count  Dtype \n",
      "---  ------                --------------  ----- \n",
      " 0   genres                4800 non-null   object\n",
      " 1   production_companies  4800 non-null   object\n",
      " 2   original_title        4800 non-null   object\n",
      " 3   crew_jobs             4800 non-null   object\n",
      " 4   film_type             4772 non-null   object\n",
      "dtypes: object(5)\n",
      "memory usage: 385.0+ KB\n"
     ]
    }
   ],
   "source": [
    "genre_ani.info()"
   ]
  },
  {
   "cell_type": "code",
   "execution_count": 116,
   "metadata": {},
   "outputs": [],
   "source": [
    "from nltk.tokenize import word_tokenize\n",
    "from nltk import pos_tag\n",
    "from nltk.corpus import stopwords\n",
    "from nltk.stem import WordNetLemmatizer\n",
    "from sklearn.preprocessing import LabelEncoder\n",
    "from collections import defaultdict\n",
    "from nltk.corpus import wordnet as wn\n",
    "from sklearn.feature_extraction.text import TfidfVectorizer\n",
    "from sklearn import model_selection, naive_bayes, svm\n",
    "from sklearn.metrics import accuracy_score"
   ]
  },
  {
   "cell_type": "code",
   "execution_count": 117,
   "metadata": {},
   "outputs": [],
   "source": [
    "np.random.seed(500)"
   ]
  },
  {
   "cell_type": "markdown",
   "metadata": {},
   "source": [
    "Steps:\n",
    "\n",
    "- Remove Blank rows in Data, if any\n",
    "- Change all the text to lower case\n",
    "- Word Tokenization\n",
    "- Remove Stop words\n",
    "- Remove Non-alpha text\n",
    "- Word Lemmatization"
   ]
  },
  {
   "cell_type": "code",
   "execution_count": 118,
   "metadata": {},
   "outputs": [
    {
     "name": "stdout",
     "output_type": "stream",
     "text": [
      "<class 'pandas.core.frame.DataFrame'>\n",
      "Int64Index: 4772 entries, 0 to 4802\n",
      "Data columns (total 5 columns):\n",
      " #   Column                Non-Null Count  Dtype \n",
      "---  ------                --------------  ----- \n",
      " 0   genres                4772 non-null   object\n",
      " 1   production_companies  4772 non-null   object\n",
      " 2   original_title        4772 non-null   object\n",
      " 3   crew_jobs             4772 non-null   object\n",
      " 4   film_type             4772 non-null   object\n",
      "dtypes: object(5)\n",
      "memory usage: 223.7+ KB\n"
     ]
    }
   ],
   "source": [
    "# Remove blank rows if any.\n",
    "genre_ani.dropna(inplace=True)\n",
    "genre_ani.info()"
   ]
  },
  {
   "cell_type": "code",
   "execution_count": 119,
   "metadata": {},
   "outputs": [],
   "source": [
    "# Change the film_type values to lower case\n",
    "genre_ani['film_type'] = genre_ani.film_type.map(lambda x: x.lower())"
   ]
  },
  {
   "cell_type": "code",
   "execution_count": 121,
   "metadata": {},
   "outputs": [
    {
     "data": {
      "text/html": [
       "<div>\n",
       "<style scoped>\n",
       "    .dataframe tbody tr th:only-of-type {\n",
       "        vertical-align: middle;\n",
       "    }\n",
       "\n",
       "    .dataframe tbody tr th {\n",
       "        vertical-align: top;\n",
       "    }\n",
       "\n",
       "    .dataframe thead th {\n",
       "        text-align: right;\n",
       "    }\n",
       "</style>\n",
       "<table border=\"1\" class=\"dataframe\">\n",
       "  <thead>\n",
       "    <tr style=\"text-align: right;\">\n",
       "      <th></th>\n",
       "      <th>genres</th>\n",
       "      <th>production_companies</th>\n",
       "      <th>original_title</th>\n",
       "      <th>crew_jobs</th>\n",
       "      <th>film_type</th>\n",
       "    </tr>\n",
       "  </thead>\n",
       "  <tbody>\n",
       "    <tr>\n",
       "      <th>0</th>\n",
       "      <td>[Action, Adventure, Fantasy, Science Fiction]</td>\n",
       "      <td>Ingenious Film Partners|Twentieth Century Fox Film Corporation|Dune Entertainment|Lightstorm Entertainment</td>\n",
       "      <td>Avatar</td>\n",
       "      <td>editor production design sound designer supervising sound editor casting original music composer director writer editor producer screenplay art direction visual effects producer casting supervising art director music editor sound effects editor foley foley costume design producer art direction s...</td>\n",
       "      <td>not_animation</td>\n",
       "    </tr>\n",
       "    <tr>\n",
       "      <th>1</th>\n",
       "      <td>[Adventure, Fantasy, Action]</td>\n",
       "      <td>Walt Disney Pictures|Jerry Bruckheimer Films|Second Mate Productions</td>\n",
       "      <td>Pirates of the Caribbean: At World's End</td>\n",
       "      <td>director of photography director producer screenplay screenplay editor editor original music composer executive producer producer producer producer producer casting production design art direction casting set decoration costume design costume design music supervisor conceptual design makeup depa...</td>\n",
       "      <td>not_animation</td>\n",
       "    </tr>\n",
       "  </tbody>\n",
       "</table>\n",
       "</div>"
      ],
      "text/plain": [
       "                                          genres  \\\n",
       "0  [Action, Adventure, Fantasy, Science Fiction]   \n",
       "1                   [Adventure, Fantasy, Action]   \n",
       "\n",
       "                                                                                         production_companies  \\\n",
       "0  Ingenious Film Partners|Twentieth Century Fox Film Corporation|Dune Entertainment|Lightstorm Entertainment   \n",
       "1                                        Walt Disney Pictures|Jerry Bruckheimer Films|Second Mate Productions   \n",
       "\n",
       "                             original_title  \\\n",
       "0                                    Avatar   \n",
       "1  Pirates of the Caribbean: At World's End   \n",
       "\n",
       "                                                                                                                                                                                                                                                                                                     crew_jobs  \\\n",
       "0  editor production design sound designer supervising sound editor casting original music composer director writer editor producer screenplay art direction visual effects producer casting supervising art director music editor sound effects editor foley foley costume design producer art direction s...   \n",
       "1  director of photography director producer screenplay screenplay editor editor original music composer executive producer producer producer producer producer casting production design art direction casting set decoration costume design costume design music supervisor conceptual design makeup depa...   \n",
       "\n",
       "       film_type  \n",
       "0  not_animation  \n",
       "1  not_animation  "
      ]
     },
     "execution_count": 121,
     "metadata": {},
     "output_type": "execute_result"
    }
   ],
   "source": [
    "genre_ani.head(2)"
   ]
  },
  {
   "cell_type": "code",
   "execution_count": 125,
   "metadata": {},
   "outputs": [],
   "source": [
    "df_ani = genre_ani[genre_ani.film_type == 'animation']\n",
    "df_not_ani = genre_ani[genre_ani.film_type == 'not_animation'].iloc[:143,:]   # Add more 20 to the Animation number of 123"
   ]
  },
  {
   "cell_type": "code",
   "execution_count": 126,
   "metadata": {},
   "outputs": [
    {
     "data": {
      "text/plain": [
       "((123, 5), (143, 5))"
      ]
     },
     "execution_count": 126,
     "metadata": {},
     "output_type": "execute_result"
    }
   ],
   "source": [
    "df_ani.shape, df_not_ani.shape"
   ]
  },
  {
   "cell_type": "code",
   "execution_count": 134,
   "metadata": {},
   "outputs": [
    {
     "name": "stdout",
     "output_type": "stream",
     "text": [
      "The shape of the Appended Slice is: (266, 5)\n"
     ]
    }
   ],
   "source": [
    "from sklearn.utils import shuffle\n",
    "df_slice = df_ani.append(df_not_ani)\n",
    "df_slice = shuffle(df_slice)\n",
    "df_slice = df_slice.reset_index(drop = True)\n",
    "print(f'The shape of the Appended Slice is: {df_slice.shape}')"
   ]
  },
  {
   "cell_type": "code",
   "execution_count": 135,
   "metadata": {},
   "outputs": [
    {
     "data": {
      "text/html": [
       "<div>\n",
       "<style scoped>\n",
       "    .dataframe tbody tr th:only-of-type {\n",
       "        vertical-align: middle;\n",
       "    }\n",
       "\n",
       "    .dataframe tbody tr th {\n",
       "        vertical-align: top;\n",
       "    }\n",
       "\n",
       "    .dataframe thead th {\n",
       "        text-align: right;\n",
       "    }\n",
       "</style>\n",
       "<table border=\"1\" class=\"dataframe\">\n",
       "  <thead>\n",
       "    <tr style=\"text-align: right;\">\n",
       "      <th></th>\n",
       "      <th>genres</th>\n",
       "      <th>production_companies</th>\n",
       "      <th>original_title</th>\n",
       "      <th>crew_jobs</th>\n",
       "      <th>film_type</th>\n",
       "    </tr>\n",
       "  </thead>\n",
       "  <tbody>\n",
       "    <tr>\n",
       "      <th>0</th>\n",
       "      <td>[Animation, Family]</td>\n",
       "      <td>Walt Disney Pictures</td>\n",
       "      <td>The Tigger Movie</td>\n",
       "      <td>original music composer director of photography characters sound rerecording mixer director animation character designer art direction editor character designer supervising music editor supervising sound editor sound rerecording mixer sound rerecording mixer sound rerecording mixer animation lay...</td>\n",
       "      <td>animation</td>\n",
       "    </tr>\n",
       "    <tr>\n",
       "      <th>1</th>\n",
       "      <td>[Action, Adventure, Science Fiction]</td>\n",
       "      <td>Twentieth Century Fox Film Corporation|Centropolis Entertainment|TSG Entertainment|Stereo D</td>\n",
       "      <td>Independence Day: Resurgence</td>\n",
       "      <td>casting set decoration producer original music composer screenplay director producer characters original music composer costume design art direction screenplay producer characters production design supervising art director screenplay art direction casting visual effects editor screenplay screenp...</td>\n",
       "      <td>not_animation</td>\n",
       "    </tr>\n",
       "  </tbody>\n",
       "</table>\n",
       "</div>"
      ],
      "text/plain": [
       "                                 genres  \\\n",
       "0                   [Animation, Family]   \n",
       "1  [Action, Adventure, Science Fiction]   \n",
       "\n",
       "                                                                          production_companies  \\\n",
       "0                                                                         Walt Disney Pictures   \n",
       "1  Twentieth Century Fox Film Corporation|Centropolis Entertainment|TSG Entertainment|Stereo D   \n",
       "\n",
       "                 original_title  \\\n",
       "0              The Tigger Movie   \n",
       "1  Independence Day: Resurgence   \n",
       "\n",
       "                                                                                                                                                                                                                                                                                                     crew_jobs  \\\n",
       "0  original music composer director of photography characters sound rerecording mixer director animation character designer art direction editor character designer supervising music editor supervising sound editor sound rerecording mixer sound rerecording mixer sound rerecording mixer animation lay...   \n",
       "1  casting set decoration producer original music composer screenplay director producer characters original music composer costume design art direction screenplay producer characters production design supervising art director screenplay art direction casting visual effects editor screenplay screenp...   \n",
       "\n",
       "       film_type  \n",
       "0      animation  \n",
       "1  not_animation  "
      ]
     },
     "execution_count": 135,
     "metadata": {},
     "output_type": "execute_result"
    }
   ],
   "source": [
    "df_slice.head(2)"
   ]
  },
  {
   "cell_type": "code",
   "execution_count": 136,
   "metadata": {},
   "outputs": [],
   "source": [
    "text_corpus = df_slice['crew_jobs'].values\n",
    "target = df_slice['film_type'].values"
   ]
  },
  {
   "cell_type": "code",
   "execution_count": 137,
   "metadata": {},
   "outputs": [
    {
     "data": {
      "text/plain": [
       "((266,), (266,))"
      ]
     },
     "execution_count": 137,
     "metadata": {},
     "output_type": "execute_result"
    }
   ],
   "source": [
    "text_corpus.shape, target.shape"
   ]
  },
  {
   "cell_type": "code",
   "execution_count": 140,
   "metadata": {},
   "outputs": [
    {
     "data": {
      "text/plain": [
       "'original music composer music editor executive producer editor writer writer executive producer costume design set decoration casting art direction director production design coproducer sound rerecording mixer sound effects editor producer producer executive producer hair department head director of photography associate producer executive producer executive producer associate producer storyboard producer associate producer makeup department head casting producer executive producer costume supervisor script supervisor camera operator art department coordinator dialogue editor sound effects editor sound designer sound rerecording mixer steadicam operator still photographer production supervisor sound designer supervising sound editor digital effects supervisor production manager associate producer production sound mixer stunt coordinator associate producer transportation captain transportation coordinator first assistant camera first assistant editor'"
      ]
     },
     "execution_count": 140,
     "metadata": {},
     "output_type": "execute_result"
    }
   ],
   "source": [
    "text_corpus[5]"
   ]
  },
  {
   "cell_type": "code",
   "execution_count": 141,
   "metadata": {},
   "outputs": [],
   "source": [
    "corpus = text_corpus.copy()\n",
    "label = target.copy()"
   ]
  },
  {
   "cell_type": "code",
   "execution_count": 142,
   "metadata": {},
   "outputs": [
    {
     "data": {
      "text/plain": [
       "'casting set decoration producer original music composer screenplay director producer characters original music composer costume design art direction screenplay producer characters production design supervising art director screenplay art direction casting visual effects editor screenplay screenplay camera operator helicopter camera sound effects editor art direction adr dubbing editor still photographer art direction casting associate foley director of photography makeup department head costume supervisor foley script supervisor assistant art director art direction art direction dialogue editor sound effects editor foley conceptual design foley vfx supervisor construction coordinator construction coordinator art department coordinator dialogue editor sound designer supervising sound editor visual effects editor sound rerecording mixer makeup artist set costumer helicopter camera sound effects editor gaffer hair department head set costumer art direction animation director vfx editor cg supervisor cg supervisor cg supervisor visual effects editor rigging gaffer art department coordinator cg supervisor assistant art director camera operator helicopter camera key hair stylist assistant costume designer script supervisor assistant costume designer casting associate makeup artist special effects coordinator music editor stunts music editor cg supervisor set costumer hairstylist rigging grip makeup artist animation director construction coordinator animation supervisor music editor visual effects editor art direction conceptual design seamstress camera operator hairstylist hairstylist makeup artist 3d supervisor animation supervisor cg supervisor cg supervisor digital effects supervisor vfx editor vfx supervisor first assistant editor'"
      ]
     },
     "execution_count": 142,
     "metadata": {},
     "output_type": "execute_result"
    }
   ],
   "source": [
    "corpus[1]"
   ]
  },
  {
   "cell_type": "code",
   "execution_count": 143,
   "metadata": {},
   "outputs": [
    {
     "data": {
      "text/plain": [
       "'not_animation'"
      ]
     },
     "execution_count": 143,
     "metadata": {},
     "output_type": "execute_result"
    }
   ],
   "source": [
    "label[1]"
   ]
  },
  {
   "cell_type": "code",
   "execution_count": 144,
   "metadata": {},
   "outputs": [],
   "source": [
    "from sklearn.model_selection import train_test_split\n",
    "X_train,X_test,y_train,y_test = train_test_split(corpus,label,test_size=0.25,random_state = 0)"
   ]
  },
  {
   "cell_type": "code",
   "execution_count": 145,
   "metadata": {},
   "outputs": [
    {
     "name": "stdout",
     "output_type": "stream",
     "text": [
      "(199,) (199,)\n",
      "(67,) (67,)\n"
     ]
    }
   ],
   "source": [
    "print(X_train.shape, y_train.shape)\n",
    "print(X_test.shape, y_test.shape)"
   ]
  },
  {
   "cell_type": "markdown",
   "metadata": {},
   "source": [
    "#### Extracting features from text files.\n",
    "\n",
    "- Text files are actually series of words (ordered). In order to run machine learning algorithms we need to convert the text files into numerical feature vectors. We will be using bag of words model for our example. Briefly, we segment each text file into words (for English splitting by space), and count # of times each word occurs in each document and finally assign each word an integer id. Each unique word in our dictionary will correspond to a feature (descriptive feature).\n",
    "\n",
    "- Scikit-learn has a high level component which will create feature vectors for us ‘CountVectorizer’. "
   ]
  },
  {
   "cell_type": "code",
   "execution_count": 146,
   "metadata": {},
   "outputs": [
    {
     "data": {
      "text/plain": [
       "(199, 220)"
      ]
     },
     "execution_count": 146,
     "metadata": {},
     "output_type": "execute_result"
    }
   ],
   "source": [
    "from sklearn.feature_extraction.text import CountVectorizer\n",
    "count_vect = CountVectorizer()\n",
    "X_train_counts = count_vect.fit_transform(X_train)\n",
    "X_train_counts.shape"
   ]
  },
  {
   "cell_type": "markdown",
   "metadata": {},
   "source": [
    "- Here by doing ‘count_vect.fit_transform(X_train)’, we are learning the vocabulary dictionary and it returns a Document-Term matrix. [n_samples, n_features]."
   ]
  },
  {
   "cell_type": "markdown",
   "metadata": {},
   "source": [
    "- `TF`: Just counting the number of words in each document has 1 issue: it will give more weightage to longer documents than shorter documents. To avoid this, we can use frequency (TF - Term Frequencies) i.e. #count(word) / #Total words, in each document.\n",
    "\n",
    "- `TF-IDF`: Finally, we can even reduce the weightage of more common words, which occurs in all document. This is called as `TF-IDF` i.e `Term Frequency times inverse document frequency`."
   ]
  },
  {
   "cell_type": "code",
   "execution_count": 147,
   "metadata": {},
   "outputs": [
    {
     "data": {
      "text/plain": [
       "(199, 220)"
      ]
     },
     "execution_count": 147,
     "metadata": {},
     "output_type": "execute_result"
    }
   ],
   "source": [
    "from sklearn.feature_extraction.text import TfidfTransformer\n",
    "tfidf_transformer = TfidfTransformer()\n",
    "X_train_tfidf = tfidf_transformer.fit_transform(X_train_counts)\n",
    "X_train_tfidf.shape"
   ]
  },
  {
   "cell_type": "markdown",
   "metadata": {},
   "source": [
    "### Running ML algorithms."
   ]
  },
  {
   "cell_type": "code",
   "execution_count": 148,
   "metadata": {},
   "outputs": [],
   "source": [
    "from sklearn.naive_bayes import MultinomialNB\n",
    "clf = MultinomialNB().fit(X_train_tfidf, y_train)"
   ]
  },
  {
   "cell_type": "markdown",
   "metadata": {},
   "source": [
    "### Building a pipeline:\n",
    "- We can write less code and do all of the above, by building a pipeline as follows:"
   ]
  },
  {
   "cell_type": "code",
   "execution_count": 149,
   "metadata": {},
   "outputs": [],
   "source": [
    "from sklearn.pipeline import Pipeline\n",
    "text_clf = Pipeline([('vect', CountVectorizer()),\n",
    "                  ('tfidf', TfidfTransformer()),\n",
    "                     ('clf', MultinomialNB()),\n",
    "                    ])\n",
    "text_clf = text_clf.fit(X_train, y_train)"
   ]
  },
  {
   "cell_type": "markdown",
   "metadata": {},
   "source": [
    "- Performance of NB Classifier: Now we will test the performance of the NB classifier on test set."
   ]
  },
  {
   "cell_type": "code",
   "execution_count": 150,
   "metadata": {},
   "outputs": [
    {
     "data": {
      "text/plain": [
       "0.8944723618090452"
      ]
     },
     "execution_count": 150,
     "metadata": {},
     "output_type": "execute_result"
    }
   ],
   "source": [
    "text_clf.score(X_train, y_train)"
   ]
  },
  {
   "cell_type": "code",
   "execution_count": 151,
   "metadata": {},
   "outputs": [
    {
     "data": {
      "text/plain": [
       "0.8955223880597015"
      ]
     },
     "execution_count": 151,
     "metadata": {},
     "output_type": "execute_result"
    }
   ],
   "source": [
    "from sklearn.utils import shuffle\n",
    "predicted = text_clf.predict(X_test)\n",
    "np.mean(predicted == y_test)"
   ]
  },
  {
   "cell_type": "markdown",
   "metadata": {},
   "source": [
    "- Support Vector Machines (SVM): Let’s try using a different algorithm SVM, and see if we can get any better performance. "
   ]
  },
  {
   "cell_type": "code",
   "execution_count": 152,
   "metadata": {},
   "outputs": [],
   "source": [
    "corpus_ = text_corpus.copy()\n",
    "label_ = target.copy()"
   ]
  },
  {
   "cell_type": "code",
   "execution_count": 153,
   "metadata": {},
   "outputs": [],
   "source": [
    "from sklearn.model_selection import train_test_split\n",
    "X_train,X_test,y_train,y_test = train_test_split(corpus_,label_,test_size=0.30,random_state=0)"
   ]
  },
  {
   "cell_type": "code",
   "execution_count": 154,
   "metadata": {},
   "outputs": [],
   "source": [
    "from sklearn.linear_model import SGDClassifier\n",
    "text_clf_svm = Pipeline([('vect', CountVectorizer()),\n",
    "                ('tfidf', TfidfTransformer()),\n",
    "                ('clf-svm', SGDClassifier(loss='hinge', penalty='l2',\n",
    "                alpha=1e-3, n_iter_no_change=5, random_state=42)),\n",
    "                        ])\n",
    "_ = text_clf_svm.fit(X_train, y_train)"
   ]
  },
  {
   "cell_type": "code",
   "execution_count": 155,
   "metadata": {},
   "outputs": [
    {
     "data": {
      "text/plain": [
       "0.9516129032258065"
      ]
     },
     "execution_count": 155,
     "metadata": {},
     "output_type": "execute_result"
    }
   ],
   "source": [
    "text_clf_svm.score(X_train, y_train)"
   ]
  },
  {
   "cell_type": "code",
   "execution_count": 156,
   "metadata": {},
   "outputs": [
    {
     "data": {
      "text/plain": [
       "0.875"
      ]
     },
     "execution_count": 156,
     "metadata": {},
     "output_type": "execute_result"
    }
   ],
   "source": [
    "predicted_svm = text_clf_svm.predict(X_test)\n",
    "np.mean(predicted_svm == y_test)"
   ]
  },
  {
   "cell_type": "markdown",
   "metadata": {},
   "source": [
    "### Useful tips and a touch of NLTK."
   ]
  },
  {
   "cell_type": "markdown",
   "metadata": {},
   "source": [
    "- Removing stop words:You should do this only when stop words are not useful for the underlying problem. In most of the text classification problems, this is indeed not useful. Let’s see if removing stop words increases the accuracy."
   ]
  },
  {
   "cell_type": "code",
   "execution_count": 157,
   "metadata": {},
   "outputs": [],
   "source": [
    "corpus_new = text_corpus.copy()\n",
    "label_new = target.copy()\n",
    "\n",
    "from sklearn.model_selection import train_test_split\n",
    "X_train_,X_test_,y_train_,y_test_ = train_test_split(corpus_new,label_new,test_size=0.30,random_state=0)"
   ]
  },
  {
   "cell_type": "code",
   "execution_count": 158,
   "metadata": {},
   "outputs": [],
   "source": [
    "from sklearn.pipeline import Pipeline\n",
    "text_clf = Pipeline([('vect', CountVectorizer(stop_words='english')),\n",
    "                    ('tfidf', TfidfTransformer()),\n",
    "                    ('clf', MultinomialNB()),\n",
    "                    ])\n",
    "text_clf_ = text_clf_svm.fit(X_train_, y_train_)"
   ]
  },
  {
   "cell_type": "code",
   "execution_count": 159,
   "metadata": {},
   "outputs": [
    {
     "data": {
      "text/plain": [
       "0.9516129032258065"
      ]
     },
     "execution_count": 159,
     "metadata": {},
     "output_type": "execute_result"
    }
   ],
   "source": [
    "text_clf_.score(X_train_, y_train_)"
   ]
  },
  {
   "cell_type": "code",
   "execution_count": 160,
   "metadata": {},
   "outputs": [
    {
     "data": {
      "text/plain": [
       "0.875"
      ]
     },
     "execution_count": 160,
     "metadata": {},
     "output_type": "execute_result"
    }
   ],
   "source": [
    "predicted_ = text_clf_.predict(X_test_)\n",
    "np.mean(predicted_ == y_test_)"
   ]
  },
  {
   "cell_type": "code",
   "execution_count": 161,
   "metadata": {},
   "outputs": [
    {
     "data": {
      "text/plain": [
       "0.425"
      ]
     },
     "execution_count": 161,
     "metadata": {},
     "output_type": "execute_result"
    }
   ],
   "source": [
    "text_clf_.score(predicted_, y_test_)"
   ]
  },
  {
   "cell_type": "code",
   "execution_count": 162,
   "metadata": {},
   "outputs": [
    {
     "data": {
      "text/plain": [
       "'Bolt'"
      ]
     },
     "execution_count": 162,
     "metadata": {},
     "output_type": "execute_result"
    }
   ],
   "source": [
    "movie_name = genre_ani.loc[130,'original_title']\n",
    "movie_name"
   ]
  },
  {
   "cell_type": "code",
   "execution_count": 163,
   "metadata": {},
   "outputs": [
    {
     "data": {
      "text/plain": [
       "'executive producer layout assistant editor animation original music composer screenplay layout sound designer sound rerecording mixer visual development modeling editor orchestrator animation orchestrator producer screenplay director art direction visual development director associate producer casting sound rerecording mixer post production supervisor executive music producer orchestrator animation associate editor supervising animator character designer animation supervising animator music supervisor animation supervising sound editor music editor animation dialogue editor assistant editor music editor sound effects editor sound effects editor animation visual development animation manager visual development layout layout visual development layout layout animation supervising animator animation animation manager animation modeling layout animation layout visual development visual development animation animation sequence leads visual development production manager orchestrator orchestrator animation visual effects supervisor technical supervisor color timer layout animation visual development sequence leads sequence leads sequence leads sequence leads lighting supervisor sequence leads character designer layout layout layout animation animation visual development layout animation cg supervisor modeling animation supervisor supervising animator supervising animator supervising animator sequence leads assistant editor character designer character designer visual development modeling modeling modeling modeling modeling modeling modeling modeling modeling modeling modeling modeling layout layout animation animation animation animation animation animation animation animation animation animation animation animation animation animation animation animation animation animation animation animation animation animation animation animation animation animation animation animation animation animation animation animation animation animation animation animation animation foley editor sound design assistant'"
      ]
     },
     "execution_count": 163,
     "metadata": {},
     "output_type": "execute_result"
    }
   ],
   "source": [
    "crew_ = genre_ani.loc[130,'crew_jobs']\n",
    "crew_"
   ]
  },
  {
   "cell_type": "code",
   "execution_count": 164,
   "metadata": {},
   "outputs": [
    {
     "data": {
      "text/plain": [
       "array(['animation'], dtype='<U13')"
      ]
     },
     "execution_count": 164,
     "metadata": {},
     "output_type": "execute_result"
    }
   ],
   "source": [
    "y_pred = text_clf_.predict([crew_])\n",
    "y_pred"
   ]
  },
  {
   "cell_type": "code",
   "execution_count": 165,
   "metadata": {},
   "outputs": [
    {
     "data": {
      "text/plain": [
       "['Animation', 'Family', 'Adventure', 'Comedy']"
      ]
     },
     "execution_count": 165,
     "metadata": {},
     "output_type": "execute_result"
    }
   ],
   "source": [
    "genre_ani['film_type'][130]"
   ]
  },
  {
   "cell_type": "code",
   "execution_count": null,
   "metadata": {},
   "outputs": [],
   "source": []
  },
  {
   "cell_type": "markdown",
   "metadata": {},
   "source": [
    "### Can we predict which Films will be highly rated? whether or not they are a commercial success?\n",
    "\n",
    "- Dig in to these Questions, with data on the\n",
    "    - plots\n",
    "    - Budget\n",
    "    - Cast\n",
    "    - Revenue\n",
    "    - Directors\n",
    "    - Crew\n",
    "    - vote_average\n",
    "    - vote_count\n",
    "    - original_title"
   ]
  },
  {
   "cell_type": "code",
   "execution_count": 29,
   "metadata": {},
   "outputs": [
    {
     "data": {
      "text/plain": [
       "10.0"
      ]
     },
     "execution_count": 29,
     "metadata": {},
     "output_type": "execute_result"
    }
   ],
   "source": [
    "df['vote_average'].max()"
   ]
  },
  {
   "cell_type": "code",
   "execution_count": 33,
   "metadata": {},
   "outputs": [
    {
     "data": {
      "image/png": "[encoded data removed]",
      "text/plain": [
       "<Figure size 1080x864 with 1 Axes>"
      ]
     },
     "metadata": {},
     "output_type": "display_data"
    }
   ],
   "source": [
    "#Visualize overall rating by users\n",
    "df['vote_average'].value_counts().plot(kind='bar',alpha=0.5,figsize=(15,12))\n",
    "plt.show()"
   ]
  },
  {
   "cell_type": "code",
   "execution_count": null,
   "metadata": {},
   "outputs": [],
   "source": []
  },
  {
   "cell_type": "code",
   "execution_count": null,
   "metadata": {},
   "outputs": [],
   "source": []
  },
  {
   "cell_type": "code",
   "execution_count": null,
   "metadata": {},
   "outputs": [],
   "source": []
  },
  {
   "cell_type": "code",
   "execution_count": null,
   "metadata": {},
   "outputs": [],
   "source": []
  },
  {
   "cell_type": "code",
   "execution_count": null,
   "metadata": {},
   "outputs": [],
   "source": []
  }
 ],
 "metadata": {
  "kernelspec": {
   "display_name": "Python 3",
   "language": "python",
   "name": "python3"
  },
  "language_info": {
   "codemirror_mode": {
    "name": "ipython",
    "version": 3
   },
   "file_extension": ".py",
   "mimetype": "text/x-python",
   "name": "python",
   "nbconvert_exporter": "python",
   "pygments_lexer": "ipython3",
   "version": "3.7.3"
  }
 },
 "nbformat": 4,
 "nbformat_minor": 2
}
